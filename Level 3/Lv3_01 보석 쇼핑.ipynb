{
 "cells": [
  {
   "cell_type": "markdown",
   "id": "56b7e372",
   "metadata": {},
   "source": [
    "# 보석 쇼핑\n",
    "- `유형` 2020 카카오 인턴십\n",
    "\n",
    "\n",
    "- `문제 설명`\n",
    "\n",
    "\n",
    "[본 문제는 정확성과 효율성 테스트 각각 점수가 있는 문제입니다.]\n",
    "\n",
    "개발자 출신으로 세계 최고의 갑부가 된 어피치는 스트레스를 받을 때면 이를 풀기 위해 오프라인 매장에 쇼핑을 하러 가곤 합니다.\n",
    "어피치는 쇼핑을 할 때면 매장 진열대의 특정 범위의 물건들을 모두 싹쓸이 구매하는 습관이 있습니다.\n",
    "어느 날 스트레스를 풀기 위해 보석 매장에 쇼핑을 하러 간 어피치는 이전처럼 진열대의 특정 범위의 보석을 모두 구매하되 특별히 아래 목적을 달성하고 싶었습니다.\n",
    "\n",
    "`진열된 모든 종류의 보석을 적어도 1개 이상 포함하는 가장 짧은 구간을 찾아서 구매`\n",
    "\n",
    "예를 들어 아래 진열대는 4종류의 보석(RUBY, DIA, EMERALD, SAPPHIRE) 8개가 진열된 예시입니다.\n",
    "\n",
    "| 진열대 번호 | 1 | 2 | 3 | 4 | 5 | 6 | 7 | 8 |\n",
    "|:---------:|:-:|:-:|:-:|:-:|:-:|:-:|:-:|:-:|\n",
    "| 보석 이름 | DIA | RUBY | RUBY | DIA | DIA | EMERALD | SAPPHIRE | DIA |\n",
    "\n",
    "진열대의 3번부터 7번까지 5개의 보석을 구매하면 모든 종류의 보석을 적어도 하나 이상씩 포함하게 됩니다.\n",
    "\n",
    "진열대의 3, 4, 6, 7번의 보석만 구매하는 것은 중간에 특정 구간(5번)이 빠지게 되므로 어피치의 쇼핑 습관에 맞지 않습니다.\n",
    "\n",
    "진열대 번호 순서대로 보석들의 이름이 저장된 배열 gems가 매개변수로 주어집니다. 이때 모든 보석을 하나 이상 포함하는 가장 짧은 구간을 찾아서 return 하도록 solution 함수를 완성해주세요.\n",
    "가장 짧은 구간의 `시작 진열대 번호`와 `끝 진열대 번호`를 차례대로 배열에 담아서 return 하도록 하며, 만약 가장 짧은 구간이 여러 개라면 `시작 진열대 번호`가 가장 작은 구간을 return 합니다.\n",
    "\n",
    "\n",
    "- `제한 조건`\n",
    "    - gems 배열의 크기는 1 이상 100,000 이하입니다.\n",
    "        - gems 배열의 각 원소는 진열대에 나열된 보석을 나타냅니다.\n",
    "        - gems 배열에는 1번 진열대부터 진열대 번호 순서대로 보석이름이 차례대로 저장되어 있습니다.\n",
    "        - gems 배열의 각 원소는 길이가 1 이상 10 이하인 알파벳 대문자로만 구성된 문자열입니다.\n",
    "\n",
    "\n",
    "- `입력`\n",
    "    - ex1) [\"DIA\", \"RUBY\", \"RUBY\", \"DIA\", \"DIA\", \"EMERALD\", \"SAPPHIRE\", \"DIA\"]\n",
    "    - ex2) [\"AA\", \"AB\", \"AC\", \"AA\", \"AC\"]\n",
    "    - ex3) [\"XYZ\", \"XYZ\", \"XYZ\"]\n",
    "    - ex4) [\"ZZZ\", \"YYY\", \"NNNN\", \"YYY\", \"BBB\"]\n",
    "\n",
    "\n",
    "- `출력`\n",
    "    - ex1) [3, 7]\n",
    "    - ex2) [1, 3]\n",
    "    - ex3) [1, 1]\n",
    "    - ex4) [1, 5]"
   ]
  },
  {
   "cell_type": "code",
   "execution_count": 43,
   "id": "81dfafc5",
   "metadata": {
    "ExecuteTime": {
     "end_time": "2022-05-24T09:37:52.362371Z",
     "start_time": "2022-05-24T09:37:52.357837Z"
    }
   },
   "outputs": [],
   "source": [
    "# SOL 1)\n",
    "\n",
    "def solution(gems):\n",
    "     \n",
    "    N = len(gems)\n",
    "    answer = [0, N-1]\n",
    "    kind = len(set(gems))  # 보석 종류\n",
    "    dic = {gems[0]:1,}  # 종류 체크할 딕셔너리\n",
    "    s, e = 0, 0  # 투 포인터\n",
    "\n",
    "    while s<N and e<N:\n",
    "        if len(dic) < kind:  # 종류 부족하면 e 증가 & dic 개수 증가\n",
    "            e += 1\n",
    "            if e == N:\n",
    "                break\n",
    "            dic[gems[e]] = dic.get(gems[e], 0) + 1\n",
    "\n",
    "        else:  # 종류 같으면 ans 비교 후 줄어든 구간으로 답 갱신 & s 증가 & dic 개수 감소\n",
    "            if e-s < answer[1]-answer[0]:\n",
    "                answer = [s,e]\n",
    "            if dic[gems[s]] == 1:\n",
    "                del dic[gems[s]]\n",
    "            else:\n",
    "                dic[gems[s]] -= 1\n",
    "            s += 1\n",
    "\n",
    "    answer[0] += 1\n",
    "    answer[1] += 1\n",
    "    \n",
    "    return answer"
   ]
  },
  {
   "cell_type": "code",
   "execution_count": 44,
   "id": "60321602",
   "metadata": {
    "ExecuteTime": {
     "end_time": "2022-05-24T09:37:52.367621Z",
     "start_time": "2022-05-24T09:37:52.364307Z"
    }
   },
   "outputs": [
    {
     "name": "stdout",
     "output_type": "stream",
     "text": [
      "[3, 7]\n",
      "[1, 3]\n",
      "[7, 12]\n"
     ]
    }
   ],
   "source": [
    "print(solution([\"DIA\", \"RUBY\", \"RUBY\", \"DIA\", \"DIA\", \"EMERALD\", \"SAPPHIRE\", \"DIA\"]))\n",
    "print(solution([\"AA\", \"AB\", \"AC\", \"AA\", \"AC\"]))\n",
    "print(solution(['A', 'B', 'B', 'E', 'A', 'C', 'E', 'D', 'A', 'B', 'C', 'Z']))"
   ]
  }
 ],
 "metadata": {
  "kernelspec": {
   "display_name": "Python 3 (ipykernel)",
   "language": "python",
   "name": "python3"
  },
  "language_info": {
   "codemirror_mode": {
    "name": "ipython",
    "version": 3
   },
   "file_extension": ".py",
   "mimetype": "text/x-python",
   "name": "python",
   "nbconvert_exporter": "python",
   "pygments_lexer": "ipython3",
   "version": "3.9.7"
  },
  "toc": {
   "base_numbering": 1,
   "nav_menu": {},
   "number_sections": true,
   "sideBar": true,
   "skip_h1_title": false,
   "title_cell": "Table of Contents",
   "title_sidebar": "Contents",
   "toc_cell": false,
   "toc_position": {},
   "toc_section_display": true,
   "toc_window_display": false
  }
 },
 "nbformat": 4,
 "nbformat_minor": 5
}
