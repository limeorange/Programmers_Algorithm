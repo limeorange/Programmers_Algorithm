{
 "cells": [
  {
   "cell_type": "markdown",
   "id": "56b7e372",
   "metadata": {},
   "source": [
    "# \n",
    "- `유형` 연습문제\n",
    "\n",
    "\n",
    "- `문제 설명`\n",
    "\n",
    "\n",
    "- `제한 조건`\n",
    "\n",
    "\n",
    "- `입력`\n",
    "    - ex1)\n",
    "    - ex2)\n",
    "\n",
    "\n",
    "- `출력`\n",
    "    - ex1)\n",
    "    - ex2)"
   ]
  },
  {
   "cell_type": "code",
   "execution_count": null,
   "id": "68f7fe0b",
   "metadata": {},
   "outputs": [],
   "source": [
    "def solution():\n",
    "    \n",
    "    return"
   ]
  },
  {
   "cell_type": "code",
   "execution_count": null,
   "id": "60321602",
   "metadata": {},
   "outputs": [],
   "source": [
    "print(solution())\n",
    "print(solution())"
   ]
  }
 ],
 "metadata": {
  "kernelspec": {
   "display_name": "Python 3 (ipykernel)",
   "language": "python",
   "name": "python3"
  },
  "language_info": {
   "codemirror_mode": {
    "name": "ipython",
    "version": 3
   },
   "file_extension": ".py",
   "mimetype": "text/x-python",
   "name": "python",
   "nbconvert_exporter": "python",
   "pygments_lexer": "ipython3",
   "version": "3.9.7"
  },
  "toc": {
   "base_numbering": 1,
   "nav_menu": {},
   "number_sections": true,
   "sideBar": true,
   "skip_h1_title": false,
   "title_cell": "Table of Contents",
   "title_sidebar": "Contents",
   "toc_cell": false,
   "toc_position": {},
   "toc_section_display": true,
   "toc_window_display": false
  }
 },
 "nbformat": 4,
 "nbformat_minor": 5
}
