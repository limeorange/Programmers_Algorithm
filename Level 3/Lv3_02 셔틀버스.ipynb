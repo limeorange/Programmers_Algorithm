{
 "cells": [
  {
   "cell_type": "markdown",
   "metadata": {},
   "source": [
    "## Q6. 카카오 2018 공채 문제 4번 ✔️\n",
    "### [[1차] 셔틀버스](https://school.programmers.co.kr/learn/courses/30/lessons/17678)"
   ]
  },
  {
   "cell_type": "markdown",
   "metadata": {},
   "source": [
    "### 🌱 핵심 포인트\n",
    "1. **range(셔틀운행횟수), range(셔틀운행간격)** 내에서 각 순간마다의 **버스를 탈 수 있는 가장 늦은** 콘 출근시간이 계산되면서 for문이 끝날 때까지 업데이트\n",
    "2. **<span style=\"color:blue\">timetable.pop(0)</span>** 을 하는 이유\n",
    "   - 리스트에서 해당 크루의 도착 시각을 제거하여 다음 크루를 처리할 수 있도록 하기 위함\n",
    "   - 한 번 탑승한 크루는 다시 고려할 필요가 없기 때문에 리스트에서 삭제\n",
    "\n",
    "### 🔥 풀이"
   ]
  },
  {
   "cell_type": "code",
   "execution_count": null,
   "metadata": {},
   "outputs": [],
   "source": [
    "def solution(n, t, m, timetable):\n",
    "    \n",
    "    # '분'으로 단위 통일해서 timetable 오름차순 정렬\n",
    "    timetable = sorted([60*int(time[:2])+int(time[3:]) for time in timetable])\n",
    "\n",
    "    # 셔틀버스시간, 콘의도착시간 정의\n",
    "    셔틀버스시간 = 540\n",
    "    콘의도착시간 = 0\n",
    "    \n",
    "    # 가능한 셔틀운행횟수 내에서 (n)\n",
    "    for i in range(n):\n",
    "        # 가능한 한 셔틀당 최대크루수 내에서 (m)\n",
    "        for j in range(m):\n",
    "            if timetable and timetable[0] <= 셔틀버스시간:\n",
    "                콘의도착시간 = timetable.pop(0)-1\n",
    "            else:\n",
    "                콘의도착시간 = 셔틀버스시간\n",
    "        셔틀버스시간 += t\n",
    "    return f'{str(콘의도착시간//60).zfill(2)}:{str(콘의도착시간%60).zfill(2)}'\n",
    "\n",
    "print(solution(1, 1, 5, [\"08:00\", \"08:01\", \"08:02\", \"08:03\"])) # \"09:00\"\n",
    "print(solution(2, 10, 2, [\"09:10\", \"09:09\", \"08:00\"])) # \"09:09\"\n",
    "print(solution(2, 1, 2, [\"09:00\", \"09:00\", \"09:00\", \"09:00\"])) # \"08:59\""
   ]
  }
 ],
 "metadata": {
  "kernelspec": {
   "display_name": "Python 3",
   "language": "python",
   "name": "python3"
  },
  "language_info": {
   "name": "python",
   "version": "3.12.6"
  }
 },
 "nbformat": 4,
 "nbformat_minor": 2
}
