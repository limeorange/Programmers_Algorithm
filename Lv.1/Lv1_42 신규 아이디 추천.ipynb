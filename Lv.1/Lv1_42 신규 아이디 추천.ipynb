{
 "cells": [
  {
   "cell_type": "markdown",
   "id": "56b7e372",
   "metadata": {},
   "source": [
    "# 신규 아이디 추천\n",
    "- `유형` 2021 KAKAO BLIND RECRUITMENT\n",
    "\n",
    "\n",
    "- `문제 설명`\n",
    "\n",
    "\n",
    "카카오에 입사한 신입 개발자 네오는 \"카카오계정개발팀\"에 배치되어, 카카오 서비스에 가입하는 유저들의 아이디를 생성하는 업무를 담당하게 되었습니다. \"네오\"에게 주어진 첫 업무는 새로 가입하는 유저들이 카카오 아이디 규칙에 맞지 않는 아이디를 입력했을 때, 입력된 아이디와 유사하면서 규칙에 맞는 아이디를 추천해주는 프로그램을 개발하는 것입니다.\n",
    "다음은 카카오 아이디의 규칙입니다.\n",
    "\n",
    "\n",
    "    - 아이디의 길이는 3자 이상 15자 이하여야 합니다.\n",
    "    - 아이디는 알파벳 소문자, 숫자, 빼기(-), 밑줄(_), 마침표(.) 문자만 사용할 수 있습니다.\n",
    "    - 단, 마침표(.)는 처음과 끝에 사용할 수 없으며 또한 연속으로 사용할 수 없습니다.\n",
    "\n",
    "\n",
    "\"네오\"는 다음과 같이 7단계의 순차적인 처리 과정을 통해 신규 유저가 입력한 아이디가 카카오 아이디 규칙에 맞는 지 검사하고 규칙에 맞지 않은 경우 규칙에 맞는 새로운 아이디를 추천해 주려고 합니다.\n",
    "신규 유저가 입력한 아이디가 new_id 라고 한다면,\n",
    "\n",
    "\n",
    "    - 1단계 new_id의 모든 대문자를 대응되는 소문자로 치환합니다.\n",
    "    - 2단계 new_id에서 알파벳 소문자, 숫자, 빼기(-), 밑줄(_), 마침표(.)를 제외한 모든 문자를 제거합니다.\n",
    "    - 3단계 new_id에서 마침표(.)가 2번 이상 연속된 부분을 하나의 마침표(.)로 치환합니다.\n",
    "    - 4단계 new_id에서 마침표(.)가 처음이나 끝에 위치한다면 제거합니다.\n",
    "    - 5단계 new_id가 빈 문자열이라면, new_id에 \"a\"를 대입합니다.\n",
    "    - 6단계 new_id의 길이가 16자 이상이면, new_id의 첫 15개의 문자를 제외한 나머지 문자들을 모두 제거합니다.\n",
    "        - 만약 제거 후 마침표(.)가 new_id의 끝에 위치한다면 끝에 위치한 마침표(.) 문자를 제거합니다.\n",
    "    - 7단계 new_id의 길이가 2자 이하라면, new_id의 마지막 문자를 new_id의 길이가 3이 될 때까지 반복해서 끝에 붙입니다.\n",
    "\n",
    "\n",
    "신규 유저가 입력한 아이디를 나타내는 new_id가 매개변수로 주어질 때, \"네오\"가 설계한 7단계의 처리 과정을 거친 후의 추천 아이디를 return 하도록 solution 함수를 완성해 주세요.\n",
    "\n",
    "\n",
    "- `제한 조건`\n",
    "    - new_id는 길이 1 이상 1,000 이하인 문자열입니다.\n",
    "    - new_id는 알파벳 대문자, 알파벳 소문자, 숫자, 특수문자로 구성되어 있습니다.\n",
    "    - new_id에 나타날 수 있는 특수문자는 -_.~!@#$%^&*()=+[{]}:?,<>/ 로 한정됩니다.\n",
    "\n",
    "\n",
    "- `입력`\n",
    "    - ex1) \"...!@BaT#*..y.abcdefghijklm\"\n",
    "    - ex2) \"z-+.^.\"\n",
    "    - ex3) \"=.=\"\n",
    "    - ex4) \"123_.def\"\n",
    "    - ex5) \"abcdefghijklmn.p\"\n",
    "\n",
    "\n",
    "- `출력`\n",
    "    - ex1) \"bat.y.abcdefghi\"\n",
    "    - ex2) \"z--\"\n",
    "    - ex3) \"aaa\"\n",
    "    - ex4) \"123_.def\"\n",
    "    - ex5) \"abcdefghijklmn\""
   ]
  },
  {
   "cell_type": "code",
   "execution_count": 88,
   "id": "68f7fe0b",
   "metadata": {
    "ExecuteTime": {
     "end_time": "2022-05-13T02:40:26.133901Z",
     "start_time": "2022-05-13T02:40:26.129287Z"
    }
   },
   "outputs": [],
   "source": [
    "# SOL 1)\n",
    "\n",
    "def solution(new_id):\n",
    "    \n",
    "    # 1단계\n",
    "    id2 = new_id.lower()\n",
    "    \n",
    "    # 2단계 \n",
    "    id3 = []\n",
    "    for i in id2:\n",
    "        if i in 'abcdefghijklmnopqrstuvwxyz-_.':\n",
    "            id3.append(i)\n",
    "        elif i.isdigit():\n",
    "            id3.append(i)\n",
    "    \n",
    "    # 3단계\n",
    "    for i in range(len(id3)-1):\n",
    "        if id3[i] == id3[i+1] == '.':\n",
    "            id3[i+1] = '@'\n",
    "        elif (id3[i] == '@') and (id3[i+1] == '.'):\n",
    "            id3[i+1] = '@'\n",
    "    \n",
    "    while '@' in id3:\n",
    "        id3.remove('@')\n",
    "    \n",
    "    # 4단계\n",
    "    id3 = ''.join(id3).strip('.')\n",
    "    \n",
    "    # 5단계\n",
    "    if len(id3) == 0:\n",
    "        id3 += 'a'\n",
    "\n",
    "    # 6단계 \n",
    "    id3 = id3[:15].rstrip('.')\n",
    "    \n",
    "    # 7단계\n",
    "    while len(id3) < 3:\n",
    "        id3 += id3[-1]\n",
    "    \n",
    "    return id3"
   ]
  },
  {
   "cell_type": "code",
   "execution_count": 89,
   "id": "60321602",
   "metadata": {
    "ExecuteTime": {
     "end_time": "2022-05-13T02:40:26.956058Z",
     "start_time": "2022-05-13T02:40:26.953054Z"
    }
   },
   "outputs": [
    {
     "name": "stdout",
     "output_type": "stream",
     "text": [
      "bat.y.abcdefghi\n",
      "z--\n",
      "aaa\n",
      "123_.def\n",
      "abcdefghijklmn\n",
      "a.a\n"
     ]
    }
   ],
   "source": [
    "print(solution(\"...!@BaT#*..y.abcdefghijklm\"))\n",
    "print(solution(\"z-+.^.\"))\n",
    "print(solution(\"=.=\"))\n",
    "print(solution(\"123_.def\"))\n",
    "print(solution(\"abcdefghijklmn.p\"))\n",
    "print(solution('a...a'))"
   ]
  },
  {
   "cell_type": "code",
   "execution_count": 93,
   "id": "2c8ecf3d",
   "metadata": {
    "ExecuteTime": {
     "end_time": "2022-05-13T02:49:57.372422Z",
     "start_time": "2022-05-13T02:49:57.368639Z"
    }
   },
   "outputs": [],
   "source": [
    "# SOL 2) 좀 더 깔끔하게 다듬기..\n",
    "\n",
    "def solution(new_id):\n",
    "    \n",
    "    answer = ''\n",
    "    \n",
    "    # 1단계\n",
    "    new_id = new_id.lower()\n",
    "    \n",
    "    # 2단계 \n",
    "    for i in new_id:\n",
    "        if i.isalpha() or i.isdigit() or i in '-_.':\n",
    "            answer += i\n",
    "    \n",
    "    # 3단계\n",
    "    while '..' in answer:\n",
    "        answer = answer.replace('..','.')\n",
    "    \n",
    "    # 4단계\n",
    "    answer = answer.strip('.')\n",
    "    \n",
    "    # 5단계\n",
    "    if len(answer) == 0:\n",
    "        answer += 'a'\n",
    "\n",
    "    # 6단계 \n",
    "    answer = answer[:15].rstrip('.')\n",
    "    \n",
    "    # 7단계\n",
    "    while len(answer) < 3:\n",
    "        answer += answer[-1]\n",
    "    \n",
    "    return answer"
   ]
  },
  {
   "cell_type": "code",
   "execution_count": 94,
   "id": "f7199319",
   "metadata": {
    "ExecuteTime": {
     "end_time": "2022-05-13T02:49:58.123367Z",
     "start_time": "2022-05-13T02:49:58.120338Z"
    }
   },
   "outputs": [
    {
     "name": "stdout",
     "output_type": "stream",
     "text": [
      "bat.y.abcdefghi\n",
      "z--\n",
      "aaa\n",
      "123_.def\n",
      "abcdefghijklmn\n",
      "a.a\n"
     ]
    }
   ],
   "source": [
    "print(solution(\"...!@BaT#*..y.abcdefghijklm\"))\n",
    "print(solution(\"z-+.^.\"))\n",
    "print(solution(\"=.=\"))\n",
    "print(solution(\"123_.def\"))\n",
    "print(solution(\"abcdefghijklmn.p\"))\n",
    "print(solution('a...a'))"
   ]
  }
 ],
 "metadata": {
  "kernelspec": {
   "display_name": "Python 3 (ipykernel)",
   "language": "python",
   "name": "python3"
  },
  "language_info": {
   "codemirror_mode": {
    "name": "ipython",
    "version": 3
   },
   "file_extension": ".py",
   "mimetype": "text/x-python",
   "name": "python",
   "nbconvert_exporter": "python",
   "pygments_lexer": "ipython3",
   "version": "3.9.7"
  },
  "toc": {
   "base_numbering": 1,
   "nav_menu": {},
   "number_sections": true,
   "sideBar": true,
   "skip_h1_title": false,
   "title_cell": "Table of Contents",
   "title_sidebar": "Contents",
   "toc_cell": false,
   "toc_position": {},
   "toc_section_display": true,
   "toc_window_display": false
  }
 },
 "nbformat": 4,
 "nbformat_minor": 5
}
