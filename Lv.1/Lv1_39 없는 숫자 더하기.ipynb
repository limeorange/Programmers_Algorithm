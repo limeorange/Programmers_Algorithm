{
 "cells": [
  {
   "cell_type": "markdown",
   "id": "56b7e372",
   "metadata": {},
   "source": [
    "# 없는 숫자 더하기\n",
    "- `유형` 월간 코드 챌린지 시즌3\n",
    "\n",
    "\n",
    "- `문제 설명` 0부터 9까지의 숫자 중 일부가 들어있는 정수 배열 numbers가 매개변수로 주어집니다. numbers에서 찾을 수 없는 0부터 9까지의 숫자를 모두 찾아 더한 수를 return 하도록 solution 함수를 완성해주세요.\n",
    "\n",
    "\n",
    "- `제한 조건`\n",
    "    - 1 ≤ numbers의 길이 ≤ 9\n",
    "        - 0 ≤ numbers의 모든 원소 ≤ 9\n",
    "        - numbers의 모든 원소는 서로 다릅니다.\n",
    "\n",
    "\n",
    "- `입력`\n",
    "    - ex1) [1,2,3,4,6,7,8,0]\n",
    "    - ex2) [5,8,4,0,6,7,9]\n",
    "\n",
    "\n",
    "- `출력`\n",
    "    - ex1) 14\n",
    "    - ex2) 6"
   ]
  },
  {
   "cell_type": "code",
   "execution_count": 1,
   "id": "68f7fe0b",
   "metadata": {
    "ExecuteTime": {
     "end_time": "2022-05-12T07:44:24.749572Z",
     "start_time": "2022-05-12T07:44:24.742749Z"
    }
   },
   "outputs": [],
   "source": [
    "# SOL 1)\n",
    "\n",
    "def solution(numbers):\n",
    "    return sum(set(range(0, 10))-set(numbers))"
   ]
  },
  {
   "cell_type": "code",
   "execution_count": 2,
   "id": "60321602",
   "metadata": {
    "ExecuteTime": {
     "end_time": "2022-05-12T07:44:24.754750Z",
     "start_time": "2022-05-12T07:44:24.751592Z"
    }
   },
   "outputs": [
    {
     "name": "stdout",
     "output_type": "stream",
     "text": [
      "14\n",
      "6\n"
     ]
    }
   ],
   "source": [
    "print(solution([1,2,3,4,6,7,8,0]))\n",
    "print(solution([5,8,4,0,6,7,9]))"
   ]
  }
 ],
 "metadata": {
  "kernelspec": {
   "display_name": "Python 3 (ipykernel)",
   "language": "python",
   "name": "python3"
  },
  "language_info": {
   "codemirror_mode": {
    "name": "ipython",
    "version": 3
   },
   "file_extension": ".py",
   "mimetype": "text/x-python",
   "name": "python",
   "nbconvert_exporter": "python",
   "pygments_lexer": "ipython3",
   "version": "3.9.7"
  },
  "toc": {
   "base_numbering": 1,
   "nav_menu": {},
   "number_sections": true,
   "sideBar": true,
   "skip_h1_title": false,
   "title_cell": "Table of Contents",
   "title_sidebar": "Contents",
   "toc_cell": false,
   "toc_position": {},
   "toc_section_display": true,
   "toc_window_display": false
  }
 },
 "nbformat": 4,
 "nbformat_minor": 5
}
