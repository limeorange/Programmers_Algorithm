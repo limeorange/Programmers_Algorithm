{
 "cells": [
  {
   "cell_type": "markdown",
   "id": "56b7e372",
   "metadata": {},
   "source": [
    "# 짝수와 홀수\n",
    "- `유형` 연습문제\n",
    "\n",
    "\n",
    "- `문제 설명` 정수 num이 짝수일 경우 \"Even\"을 반환하고 홀수인 경우 \"Odd\"를 반환하는 함수, solution을 완성해주세요.\n",
    "\n",
    "\n",
    "- `제한 조건`\n",
    "    - num은 int 범위의 정수입니다.\n",
    "    - 0은 짝수입니다.\n",
    "\n",
    "\n",
    "- `입력`\n",
    "    - ex1) 3\n",
    "    - ex2) 4\n",
    "\n",
    "\n",
    "- `출력`\n",
    "    - ex1) Odd\n",
    "    - ex2) Even"
   ]
  },
  {
   "cell_type": "code",
   "execution_count": 1,
   "id": "68f7fe0b",
   "metadata": {
    "ExecuteTime": {
     "end_time": "2022-05-11T05:30:16.209535Z",
     "start_time": "2022-05-11T05:30:16.203240Z"
    }
   },
   "outputs": [],
   "source": [
    "# SOL 1)\n",
    "\n",
    "def solution(n):\n",
    "    if n % 2 == 0:\n",
    "        return 'Even'\n",
    "    return 'Odd'"
   ]
  },
  {
   "cell_type": "code",
   "execution_count": 2,
   "id": "60321602",
   "metadata": {
    "ExecuteTime": {
     "end_time": "2022-05-11T05:30:16.213747Z",
     "start_time": "2022-05-11T05:30:16.211532Z"
    }
   },
   "outputs": [
    {
     "name": "stdout",
     "output_type": "stream",
     "text": [
      "Odd\n",
      "Even\n"
     ]
    }
   ],
   "source": [
    "print(solution(3))\n",
    "print(solution(4))"
   ]
  },
  {
   "cell_type": "code",
   "execution_count": 8,
   "id": "2af9b7cd",
   "metadata": {
    "ExecuteTime": {
     "end_time": "2022-05-11T05:37:20.535910Z",
     "start_time": "2022-05-11T05:37:20.533630Z"
    }
   },
   "outputs": [],
   "source": [
    "# SOL 2) 비트 연산자를 이용해서 index로 활용\n",
    "\n",
    "def solution(n):\n",
    "    return ['Even', 'Odd'][n & 1]"
   ]
  },
  {
   "cell_type": "code",
   "execution_count": 9,
   "id": "5b429d88",
   "metadata": {
    "ExecuteTime": {
     "end_time": "2022-05-11T05:37:25.910458Z",
     "start_time": "2022-05-11T05:37:25.908182Z"
    }
   },
   "outputs": [
    {
     "name": "stdout",
     "output_type": "stream",
     "text": [
      "Odd\n",
      "Even\n"
     ]
    }
   ],
   "source": [
    "print(solution(3))\n",
    "print(solution(4))"
   ]
  }
 ],
 "metadata": {
  "kernelspec": {
   "display_name": "Python 3 (ipykernel)",
   "language": "python",
   "name": "python3"
  },
  "language_info": {
   "codemirror_mode": {
    "name": "ipython",
    "version": 3
   },
   "file_extension": ".py",
   "mimetype": "text/x-python",
   "name": "python",
   "nbconvert_exporter": "python",
   "pygments_lexer": "ipython3",
   "version": "3.9.7"
  },
  "toc": {
   "base_numbering": 1,
   "nav_menu": {},
   "number_sections": true,
   "sideBar": true,
   "skip_h1_title": false,
   "title_cell": "Table of Contents",
   "title_sidebar": "Contents",
   "toc_cell": false,
   "toc_position": {},
   "toc_section_display": true,
   "toc_window_display": false
  }
 },
 "nbformat": 4,
 "nbformat_minor": 5
}
