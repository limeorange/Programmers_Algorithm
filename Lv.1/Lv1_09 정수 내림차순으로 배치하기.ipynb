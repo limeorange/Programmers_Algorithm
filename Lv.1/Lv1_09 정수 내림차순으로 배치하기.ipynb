{
 "cells": [
  {
   "cell_type": "markdown",
   "id": "56b7e372",
   "metadata": {},
   "source": [
    "# 정수 내림차순으로 배치하기\n",
    "- `유형` 연습문제\n",
    "\n",
    "\n",
    "- `문제 설명` 함수 solution은 정수 n을 매개변수로 입력받습니다. n의 각 자릿수를 큰것부터 작은 순으로 정렬한 새로운 정수를 리턴해주세요. 예를들어 n이 118372면 873211을 리턴하면 됩니다.\n",
    "\n",
    "\n",
    "- `제한 조건`\n",
    "    - n은 1이상 8000000000 이하인 자연수입니다.\n",
    "\n",
    "\n",
    "- `입력`\n",
    "    - ex1) 118372\n",
    "\n",
    "\n",
    "- `출력`\n",
    "    - ex1) 873211"
   ]
  },
  {
   "cell_type": "markdown",
   "id": "35f5918d",
   "metadata": {},
   "source": [
    "## SOL 1)\n",
    "- 불필요한 코드 포함\n",
    "    - int로 mapping하지 않아도(=문자열 리스트도) sort 가능\n",
    "    - n 리스트 자체가 문자열로 구성되면 join할 때 for문 쓸 필요 없음\n",
    "- `.join([str, str, ...])` : 리스트를 문자열로 합쳐줌"
   ]
  },
  {
   "cell_type": "code",
   "execution_count": 61,
   "id": "68f7fe0b",
   "metadata": {
    "ExecuteTime": {
     "end_time": "2022-05-11T04:27:51.645304Z",
     "start_time": "2022-05-11T04:27:51.642733Z"
    }
   },
   "outputs": [],
   "source": [
    "# SOL 1)\n",
    "\n",
    "def solution(n):\n",
    "    n = reversed(sorted(map(int, list(str(n)))))\n",
    "    result = int(''.join(str(i) for i in n))\n",
    "    return result"
   ]
  },
  {
   "cell_type": "code",
   "execution_count": 62,
   "id": "60321602",
   "metadata": {
    "ExecuteTime": {
     "end_time": "2022-05-11T04:27:51.649651Z",
     "start_time": "2022-05-11T04:27:51.647210Z"
    },
    "scrolled": false
   },
   "outputs": [
    {
     "name": "stdout",
     "output_type": "stream",
     "text": [
      "873211\n"
     ]
    }
   ],
   "source": [
    "print(solution(118372))"
   ]
  },
  {
   "cell_type": "code",
   "execution_count": 59,
   "id": "6363860f",
   "metadata": {
    "ExecuteTime": {
     "end_time": "2022-05-11T04:26:19.957733Z",
     "start_time": "2022-05-11T04:26:19.955384Z"
    }
   },
   "outputs": [],
   "source": [
    "# SOL 2) \n",
    "\n",
    "def solution(n):\n",
    "    s = reversed(sorted(str(n)))\n",
    "    result = int(''.join(s))\n",
    "    return result"
   ]
  },
  {
   "cell_type": "code",
   "execution_count": 60,
   "id": "73aa2d39",
   "metadata": {
    "ExecuteTime": {
     "end_time": "2022-05-11T04:26:19.962557Z",
     "start_time": "2022-05-11T04:26:19.959628Z"
    }
   },
   "outputs": [
    {
     "name": "stdout",
     "output_type": "stream",
     "text": [
      "873211\n"
     ]
    }
   ],
   "source": [
    "print(solution(118372))"
   ]
  }
 ],
 "metadata": {
  "kernelspec": {
   "display_name": "Python 3 (ipykernel)",
   "language": "python",
   "name": "python3"
  },
  "language_info": {
   "codemirror_mode": {
    "name": "ipython",
    "version": 3
   },
   "file_extension": ".py",
   "mimetype": "text/x-python",
   "name": "python",
   "nbconvert_exporter": "python",
   "pygments_lexer": "ipython3",
   "version": "3.9.7"
  },
  "toc": {
   "base_numbering": 1,
   "nav_menu": {},
   "number_sections": true,
   "sideBar": true,
   "skip_h1_title": false,
   "title_cell": "Table of Contents",
   "title_sidebar": "Contents",
   "toc_cell": false,
   "toc_position": {},
   "toc_section_display": true,
   "toc_window_display": false
  }
 },
 "nbformat": 4,
 "nbformat_minor": 5
}
