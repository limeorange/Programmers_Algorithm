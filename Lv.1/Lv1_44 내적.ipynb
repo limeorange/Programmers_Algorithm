{
 "cells": [
  {
   "cell_type": "markdown",
   "id": "56b7e372",
   "metadata": {},
   "source": [
    "# 내적\n",
    "- `유형` 월간 코드 챌린지 시즌1\n",
    "\n",
    "\n",
    "- `문제 설명` 길이가 같은 두 1차원 정수 배열 a, b가 매개변수로 주어집니다. a와 b의 내적을 return 하도록 solution 함수를 완성해주세요. 이때, a와 b의 내적은 a[0]*b[0] + a[1]*b[1] + ... + a[n-1]*b[n-1] 입니다. (n은 a, b의 길이)\n",
    "\n",
    "\n",
    "- `제한 조건`\n",
    "    - a, b의 길이는 1 이상 1,000 이하입니다.\n",
    "    - a, b의 모든 수는 -1,000 이상 1,000 이하입니다.\n",
    "\n",
    "\n",
    "- `입력`\n",
    "    - ex1) [1,2,3,4], [-3,-1,0,2]\n",
    "    - ex2) [-1,0,1], [1,0,-1]\n",
    "\n",
    "\n",
    "- `출력`\n",
    "    - ex1) 3\n",
    "    - ex2) -2"
   ]
  },
  {
   "cell_type": "code",
   "execution_count": 5,
   "id": "68f7fe0b",
   "metadata": {
    "ExecuteTime": {
     "end_time": "2022-05-13T03:18:57.230321Z",
     "start_time": "2022-05-13T03:18:57.227919Z"
    }
   },
   "outputs": [],
   "source": [
    "# SOL 1)\n",
    "\n",
    "def solution(a, b):\n",
    "    cnt = 0\n",
    "    for i in range(len(a)):\n",
    "        cnt += (a[i]*b[i])\n",
    "    return cnt"
   ]
  },
  {
   "cell_type": "code",
   "execution_count": 6,
   "id": "60321602",
   "metadata": {
    "ExecuteTime": {
     "end_time": "2022-05-13T03:18:58.038513Z",
     "start_time": "2022-05-13T03:18:58.035964Z"
    }
   },
   "outputs": [
    {
     "name": "stdout",
     "output_type": "stream",
     "text": [
      "3\n",
      "-2\n"
     ]
    }
   ],
   "source": [
    "print(solution([1,2,3,4], [-3,-1,0,2]))\n",
    "print(solution([-1,0,1], [1,0,-1]))"
   ]
  },
  {
   "cell_type": "code",
   "execution_count": 12,
   "id": "c974738a",
   "metadata": {
    "ExecuteTime": {
     "end_time": "2022-05-13T03:21:15.707123Z",
     "start_time": "2022-05-13T03:21:15.704796Z"
    }
   },
   "outputs": [],
   "source": [
    "# SOL 2) zip, list comprehension...\n",
    "\n",
    "def solution(a, b):\n",
    "    return sum([x * y for x, y in zip(a, b)])"
   ]
  },
  {
   "cell_type": "code",
   "execution_count": 13,
   "id": "cf0b4ab8",
   "metadata": {
    "ExecuteTime": {
     "end_time": "2022-05-13T03:21:16.283094Z",
     "start_time": "2022-05-13T03:21:16.280339Z"
    }
   },
   "outputs": [
    {
     "name": "stdout",
     "output_type": "stream",
     "text": [
      "3\n",
      "-2\n"
     ]
    }
   ],
   "source": [
    "print(solution([1,2,3,4], [-3,-1,0,2]))\n",
    "print(solution([-1,0,1], [1,0,-1]))"
   ]
  }
 ],
 "metadata": {
  "kernelspec": {
   "display_name": "Python 3 (ipykernel)",
   "language": "python",
   "name": "python3"
  },
  "language_info": {
   "codemirror_mode": {
    "name": "ipython",
    "version": 3
   },
   "file_extension": ".py",
   "mimetype": "text/x-python",
   "name": "python",
   "nbconvert_exporter": "python",
   "pygments_lexer": "ipython3",
   "version": "3.9.7"
  },
  "toc": {
   "base_numbering": 1,
   "nav_menu": {},
   "number_sections": true,
   "sideBar": true,
   "skip_h1_title": false,
   "title_cell": "Table of Contents",
   "title_sidebar": "Contents",
   "toc_cell": false,
   "toc_position": {},
   "toc_section_display": true,
   "toc_window_display": false
  }
 },
 "nbformat": 4,
 "nbformat_minor": 5
}
