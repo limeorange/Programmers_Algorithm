{
 "cells": [
  {
   "cell_type": "markdown",
   "id": "56b7e372",
   "metadata": {},
   "source": [
    "# 2016년\n",
    "- `유형` 연습문제\n",
    "\n",
    "\n",
    "- `문제 설명` 2016년 1월 1일은 금요일입니다. 2016년 a월 b일은 무슨 요일일까요? 두 수 a ,b를 입력받아 2016년 a월 b일이 무슨 요일인지 리턴하는 함수, solution을 완성하세요. 요일의 이름은 일요일부터 토요일까지 각각 SUN, MON, TUE, WED, THU, FRI, SAT 입니다. 예를 들어 a=5, b=24라면 5월 24일은 화요일이므로 문자열 \"TUE\"를 반환하세요.\n",
    "\n",
    "\n",
    "- `제한 조건`\n",
    "    - 2016년은 윤년입니다.\n",
    "    - 2016년 a월 b일은 실제로 있는 날입니다. (13월 26일이나 2월 45일같은 날짜는 주어지지 않습니다)\n",
    "\n",
    "\n",
    "- `입력`\n",
    "    - ex1) 5, 24\n",
    "\n",
    "\n",
    "- `출력`\n",
    "    - ex1) 'TUE'"
   ]
  },
  {
   "cell_type": "code",
   "execution_count": 9,
   "id": "68f7fe0b",
   "metadata": {
    "ExecuteTime": {
     "end_time": "2022-05-12T02:40:21.752300Z",
     "start_time": "2022-05-12T02:40:21.749849Z"
    }
   },
   "outputs": [],
   "source": [
    "# SOL 1) \n",
    "\n",
    "from datetime import datetime, date\n",
    "\n",
    "def solution(a, b):\n",
    "    \n",
    "    days = ['MON', 'TUE', 'WED', 'THU', 'FRI', 'SAT', 'SUN']\n",
    "    day = date(2016, a, b).weekday()\n",
    "    \n",
    "    return days[day]"
   ]
  },
  {
   "cell_type": "code",
   "execution_count": 10,
   "id": "60321602",
   "metadata": {
    "ExecuteTime": {
     "end_time": "2022-05-12T02:40:23.040755Z",
     "start_time": "2022-05-12T02:40:23.038496Z"
    }
   },
   "outputs": [
    {
     "name": "stdout",
     "output_type": "stream",
     "text": [
      "TUE\n",
      "FRI\n"
     ]
    }
   ],
   "source": [
    "print(solution(5, 24))\n",
    "print(solution(1, 1))"
   ]
  }
 ],
 "metadata": {
  "kernelspec": {
   "display_name": "Python 3 (ipykernel)",
   "language": "python",
   "name": "python3"
  },
  "language_info": {
   "codemirror_mode": {
    "name": "ipython",
    "version": 3
   },
   "file_extension": ".py",
   "mimetype": "text/x-python",
   "name": "python",
   "nbconvert_exporter": "python",
   "pygments_lexer": "ipython3",
   "version": "3.9.7"
  },
  "toc": {
   "base_numbering": 1,
   "nav_menu": {},
   "number_sections": true,
   "sideBar": true,
   "skip_h1_title": false,
   "title_cell": "Table of Contents",
   "title_sidebar": "Contents",
   "toc_cell": false,
   "toc_position": {},
   "toc_section_display": true,
   "toc_window_display": false
  }
 },
 "nbformat": 4,
 "nbformat_minor": 5
}
