{
 "cells": [
  {
   "cell_type": "markdown",
   "id": "56b7e372",
   "metadata": {},
   "source": [
    "# K번째수\n",
    "- `유형` 정렬\n",
    "\n",
    "\n",
    "- `문제 설명`\n",
    "\n",
    "\n",
    "배열 array의 i번째 숫자부터 j번째 숫자까지 자르고 정렬했을 때, k번째에 있는 수를 구하려 합니다.\n",
    "예를 들어 array가 [1, 5, 2, 6, 3, 7, 4], i = 2, j = 5, k = 3이라면\n",
    "\n",
    "\n",
    "    1. array의 2번째부터 5번째까지 자르면 [5, 2, 6, 3]입니다.\n",
    "    2. 1에서 나온 배열을 정렬하면 [2, 3, 5, 6]입니다.\n",
    "    3. 2에서 나온 배열의 3번째 숫자는 5입니다.\n",
    "\n",
    "\n",
    "배열 array, [i, j, k]를 원소로 가진 2차원 배열 commands가 매개변수로 주어질 때, commands의 모든 원소에 대해 앞서 설명한 연산을 적용했을 때 나온 결과를 배열에 담아 return 하도록 solution 함수를 작성해주세요.\n",
    "\n",
    "- `제한 조건`\n",
    "    - array의 길이는 1 이상 100 이하입니다.\n",
    "    - array의 각 원소는 1 이상 100 이하입니다.\n",
    "    - commands의 길이는 1 이상 50 이하입니다.\n",
    "    - commands의 각 원소는 길이가 3입니다.\n",
    "\n",
    "\n",
    "- `입력`\n",
    "    - ex1) [1, 5, 2, 6, 3, 7, 4], [[2, 5, 3], [4, 4, 1], [1, 7, 3]]\n",
    "\n",
    "\n",
    "- `출력`\n",
    "    - ex1) [5, 6, 3]"
   ]
  },
  {
   "cell_type": "code",
   "execution_count": 20,
   "id": "68f7fe0b",
   "metadata": {
    "ExecuteTime": {
     "end_time": "2022-05-12T07:39:46.438670Z",
     "start_time": "2022-05-12T07:39:46.435225Z"
    }
   },
   "outputs": [],
   "source": [
    "# SOL 1)\n",
    "\n",
    "def solution(arr, cmd):\n",
    "    result = []\n",
    "    for i, j, k in cmd:\n",
    "        result.append(sorted(arr[i-1:j])[k-1])\n",
    "    return result"
   ]
  },
  {
   "cell_type": "code",
   "execution_count": 17,
   "id": "60321602",
   "metadata": {
    "ExecuteTime": {
     "end_time": "2022-05-12T07:38:08.750677Z",
     "start_time": "2022-05-12T07:38:08.747942Z"
    }
   },
   "outputs": [
    {
     "name": "stdout",
     "output_type": "stream",
     "text": [
      "[5, 6, 3]\n"
     ]
    }
   ],
   "source": [
    "print(solution([1, 5, 2, 6, 3, 7, 4], [[2, 5, 3], [4, 4, 1], [1, 7, 3]]))"
   ]
  }
 ],
 "metadata": {
  "kernelspec": {
   "display_name": "Python 3 (ipykernel)",
   "language": "python",
   "name": "python3"
  },
  "language_info": {
   "codemirror_mode": {
    "name": "ipython",
    "version": 3
   },
   "file_extension": ".py",
   "mimetype": "text/x-python",
   "name": "python",
   "nbconvert_exporter": "python",
   "pygments_lexer": "ipython3",
   "version": "3.9.7"
  },
  "toc": {
   "base_numbering": 1,
   "nav_menu": {},
   "number_sections": true,
   "sideBar": true,
   "skip_h1_title": false,
   "title_cell": "Table of Contents",
   "title_sidebar": "Contents",
   "toc_cell": false,
   "toc_position": {},
   "toc_section_display": true,
   "toc_window_display": false
  }
 },
 "nbformat": 4,
 "nbformat_minor": 5
}
