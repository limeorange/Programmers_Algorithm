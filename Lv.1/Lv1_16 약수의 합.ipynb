{
 "cells": [
  {
   "cell_type": "markdown",
   "id": "56b7e372",
   "metadata": {},
   "source": [
    "# 약수의 합\n",
    "- `유형` 연습문제\n",
    "\n",
    "\n",
    "- `문제 설명` 정수 n을 입력받아 n의 약수를 모두 더한 값을 리턴하는 함수, solution을 완성해주세요.\n",
    "\n",
    "\n",
    "- `제한 조건` n은 0 이상 3000이하인 정수입니다.\n",
    "\n",
    "\n",
    "- `입력`\n",
    "    - ex1) 12\n",
    "    - ex2) 5\n",
    "\n",
    "\n",
    "- `출력`\n",
    "    - ex1) 28\n",
    "    - ex2) 6"
   ]
  },
  {
   "cell_type": "code",
   "execution_count": 4,
   "id": "68f7fe0b",
   "metadata": {
    "ExecuteTime": {
     "end_time": "2022-05-11T06:10:56.575880Z",
     "start_time": "2022-05-11T06:10:56.573239Z"
    }
   },
   "outputs": [],
   "source": [
    "# SOL 1) 1 ~ n까지의 수를 모두 나눠보는 기본적인 방법\n",
    "\n",
    "def solution(n):\n",
    "    s = 0\n",
    "    for i in range(1, n+1):\n",
    "        if n % i == 0:\n",
    "            s += i\n",
    "    return s"
   ]
  },
  {
   "cell_type": "code",
   "execution_count": 5,
   "id": "60321602",
   "metadata": {
    "ExecuteTime": {
     "end_time": "2022-05-11T06:10:57.184603Z",
     "start_time": "2022-05-11T06:10:57.182421Z"
    }
   },
   "outputs": [
    {
     "name": "stdout",
     "output_type": "stream",
     "text": [
      "28\n",
      "6\n"
     ]
    }
   ],
   "source": [
    "print(solution(12))\n",
    "print(solution(5))"
   ]
  },
  {
   "cell_type": "code",
   "execution_count": 18,
   "id": "622ef6e8",
   "metadata": {
    "ExecuteTime": {
     "end_time": "2022-05-11T06:19:05.543660Z",
     "start_time": "2022-05-11T06:19:05.540291Z"
    }
   },
   "outputs": [],
   "source": [
    "# SOL 2) 나누는 수 범위 조정해서 시간 효율성 높이기, 집합 활용해서 중복 제거\n",
    "\n",
    "def solution(n):\n",
    "    s = set()\n",
    "    for i in range(1, int(n**0.5)+1):\n",
    "        if n % i == 0:\n",
    "            s.add(i)\n",
    "            s.add(n//i)\n",
    "    return sum(s)"
   ]
  },
  {
   "cell_type": "code",
   "execution_count": 19,
   "id": "3da16e3b",
   "metadata": {
    "ExecuteTime": {
     "end_time": "2022-05-11T06:19:06.031208Z",
     "start_time": "2022-05-11T06:19:06.028451Z"
    }
   },
   "outputs": [
    {
     "name": "stdout",
     "output_type": "stream",
     "text": [
      "28\n",
      "6\n"
     ]
    }
   ],
   "source": [
    "print(solution(12))\n",
    "print(solution(5))"
   ]
  },
  {
   "cell_type": "code",
   "execution_count": 6,
   "id": "208a181e",
   "metadata": {
    "ExecuteTime": {
     "end_time": "2022-05-11T06:12:49.061586Z",
     "start_time": "2022-05-11T06:12:49.059198Z"
    }
   },
   "outputs": [],
   "source": [
    "# SOL 3) list comprehension\n",
    "\n",
    "def solution(n):\n",
    "    return sum([i for i in range(1, n+1) if n % i == 0])"
   ]
  },
  {
   "cell_type": "code",
   "execution_count": 7,
   "id": "4f471d29",
   "metadata": {
    "ExecuteTime": {
     "end_time": "2022-05-11T06:12:52.820829Z",
     "start_time": "2022-05-11T06:12:52.818247Z"
    }
   },
   "outputs": [
    {
     "name": "stdout",
     "output_type": "stream",
     "text": [
      "28\n",
      "6\n"
     ]
    }
   ],
   "source": [
    "print(solution(12))\n",
    "print(solution(5))"
   ]
  }
 ],
 "metadata": {
  "kernelspec": {
   "display_name": "Python 3 (ipykernel)",
   "language": "python",
   "name": "python3"
  },
  "language_info": {
   "codemirror_mode": {
    "name": "ipython",
    "version": 3
   },
   "file_extension": ".py",
   "mimetype": "text/x-python",
   "name": "python",
   "nbconvert_exporter": "python",
   "pygments_lexer": "ipython3",
   "version": "3.9.7"
  },
  "toc": {
   "base_numbering": 1,
   "nav_menu": {},
   "number_sections": true,
   "sideBar": true,
   "skip_h1_title": false,
   "title_cell": "Table of Contents",
   "title_sidebar": "Contents",
   "toc_cell": false,
   "toc_position": {},
   "toc_section_display": true,
   "toc_window_display": false
  }
 },
 "nbformat": 4,
 "nbformat_minor": 5
}
