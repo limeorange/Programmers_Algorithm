{
 "cells": [
  {
   "cell_type": "markdown",
   "id": "56b7e372",
   "metadata": {},
   "source": [
    "# 소수 만들기\n",
    "- `유형` Summer/Winter Coding(~2018)\n",
    "\n",
    "\n",
    "- `문제 설명` 주어진 숫자 중 3개의 수를 더했을 때 소수가 되는 경우의 개수를 구하려고 합니다. 숫자들이 들어있는 배열 nums가 매개변수로 주어질 때, nums에 있는 숫자들 중 서로 다른 3개를 골라 더했을 때 소수가 되는 경우의 개수를 return 하도록 solution 함수를 완성해주세요.\n",
    "\n",
    "\n",
    "- `제한 조건`\n",
    "    - nums에 들어있는 숫자의 개수는 3개 이상 50개 이하입니다.\n",
    "    - nums의 각 원소는 1 이상 1,000 이하의 자연수이며, 중복된 숫자가 들어있지 않습니다.\n",
    "\n",
    "\n",
    "- `입력`\n",
    "    - ex1) [1,2,3,4]\n",
    "    - ex2) [1,2,7,6,4]\n",
    "\n",
    "\n",
    "- `출력`\n",
    "    - ex1) 1\n",
    "    - ex2) 4"
   ]
  },
  {
   "cell_type": "code",
   "execution_count": 19,
   "id": "68f7fe0b",
   "metadata": {
    "ExecuteTime": {
     "end_time": "2022-05-12T09:14:39.044675Z",
     "start_time": "2022-05-12T09:14:39.040888Z"
    }
   },
   "outputs": [],
   "source": [
    "# SOL 1)\n",
    "\n",
    "from itertools import combinations\n",
    "\n",
    "def prime_lst(n):\n",
    "    primes = set(range(2, n+1))\n",
    "    for i in range(2, n+1):\n",
    "        if i in primes:\n",
    "            primes -= set(range(2*i, n+1, i))\n",
    "    return primes\n",
    "\n",
    "def solution(nums):\n",
    "    primes = prime_lst(sum(nums))\n",
    "    cnt = 0\n",
    "    for i in combinations(nums, 3):\n",
    "        if sum(i) in primes:\n",
    "            cnt += 1\n",
    "    return cnt"
   ]
  },
  {
   "cell_type": "code",
   "execution_count": 20,
   "id": "60321602",
   "metadata": {
    "ExecuteTime": {
     "end_time": "2022-05-12T09:14:39.651979Z",
     "start_time": "2022-05-12T09:14:39.649530Z"
    }
   },
   "outputs": [
    {
     "name": "stdout",
     "output_type": "stream",
     "text": [
      "1\n",
      "4\n"
     ]
    }
   ],
   "source": [
    "print(solution([1,2,3,4]))\n",
    "print(solution([1,2,7,6,4]))"
   ]
  }
 ],
 "metadata": {
  "kernelspec": {
   "display_name": "Python 3 (ipykernel)",
   "language": "python",
   "name": "python3"
  },
  "language_info": {
   "codemirror_mode": {
    "name": "ipython",
    "version": 3
   },
   "file_extension": ".py",
   "mimetype": "text/x-python",
   "name": "python",
   "nbconvert_exporter": "python",
   "pygments_lexer": "ipython3",
   "version": "3.9.7"
  },
  "toc": {
   "base_numbering": 1,
   "nav_menu": {},
   "number_sections": true,
   "sideBar": true,
   "skip_h1_title": false,
   "title_cell": "Table of Contents",
   "title_sidebar": "Contents",
   "toc_cell": false,
   "toc_position": {},
   "toc_section_display": true,
   "toc_window_display": false
  }
 },
 "nbformat": 4,
 "nbformat_minor": 5
}
