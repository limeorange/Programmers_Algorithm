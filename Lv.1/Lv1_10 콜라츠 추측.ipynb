{
 "cells": [
  {
   "cell_type": "markdown",
   "id": "56b7e372",
   "metadata": {},
   "source": [
    "# 콜라츠 추측\n",
    "- `유형` 연습문제\n",
    "\n",
    "\n",
    "- `문제 설명` \n",
    "\n",
    "\n",
    "1937년 Collatz란 사람에 의해 제기된 이 추측은, 주어진 수가 1이 될때까지 다음 작업을 반복하면, 모든 수를 1로 만들 수 있다는 추측입니다. 작업은 다음과 같습니다.\n",
    "\n",
    "\n",
    "    - 1-1. 입력된 수가 짝수라면 2로 나눕니다. \n",
    "    - 1-2. 입력된 수가 홀수라면 3을 곱하고 1을 더합니다.\n",
    "    - 2. 결과로 나온 수에 같은 작업을 1이 될 때까지 반복합니다.\n",
    "    \n",
    "    \n",
    "예를 들어, 입력된 수가 6이라면 6→3→10→5→16→8→4→2→1 이 되어 총 8번 만에 1이 됩니다. 위 작업을 몇 번이나 반복해야하는지 반환하는 함수, solution을 완성해 주세요. 단, 작업을 500번을 반복해도 1이 되지 않는다면 –1을 반환해 주세요.\n",
    "\n",
    "\n",
    "- `제한 조건`\n",
    "    - 입력된 수, num은 1 이상 8000000 미만인 정수입니다.\n",
    "\n",
    "\n",
    "- `입력`\n",
    "    - ex1) 6\n",
    "    - ex2) 16\n",
    "    - ex3) 626331\n",
    "\n",
    "\n",
    "- `출력`\n",
    "    - ex1) 8\n",
    "    - ex2) 4\n",
    "    - ex3) -1"
   ]
  },
  {
   "cell_type": "code",
   "execution_count": 17,
   "id": "68f7fe0b",
   "metadata": {
    "ExecuteTime": {
     "end_time": "2022-05-11T04:43:08.924081Z",
     "start_time": "2022-05-11T04:43:08.921038Z"
    }
   },
   "outputs": [],
   "source": [
    "# SOL 1)\n",
    "\n",
    "def solution(n):\n",
    "\n",
    "    cnt = 0\n",
    "    while (n > 1):\n",
    "        if n % 2 == 0:\n",
    "            n = n / 2\n",
    "            cnt += 1\n",
    "        else:\n",
    "            n = n * 3 + 1\n",
    "            cnt += 1\n",
    "        if cnt == 501:\n",
    "            break\n",
    "\n",
    "    if cnt == 501:\n",
    "        return -1\n",
    "    else:\n",
    "        return cnt"
   ]
  },
  {
   "cell_type": "code",
   "execution_count": 22,
   "id": "60321602",
   "metadata": {
    "ExecuteTime": {
     "end_time": "2022-05-11T04:52:25.899056Z",
     "start_time": "2022-05-11T04:52:25.896013Z"
    },
    "scrolled": true
   },
   "outputs": [
    {
     "name": "stdout",
     "output_type": "stream",
     "text": [
      "8\n",
      "4\n",
      "-1\n",
      "0\n"
     ]
    }
   ],
   "source": [
    "print(solution(6))\n",
    "print(solution(16))\n",
    "print(solution(626331))\n",
    "print(solution(1))"
   ]
  }
 ],
 "metadata": {
  "kernelspec": {
   "display_name": "Python 3 (ipykernel)",
   "language": "python",
   "name": "python3"
  },
  "language_info": {
   "codemirror_mode": {
    "name": "ipython",
    "version": 3
   },
   "file_extension": ".py",
   "mimetype": "text/x-python",
   "name": "python",
   "nbconvert_exporter": "python",
   "pygments_lexer": "ipython3",
   "version": "3.9.7"
  },
  "toc": {
   "base_numbering": 1,
   "nav_menu": {},
   "number_sections": true,
   "sideBar": true,
   "skip_h1_title": false,
   "title_cell": "Table of Contents",
   "title_sidebar": "Contents",
   "toc_cell": false,
   "toc_position": {},
   "toc_section_display": true,
   "toc_window_display": false
  }
 },
 "nbformat": 4,
 "nbformat_minor": 5
}
