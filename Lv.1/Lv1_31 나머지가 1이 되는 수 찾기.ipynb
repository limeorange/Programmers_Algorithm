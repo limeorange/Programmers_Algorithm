{
 "cells": [
  {
   "cell_type": "markdown",
   "id": "56b7e372",
   "metadata": {},
   "source": [
    "# 나머지가 1이 되는 수 찾기\n",
    "- `유형` 월간 코드 챌린지 시즌3\n",
    "\n",
    "\n",
    "- `문제 설명` 자연수 n이 매개변수로 주어집니다. n을 x로 나눈 나머지가 1이 되도록 하는 가장 작은 자연수 x를 return 하도록 solution 함수를 완성해주세요. 답이 항상 존재함은 증명될 수 있습니다.\n",
    "\n",
    "\n",
    "- `제한 조건` \n",
    "    - 3 ≤ n ≤ 1,000,000\n",
    "\n",
    "\n",
    "- `입력`\n",
    "    - ex1) 10\n",
    "    - ex2) 12\n",
    "\n",
    "\n",
    "- `출력`\n",
    "    - ex1) 3\n",
    "    - ex2) 11"
   ]
  },
  {
   "cell_type": "code",
   "execution_count": 7,
   "id": "68f7fe0b",
   "metadata": {
    "ExecuteTime": {
     "end_time": "2022-05-12T02:53:39.753253Z",
     "start_time": "2022-05-12T02:53:39.750857Z"
    }
   },
   "outputs": [],
   "source": [
    "# SOL 1)\n",
    "\n",
    "def solution(n):\n",
    "    for i in range(2, n+1):\n",
    "        if (n-1) % i == 0:\n",
    "            return i"
   ]
  },
  {
   "cell_type": "code",
   "execution_count": 8,
   "id": "60321602",
   "metadata": {
    "ExecuteTime": {
     "end_time": "2022-05-12T02:53:40.456981Z",
     "start_time": "2022-05-12T02:53:40.454543Z"
    }
   },
   "outputs": [
    {
     "name": "stdout",
     "output_type": "stream",
     "text": [
      "3\n",
      "11\n"
     ]
    }
   ],
   "source": [
    "print(solution(10))\n",
    "print(solution(12))"
   ]
  },
  {
   "cell_type": "code",
   "execution_count": 9,
   "id": "7d4baf6e",
   "metadata": {
    "ExecuteTime": {
     "end_time": "2022-05-12T02:55:54.499517Z",
     "start_time": "2022-05-12T02:55:54.497076Z"
    }
   },
   "outputs": [],
   "source": [
    "# SOL 2) 하나의 값이 return 될 때도 indexing을 통해 list comprehension 가능!\n",
    "\n",
    "def solution(n):\n",
    "    return [i for i in range(2, n+1) if (n-1) % i == 0][0]"
   ]
  },
  {
   "cell_type": "code",
   "execution_count": 10,
   "id": "f1706ede",
   "metadata": {
    "ExecuteTime": {
     "end_time": "2022-05-12T02:55:58.491888Z",
     "start_time": "2022-05-12T02:55:58.489569Z"
    }
   },
   "outputs": [
    {
     "name": "stdout",
     "output_type": "stream",
     "text": [
      "3\n",
      "11\n"
     ]
    }
   ],
   "source": [
    "print(solution(10))\n",
    "print(solution(12))"
   ]
  }
 ],
 "metadata": {
  "kernelspec": {
   "display_name": "Python 3 (ipykernel)",
   "language": "python",
   "name": "python3"
  },
  "language_info": {
   "codemirror_mode": {
    "name": "ipython",
    "version": 3
   },
   "file_extension": ".py",
   "mimetype": "text/x-python",
   "name": "python",
   "nbconvert_exporter": "python",
   "pygments_lexer": "ipython3",
   "version": "3.9.7"
  },
  "toc": {
   "base_numbering": 1,
   "nav_menu": {},
   "number_sections": true,
   "sideBar": true,
   "skip_h1_title": false,
   "title_cell": "Table of Contents",
   "title_sidebar": "Contents",
   "toc_cell": false,
   "toc_position": {},
   "toc_section_display": true,
   "toc_window_display": false
  }
 },
 "nbformat": 4,
 "nbformat_minor": 5
}
