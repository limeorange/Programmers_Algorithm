{
 "cells": [
  {
   "cell_type": "markdown",
   "id": "56b7e372",
   "metadata": {},
   "source": [
    "# 두 정수 사이의 합\n",
    "- `유형` 연습문제\n",
    "\n",
    "\n",
    "- `문제 설명` 두 정수 a, b가 주어졌을 때 a와 b 사이에 속한 모든 정수의 합을 리턴하는 함수, solution을 완성하세요. 예를 들어 a = 3, b = 5인 경우, 3 + 4 + 5 = 12이므로 12를 리턴합니다.\n",
    "\n",
    "\n",
    "- `제한 조건`\n",
    "    - a와 b가 같은 경우는 둘 중 아무 수나 리턴하세요.\n",
    "    - a와 b는 -10,000,000 이상 10,000,000 이하인 정수입니다.\n",
    "    - a와 b의 대소관계는 정해져있지 않습니다.\n",
    "\n",
    "\n",
    "- `입력`\n",
    "    - ex1) 3, 5\n",
    "    - ex2) 3, 3\n",
    "    - ex3) 5, 3\n",
    "\n",
    "\n",
    "- `출력`\n",
    "    - ex1) 12\n",
    "    - ex2) 3\n",
    "    - ex3) 12"
   ]
  },
  {
   "cell_type": "code",
   "execution_count": 17,
   "id": "68f7fe0b",
   "metadata": {
    "ExecuteTime": {
     "end_time": "2022-05-11T08:39:39.499074Z",
     "start_time": "2022-05-11T08:39:39.496749Z"
    }
   },
   "outputs": [],
   "source": [
    "# SOL 1)\n",
    "\n",
    "def solution(a, b):\n",
    "    return sum(range(min(a, b), max(a, b)+1))"
   ]
  },
  {
   "cell_type": "code",
   "execution_count": 18,
   "id": "60321602",
   "metadata": {
    "ExecuteTime": {
     "end_time": "2022-05-11T08:39:40.203149Z",
     "start_time": "2022-05-11T08:39:40.200361Z"
    }
   },
   "outputs": [
    {
     "name": "stdout",
     "output_type": "stream",
     "text": [
      "12\n",
      "3\n",
      "12\n"
     ]
    }
   ],
   "source": [
    "print(solution(3, 5))\n",
    "print(solution(3, 3))\n",
    "print(solution(5, 3))"
   ]
  }
 ],
 "metadata": {
  "kernelspec": {
   "display_name": "Python 3 (ipykernel)",
   "language": "python",
   "name": "python3"
  },
  "language_info": {
   "codemirror_mode": {
    "name": "ipython",
    "version": 3
   },
   "file_extension": ".py",
   "mimetype": "text/x-python",
   "name": "python",
   "nbconvert_exporter": "python",
   "pygments_lexer": "ipython3",
   "version": "3.9.7"
  },
  "toc": {
   "base_numbering": 1,
   "nav_menu": {},
   "number_sections": true,
   "sideBar": true,
   "skip_h1_title": false,
   "title_cell": "Table of Contents",
   "title_sidebar": "Contents",
   "toc_cell": false,
   "toc_position": {},
   "toc_section_display": true,
   "toc_window_display": false
  }
 },
 "nbformat": 4,
 "nbformat_minor": 5
}
