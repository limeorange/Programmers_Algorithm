{
 "cells": [
  {
   "cell_type": "markdown",
   "id": "56b7e372",
   "metadata": {},
   "source": [
    "# 최대공약수와 최소공배수\n",
    "- `유형` 연습문제\n",
    "\n",
    "\n",
    "- `문제 설명` 두 수를 입력받아 두 수의 최대공약수와 최소공배수를 반환하는 함수, solution을 완성해 보세요. 배열의 맨 앞에 최대공약수, 그다음 최소공배수를 넣어 반환하면 됩니다. 예를 들어 두 수 3, 12의 최대공약수는 3, 최소공배수는 12이므로 solution(3, 12)는 [3, 12]를 반환해야 합니다.\n",
    "\n",
    "\n",
    "- `제한 조건`\n",
    "    - 두 수는 1이상 1000000이하의 자연수입니다.\n",
    "\n",
    "\n",
    "- `입력`\n",
    "    - ex1) n = 3, m = 12\n",
    "    - ex2) n = 2, m = 5\n",
    "\n",
    "\n",
    "- `출력`\n",
    "    - ex1) [3, 12]\n",
    "    - ex2) [1, 10]"
   ]
  },
  {
   "cell_type": "code",
   "execution_count": 9,
   "id": "68f7fe0b",
   "metadata": {
    "ExecuteTime": {
     "end_time": "2022-05-11T02:55:03.638557Z",
     "start_time": "2022-05-11T02:55:03.635879Z"
    }
   },
   "outputs": [],
   "source": [
    "# SOL 1) 최대공약수 -> 유클리드 알고리즘 이용\n",
    "\n",
    "def GCD(a, b):\n",
    "    while b > 0:\n",
    "        a, b = b, a % b\n",
    "    return a\n",
    "\n",
    "def solution(a, b):\n",
    "    greatest = GCD(a, b)\n",
    "    least = (a * b) // greatest \n",
    "    return [greatest, least]"
   ]
  },
  {
   "cell_type": "code",
   "execution_count": 10,
   "id": "0ce85d1d",
   "metadata": {
    "ExecuteTime": {
     "end_time": "2022-05-11T02:55:03.648778Z",
     "start_time": "2022-05-11T02:55:03.640449Z"
    }
   },
   "outputs": [
    {
     "name": "stdout",
     "output_type": "stream",
     "text": [
      "[3, 12]\n",
      "[1, 10]\n"
     ]
    }
   ],
   "source": [
    "print(solution(3, 12))\n",
    "print(solution(2, 5))"
   ]
  }
 ],
 "metadata": {
  "kernelspec": {
   "display_name": "Python 3 (ipykernel)",
   "language": "python",
   "name": "python3"
  },
  "language_info": {
   "codemirror_mode": {
    "name": "ipython",
    "version": 3
   },
   "file_extension": ".py",
   "mimetype": "text/x-python",
   "name": "python",
   "nbconvert_exporter": "python",
   "pygments_lexer": "ipython3",
   "version": "3.9.7"
  },
  "toc": {
   "base_numbering": 1,
   "nav_menu": {},
   "number_sections": true,
   "sideBar": true,
   "skip_h1_title": false,
   "title_cell": "Table of Contents",
   "title_sidebar": "Contents",
   "toc_cell": false,
   "toc_position": {},
   "toc_section_display": true,
   "toc_window_display": false
  }
 },
 "nbformat": 4,
 "nbformat_minor": 5
}
