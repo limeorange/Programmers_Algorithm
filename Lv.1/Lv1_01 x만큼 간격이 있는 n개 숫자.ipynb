{
 "cells": [
  {
   "cell_type": "markdown",
   "id": "99796421",
   "metadata": {},
   "source": [
    "# x만큼 간격이 있는 n개 숫자\n",
    "- `유형` 연습문제\n",
    "\n",
    "\n",
    "- `문제 설명` 함수 solution은 정수 x와 자연수 n을 입력 받아, x부터 시작해 x씩 증가하는 숫자를 n개 지니는 리스트를 리턴해야 합니다. 다음 제한 조건을 보고, 조건을 만족하는 함수, solution을 완성해주세요.\n",
    "\n",
    "\n",
    "- `제한 조건` \n",
    "    - x는 -10000000 이상, 10000000 이하인 정수입니다.\n",
    "    - n은 1000 이하인 자연수입니다.\n",
    "    \n",
    "    \n",
    "- `입력`\n",
    "    - ex1) x = 2, n = 5\n",
    "    - ex2) x = 4, n = 3\n",
    "    - ex3) x = -4, n = 2\n",
    "\n",
    "- `출력`\n",
    "    - ex1) [2, 4, 6, 8, 10]\n",
    "    - ex2) [4, 8, 12]\n",
    "    - ex3) [-4, -8]"
   ]
  },
  {
   "cell_type": "code",
   "execution_count": 1,
   "id": "ba72541a",
   "metadata": {
    "ExecuteTime": {
     "end_time": "2022-05-11T02:30:47.785638Z",
     "start_time": "2022-05-11T02:30:47.777846Z"
    }
   },
   "outputs": [],
   "source": [
    "# SOL 1)\n",
    "\n",
    "def solution(x, n):\n",
    "    answer = []\n",
    "    for i in range(1, n+1):\n",
    "        answer.append(x * i)\n",
    "    return answer"
   ]
  },
  {
   "cell_type": "code",
   "execution_count": 2,
   "id": "167d01fd",
   "metadata": {
    "ExecuteTime": {
     "end_time": "2022-05-11T02:30:49.265168Z",
     "start_time": "2022-05-11T02:30:49.262315Z"
    }
   },
   "outputs": [
    {
     "name": "stdout",
     "output_type": "stream",
     "text": [
      "[2, 4, 6, 8, 10]\n",
      "[4, 8, 12]\n",
      "[-4, -8]\n"
     ]
    }
   ],
   "source": [
    "print(solution(2, 5))\n",
    "print(solution(4, 3))\n",
    "print(solution(-4, 2))"
   ]
  }
 ],
 "metadata": {
  "kernelspec": {
   "display_name": "Python 3 (ipykernel)",
   "language": "python",
   "name": "python3"
  },
  "language_info": {
   "codemirror_mode": {
    "name": "ipython",
    "version": 3
   },
   "file_extension": ".py",
   "mimetype": "text/x-python",
   "name": "python",
   "nbconvert_exporter": "python",
   "pygments_lexer": "ipython3",
   "version": "3.9.7"
  },
  "toc": {
   "base_numbering": 1,
   "nav_menu": {},
   "number_sections": true,
   "sideBar": true,
   "skip_h1_title": false,
   "title_cell": "Table of Contents",
   "title_sidebar": "Contents",
   "toc_cell": false,
   "toc_position": {},
   "toc_section_display": true,
   "toc_window_display": false
  }
 },
 "nbformat": 4,
 "nbformat_minor": 5
}
