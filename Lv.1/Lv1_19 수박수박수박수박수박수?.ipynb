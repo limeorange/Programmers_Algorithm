{
 "cells": [
  {
   "cell_type": "markdown",
   "id": "56b7e372",
   "metadata": {},
   "source": [
    "# 수박수박수박수박수박수? \n",
    "- `유형` 연습문제\n",
    "\n",
    "\n",
    "- `문제 설명` 길이가 n이고, \"수박수박수박수....\"와 같은 패턴을 유지하는 문자열을 리턴하는 함수, solution을 완성하세요. 예를들어 n이 4이면 \"수박수박\"을 리턴하고 3이라면 \"수박수\"를 리턴하면 됩니다.\n",
    "\n",
    "\n",
    "- `제한 조건`\n",
    "    - n은 길이 10,000이하인 자연수입니다.\n",
    "\n",
    "\n",
    "- `입력`\n",
    "    - ex1) 3\n",
    "    - ex2) 4\n",
    "\n",
    "\n",
    "- `출력`\n",
    "    - ex1) '수박수'\n",
    "    - ex2) '수박수박'"
   ]
  },
  {
   "cell_type": "code",
   "execution_count": 8,
   "id": "68f7fe0b",
   "metadata": {
    "ExecuteTime": {
     "end_time": "2022-05-11T07:23:46.633840Z",
     "start_time": "2022-05-11T07:23:46.631505Z"
    }
   },
   "outputs": [],
   "source": [
    "# SOL 1) \n",
    "\n",
    "def solution(n):\n",
    "    return '수박' * (n // 2) + '수' * (n % 2)"
   ]
  },
  {
   "cell_type": "code",
   "execution_count": 9,
   "id": "60321602",
   "metadata": {
    "ExecuteTime": {
     "end_time": "2022-05-11T07:23:52.377652Z",
     "start_time": "2022-05-11T07:23:52.375205Z"
    }
   },
   "outputs": [
    {
     "name": "stdout",
     "output_type": "stream",
     "text": [
      "수박수\n",
      "수박수박\n"
     ]
    }
   ],
   "source": [
    "print(solution(3))\n",
    "print(solution(4))"
   ]
  },
  {
   "cell_type": "code",
   "execution_count": 16,
   "id": "141861b0",
   "metadata": {
    "ExecuteTime": {
     "end_time": "2022-05-11T07:30:17.786410Z",
     "start_time": "2022-05-11T07:30:17.784092Z"
    }
   },
   "outputs": [],
   "source": [
    "# SOL 2) n이 커짐에 따라 '수박'이 불필요하게 늘어나는 문제 해결\n",
    "\n",
    "def solution(n):\n",
    "    return ('수박'*(n//2+1))[:n]"
   ]
  },
  {
   "cell_type": "code",
   "execution_count": 17,
   "id": "8db232dd",
   "metadata": {
    "ExecuteTime": {
     "end_time": "2022-05-11T07:30:17.790423Z",
     "start_time": "2022-05-11T07:30:17.787894Z"
    }
   },
   "outputs": [
    {
     "name": "stdout",
     "output_type": "stream",
     "text": [
      "수박수\n",
      "수박수박\n"
     ]
    }
   ],
   "source": [
    "print(solution(3))\n",
    "print(solution(4))"
   ]
  }
 ],
 "metadata": {
  "kernelspec": {
   "display_name": "Python 3 (ipykernel)",
   "language": "python",
   "name": "python3"
  },
  "language_info": {
   "codemirror_mode": {
    "name": "ipython",
    "version": 3
   },
   "file_extension": ".py",
   "mimetype": "text/x-python",
   "name": "python",
   "nbconvert_exporter": "python",
   "pygments_lexer": "ipython3",
   "version": "3.9.7"
  },
  "toc": {
   "base_numbering": 1,
   "nav_menu": {},
   "number_sections": true,
   "sideBar": true,
   "skip_h1_title": false,
   "title_cell": "Table of Contents",
   "title_sidebar": "Contents",
   "toc_cell": false,
   "toc_position": {},
   "toc_section_display": true,
   "toc_window_display": false
  }
 },
 "nbformat": 4,
 "nbformat_minor": 5
}
