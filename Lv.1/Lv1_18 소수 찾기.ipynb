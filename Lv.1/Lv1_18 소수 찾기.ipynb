{
 "cells": [
  {
   "cell_type": "markdown",
   "id": "56b7e372",
   "metadata": {},
   "source": [
    "# 소수 찾기\n",
    "- `유형` 연습문제\n",
    "\n",
    "\n",
    "- `문제 설명` 1부터 입력받은 숫자 n 사이에 있는 소수의 개수를 반환하는 함수, solution을 만들어 보세요. 소수는 1과 자기 자신으로만 나누어지는 수를 의미합니다. (1은 소수가 아닙니다.)\n",
    "\n",
    "\n",
    "- `제한 조건`\n",
    "    - n은 2이상 1000000이하의 자연수입니다.\n",
    "\n",
    "\n",
    "- `입력`\n",
    "    - ex1) 10\n",
    "    - ex2) 5\n",
    "\n",
    "\n",
    "- `출력`\n",
    "    - ex1) 4\n",
    "    - ex2) 3"
   ]
  },
  {
   "cell_type": "code",
   "execution_count": 15,
   "id": "4c39fb04",
   "metadata": {
    "ExecuteTime": {
     "end_time": "2022-05-11T07:12:59.470722Z",
     "start_time": "2022-05-11T07:12:59.467337Z"
    }
   },
   "outputs": [],
   "source": [
    "# SOL 1) 에라토스테네스의 체 - list의 index를 통해 접근한 후 boolean값을 통해 연산하는 방식\n",
    "\n",
    "def solution(n):\n",
    "    sieve = [False] * 2 + [True] * (n-1)\n",
    "    primes = []\n",
    "    \n",
    "    for i in range(2, n+1):\n",
    "        if sieve[i]:\n",
    "            primes.append(i)\n",
    "            for j in range(2*i, n+1, i):\n",
    "                sieve[j] = False\n",
    "    return len(primes)"
   ]
  },
  {
   "cell_type": "code",
   "execution_count": 16,
   "id": "60321602",
   "metadata": {
    "ExecuteTime": {
     "end_time": "2022-05-11T07:12:59.474558Z",
     "start_time": "2022-05-11T07:12:59.472136Z"
    }
   },
   "outputs": [
    {
     "name": "stdout",
     "output_type": "stream",
     "text": [
      "4\n",
      "3\n"
     ]
    }
   ],
   "source": [
    "print(solution(10))\n",
    "print(solution(5))"
   ]
  },
  {
   "cell_type": "code",
   "execution_count": 17,
   "id": "25e157ae",
   "metadata": {
    "ExecuteTime": {
     "end_time": "2022-05-11T07:12:59.478976Z",
     "start_time": "2022-05-11T07:12:59.476229Z"
    }
   },
   "outputs": [],
   "source": [
    "# SOL 2) 에라토스테네스의 체 - set을 이용해서 수 집합 간의 연산 (매우 직관적임!)\n",
    "\n",
    "def solution(n):\n",
    "    primes = set(range(2, n+1))\n",
    "    \n",
    "    for i in range(2, n+1):\n",
    "        if i in primes:\n",
    "            primes -= set(range(2*i, n+1, i))\n",
    "    return len(primes)"
   ]
  },
  {
   "cell_type": "code",
   "execution_count": 18,
   "id": "3c6da585",
   "metadata": {
    "ExecuteTime": {
     "end_time": "2022-05-11T07:12:59.482872Z",
     "start_time": "2022-05-11T07:12:59.480721Z"
    }
   },
   "outputs": [
    {
     "name": "stdout",
     "output_type": "stream",
     "text": [
      "4\n",
      "3\n"
     ]
    }
   ],
   "source": [
    "print(solution(10))\n",
    "print(solution(5))"
   ]
  }
 ],
 "metadata": {
  "kernelspec": {
   "display_name": "Python 3 (ipykernel)",
   "language": "python",
   "name": "python3"
  },
  "language_info": {
   "codemirror_mode": {
    "name": "ipython",
    "version": 3
   },
   "file_extension": ".py",
   "mimetype": "text/x-python",
   "name": "python",
   "nbconvert_exporter": "python",
   "pygments_lexer": "ipython3",
   "version": "3.9.7"
  },
  "toc": {
   "base_numbering": 1,
   "nav_menu": {},
   "number_sections": true,
   "sideBar": true,
   "skip_h1_title": false,
   "title_cell": "Table of Contents",
   "title_sidebar": "Contents",
   "toc_cell": false,
   "toc_position": {},
   "toc_section_display": true,
   "toc_window_display": false
  }
 },
 "nbformat": 4,
 "nbformat_minor": 5
}
