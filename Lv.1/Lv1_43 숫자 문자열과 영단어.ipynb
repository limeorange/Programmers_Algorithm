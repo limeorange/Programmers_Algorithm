{
 "cells": [
  {
   "cell_type": "markdown",
   "id": "56b7e372",
   "metadata": {},
   "source": [
    "# 숫자 문자열과 영단어\n",
    "- `유형` 2021 카카오 채용연계형 인턴십\n",
    "\n",
    "\n",
    "- `문제 설명`\n",
    "\n",
    "\n",
    "네오와 프로도가 숫자놀이를 하고 있습니다. 네오가 프로도에게 숫자를 건넬 때 일부 자릿수를 영단어로 바꾼 카드를 건네주면 프로도는 원래 숫자를 찾는 게임입니다.\n",
    "\n",
    "다음은 숫자의 일부 자릿수를 영단어로 바꾸는 예시입니다.\n",
    "\n",
    "- 1478 → \"one4seveneight\"\n",
    "- 234567 → \"23four5six7\"\n",
    "- 10203 → \"1zerotwozero3\"\n",
    "\n",
    "이렇게 숫자의 일부 자릿수가 영단어로 바뀌어졌거나, 혹은 바뀌지 않고 그대로인 문자열 s가 매개변수로 주어집니다. s가 의미하는 원래 숫자를 return 하도록 solution 함수를 완성해주세요.\n",
    "\n",
    "참고로 각 숫자에 대응되는 영단어는 다음 표와 같습니다.\n",
    "- {0 : 'zero', 1 : 'one', 2 : 'two', 3 : 'three', 4 : 'four', 5 : 'five', 6 : 'six', 7 : 'seven', 8 : 'eight', 9 : 'nine'}\n",
    "\n",
    "- `제한 조건`\n",
    "    - 1 ≤ s의 길이 ≤ 50\n",
    "    - s가 \"zero\" 또는 \"0\"으로 시작하는 경우는 주어지지 않습니다.\n",
    "    - return 값이 1 이상 2,000,000,000 이하의 정수가 되는 올바른 입력만 s로 주어집니다.\n",
    "\n",
    "\n",
    "- `입력`\n",
    "    - ex1) \"one4seveneight\"\n",
    "    - ex2) \"23four5six7\"\n",
    "    - ex3) \"2three45sixseven\"\n",
    "    - ex4) \"123\"\n",
    "\n",
    "\n",
    "- `출력`\n",
    "    - ex1) 1478\n",
    "    - ex2) 234567\n",
    "    - ex3) 234567\n",
    "    - ex4) 123"
   ]
  },
  {
   "cell_type": "code",
   "execution_count": 31,
   "id": "906ac697",
   "metadata": {
    "ExecuteTime": {
     "end_time": "2022-05-13T03:12:50.447312Z",
     "start_time": "2022-05-13T03:12:50.444175Z"
    }
   },
   "outputs": [],
   "source": [
    "# SOL 1)\n",
    "\n",
    "def solution(s):\n",
    "    \n",
    "    a = ['zero', 'one', 'two', 'three', 'four', 'five', 'six', 'seven', 'eight', 'nine']\n",
    "    dic = dict(zip(a, '0123456789'))\n",
    "    \n",
    "    for i in a:\n",
    "        s = s.replace(i, dic[i])\n",
    "    \n",
    "    return int(s)"
   ]
  },
  {
   "cell_type": "code",
   "execution_count": 32,
   "id": "60321602",
   "metadata": {
    "ExecuteTime": {
     "end_time": "2022-05-13T03:12:50.452036Z",
     "start_time": "2022-05-13T03:12:50.449397Z"
    }
   },
   "outputs": [
    {
     "name": "stdout",
     "output_type": "stream",
     "text": [
      "1478\n",
      "234567\n",
      "234567\n",
      "123\n"
     ]
    }
   ],
   "source": [
    "print(solution(\"one4seveneight\"))\n",
    "print(solution(\"23four5six7\"))\n",
    "print(solution(\"2three45sixseven\"))\n",
    "print(solution(\"123\"))"
   ]
  }
 ],
 "metadata": {
  "kernelspec": {
   "display_name": "Python 3 (ipykernel)",
   "language": "python",
   "name": "python3"
  },
  "language_info": {
   "codemirror_mode": {
    "name": "ipython",
    "version": 3
   },
   "file_extension": ".py",
   "mimetype": "text/x-python",
   "name": "python",
   "nbconvert_exporter": "python",
   "pygments_lexer": "ipython3",
   "version": "3.9.7"
  },
  "toc": {
   "base_numbering": 1,
   "nav_menu": {},
   "number_sections": true,
   "sideBar": true,
   "skip_h1_title": false,
   "title_cell": "Table of Contents",
   "title_sidebar": "Contents",
   "toc_cell": false,
   "toc_position": {},
   "toc_section_display": true,
   "toc_window_display": false
  }
 },
 "nbformat": 4,
 "nbformat_minor": 5
}
