{
 "cells": [
  {
   "cell_type": "markdown",
   "metadata": {},
   "source": [
    "## 카카오 2018 공채 문제 3번 ✔️\n",
    "### [[1차] 캐시](https://school.programmers.co.kr/learn/courses/30/lessons/17680)"
   ]
  },
  {
   "cell_type": "markdown",
   "metadata": {},
   "source": [
    "### 🌱 핵심 포인트\n",
    "1. **<span style=\"color:red\">deque(iterable, maxlen)</span>** 사용(**<span style=\"color:blue\">from collections</span>**) => 양방향 큐!\n",
    "   - **<span style=\"color:blue\">maxlen</span>** : deque이 maxlen 값 만큼만 객체를 가지고 있을 수 있게 됨\n",
    "   - 만약 객체의 수가 maxlen에 도달한 상태에서 deque에 새 객체를 삽입하면, **가장 왼쪽에 있는 객체가 제거된 후에 새 객체가 삽입**됨\n",
    "   - => **LRU 조건 충족!** (가장 참조가 덜 된 요소를 가장 왼쪽에 둬서 가장 먼저 제거될 수 있도록 함)\n",
    "3. 캐시 히트 vs 캐시 미스\n",
    "    - **캐시 히트**: CPU가 참조하고자 하는 메모리에 캐시가 존재하고 있을 경우\n",
    "    - **캐시 미스**: CPU가 참조하고자 하는 메모리가 캐시에 존재하지 않을 경우\n",
    "\n",
    "### 🔥 풀이"
   ]
  },
  {
   "cell_type": "code",
   "execution_count": null,
   "metadata": {
    "vscode": {
     "languageId": "plaintext"
    }
   },
   "outputs": [],
   "source": [
    "from collections import deque\n",
    "\n",
    "def solution(cacheSize, cities):\n",
    "    answer = 0\n",
    "    d = deque(['']*cacheSize, maxlen=cacheSize) # iterable 생략 가능\n",
    "\n",
    "    for city in cities:\n",
    "\n",
    "        # 대소문자 통일\n",
    "        city = city.lower()\n",
    "\n",
    "        # 캐시에 도시가 있는 경우 (cache hit)\n",
    "        if city in d:\n",
    "            d.remove(city)\n",
    "            d.append(city)\n",
    "            answer += 1\n",
    "\n",
    "        # 캐시에 도시가 없는 경우 (cache miss)\n",
    "        else:\n",
    "            d.append(city)\n",
    "            answer += 5\n",
    "    return answer\n",
    "\n",
    "print(solution(3, [\"Jeju\", \"Pangyo\", \"Seoul\", \"NewYork\", \"LA\", \"Jeju\", \"Pangyo\", \"Seoul\", \"NewYork\", \"LA\"])) # 50\n",
    "print(solution(3, [\"Jeju\", \"Pangyo\", \"Seoul\", \"Jeju\", \"Pangyo\", \"Seoul\", \"Jeju\", \"Pangyo\", \"Seoul\"])) # 21\n",
    "print(solution(2, [\"Jeju\", \"Pangyo\", \"NewYork\", \"newyork\"])) # 16"
   ]
  }
 ],
 "metadata": {
  "language_info": {
   "name": "python"
  }
 },
 "nbformat": 4,
 "nbformat_minor": 2
}
