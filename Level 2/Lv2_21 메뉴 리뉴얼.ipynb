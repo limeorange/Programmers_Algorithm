{
 "cells": [
  {
   "cell_type": "markdown",
   "id": "56b7e372",
   "metadata": {},
   "source": [
    "# 메뉴 리뉴얼\n",
    "- `유형` 2021 KAKAO BLIND RECRUITMENT\n",
    "\n",
    "\n",
    "- `문제 설명`\n",
    "\n",
    "\n",
    "레스토랑을 운영하던 스카피는 코로나19로 인한 불경기를 극복하고자 메뉴를 새로 구성하려고 고민하고 있습니다.\n",
    "\n",
    "기존에는 단품으로만 제공하던 메뉴를 조합해서 코스요리 형태로 재구성해서 새로운 메뉴를 제공하기로 결정했습니다. 어떤 단품메뉴들을 조합해서 코스요리 메뉴로 구성하면 좋을 지 고민하던 \"스카피\"는 이전에 각 손님들이 주문할 때 가장 많이 함께 주문한 단품메뉴들을 코스요리 메뉴로 구성하기로 했습니다.\n",
    "\n",
    "단, 코스요리 메뉴는 최소 2가지 이상의 단품메뉴로 구성하려고 합니다. 또한, 최소 2명 이상의 손님으로부터 주문된 단품메뉴 조합에 대해서만 코스요리 메뉴 후보에 포함하기로 했습니다.\n",
    "\n",
    "예를 들어, 손님 6명이 주문한 단품메뉴들의 조합이 다음과 같다면,\n",
    "(각 손님은 단품메뉴를 2개 이상 주문해야 하며, 각 단품메뉴는 A ~ Z의 알파벳 대문자로 표기합니다.)\n",
    "\n",
    "| 손님 번호 | 주문한 단품메뉴 조합 |\n",
    "|:-------:|:----------------:|\n",
    "| 1번 손님 | A, B, C, F, G |\n",
    "| 2번 손님\t| A, C |\n",
    "| 3번 손님 | C, D, E |\n",
    "| 4번 손님\t| A, C, D, E |\n",
    "| 5번 손님 | B, C, F, G |\n",
    "| 6번 손님 | A, C, D, E, H |\n",
    "\n",
    "가장 많이 함께 주문된 단품메뉴 조합에 따라 \"스카피\"가 만들게 될 코스요리 메뉴 구성 후보는 다음과 같습니다.\n",
    "\n",
    "| 코스 종류 | 메뉴 구성 | 설명 |\n",
    "|:-------:|:--------:|:---:|\n",
    "| 요리 2개 코스 | A, C | 1번, 2번, 4번, 6번 손님으로부터 총 4번 주문됐습니다. |\n",
    "| 요리 3개 코스 | C, D, E | 3번, 4번, 6번 손님으로부터 총 3번 주문됐습니다. |\n",
    "| 요리 4개 코스 | B, C, F, G | 1번, 5번 손님으로부터 총 2번 주문됐습니다. |\n",
    "| 요리 4개 코스 | A, C, D, E | 4번, 6번 손님으로부터 총 2번 주문됐습니다. |\n",
    "\n",
    "각 손님들이 주문한 단품메뉴들이 문자열 형식으로 담긴 배열 orders, \"스카피\"가 추가하고 싶어하는 코스요리를 구성하는 단품메뉴들의 갯수가 담긴 배열 course가 매개변수로 주어질 때, \"스카피\"가 새로 추가하게 될 코스요리의 메뉴 구성을 문자열 형태로 배열에 담아 return 하도록 solution 함수를 완성해 주세요.\n",
    "\n",
    "\n",
    "- `제한 조건`\n",
    "    - orders 배열의 크기는 2 이상 20 이하입니다.\n",
    "    - orders 배열의 각 원소는 크기가 2 이상 10 이하인 문자열입니다.\n",
    "        - 각 문자열은 알파벳 대문자로만 이루어져 있습니다.\n",
    "        - 각 문자열에는 같은 알파벳이 중복해서 들어있지 않습니다.\n",
    "    - course 배열의 크기는 1 이상 10 이하입니다.\n",
    "        - course 배열의 각 원소는 2 이상 10 이하인 자연수가 오름차순으로 정렬되어 있습니다.\n",
    "        - course 배열에는 같은 값이 중복해서 들어있지 않습니다.\n",
    "    - 정답은 각 코스요리 메뉴의 구성을 문자열 형식으로 배열에 담아 사전 순으로 오름차순 정렬해서 return 해주세요.\n",
    "        - 배열의 각 원소에 저장된 문자열 또한 알파벳 오름차순으로 정렬되어야 합니다.\n",
    "        - 만약 가장 많이 함께 주문된 메뉴 구성이 여러 개라면, 모두 배열에 담아 return 하면 됩니다.\n",
    "        - orders와 course 매개변수는 return 하는 배열의 길이가 1 이상이 되도록 주어집니다.\n",
    "\n",
    "\n",
    "- `입력`\n",
    "    - ex1) [\"ABCFG\", \"AC\", \"CDE\", \"ACDE\", \"BCFG\", \"ACDEH\"], [2,3,4]\t\n",
    "    - ex2) [\"ABCDE\", \"AB\", \"CD\", \"ADE\", \"XYZ\", \"XYZ\", \"ACD\"], [2,3,5]\n",
    "    - ex3) [\"XYZ\", \"XWY\", \"WXA\"], [2,3,4]\n",
    "\n",
    "\n",
    "- `출력`\n",
    "    - ex1) [\"AC\", \"ACDE\", \"BCFG\", \"CDE\"]\n",
    "    - ex2) [\"ACD\", \"AD\", \"ADE\", \"CD\", \"XYZ\"]\n",
    "    - ex3) [\"WX\", \"XY\"]"
   ]
  },
  {
   "cell_type": "code",
   "execution_count": null,
   "id": "022e57fc",
   "metadata": {},
   "outputs": [],
   "source": [
    "# 240927 금 PM 4:30\n",
    "\n",
    "# c1. 코스요리 메뉴는 최소 2가지 이상의 단품메뉴로 구성 //\n",
    "# c2. 최소 2명 이상의 손님으로부터 주문된 단품메뉴 조합에 대해서만 코스요리 메뉴 후보에 포함 //\n",
    "# c3. orders, course에 대해 스카피가 새로 추가하게 될 새로 추가하게 될 코스요리 메뉴 구성을 문자열 형태로 배열에 담아 return //\n",
    "# c4. 가장 많이 함께 주문된 메뉴 구성이 여러 개라면, 모두 배열에 담아 return //\n",
    "# c5. 정답은 사전 순으로 오름차순 정렬, 배열의 각 원소에 저장된 문자열 또한 오름차순 정렬 //\n",
    "\n",
    "from itertools import combinations\n",
    "from collections import Counter\n",
    "\n",
    "def solution(orders, course):\n",
    "    freq_dict = {}\n",
    "    \n",
    "    # 배열의 원소 오름차순 정렬, 원소의 알파벳 오름차순 정렬\n",
    "    # 반례) 원소의 알파벳 오름차순 미리 하지 않으면 ('X', 'W'), ('W', 'X') 각각 1로 카운트함\n",
    "    orders.sort()\n",
    "    orders = [sorted(i) for i in orders]\n",
    "    \n",
    "    # c 일반화\n",
    "    for c in course:\n",
    "        c_lst = []\n",
    "        for o in orders:\n",
    "            a = combinations(o, c)\n",
    "            c_lst.extend(a)\n",
    "\n",
    "        # 코스 조합 빈도 계산\n",
    "        c_freq = Counter(c_lst)\n",
    "        print('c_freq', c_freq)\n",
    "\n",
    "        # 2 이상의 최빈도수 저장\n",
    "        # '최소 2명 이상 주문한 조합' 조건을 충족하지 않거나 '주문된 코스의 최대 수 < 원하는 코스 수' 인 경우 빈 배열이 발생할 수 있음 => 예외 처리\n",
    "        if c_freq:\n",
    "            most_freq_n = c_freq.most_common()[0][1]\n",
    "\n",
    "        # 2 이상의 최빈도수가 나온 코스 조합만 저장\n",
    "        freq_lst = []\n",
    "        if most_freq_n >= 2:\n",
    "            for i in c_freq.most_common():\n",
    "                if i[1] == most_freq_n:\n",
    "                    freq_lst.append(i[0])\n",
    "\n",
    "            freq_dict[c] = freq_lst\n",
    "    \n",
    "    # 리스트 여러 겹 -> 한 겹으로 바꾸고, 튜플에서 문자열 형태로 변환\n",
    "    temp = []\n",
    "    for i in freq_dict.values():\n",
    "        temp.extend(i)\n",
    "    result = sorted([''.join(t) for t in temp])\n",
    "            \n",
    "    return result"
   ]
  },
  {
   "cell_type": "code",
   "execution_count": 107,
   "id": "68f7fe0b",
   "metadata": {
    "ExecuteTime": {
     "end_time": "2022-05-26T09:38:25.805297Z",
     "start_time": "2022-05-26T09:38:25.800944Z"
    }
   },
   "outputs": [],
   "source": [
    "# SOL 1)\n",
    "\n",
    "from itertools import combinations\n",
    "from collections import Counter\n",
    "\n",
    "def solution(orders, course):\n",
    "    answer = []\n",
    "    for k in course:\n",
    "        temp = []\n",
    "        for i in orders:\n",
    "            for j in combinations(i, k):\n",
    "                temp.append(''.join(sorted(j)))       \n",
    "        sorted_dic = Counter(temp).most_common()\n",
    "        answer += [best[0] for best in sorted_dic if best[1] > 1 and best[1] == sorted_dic[0][1]]\n",
    "    return sorted(answer)"
   ]
  },
  {
   "cell_type": "code",
   "execution_count": 108,
   "id": "60321602",
   "metadata": {
    "ExecuteTime": {
     "end_time": "2022-05-26T09:38:25.810345Z",
     "start_time": "2022-05-26T09:38:25.807021Z"
    }
   },
   "outputs": [
    {
     "name": "stdout",
     "output_type": "stream",
     "text": [
      "['AC', 'ACDE', 'BCFG', 'CDE']\n",
      "['ACD', 'AD', 'ADE', 'CD', 'XYZ']\n",
      "['WX', 'XY']\n"
     ]
    }
   ],
   "source": [
    "print(solution([\"ABCFG\", \"AC\", \"CDE\", \"ACDE\", \"BCFG\", \"ACDEH\"], [2,3,4]))\n",
    "print(solution([\"ABCDE\", \"AB\", \"CD\", \"ADE\", \"XYZ\", \"XYZ\", \"ACD\"], [2,3,5]))\n",
    "print(solution([\"XYZ\", \"XWY\", \"WXA\"], [2,3,4]))"
   ]
  }
 ],
 "metadata": {
  "kernelspec": {
   "display_name": "Python 3 (ipykernel)",
   "language": "python",
   "name": "python3"
  },
  "language_info": {
   "codemirror_mode": {
    "name": "ipython",
    "version": 3
   },
   "file_extension": ".py",
   "mimetype": "text/x-python",
   "name": "python",
   "nbconvert_exporter": "python",
   "pygments_lexer": "ipython3",
   "version": "3.9.7"
  },
  "toc": {
   "base_numbering": 1,
   "nav_menu": {},
   "number_sections": true,
   "sideBar": true,
   "skip_h1_title": false,
   "title_cell": "Table of Contents",
   "title_sidebar": "Contents",
   "toc_cell": false,
   "toc_position": {},
   "toc_section_display": true,
   "toc_window_display": false
  }
 },
 "nbformat": 4,
 "nbformat_minor": 5
}
