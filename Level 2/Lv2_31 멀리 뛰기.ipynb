{
 "cells": [
  {
   "cell_type": "markdown",
   "id": "56b7e372",
   "metadata": {},
   "source": [
    "# 멀리 뛰기\n",
    "- `유형` 연습문제\n",
    "\n",
    "\n",
    "- `문제 설명` \n",
    "\n",
    "효진이는 멀리 뛰기를 연습하고 있습니다. 효진이는 한번에 1칸, 또는 2칸을 뛸 수 있습니다. 칸이 총 4개 있을 때, 효진이는\n",
    "\n",
    "- (1칸, 1칸, 1칸, 1칸)\n",
    "- (1칸, 2칸, 1칸)\n",
    "- (1칸, 1칸, 2칸)\n",
    "- (2칸, 1칸, 1칸)\n",
    "- (2칸, 2칸)\n",
    "\n",
    "의 5가지 방법으로 맨 끝 칸에 도달할 수 있습니다. 멀리뛰기에 사용될 칸의 수 n이 주어질 때, 효진이가 끝에 도달하는 방법이 몇 가지인지 알아내, 여기에 1234567를 나눈 나머지를 리턴하는 함수, solution을 완성하세요. 예를 들어 4가 입력된다면, 5를 return하면 됩니다.\n",
    "\n",
    "\n",
    "- `제한 조건`\n",
    "    - n은 1 이상, 2000 이하인 정수입니다.\n",
    "\n",
    "\n",
    "- `입력`\n",
    "    - ex1) 4\n",
    "    - ex2) 3\n",
    "\n",
    "\n",
    "- `출력`\n",
    "    - ex1) 5\n",
    "    - ex2) 3\n",
    "    \n",
    "- `참고`\n",
    "    - [[python] 최대 재귀한도 깊이 에러(RecursionError: maximum recursion depth exceeded in comparison)](https://velog.io/@csexpert/python-%EC%B5%9C%EB%8C%80-%EC%9E%AC%EA%B7%80%ED%95%9C%EB%8F%84-%EA%B9%8A%EC%9D%B4-%EC%97%90%EB%9F%ACRecursionError-maximum-recursion-depth-exceeded-in-comparison)\n",
    "    - [재귀 함수를 이용한 11.4 계단 문제 알고리즘과 원리 동일](https://github.com/limeorange/DataStructure_Algorithm/tree/main/%EB%88%84%EA%B5%AC%EB%82%98%20%EC%9E%90%EB%A3%8C%20%EA%B5%AC%EC%A1%B0%EC%99%80%20%EC%95%8C%EA%B3%A0%EB%A6%AC%EC%A6%98%20(%EC%A0%9C%EC%9D%B4%20%EC%9B%AC%EA%B7%B8%EB%A1%9C%EC%9A%B0)#Chap11-%EC%9E%AC%EA%B7%80%EC%A0%81%EC%9C%BC%EB%A1%9C-%EC%9E%91%EC%84%B1%ED%95%98%EB%8A%94-%EB%B2%95)"
   ]
  },
  {
   "cell_type": "code",
   "execution_count": 13,
   "id": "6ec987b6",
   "metadata": {
    "ExecuteTime": {
     "end_time": "2022-06-07T09:03:22.341706Z",
     "start_time": "2022-06-07T09:03:22.339306Z"
    }
   },
   "outputs": [],
   "source": [
    "# SOL 1) 재귀 함수를 이용한 풀이 (풀이는 맞는데 오버플로우 발생)\n",
    "\n",
    "def solution(n):\n",
    "    if (n == 1) or (n == 2):\n",
    "        return n\n",
    "    return (solution(n-1) + solution(n-2)) % 1234567"
   ]
  },
  {
   "cell_type": "code",
   "execution_count": 15,
   "id": "d532bb38",
   "metadata": {
    "ExecuteTime": {
     "end_time": "2022-06-07T09:03:34.057369Z",
     "start_time": "2022-06-07T09:03:34.054478Z"
    },
    "scrolled": false
   },
   "outputs": [
    {
     "name": "stdout",
     "output_type": "stream",
     "text": [
      "5\n",
      "3\n"
     ]
    }
   ],
   "source": [
    "print(solution(4)) # 5\n",
    "print(solution(3)) # 3\n",
    "print(solution(2000)) # 오버플로우 발생"
   ]
  },
  {
   "cell_type": "code",
   "execution_count": 36,
   "id": "67fa5149",
   "metadata": {
    "ExecuteTime": {
     "end_time": "2022-06-07T09:12:09.322802Z",
     "start_time": "2022-06-07T09:12:09.319965Z"
    }
   },
   "outputs": [],
   "source": [
    "# SOL 2) 점화식을 이용한 풀이\n",
    "\n",
    "def solution(n):\n",
    "    if n == 1:\n",
    "        return 1\n",
    "    else:\n",
    "        a, b = 1, 2\n",
    "        for _ in range(n-2):\n",
    "            a, b = b, a+b\n",
    "        return b % 1234567"
   ]
  },
  {
   "cell_type": "code",
   "execution_count": 37,
   "id": "f5c16cef",
   "metadata": {
    "ExecuteTime": {
     "end_time": "2022-06-07T09:12:10.098483Z",
     "start_time": "2022-06-07T09:12:10.095361Z"
    }
   },
   "outputs": [
    {
     "name": "stdout",
     "output_type": "stream",
     "text": [
      "1\n",
      "2\n",
      "3\n",
      "5\n",
      "694725\n"
     ]
    }
   ],
   "source": [
    "print(solution(1)) # 1\n",
    "print(solution(2)) # 2\n",
    "print(solution(3)) # 3\n",
    "print(solution(4)) # 5\n",
    "print(solution(2000)) # 694725"
   ]
  }
 ],
 "metadata": {
  "kernelspec": {
   "display_name": "Python 3 (ipykernel)",
   "language": "python",
   "name": "python3"
  },
  "language_info": {
   "codemirror_mode": {
    "name": "ipython",
    "version": 3
   },
   "file_extension": ".py",
   "mimetype": "text/x-python",
   "name": "python",
   "nbconvert_exporter": "python",
   "pygments_lexer": "ipython3",
   "version": "3.9.7"
  },
  "toc": {
   "base_numbering": 1,
   "nav_menu": {},
   "number_sections": true,
   "sideBar": true,
   "skip_h1_title": false,
   "title_cell": "Table of Contents",
   "title_sidebar": "Contents",
   "toc_cell": false,
   "toc_position": {},
   "toc_section_display": true,
   "toc_window_display": false
  }
 },
 "nbformat": 4,
 "nbformat_minor": 5
}
