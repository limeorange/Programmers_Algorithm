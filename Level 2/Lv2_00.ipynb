{
 "cells": [
  {
   "cell_type": "markdown",
   "id": "56b7e372",
   "metadata": {},
   "source": [
    "# \n",
    "- `유형` \n",
    "\n",
    "\n",
    "\n",
    "- `문제 설명` \n",
    "\n",
    "\n",
    "\n",
    "- `제한 조건`\n",
    "\n",
    "\n",
    "\n",
    "- `입력`\n",
    "    - ex1)\n",
    "    - ex2)\n",
    "\n",
    "\n",
    "- `출력`\n",
    "    - ex1)\n",
    "    - ex2)"
   ]
  },
  {
   "cell_type": "code",
   "execution_count": 103,
   "id": "8bfe42cc",
   "metadata": {
    "ExecuteTime": {
     "end_time": "2022-05-26T07:04:29.225346Z",
     "start_time": "2022-05-26T07:04:29.222535Z"
    }
   },
   "outputs": [],
   "source": [
    "# TRY 1) \n"
   ]
  },
  {
   "cell_type": "code",
   "execution_count": null,
   "id": "d532bb38",
   "metadata": {},
   "outputs": [],
   "source": [
    "print(solution())\n",
    "print(solution())\n",
    "print(solution())"
   ]
  }
 ],
 "metadata": {
  "kernelspec": {
   "display_name": "Python 3 (ipykernel)",
   "language": "python",
   "name": "python3"
  },
  "language_info": {
   "codemirror_mode": {
    "name": "ipython",
    "version": 3
   },
   "file_extension": ".py",
   "mimetype": "text/x-python",
   "name": "python",
   "nbconvert_exporter": "python",
   "pygments_lexer": "ipython3",
   "version": "3.9.7"
  },
  "toc": {
   "base_numbering": 1,
   "nav_menu": {},
   "number_sections": true,
   "sideBar": true,
   "skip_h1_title": false,
   "title_cell": "Table of Contents",
   "title_sidebar": "Contents",
   "toc_cell": false,
   "toc_position": {},
   "toc_section_display": true,
   "toc_window_display": false
  }
 },
 "nbformat": 4,
 "nbformat_minor": 5
}
