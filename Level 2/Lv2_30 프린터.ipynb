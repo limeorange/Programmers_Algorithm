{
 "cells": [
  {
   "cell_type": "markdown",
   "id": "56b7e372",
   "metadata": {},
   "source": [
    "# 프린터\n",
    "- `유형` 스택/큐\n",
    "\n",
    "\n",
    "- `문제 설명` \n",
    "\n",
    "일반적인 프린터는 인쇄 요청이 들어온 순서대로 인쇄합니다. 그렇기 때문에 중요한 문서가 나중에 인쇄될 수 있습니다. 이런 문제를 보완하기 위해 중요도가 높은 문서를 먼저 인쇄하는 프린터를 개발했습니다. 이 새롭게 개발한 프린터는 아래와 같은 방식으로 인쇄 작업을 수행합니다.\n",
    "\n",
    "> 1. 인쇄 대기목록의 가장 앞에 있는 문서(J)를 대기목록에서 꺼냅니다.\n",
    "> 2. 나머지 인쇄 대기목록에서 J보다 중요도가 높은 문서가 한 개라도 존재하면 J를 대기목록의 가장 마지막에 넣습니다.\n",
    "> 3. 그렇지 않으면 J를 인쇄합니다.\n",
    "\n",
    "예를 들어, 4개의 문서(A, B, C, D)가 순서대로 인쇄 대기목록에 있고 중요도가 2 1 3 2 라면 C D A B 순으로 인쇄하게 됩니다.\n",
    "\n",
    "내가 인쇄를 요청한 문서가 몇 번째로 인쇄되는지 알고 싶습니다. 위의 예에서 C는 1번째로, A는 3번째로 인쇄됩니다.\n",
    "\n",
    "현재 대기목록에 있는 문서의 중요도가 순서대로 담긴 배열 priorities와 내가 인쇄를 요청한 문서가 현재 대기목록의 어떤 위치에 있는지를 알려주는 location이 매개변수로 주어질 때, 내가 인쇄를 요청한 문서가 몇 번째로 인쇄되는지 return 하도록 solution 함수를 작성해주세요.\n",
    "\n",
    "\n",
    "- `제한 조건`\n",
    "    - 현재 대기목록에는 1개 이상 100개 이하의 문서가 있습니다.\n",
    "    - 인쇄 작업의 중요도는 1~9로 표현하며 숫자가 클수록 중요하다는 뜻입니다.\n",
    "    - location은 0 이상 (현재 대기목록에 있는 작업 수 - 1) 이하의 값을 가지며 대기목록의 가장 앞에 있으면 0, 두 번째에 있으면 1로 표현합니다.\n",
    "\n",
    "\n",
    "- `입력`\n",
    "    - ex1) [2, 1, 3, 2], 2\n",
    "    - ex2) [1, 1, 9, 1, 1, 1], 0\n",
    "\n",
    "\n",
    "- `출력`\n",
    "    - ex1) 1\n",
    "    - ex2) 5"
   ]
  },
  {
   "cell_type": "code",
   "execution_count": 37,
   "id": "61667e04",
   "metadata": {
    "ExecuteTime": {
     "end_time": "2022-06-07T07:41:10.029066Z",
     "start_time": "2022-06-07T07:41:10.025420Z"
    }
   },
   "outputs": [],
   "source": [
    "# SOL 1) stack 이용\n",
    "\n",
    "def solution(priorities, location):\n",
    "    p_lst = list(zip(range(len(priorities)), priorities))\n",
    "    order = []\n",
    "\n",
    "    while p_lst:\n",
    "        if p_lst[0][1] == max(priorities):\n",
    "            order.append(p_lst.pop(0))\n",
    "            priorities.remove(max(priorities))\n",
    "        else:\n",
    "            p_lst.append(p_lst.pop(0))\n",
    "\n",
    "    return [i[0] for i in order].index(location)+1"
   ]
  },
  {
   "cell_type": "code",
   "execution_count": 38,
   "id": "9b568187",
   "metadata": {
    "ExecuteTime": {
     "end_time": "2022-06-07T07:41:14.653698Z",
     "start_time": "2022-06-07T07:41:14.650899Z"
    }
   },
   "outputs": [
    {
     "name": "stdout",
     "output_type": "stream",
     "text": [
      "1\n",
      "5\n"
     ]
    }
   ],
   "source": [
    "print(solution([2, 1, 3, 2], 2)) # 1\n",
    "print(solution([1, 1, 9, 1, 1, 1], 0)) # 5"
   ]
  },
  {
   "cell_type": "code",
   "execution_count": 35,
   "id": "dae7bf26",
   "metadata": {
    "ExecuteTime": {
     "end_time": "2022-06-07T07:39:26.529145Z",
     "start_time": "2022-06-07T07:39:26.525387Z"
    }
   },
   "outputs": [],
   "source": [
    "# SOL 2) deque 이용\n",
    "\n",
    "from collections import deque\n",
    "\n",
    "def solution(priorities, location):\n",
    "    p_lst = deque(zip(range(len(priorities)), priorities))\n",
    "    order = []\n",
    "\n",
    "    while p_lst:\n",
    "        if p_lst[0][1] == max(priorities):\n",
    "            order.append(p_lst.popleft())\n",
    "            priorities.remove(max(priorities))\n",
    "        else:\n",
    "            p_lst.append(p_lst.popleft())\n",
    "\n",
    "    return [i[0] for i in order].index(location)+1"
   ]
  },
  {
   "cell_type": "code",
   "execution_count": 36,
   "id": "d532bb38",
   "metadata": {
    "ExecuteTime": {
     "end_time": "2022-06-07T07:39:27.176809Z",
     "start_time": "2022-06-07T07:39:27.174175Z"
    }
   },
   "outputs": [
    {
     "name": "stdout",
     "output_type": "stream",
     "text": [
      "1\n",
      "5\n"
     ]
    }
   ],
   "source": [
    "print(solution([2, 1, 3, 2], 2)) # 1\n",
    "print(solution([1, 1, 9, 1, 1, 1], 0)) # 5"
   ]
  }
 ],
 "metadata": {
  "kernelspec": {
   "display_name": "Python 3 (ipykernel)",
   "language": "python",
   "name": "python3"
  },
  "language_info": {
   "codemirror_mode": {
    "name": "ipython",
    "version": 3
   },
   "file_extension": ".py",
   "mimetype": "text/x-python",
   "name": "python",
   "nbconvert_exporter": "python",
   "pygments_lexer": "ipython3",
   "version": "3.9.7"
  },
  "toc": {
   "base_numbering": 1,
   "nav_menu": {},
   "number_sections": true,
   "sideBar": true,
   "skip_h1_title": false,
   "title_cell": "Table of Contents",
   "title_sidebar": "Contents",
   "toc_cell": false,
   "toc_position": {},
   "toc_section_display": true,
   "toc_window_display": false
  }
 },
 "nbformat": 4,
 "nbformat_minor": 5
}
