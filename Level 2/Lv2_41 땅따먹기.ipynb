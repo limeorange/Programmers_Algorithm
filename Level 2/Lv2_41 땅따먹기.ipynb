{
 "cells": [
  {
   "cell_type": "markdown",
   "id": "56b7e372",
   "metadata": {},
   "source": [
    "# 땅따먹기\n",
    "- `유형` 연습문제\n",
    "\n",
    "\n",
    "- `문제 설명`\n",
    "\n",
    "\n",
    "땅따먹기 게임을 하려고 합니다. 땅따먹기 게임의 땅(land)은 총 N행 4열로 이루어져 있고, 모든 칸에는 점수가 쓰여 있습니다. 1행부터 땅을 밟으며 한 행씩 내려올 때, 각 행의 4칸 중 한 칸만 밟으면서 내려와야 합니다. 단, 땅따먹기 게임에는 한 행씩 내려올 때, 같은 열을 연속해서 밟을 수 없는 특수 규칙이 있습니다.\n",
    "\n",
    "예를 들면,\n",
    "\n",
    "| 1 | 2 | 3 | 5 |\n",
    "\n",
    "| 5 | 6 | 7 | 8 |\n",
    "\n",
    "| 4 | 3 | 2 | 1 |\n",
    "\n",
    "로 땅이 주어졌다면, 1행에서 네번째 칸 (5)를 밟았으면, 2행의 네번째 칸 (8)은 밟을 수 없습니다.\n",
    "\n",
    "마지막 행까지 모두 내려왔을 때, 얻을 수 있는 점수의 최대값을 return하는 solution 함수를 완성해 주세요. 위 예의 경우, 1행의 네번째 칸 (5), 2행의 세번째 칸 (7), 3행의 첫번째 칸 (4) 땅을 밟아 16점이 최고점이 되므로 16을 return 하면 됩니다.\n",
    "\n",
    "\n",
    "- `제한 조건`\n",
    "    - 행의 개수 N : 100,000 이하의 자연수\n",
    "    - 열의 개수는 4개이고, 땅(land)은 2차원 배열로 주어집니다.\n",
    "    - 점수 : 100 이하의 자연수\n",
    "\n",
    "\n",
    "- `입력`\n",
    "    - ex1) [[1,2,3,5],[5,6,7,8],[4,3,2,1]]\n",
    "\n",
    "\n",
    "- `출력`\n",
    "    - ex1) 16\n",
    "    \n",
    "    \n",
    "- `참고`\n",
    "    - [알고리즘 - Dynamic Programming(동적 계획법)](https://hongjw1938.tistory.com/47)\n",
    "    - [[프로그래머스] Level2, 땅따먹기 (Python)](https://wookcode.tistory.com/109)"
   ]
  },
  {
   "cell_type": "code",
   "execution_count": 10,
   "id": "e768a62d",
   "metadata": {
    "ExecuteTime": {
     "end_time": "2022-06-27T07:41:31.993472Z",
     "start_time": "2022-06-27T07:41:31.989587Z"
    }
   },
   "outputs": [],
   "source": [
    "# SOL 1) 중간 과정을 직관적으로 명시한 풀이\n",
    "# 1번째 row, 0번째 col부터 순회하면서 현재 값과 같은 열에 위치한 이전 row값을 제외하고 \n",
    "# 최댓값을 골라서 현재 위치값에 더해서 갱신 -> 현재 위치에서 가능한 최적의 상태(= 합했을 때의 최댓값)를 저장해놓은 것임\n",
    "\n",
    "def solution(land):\n",
    "    for i in range(1, len(land)):\n",
    "        land[i][0] += max(land[i-1][1], land[i-1][2], land[i-1][3])\n",
    "        land[i][1] += max(land[i-1][0], land[i-1][2], land[i-1][3])\n",
    "        land[i][2] += max(land[i-1][0], land[i-1][1], land[i-1][3])\n",
    "        land[i][3] += max(land[i-1][0], land[i-1][1], land[i-1][2])        \n",
    "    return max(land[-1])"
   ]
  },
  {
   "cell_type": "code",
   "execution_count": 7,
   "id": "0390e13d",
   "metadata": {
    "ExecuteTime": {
     "end_time": "2022-06-27T07:37:21.033255Z",
     "start_time": "2022-06-27T07:37:21.030283Z"
    }
   },
   "outputs": [],
   "source": [
    "# SOL 2) for문을 통해 중간 과정을 자동화한 풀이\n",
    "\n",
    "def solution(land):\n",
    "    for i in range(1, len(land)):\n",
    "        for j in range(4):\n",
    "            land[i][j] += max(land[i-1][:j] + land[i-1][j+1:])\n",
    "    return max(land[-1])"
   ]
  },
  {
   "cell_type": "code",
   "execution_count": 11,
   "id": "60321602",
   "metadata": {
    "ExecuteTime": {
     "end_time": "2022-06-27T07:41:33.108322Z",
     "start_time": "2022-06-27T07:41:33.105019Z"
    }
   },
   "outputs": [
    {
     "name": "stdout",
     "output_type": "stream",
     "text": [
      "16\n",
      "30\n"
     ]
    }
   ],
   "source": [
    "print(solution([[1,2,3,5],[5,6,7,8],[4,3,2,1]]))\n",
    "print(solution([[1,2,3,5],[5,6,7,8],[9,2,4,3],[2,9,7,1]]))"
   ]
  }
 ],
 "metadata": {
  "kernelspec": {
   "display_name": "Python 3 (ipykernel)",
   "language": "python",
   "name": "python3"
  },
  "language_info": {
   "codemirror_mode": {
    "name": "ipython",
    "version": 3
   },
   "file_extension": ".py",
   "mimetype": "text/x-python",
   "name": "python",
   "nbconvert_exporter": "python",
   "pygments_lexer": "ipython3",
   "version": "3.9.7"
  },
  "toc": {
   "base_numbering": 1,
   "nav_menu": {},
   "number_sections": true,
   "sideBar": true,
   "skip_h1_title": false,
   "title_cell": "Table of Contents",
   "title_sidebar": "Contents",
   "toc_cell": false,
   "toc_position": {},
   "toc_section_display": true,
   "toc_window_display": false
  }
 },
 "nbformat": 4,
 "nbformat_minor": 5
}
