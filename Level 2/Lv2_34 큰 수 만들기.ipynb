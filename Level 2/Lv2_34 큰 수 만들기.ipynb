{
 "cells": [
  {
   "cell_type": "markdown",
   "id": "56b7e372",
   "metadata": {},
   "source": [
    "# 큰 수 만들기\n",
    "- `유형` 탐욕법(Greedy)\n",
    "\n",
    "\n",
    "- `문제 설명` 어떤 숫자에서 k개의 수를 제거했을 때 얻을 수 있는 가장 큰 숫자를 구하려 합니다. 예를 들어, 숫자 1924에서 수 두 개를 제거하면 [19, 12, 14, 92, 94, 24] 를 만들 수 있습니다. 이 중 가장 큰 숫자는 94 입니다. 문자열 형식으로 숫자 number와 제거할 수의 개수 k가 solution 함수의 매개변수로 주어집니다. number에서 k개의 수를 제거했을 때 만들 수 있는 수 중 가장 큰 숫자를 문자열 형태로 return 하도록 solution 함수를 완성하세요.\n",
    "\n",
    "\n",
    "- `제한 조건`\n",
    "    - number는 2자리 이상, 1,000,000자리 이하인 숫자입니다.\n",
    "    - k는 1 이상 number의 자릿수 미만인 자연수입니다.\n",
    "\n",
    "\n",
    "- `입력`\n",
    "    - ex1) \"1924\", 2\n",
    "    - ex2) \"1231234\", 3\n",
    "    - ex3) \"4177252841\", 4\n",
    "\n",
    "\n",
    "- `출력`\n",
    "    - ex1) \"94\"\n",
    "    - ex2) \"3234\"\n",
    "    - ex3) \"775841\""
   ]
  },
  {
   "cell_type": "markdown",
   "id": "98511e28",
   "metadata": {},
   "source": [
    "# TRY"
   ]
  },
  {
   "cell_type": "markdown",
   "id": "844fcc91",
   "metadata": {},
   "source": [
    "## TRY 1"
   ]
  },
  {
   "cell_type": "code",
   "execution_count": 90,
   "id": "8bfe42cc",
   "metadata": {
    "ExecuteTime": {
     "end_time": "2022-06-09T06:53:12.713892Z",
     "start_time": "2022-06-09T06:53:12.710870Z"
    }
   },
   "outputs": [],
   "source": [
    "# TRY 1) 3 ~ 10 시간 초과\n",
    "\n",
    "from itertools import combinations\n",
    "\n",
    "def solution(number, k):\n",
    "    number = list(number)\n",
    "    order = list(combinations(range(len(number)), len(number)-k))\n",
    "    nums = []\n",
    "    for i in order:\n",
    "        nums.append(''.join([number[j] for j in i]))\n",
    "    return max(nums)"
   ]
  },
  {
   "cell_type": "code",
   "execution_count": 91,
   "id": "e2895cae",
   "metadata": {
    "ExecuteTime": {
     "end_time": "2022-06-09T06:53:13.401024Z",
     "start_time": "2022-06-09T06:53:13.397058Z"
    }
   },
   "outputs": [
    {
     "name": "stdout",
     "output_type": "stream",
     "text": [
      "94\n",
      "3234\n",
      "775841\n",
      "999\n",
      "4567\n",
      "119\n"
     ]
    }
   ],
   "source": [
    "print(solution(\"1924\", 2)) # 94\n",
    "print(solution(\"1231234\", 3)) # 3234\n",
    "print(solution(\"4177252841\", 4)) # 775841\n",
    "print(solution('99999999', 5)) # 999\n",
    "print(solution('1234567', 3)) # 4567\n",
    "print(solution('111119', 3)) # 119"
   ]
  },
  {
   "cell_type": "markdown",
   "id": "edae3fcb",
   "metadata": {},
   "source": [
    "## TRY 2"
   ]
  },
  {
   "cell_type": "code",
   "execution_count": 93,
   "id": "6f6ee9c9",
   "metadata": {
    "ExecuteTime": {
     "end_time": "2022-06-09T06:53:30.280022Z",
     "start_time": "2022-06-09T06:53:30.276794Z"
    }
   },
   "outputs": [],
   "source": [
    "# TRY 2) 3 ~ 10 시간 초과\n",
    "\n",
    "from itertools import combinations\n",
    "\n",
    "def solution(number, k):\n",
    "    result = '0'\n",
    "    for i in combinations(range(len(number)), len(number)-k):\n",
    "        temp = ''.join([number[j] for j in i])\n",
    "        if result < temp:\n",
    "            result = temp\n",
    "    return result"
   ]
  },
  {
   "cell_type": "code",
   "execution_count": 94,
   "id": "2c2de3ff",
   "metadata": {
    "ExecuteTime": {
     "end_time": "2022-06-09T06:53:30.284690Z",
     "start_time": "2022-06-09T06:53:30.281541Z"
    },
    "scrolled": true
   },
   "outputs": [
    {
     "name": "stdout",
     "output_type": "stream",
     "text": [
      "94\n",
      "3234\n",
      "775841\n",
      "999\n",
      "4567\n",
      "119\n"
     ]
    }
   ],
   "source": [
    "print(solution(\"1924\", 2)) # 94\n",
    "print(solution(\"1231234\", 3)) # 3234\n",
    "print(solution(\"4177252841\", 4)) # 775841\n",
    "print(solution('99999999', 5)) # 999\n",
    "print(solution('1234567', 3)) # 4567\n",
    "print(solution('111119', 3)) # 119"
   ]
  },
  {
   "cell_type": "markdown",
   "id": "d582fecf",
   "metadata": {},
   "source": [
    "## TRY 3"
   ]
  },
  {
   "cell_type": "code",
   "execution_count": 98,
   "id": "8fbaad5a",
   "metadata": {
    "ExecuteTime": {
     "end_time": "2022-06-09T07:25:51.786191Z",
     "start_time": "2022-06-09T07:25:51.782208Z"
    }
   },
   "outputs": [],
   "source": [
    "# TRY 3) 테스트 케이스가 더 필요함..\n",
    "\n",
    "def solution(num, k):\n",
    "    len_result = len(num)-k\n",
    "    num = list(num)\n",
    "    mx_idx = num.index(max(num))\n",
    "    result = ''\n",
    "    while len(result) != len_result:\n",
    "        \n",
    "        # max(num)을 선택하면 이후에 수를 다 뽑지 못하는 경우 \n",
    "        if len(num[mx_idx:]) < (len_result - len(result)): \n",
    "            mx_idx = num.index(max(num[:mx_idx]))\n",
    "        \n",
    "        # max(num)을 선택해도 수를 뽑는 진행이 가능한 경우\n",
    "        elif len(num[mx_idx:]) > (len_result - len(result)):\n",
    "            result += num.pop(mx_idx)\n",
    "            mx_idx = num.index(max(num[mx_idx:])) \n",
    "            \n",
    "        # max(num)의 뒤에 나오는 수를 모두 뽑아야 하는 경우\n",
    "        if len(num[mx_idx:]) == (len_result - len(result)):\n",
    "            result += ''.join(num[mx_idx:])\n",
    "            num = num[mx_idx:]\n",
    "            \n",
    "    return result"
   ]
  },
  {
   "cell_type": "code",
   "execution_count": 99,
   "id": "3a2816e9",
   "metadata": {
    "ExecuteTime": {
     "end_time": "2022-06-09T07:25:51.791563Z",
     "start_time": "2022-06-09T07:25:51.788205Z"
    },
    "scrolled": true
   },
   "outputs": [
    {
     "name": "stdout",
     "output_type": "stream",
     "text": [
      "94\n",
      "3234\n",
      "775841\n",
      "999\n",
      "4567\n",
      "119\n"
     ]
    }
   ],
   "source": [
    "print(solution(\"1924\", 2)) # 94\n",
    "print(solution(\"1231234\", 3)) # 3234\n",
    "print(solution(\"4177252841\", 4)) # 775841\n",
    "print(solution('99999999', 5)) # 999\n",
    "print(solution('1234567', 3)) # 4567\n",
    "print(solution('111119', 3)) # 119"
   ]
  },
  {
   "cell_type": "markdown",
   "id": "31e38e19",
   "metadata": {},
   "source": [
    "# SOL"
   ]
  },
  {
   "cell_type": "code",
   "execution_count": 110,
   "id": "3baee694",
   "metadata": {
    "ExecuteTime": {
     "end_time": "2022-06-09T08:03:01.258759Z",
     "start_time": "2022-06-09T08:03:01.255946Z"
    }
   },
   "outputs": [],
   "source": [
    "# SOL 1)\n",
    "\n",
    "def solution(number, k):\n",
    "    answer = []\n",
    "    \n",
    "    for num in number:\n",
    "        while k > 0 and answer and answer[-1] < num:\n",
    "            answer.pop()\n",
    "            k -= 1\n",
    "        answer.append(num)\n",
    "    return ''.join(answer[:len(number)-k])"
   ]
  },
  {
   "cell_type": "code",
   "execution_count": 111,
   "id": "0889739c",
   "metadata": {
    "ExecuteTime": {
     "end_time": "2022-06-09T08:03:01.955218Z",
     "start_time": "2022-06-09T08:03:01.951863Z"
    }
   },
   "outputs": [
    {
     "name": "stdout",
     "output_type": "stream",
     "text": [
      "94\n",
      "3234\n",
      "775841\n",
      "999\n",
      "4567\n",
      "119\n"
     ]
    }
   ],
   "source": [
    "print(solution(\"1924\", 2)) # 94\n",
    "print(solution(\"1231234\", 3)) # 3234\n",
    "print(solution(\"4177252841\", 4)) # 775841\n",
    "print(solution('99999999', 5)) # 999\n",
    "print(solution('1234567', 3)) # 4567\n",
    "print(solution('111119', 3)) # 119"
   ]
  }
 ],
 "metadata": {
  "kernelspec": {
   "display_name": "Python 3 (ipykernel)",
   "language": "python",
   "name": "python3"
  },
  "language_info": {
   "codemirror_mode": {
    "name": "ipython",
    "version": 3
   },
   "file_extension": ".py",
   "mimetype": "text/x-python",
   "name": "python",
   "nbconvert_exporter": "python",
   "pygments_lexer": "ipython3",
   "version": "3.9.7"
  },
  "toc": {
   "base_numbering": 1,
   "nav_menu": {},
   "number_sections": true,
   "sideBar": true,
   "skip_h1_title": false,
   "title_cell": "Table of Contents",
   "title_sidebar": "Contents",
   "toc_cell": false,
   "toc_position": {},
   "toc_section_display": true,
   "toc_window_display": false
  }
 },
 "nbformat": 4,
 "nbformat_minor": 5
}
