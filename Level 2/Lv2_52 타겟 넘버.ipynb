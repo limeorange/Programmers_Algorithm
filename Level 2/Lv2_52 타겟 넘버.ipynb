{
 "cells": [
  {
   "cell_type": "markdown",
   "metadata": {},
   "source": [
    "## [타겟 넘버](https://school.programmers.co.kr/learn/courses/30/lessons/43165)\n",
    "### 🔥 풀이"
   ]
  },
  {
   "cell_type": "code",
   "execution_count": 11,
   "metadata": {},
   "outputs": [],
   "source": [
    "# 241011 금 PM 7:34\n",
    "\n",
    "'''\n",
    "1. 아이디어\n",
    "- signs => 부호 조합 리스트 생성\n",
    "    - [0(+), 1(-)]에 대해 len(numbers)길이의 중복순열 \n",
    "- signs 순회하면서 부호 케이스마다 연산 진행\n",
    "- 연산 결과가 target과 같으면 cnt += 1\n",
    "'''\n",
    "\n",
    "from itertools import product\n",
    "\n",
    "def solution(numbers, target):\n",
    "    # 부호 조합 리스트\n",
    "    signs = list(product([0, 1], repeat = len(numbers)))\n",
    "    cnt = 0\n",
    "    for sign in signs:\n",
    "        temp = 0\n",
    "        # 각 부호 조합에 대한 연산 진행\n",
    "        for i, s in enumerate(sign):\n",
    "            if s == 0:\n",
    "                temp += numbers[i]\n",
    "            else:\n",
    "                temp -= numbers[i]\n",
    "        # 연산 결과가 target과 같은 경우 cnt 추가\n",
    "        if temp == target:\n",
    "            cnt += 1\n",
    "    return cnt"
   ]
  }
 ],
 "metadata": {
  "kernelspec": {
   "display_name": "Python 3 (ipykernel)",
   "language": "python",
   "name": "python3"
  },
  "language_info": {
   "codemirror_mode": {
    "name": "ipython",
    "version": 3
   },
   "file_extension": ".py",
   "mimetype": "text/x-python",
   "name": "python",
   "nbconvert_exporter": "python",
   "pygments_lexer": "ipython3",
   "version": "3.12.6"
  }
 },
 "nbformat": 4,
 "nbformat_minor": 2
}
