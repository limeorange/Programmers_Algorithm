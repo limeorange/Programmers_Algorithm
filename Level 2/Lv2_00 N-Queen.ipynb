{
 "cells": [
  {
   "attachments": {
    "image-2.png": {
     "image/png": "[encoded data removed]"
    },
    "image.png": {
     "image/png": "[encoded data removed]"
    }
   },
   "cell_type": "markdown",
   "id": "56b7e372",
   "metadata": {},
   "source": [
    "# N-Queen\n",
    "- `유형` 연습문제\n",
    "\n",
    "\n",
    "- `문제 설명`\n",
    "\n",
    "\n",
    "가로, 세로 길이가 n인 정사각형으로된 체스판이 있습니다. 체스판 위의 n개의 퀸이 서로를 공격할 수 없도록 배치하고 싶습니다.\n",
    "\n",
    "예를 들어서 n이 4인경우 다음과 같이 퀸을 배치하면 n개의 퀸은 서로를 한번에 공격 할 수 없습니다.\n",
    "\n",
    "![image.png](attachment:image.png)\n",
    "\n",
    "![image-2.png](attachment:image-2.png)\n",
    "\n",
    "체스판의 가로 세로의 세로의 길이 n이 매개변수로 주어질 때, n개의 퀸이 조건에 만족 하도록 배치할 수 있는 방법의 수를 return하는 solution함수를 완성해주세요.\n",
    "\n",
    "\n",
    "- `제한 조건`\n",
    "    - 퀸(Queen)은 가로, 세로, 대각선으로 이동할 수 있습니다.\n",
    "    - n은 12이하의 자연수 입니다.\n",
    "    \n",
    "\n",
    "- `입력`\n",
    "    - ex1) 4\n",
    "\n",
    "\n",
    "- `출력`\n",
    "    - ex1) 2\n",
    "    \n",
    "- `참고`\n",
    "    - [[백준] 9663번 N-Queen - 파이썬(Python)](https://seongonion.tistory.com/103)\n",
    "    - [[프로그래머스 LV3] N-Queen](https://velog.io/@j_aion/%ED%94%84%EB%A1%9C%EA%B7%B8%EB%9E%98%EB%A8%B8%EC%8A%A4-LV3-N-Queen)\n",
    "    - [[3주차 - Searching] N-Queen (좌표 이용을 시도한 풀이)](https://camel-it.tistory.com/123)"
   ]
  },
  {
   "cell_type": "code",
   "execution_count": 70,
   "id": "5c003baa",
   "metadata": {
    "ExecuteTime": {
     "end_time": "2022-06-10T07:44:21.998055Z",
     "start_time": "2022-06-10T07:44:20.147442Z"
    }
   },
   "outputs": [
    {
     "name": "stdout",
     "output_type": "stream",
     "text": [
      "2\n",
      "10\n",
      "4\n",
      "40\n",
      "92\n",
      "352\n",
      "724\n",
      "2680\n",
      "14200\n"
     ]
    }
   ],
   "source": [
    "def solution(n):\n",
    "    global answer\n",
    "    answer = 0\n",
    "    col = [True] * n\n",
    "    diagonal1 = [True] * (2 * n - 1)\n",
    "    diagonal2 = [True] * (2 * n - 1)\n",
    "\n",
    "    def check_queen(x, y):\n",
    "        return col[y] and diagonal1[x + y] and diagonal2[x - y + n - 1]\n",
    "\n",
    "    def dfs(x):\n",
    "        global answer\n",
    "        if x == n:\n",
    "            answer += 1\n",
    "        else:\n",
    "            for idx in range(n):\n",
    "                if check_queen(x, idx):\n",
    "                    col[idx] = False\n",
    "                    diagonal1[x + idx] = False\n",
    "                    diagonal2[x - idx + n - 1] = False\n",
    "                    dfs(x + 1)\n",
    "                    col[idx] = True\n",
    "                    diagonal1[x + idx] = True\n",
    "                    diagonal2[x - idx + n - 1] = True\n",
    "\n",
    "    dfs(0)\n",
    "    return answer\n",
    "\n",
    "print(solution(4))\n",
    "print(solution(5))\n",
    "print(solution(6))\n",
    "print(solution(7))\n",
    "print(solution(8))\n",
    "print(solution(9))\n",
    "print(solution(10))\n",
    "print(solution(11))\n",
    "print(solution(12))"
   ]
  },
  {
   "cell_type": "code",
   "execution_count": 122,
   "id": "0fc8a03e",
   "metadata": {
    "ExecuteTime": {
     "end_time": "2022-06-10T09:35:50.090535Z",
     "start_time": "2022-06-10T09:35:50.084778Z"
    }
   },
   "outputs": [
    {
     "data": {
      "text/plain": [
       "[[1, 3],\n",
       " [1, 4],\n",
       " [1, 5],\n",
       " [2, 0],\n",
       " [2, 2],\n",
       " [2, 4],\n",
       " [2, 5],\n",
       " [3, 0],\n",
       " [3, 2],\n",
       " [3, 3],\n",
       " [3, 5],\n",
       " [4, 0],\n",
       " [4, 2],\n",
       " [4, 3],\n",
       " [4, 4],\n",
       " [5, 0],\n",
       " [5, 2],\n",
       " [5, 3],\n",
       " [5, 4],\n",
       " [5, 5]]"
      ]
     },
     "execution_count": 122,
     "metadata": {},
     "output_type": "execute_result"
    }
   ],
   "source": [
    "n = 6\n",
    "lst = [[x, y] for x in range(n) for y in range(n)]\n",
    "\n",
    "def possible(x1, y1, lst):\n",
    "    \n",
    "    for i in range(len(lst)):\n",
    "        x2, y2 = lst[i][0], lst[i][1]\n",
    "        \n",
    "        # 대각선에 위치한 원소 제거\n",
    "        if abs(x1-x2) == abs(y1-y2):\n",
    "            lst[i] = 0\n",
    " \n",
    "        # 상하좌우에 위치한 원소 제거\n",
    "        if (x1 == x2) or (y1 == y2):\n",
    "            lst[i] = 0\n",
    "    \n",
    "    while 0 in lst:\n",
    "        lst.remove(0)\n",
    "    \n",
    "    return lst\n",
    "\n",
    "a = possible(0, 1, lst)\n",
    "a\n",
    "# b = possible(1, 3, a)\n",
    "\n",
    "# c = possible(2, 0, b)\n",
    "# c"
   ]
  },
  {
   "cell_type": "code",
   "execution_count": 116,
   "id": "fd658289",
   "metadata": {
    "ExecuteTime": {
     "end_time": "2022-06-10T09:04:32.183366Z",
     "start_time": "2022-06-10T09:04:32.180518Z"
    }
   },
   "outputs": [
    {
     "name": "stdout",
     "output_type": "stream",
     "text": [
      "[[1, 3]]\n",
      "[[2, 0], [2, 2]]\n",
      "[[3, 0], [3, 2], [3, 3]]\n"
     ]
    }
   ],
   "source": [
    "# cols = [1, 2, 3, 4, 5]\n",
    "lst = possible(0, 1, 4)\n",
    "for j in range(1, 4):\n",
    "    temp = [i for i in lst if i[0]==j]\n",
    "    print(temp)\n",
    "    \n",
    "#     y = a[i][1]\n",
    "#     if y in cols:\n",
    "#         cols.remove(y)\n",
    "#     else:\n"
   ]
  },
  {
   "cell_type": "code",
   "execution_count": null,
   "id": "41fdec8a",
   "metadata": {},
   "outputs": [],
   "source": []
  },
  {
   "cell_type": "code",
   "execution_count": null,
   "id": "58f6fb3b",
   "metadata": {},
   "outputs": [],
   "source": []
  },
  {
   "cell_type": "code",
   "execution_count": null,
   "id": "80291497",
   "metadata": {},
   "outputs": [],
   "source": []
  },
  {
   "cell_type": "code",
   "execution_count": 117,
   "id": "57942bb2",
   "metadata": {
    "ExecuteTime": {
     "end_time": "2022-06-10T09:15:03.713887Z",
     "start_time": "2022-06-10T09:15:03.119913Z"
    },
    "scrolled": false
   },
   "outputs": [
    {
     "name": "stdout",
     "output_type": "stream",
     "text": [
      "4\n",
      "x = 0\n",
      "[0, 0, 0, 0] / (0, 0) -> p\n",
      "x = 1\n",
      "[0, 0, 0, 0] / ((1, 0), (0, 0)) -> not p\n",
      "[0, 1, 0, 0] / ((1, 1), (0, 0)) -> not p\n",
      "[0, 2, 0, 0] / (1, 2) -> p\n",
      "x = 2\n",
      "[0, 2, 0, 0] / ((2, 0), (0, 0)) -> not p\n",
      "[0, 2, 1, 0] / ((2, 1), (1, 2)) -> not p\n",
      "[0, 2, 2, 0] / ((2, 2), (0, 0)) -> not p\n",
      "[0, 2, 3, 0] / ((2, 3), (1, 2)) -> not p\n",
      "[0, 3, 3, 0] / (1, 3) -> p\n",
      "x = 2\n",
      "[0, 3, 0, 0] / ((2, 0), (0, 0)) -> not p\n",
      "[0, 3, 1, 0] / (2, 1) -> p\n",
      "x = 3\n",
      "[0, 3, 1, 0] / ((3, 0), (0, 0)) -> not p\n",
      "[0, 3, 1, 1] / ((3, 1), (1, 3)) -> not p\n",
      "[0, 3, 1, 2] / ((3, 2), (2, 1)) -> not p\n",
      "[0, 3, 1, 3] / ((3, 3), (0, 0)) -> not p\n",
      "[0, 3, 2, 3] / ((2, 2), (0, 0)) -> not p\n",
      "[0, 3, 3, 3] / ((2, 3), (1, 3)) -> not p\n",
      "[1, 3, 3, 3] / (0, 1) -> p\n",
      "x = 1\n",
      "[1, 0, 3, 3] / ((1, 0), (0, 1)) -> not p\n",
      "[1, 1, 3, 3] / ((1, 1), (0, 1)) -> not p\n",
      "[1, 2, 3, 3] / ((1, 2), (0, 1)) -> not p\n",
      "[1, 3, 3, 3] / (1, 3) -> p\n",
      "x = 2\n",
      "[1, 3, 0, 3] / (2, 0) -> p\n",
      "x = 3\n",
      "[1, 3, 0, 0] / ((3, 0), (2, 0)) -> not p\n",
      "[1, 3, 0, 1] / ((3, 1), (0, 1)) -> not p\n",
      "[1, 3, 0, 2] / (3, 2) -> p\n",
      "x = 4\n",
      "---------- ans = 1\n",
      "[1, 3, 0, 3] / ((3, 3), (1, 3)) -> not p\n",
      "[1, 3, 1, 3] / ((2, 1), (0, 1)) -> not p\n",
      "[1, 3, 2, 3] / ((2, 2), (1, 3)) -> not p\n",
      "[1, 3, 3, 3] / ((2, 3), (0, 1)) -> not p\n",
      "[2, 3, 3, 3] / (0, 2) -> p\n",
      "x = 1\n",
      "[2, 0, 3, 3] / (1, 0) -> p\n",
      "x = 2\n",
      "[2, 0, 0, 3] / ((2, 0), (0, 2)) -> not p\n",
      "[2, 0, 1, 3] / ((2, 1), (1, 0)) -> not p\n",
      "[2, 0, 2, 3] / ((2, 2), (0, 2)) -> not p\n",
      "[2, 0, 3, 3] / (2, 3) -> p\n",
      "x = 3\n",
      "[2, 0, 3, 0] / ((3, 0), (1, 0)) -> not p\n",
      "[2, 0, 3, 1] / (3, 1) -> p\n",
      "x = 4\n",
      "---------- ans = 2\n",
      "[2, 0, 3, 2] / ((3, 2), (0, 2)) -> not p\n",
      "[2, 0, 3, 3] / ((3, 3), (2, 3)) -> not p\n",
      "[2, 1, 3, 3] / ((1, 1), (0, 2)) -> not p\n",
      "[2, 2, 3, 3] / ((1, 2), (0, 2)) -> not p\n",
      "[2, 3, 3, 3] / ((1, 3), (0, 2)) -> not p\n",
      "[3, 3, 3, 3] / (0, 3) -> p\n",
      "x = 1\n",
      "[3, 0, 3, 3] / (1, 0) -> p\n",
      "x = 2\n",
      "[3, 0, 0, 3] / ((2, 0), (1, 0)) -> not p\n",
      "[3, 0, 1, 3] / ((2, 1), (0, 3)) -> not p\n",
      "[3, 0, 2, 3] / (2, 2) -> p\n",
      "x = 3\n",
      "[3, 0, 2, 0] / ((3, 0), (0, 3)) -> not p\n",
      "[3, 0, 2, 1] / ((3, 1), (2, 2)) -> not p\n",
      "[3, 0, 2, 2] / ((3, 2), (1, 0)) -> not p\n",
      "[3, 0, 2, 3] / ((3, 3), (0, 3)) -> not p\n",
      "[3, 0, 3, 3] / ((2, 3), (0, 3)) -> not p\n",
      "[3, 1, 3, 3] / (1, 1) -> p\n",
      "x = 2\n",
      "[3, 1, 0, 3] / ((2, 0), (1, 1)) -> not p\n",
      "[3, 1, 1, 3] / ((2, 1), (0, 3)) -> not p\n",
      "[3, 1, 2, 3] / ((2, 2), (1, 1)) -> not p\n",
      "[3, 1, 3, 3] / ((2, 3), (0, 3)) -> not p\n",
      "[3, 2, 3, 3] / ((1, 2), (0, 3)) -> not p\n",
      "[3, 3, 3, 3] / ((1, 3), (0, 3)) -> not p\n",
      "2\n"
     ]
    }
   ],
   "source": [
    "n = int(input())\n",
    "\n",
    "ans = 0\n",
    "row = [0] * n\n",
    "\n",
    "def is_promising(x): # x -> 행\n",
    "    for i in range(x): # x까지의 행에 대해서..\n",
    "        if row[x] == row[i] or abs(row[x] - row[i]) == abs(x - i):\n",
    "            print(f'{row} / ({(x, row[x])}, {(i, row[i])}) -> not p')\n",
    "            return False\n",
    "    return True\n",
    "\n",
    "def n_queens(x):\n",
    "    print(f'x = {x}')\n",
    "    global ans\n",
    "    if x == n: # n = 4 \n",
    "        ans += 1\n",
    "        print(f'---------- ans = {ans}')\n",
    "        return\n",
    "    else:\n",
    "        for i in range(n): # 0, 1, 2, 3\n",
    "            row[x] = i # [x, i]에 퀸을 놓겠다! (x행, 0~3열) -> 0~3열 사이에서 유망하다고 판단하면 그 뒤의 열은 고려하지 않음\n",
    "            if is_promising(x):\n",
    "                print(f'{row} / ({x}, {i}) -> p')\n",
    "                n_queens(x+1)\n",
    "                \n",
    "n_queens(0)\n",
    "print(ans)"
   ]
  },
  {
   "cell_type": "code",
   "execution_count": 8,
   "id": "6a47d377",
   "metadata": {
    "ExecuteTime": {
     "end_time": "2022-06-10T05:44:53.518688Z",
     "start_time": "2022-06-10T05:44:53.515265Z"
    }
   },
   "outputs": [],
   "source": [
    "# SOL 1)\n",
    "\n",
    "# 1. 퀸을 놓을 수 있는지 판단하는 함수\n",
    "def is_promising(x):\n",
    "    for i in range(x):\n",
    "        if row[x] == row[i] or abs(row[x]-row[i]) == abs(x-i):\n",
    "            return False\n",
    "    return True\n",
    "\n",
    "def search(x, n):\n",
    "    ans = 0\n",
    "    if x == n:\n",
    "        ans += 1\n",
    "        return\n",
    "    else:\n",
    "        for i in range(n):\n",
    "            row[x] = i\n",
    "            if is_promising(x):\n",
    "                solution(x+1)\n",
    "    return ans\n",
    "\n",
    "def solution(n):\n",
    "    row = [0] * n\n",
    "    return search(n)"
   ]
  },
  {
   "cell_type": "code",
   "execution_count": 5,
   "id": "60321602",
   "metadata": {
    "ExecuteTime": {
     "end_time": "2022-06-10T05:39:31.773099Z",
     "start_time": "2022-06-10T05:39:29.845137Z"
    },
    "scrolled": true
   },
   "outputs": [
    {
     "ename": "RecursionError",
     "evalue": "maximum recursion depth exceeded in comparison",
     "output_type": "error",
     "traceback": [
      "\u001b[0;31m---------------------------------------------------------------------------\u001b[0m",
      "\u001b[0;31mRecursionError\u001b[0m                            Traceback (most recent call last)",
      "\u001b[0;32m/var/folders/g5/hz3l1h012wn_h6zvz3124vvw0000gp/T/ipykernel_1222/2112137210.py\u001b[0m in \u001b[0;36m<module>\u001b[0;34m\u001b[0m\n\u001b[0;32m----> 1\u001b[0;31m \u001b[0mprint\u001b[0m\u001b[0;34m(\u001b[0m\u001b[0msolution\u001b[0m\u001b[0;34m(\u001b[0m\u001b[0;36m4\u001b[0m\u001b[0;34m)\u001b[0m\u001b[0;34m)\u001b[0m\u001b[0;34m\u001b[0m\u001b[0;34m\u001b[0m\u001b[0m\n\u001b[0m",
      "\u001b[0;32m/var/folders/g5/hz3l1h012wn_h6zvz3124vvw0000gp/T/ipykernel_1222/2400842514.py\u001b[0m in \u001b[0;36msolution\u001b[0;34m(n)\u001b[0m\n\u001b[1;32m     18\u001b[0m             \u001b[0mrow\u001b[0m\u001b[0;34m[\u001b[0m\u001b[0mx\u001b[0m\u001b[0;34m]\u001b[0m \u001b[0;34m=\u001b[0m \u001b[0mi\u001b[0m\u001b[0;34m\u001b[0m\u001b[0;34m\u001b[0m\u001b[0m\n\u001b[1;32m     19\u001b[0m             \u001b[0;32mif\u001b[0m \u001b[0mis_promising\u001b[0m\u001b[0;34m(\u001b[0m\u001b[0mx\u001b[0m\u001b[0;34m)\u001b[0m\u001b[0;34m:\u001b[0m\u001b[0;34m\u001b[0m\u001b[0;34m\u001b[0m\u001b[0m\n\u001b[0;32m---> 20\u001b[0;31m                 \u001b[0msolution\u001b[0m\u001b[0;34m(\u001b[0m\u001b[0mx\u001b[0m\u001b[0;34m+\u001b[0m\u001b[0;36m1\u001b[0m\u001b[0;34m)\u001b[0m\u001b[0;34m\u001b[0m\u001b[0;34m\u001b[0m\u001b[0m\n\u001b[0m\u001b[1;32m     21\u001b[0m     \u001b[0;32mreturn\u001b[0m \u001b[0mans\u001b[0m\u001b[0;34m\u001b[0m\u001b[0;34m\u001b[0m\u001b[0m\n",
      "... last 1 frames repeated, from the frame below ...\n",
      "\u001b[0;32m/var/folders/g5/hz3l1h012wn_h6zvz3124vvw0000gp/T/ipykernel_1222/2400842514.py\u001b[0m in \u001b[0;36msolution\u001b[0;34m(n)\u001b[0m\n\u001b[1;32m     18\u001b[0m             \u001b[0mrow\u001b[0m\u001b[0;34m[\u001b[0m\u001b[0mx\u001b[0m\u001b[0;34m]\u001b[0m \u001b[0;34m=\u001b[0m \u001b[0mi\u001b[0m\u001b[0;34m\u001b[0m\u001b[0;34m\u001b[0m\u001b[0m\n\u001b[1;32m     19\u001b[0m             \u001b[0;32mif\u001b[0m \u001b[0mis_promising\u001b[0m\u001b[0;34m(\u001b[0m\u001b[0mx\u001b[0m\u001b[0;34m)\u001b[0m\u001b[0;34m:\u001b[0m\u001b[0;34m\u001b[0m\u001b[0;34m\u001b[0m\u001b[0m\n\u001b[0;32m---> 20\u001b[0;31m                 \u001b[0msolution\u001b[0m\u001b[0;34m(\u001b[0m\u001b[0mx\u001b[0m\u001b[0;34m+\u001b[0m\u001b[0;36m1\u001b[0m\u001b[0;34m)\u001b[0m\u001b[0;34m\u001b[0m\u001b[0;34m\u001b[0m\u001b[0m\n\u001b[0m\u001b[1;32m     21\u001b[0m     \u001b[0;32mreturn\u001b[0m \u001b[0mans\u001b[0m\u001b[0;34m\u001b[0m\u001b[0;34m\u001b[0m\u001b[0m\n",
      "\u001b[0;31mRecursionError\u001b[0m: maximum recursion depth exceeded in comparison"
     ]
    }
   ],
   "source": [
    "print(solution(4))"
   ]
  }
 ],
 "metadata": {
  "kernelspec": {
   "display_name": "Python 3 (ipykernel)",
   "language": "python",
   "name": "python3"
  },
  "language_info": {
   "codemirror_mode": {
    "name": "ipython",
    "version": 3
   },
   "file_extension": ".py",
   "mimetype": "text/x-python",
   "name": "python",
   "nbconvert_exporter": "python",
   "pygments_lexer": "ipython3",
   "version": "3.9.7"
  },
  "toc": {
   "base_numbering": 1,
   "nav_menu": {},
   "number_sections": true,
   "sideBar": true,
   "skip_h1_title": false,
   "title_cell": "Table of Contents",
   "title_sidebar": "Contents",
   "toc_cell": false,
   "toc_position": {},
   "toc_section_display": true,
   "toc_window_display": false
  }
 },
 "nbformat": 4,
 "nbformat_minor": 5
}
