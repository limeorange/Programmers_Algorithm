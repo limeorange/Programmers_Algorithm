{
 "cells": [
  {
   "attachments": {},
   "cell_type": "markdown",
   "id": "56b7e372",
   "metadata": {},
   "source": [
    "# 카펫\n",
    "- `유형` 완전탐색\n",
    "\n",
    "\n",
    "- `문제 설명` Leo는 카펫을 사러 갔다가 아래 그림과 같이 중앙에는 노란색으로 칠해져 있고 테두리 1줄은 갈색으로 칠해져 있는 격자 모양 카펫을 봤습니다.\n",
    "\n",
    "<div>\n",
    "<img src=\"https://grepp-programmers.s3.ap-northeast-2.amazonaws.com/files/production/b1ebb809-f333-4df2-bc81-02682900dc2d/carpet.png\" width=\"300\"/>\n",
    "</div>\n",
    "\n",
    "Leo는 집으로 돌아와서 아까 본 카펫의 노란색과 갈색으로 색칠된 격자의 개수는 기억했지만, 전체 카펫의 크기는 기억하지 못했습니다.\n",
    "\n",
    "Leo가 본 카펫에서 갈색 격자의 수 brown, 노란색 격자의 수 yellow가 매개변수로 주어질 때 카펫의 가로, 세로 크기를 순서대로 배열에 담아 return 하도록 solution 함수를 작성해주세요.\n",
    "\n",
    "\n",
    "- `제한 조건`\n",
    "    - 갈색 격자의 수 brown은 8 이상 5,000 이하인 자연수입니다.\n",
    "    - 노란색 격자의 수 yellow는 1 이상 2,000,000 이하인 자연수입니다.\n",
    "    - 카펫의 가로 길이는 세로 길이와 같거나, 세로 길이보다 깁니다.\n",
    "\n",
    "\n",
    "- `입력`\n",
    "    - ex1) 10, 2\n",
    "    - ex2) 8, 1\n",
    "    - ex3) 24, 24\n",
    "\n",
    "\n",
    "- `출력`\n",
    "    - ex1) [4, 3]\n",
    "    - ex2) [3, 3]\n",
    "    - ex3) [8, 6]"
   ]
  },
  {
   "cell_type": "code",
   "execution_count": 10,
   "id": "68f7fe0b",
   "metadata": {
    "ExecuteTime": {
     "end_time": "2022-05-27T03:18:50.361178Z",
     "start_time": "2022-05-27T03:18:50.357590Z"
    }
   },
   "outputs": [],
   "source": [
    "# SOL 1)\n",
    "\n",
    "def solution(b, y):\n",
    "    s = set()\n",
    "    for i in range(1, int(y**0.5)+1):\n",
    "        if y % i == 0:\n",
    "            s.add(i)\n",
    "            s.add(y // i)\n",
    "\n",
    "    for i in s:\n",
    "        if (b + y) % (i + 2) == 0:\n",
    "            w = i + 2\n",
    "            h = (b + y) // (i + 2)\n",
    "            if w >= h:\n",
    "                return ([w, h])"
   ]
  },
  {
   "cell_type": "code",
   "execution_count": 11,
   "id": "60321602",
   "metadata": {
    "ExecuteTime": {
     "end_time": "2022-05-27T03:18:50.365930Z",
     "start_time": "2022-05-27T03:18:50.363183Z"
    }
   },
   "outputs": [
    {
     "name": "stdout",
     "output_type": "stream",
     "text": [
      "[4, 3]\n",
      "[3, 3]\n",
      "[8, 6]\n"
     ]
    }
   ],
   "source": [
    "print(solution(10, 2)) \n",
    "print(solution(8, 1))\n",
    "print(solution(24, 24))"
   ]
  }
 ],
 "metadata": {
  "kernelspec": {
   "display_name": "Python 3 (ipykernel)",
   "language": "python",
   "name": "python3"
  },
  "language_info": {
   "codemirror_mode": {
    "name": "ipython",
    "version": 3
   },
   "file_extension": ".py",
   "mimetype": "text/x-python",
   "name": "python",
   "nbconvert_exporter": "python",
   "pygments_lexer": "ipython3",
   "version": "3.9.7"
  },
  "toc": {
   "base_numbering": 1,
   "nav_menu": {},
   "number_sections": true,
   "sideBar": true,
   "skip_h1_title": false,
   "title_cell": "Table of Contents",
   "title_sidebar": "Contents",
   "toc_cell": false,
   "toc_position": {},
   "toc_section_display": true,
   "toc_window_display": false
  }
 },
 "nbformat": 4,
 "nbformat_minor": 5
}
