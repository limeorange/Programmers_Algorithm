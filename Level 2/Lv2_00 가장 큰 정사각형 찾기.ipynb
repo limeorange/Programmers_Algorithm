{
 "cells": [
  {
   "cell_type": "markdown",
   "id": "56b7e372",
   "metadata": {},
   "source": [
    "# 가장 큰 정사각형 찾기\n",
    "- `유형` 연습문제\n",
    "\n",
    "\n",
    "- `문제 설명` 1와 0로 채워진 표(board)가 있습니다. 표 1칸은 1 x 1 의 정사각형으로 이루어져 있습니다. 표에서 1로 이루어진 가장 큰 정사각형을 찾아 넓이를 return 하는 solution 함수를 완성해 주세요. (단, 정사각형이란 축에 평행한 정사각형을 말합니다.)\n",
    "\n",
    "\n",
    "- `제한 조건`\n",
    "    - 표(board)는 2차원 배열로 주어집니다.\n",
    "    - 표(board)의 행(row)의 크기 : 1,000 이하의 자연수\n",
    "    - 표(board)의 열(column)의 크기 : 1,000 이하의 자연수\n",
    "    - 표(board)의 값은 1또는 0으로만 이루어져 있습니다.\n",
    "\n",
    "\n",
    "- `입력`\n",
    "    - ex1) [[0,1,1,1],[1,1,1,1],[1,1,1,1],[0,0,1,0]]\n",
    "    - ex2) [[0,0,1,1],[1,1,1,1]]\n",
    "\n",
    "\n",
    "- `출력`\n",
    "    - ex1) 9\n",
    "    - ex2) 4"
   ]
  },
  {
   "cell_type": "code",
   "execution_count": 1,
   "id": "da5d33d1",
   "metadata": {
    "ExecuteTime": {
     "end_time": "2022-05-17T08:40:39.163727Z",
     "start_time": "2022-05-17T08:40:39.156369Z"
    }
   },
   "outputs": [],
   "source": [
    "a = [[0,1,1,1],\n",
    "     [1,1,1,1],\n",
    "     [1,1,1,1],\n",
    "     [0,0,1,0]]"
   ]
  },
  {
   "cell_type": "code",
   "execution_count": null,
   "id": "68f7fe0b",
   "metadata": {},
   "outputs": [],
   "source": [
    "def solution(board):\n",
    "    \n",
    "    return "
   ]
  },
  {
   "cell_type": "code",
   "execution_count": null,
   "id": "60321602",
   "metadata": {},
   "outputs": [],
   "source": [
    "print(solution())\n",
    "print(solution())"
   ]
  }
 ],
 "metadata": {
  "kernelspec": {
   "display_name": "Python 3 (ipykernel)",
   "language": "python",
   "name": "python3"
  },
  "language_info": {
   "codemirror_mode": {
    "name": "ipython",
    "version": 3
   },
   "file_extension": ".py",
   "mimetype": "text/x-python",
   "name": "python",
   "nbconvert_exporter": "python",
   "pygments_lexer": "ipython3",
   "version": "3.9.7"
  },
  "toc": {
   "base_numbering": 1,
   "nav_menu": {},
   "number_sections": true,
   "sideBar": true,
   "skip_h1_title": false,
   "title_cell": "Table of Contents",
   "title_sidebar": "Contents",
   "toc_cell": false,
   "toc_position": {},
   "toc_section_display": true,
   "toc_window_display": false
  }
 },
 "nbformat": 4,
 "nbformat_minor": 5
}
