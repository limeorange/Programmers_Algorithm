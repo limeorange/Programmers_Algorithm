{
 "cells": [
  {
   "cell_type": "markdown",
   "id": "56b7e372",
   "metadata": {},
   "source": [
    "# 숫자의 표현\n",
    "- `유형` 연습문제\n",
    "\n",
    "\n",
    "- `문제 설명` \n",
    "\n",
    "\n",
    "Finn은 요즘 수학공부에 빠져 있습니다. 수학 공부를 하던 Finn은 자연수 n을 연속한 자연수들로 표현 하는 방법이 여러개라는 사실을 알게 되었습니다. 예를들어 15는 다음과 같이 4가지로 표현 할 수 있습니다.\n",
    "    \n",
    "    - 1 + 2 + 3 + 4 + 5 = 15\n",
    "    - 4 + 5 + 6 = 15\n",
    "    - 7 + 8 = 15\n",
    "    - 15 = 15\n",
    "\n",
    "자연수 n이 매개변수로 주어질 때, 연속된 자연수들로 n을 표현하는 방법의 수를 return하는 solution를 완성해주세요.\n",
    "\n",
    "\n",
    "- `제한 조건`\n",
    "    - n은 10,000 이하의 자연수 입니다.\n",
    "\n",
    "\n",
    "- `입력`\n",
    "    - ex1) 15\n",
    "\n",
    "\n",
    "- `출력`\n",
    "    - ex1) 4"
   ]
  },
  {
   "cell_type": "code",
   "execution_count": 5,
   "id": "68f7fe0b",
   "metadata": {
    "ExecuteTime": {
     "end_time": "2022-05-16T07:14:09.524757Z",
     "start_time": "2022-05-16T07:14:09.521934Z"
    }
   },
   "outputs": [],
   "source": [
    "# SOL 1)\n",
    " \n",
    "def solution(n):\n",
    "    cnt = 0\n",
    "    for i in range(1, n+1):\n",
    "        if (n % i == 0) & (i % 2 == 1):\n",
    "            cnt += 1\n",
    "    return cnt"
   ]
  },
  {
   "cell_type": "code",
   "execution_count": 7,
   "id": "60321602",
   "metadata": {
    "ExecuteTime": {
     "end_time": "2022-05-16T07:15:24.154626Z",
     "start_time": "2022-05-16T07:15:24.152116Z"
    }
   },
   "outputs": [
    {
     "name": "stdout",
     "output_type": "stream",
     "text": [
      "4\n"
     ]
    }
   ],
   "source": [
    "print(solution(15))"
   ]
  },
  {
   "cell_type": "code",
   "execution_count": 8,
   "id": "f812048e",
   "metadata": {
    "ExecuteTime": {
     "end_time": "2022-05-16T07:16:42.398361Z",
     "start_time": "2022-05-16T07:16:42.396006Z"
    }
   },
   "outputs": [],
   "source": [
    "# SOL 2)\n",
    "\n",
    "def solution(n):\n",
    "    return len([i for i in range(1, n+1, 2) if n % i == 0])"
   ]
  },
  {
   "cell_type": "code",
   "execution_count": 9,
   "id": "75b1ba44",
   "metadata": {
    "ExecuteTime": {
     "end_time": "2022-05-16T07:16:46.720025Z",
     "start_time": "2022-05-16T07:16:46.717546Z"
    }
   },
   "outputs": [
    {
     "name": "stdout",
     "output_type": "stream",
     "text": [
      "4\n"
     ]
    }
   ],
   "source": [
    "print(solution(15))"
   ]
  }
 ],
 "metadata": {
  "kernelspec": {
   "display_name": "Python 3 (ipykernel)",
   "language": "python",
   "name": "python3"
  },
  "language_info": {
   "codemirror_mode": {
    "name": "ipython",
    "version": 3
   },
   "file_extension": ".py",
   "mimetype": "text/x-python",
   "name": "python",
   "nbconvert_exporter": "python",
   "pygments_lexer": "ipython3",
   "version": "3.9.7"
  },
  "toc": {
   "base_numbering": 1,
   "nav_menu": {},
   "number_sections": true,
   "sideBar": true,
   "skip_h1_title": false,
   "title_cell": "Table of Contents",
   "title_sidebar": "Contents",
   "toc_cell": false,
   "toc_position": {},
   "toc_section_display": true,
   "toc_window_display": false
  }
 },
 "nbformat": 4,
 "nbformat_minor": 5
}
