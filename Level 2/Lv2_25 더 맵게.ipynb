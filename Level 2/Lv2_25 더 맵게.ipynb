{
 "cells": [
  {
   "cell_type": "markdown",
   "id": "56b7e372",
   "metadata": {},
   "source": [
    "# 더 맵게\n",
    "- `유형` 힙(Heap)\n",
    "\n",
    "\n",
    "- `문제 설명`\n",
    "\n",
    "\n",
    "매운 것을 좋아하는 Leo는 모든 음식의 스코빌 지수를 K 이상으로 만들고 싶습니다. 모든 음식의 스코빌 지수를 K 이상으로 만들기 위해 Leo는 스코빌 지수가 가장 낮은 두 개의 음식을 아래와 같이 특별한 방법으로 섞어 새로운 음식을 만듭니다.\n",
    "\n",
    "> 섞은 음식의 스코빌 지수 = 가장 맵지 않은 음식의 스코빌 지수 + (두 번째로 맵지 않은 음식의 스코빌 지수 * 2)\n",
    "\n",
    "Leo는 모든 음식의 스코빌 지수가 K 이상이 될 때까지 반복하여 섞습니다. Leo가 가진 음식의 스코빌 지수를 담은 배열 scoville과 원하는 스코빌 지수 K가 주어질 때, 모든 음식의 스코빌 지수를 K 이상으로 만들기 위해 섞어야 하는 최소 횟수를 return 하도록 solution 함수를 작성해주세요.\n",
    "\n",
    "\n",
    "- `제한 조건`\n",
    "    - scoville의 길이는 2 이상 1,000,000 이하입니다.\n",
    "    - K는 0 이상 1,000,000,000 이하입니다.\n",
    "    - scoville의 원소는 각각 0 이상 1,000,000 이하입니다.\n",
    "    - 모든 음식의 스코빌 지수를 K 이상으로 만들 수 없는 경우에는 -1을 return 합니다.\n",
    "\n",
    "\n",
    "- `입력`\n",
    "    - ex1) [1, 2, 3, 9, 10, 12], 7\n",
    "\n",
    "\n",
    "- `출력`\n",
    "    - ex1) 2\n",
    "    \n",
    "    \n",
    "- `참고`\n",
    "    - [[kata][python] 프로그래머스 - 더 맵게 | 코딩장이](https://itholic.github.io/kata-more-spicy/)\n",
    "    - [Python - 데크(deque) 언제, 왜 사용해야 하는가?](https://leonkong.cc/posts/python-deque.html)\n",
    "    - [[Python] 더 맵게](https://yerinpy73.tistory.com/65)"
   ]
  },
  {
   "cell_type": "code",
   "execution_count": 24,
   "id": "68f7fe0b",
   "metadata": {
    "ExecuteTime": {
     "end_time": "2022-05-27T06:30:51.680947Z",
     "start_time": "2022-05-27T06:30:51.677991Z"
    }
   },
   "outputs": [],
   "source": [
    "# TRY 1) list 이용 : 정확성 통과, 효율성 미통과\n",
    "\n",
    "def solution(S, K):\n",
    "    S = sorted(S)\n",
    "    cnt = 0\n",
    "    for i in S:\n",
    "        if i < K:\n",
    "            S.append(S[0]+S[1]*2)\n",
    "            S.sort()\n",
    "            S = S[2:]\n",
    "            cnt += 1\n",
    "        if S[0] > K:\n",
    "            break\n",
    "        if (len(S) == 1) and S[0] < K:\n",
    "            return -1\n",
    "    return cnt"
   ]
  },
  {
   "cell_type": "code",
   "execution_count": 25,
   "id": "60321602",
   "metadata": {
    "ExecuteTime": {
     "end_time": "2022-05-27T06:30:52.751873Z",
     "start_time": "2022-05-27T06:30:52.749597Z"
    }
   },
   "outputs": [
    {
     "name": "stdout",
     "output_type": "stream",
     "text": [
      "2\n"
     ]
    }
   ],
   "source": [
    "print(solution([1, 2, 3, 9, 10, 12], 7))"
   ]
  },
  {
   "cell_type": "code",
   "execution_count": 1,
   "id": "a47b05b9",
   "metadata": {
    "ExecuteTime": {
     "end_time": "2022-06-22T07:26:11.231412Z",
     "start_time": "2022-06-22T07:26:11.223754Z"
    }
   },
   "outputs": [],
   "source": [
    "# SOL 1-1) 힙(heap) 자료구조 이용, try / except IndexError 이용\n",
    "# 힙을 사용하는 이유 : 일반적인 리스트와 달리 push(), pop() 이후 자동 정렬\n",
    "\n",
    "import heapq\n",
    "\n",
    "def solution(S, K):\n",
    "    heap = []\n",
    "    for i in S:\n",
    "        heapq.heappush(heap, i)\n",
    "\n",
    "    cnt = 0\n",
    "    while heap[0] < K:\n",
    "        try:\n",
    "            heapq.heappush(heap, heapq.heappop(heap) + heapq.heappop(heap) * 2)\n",
    "        except IndexError:\n",
    "            return -1\n",
    "        cnt += 1\n",
    "    return cnt"
   ]
  },
  {
   "cell_type": "code",
   "execution_count": 2,
   "id": "504a66c1",
   "metadata": {
    "ExecuteTime": {
     "end_time": "2022-06-22T07:26:11.237041Z",
     "start_time": "2022-06-22T07:26:11.233465Z"
    }
   },
   "outputs": [
    {
     "name": "stdout",
     "output_type": "stream",
     "text": [
      "2\n"
     ]
    }
   ],
   "source": [
    "print(solution([1, 2, 3, 9, 10, 12], 7))"
   ]
  },
  {
   "cell_type": "code",
   "execution_count": 62,
   "id": "5a073bcf",
   "metadata": {
    "ExecuteTime": {
     "end_time": "2022-05-27T07:40:01.285533Z",
     "start_time": "2022-05-27T07:40:01.282332Z"
    }
   },
   "outputs": [],
   "source": [
    "# SOL 1-2) 힙(heap) 자료구조 이용\n",
    "\n",
    "import heapq\n",
    "\n",
    "def solution(S, K):\n",
    "    heap = []\n",
    "    for i in S:\n",
    "        heapq.heappush(heap, i)\n",
    "\n",
    "    cnt = 0\n",
    "    while heap[0] < K:\n",
    "        heapq.heappush(heap, heapq.heappop(heap) + heapq.heappop(heap) * 2)\n",
    "        cnt += 1\n",
    "        \n",
    "        if len(heap) == 1 and heap[0] < K:\n",
    "            return -1\n",
    "    return cnt"
   ]
  },
  {
   "cell_type": "code",
   "execution_count": 63,
   "id": "4ff27a3e",
   "metadata": {
    "ExecuteTime": {
     "end_time": "2022-05-27T07:40:02.643019Z",
     "start_time": "2022-05-27T07:40:02.640662Z"
    }
   },
   "outputs": [
    {
     "name": "stdout",
     "output_type": "stream",
     "text": [
      "2\n"
     ]
    }
   ],
   "source": [
    "print(solution([1, 2, 3, 9, 10, 12], 7))"
   ]
  },
  {
   "cell_type": "code",
   "execution_count": 80,
   "id": "d8acd11f",
   "metadata": {
    "ExecuteTime": {
     "end_time": "2022-05-27T07:51:57.066516Z",
     "start_time": "2022-05-27T07:51:57.062332Z"
    }
   },
   "outputs": [],
   "source": [
    "# SOL 2) 데크(deque) 자료구조 이용\n",
    "\n",
    "from collections import deque\n",
    "\n",
    "def solution(S, K):\n",
    "    answer = 0 \n",
    "    mix = deque()\n",
    "    S.sort()\n",
    "    sco = deque(i for i in S)\n",
    "    \n",
    "    while (sco and sco[0] < K) or (mix and mix[0] < K):\n",
    "        answer += 1\n",
    "        if len(sco) + len(mix) <= 1:\n",
    "            return -1\n",
    "        \n",
    "        food = [0]*2\n",
    "        for a in range(2):\n",
    "            if sco and mix:\n",
    "                if sco[0] < mix[0]:\n",
    "                    food[a] = sco.popleft()\n",
    "                else:\n",
    "                    food[a] = mix.popleft()\n",
    "            elif sco:\n",
    "                food[a] = sco.popleft()\n",
    "            else:\n",
    "                food[a] = mix.popleft()\n",
    "            \n",
    "        mix.append(food[0]+food[1]*2)\n",
    "        \n",
    "    return answer"
   ]
  },
  {
   "cell_type": "code",
   "execution_count": 81,
   "id": "538d9ba0",
   "metadata": {
    "ExecuteTime": {
     "end_time": "2022-05-27T07:51:57.071634Z",
     "start_time": "2022-05-27T07:51:57.068607Z"
    },
    "scrolled": true
   },
   "outputs": [
    {
     "name": "stdout",
     "output_type": "stream",
     "text": [
      "2\n"
     ]
    }
   ],
   "source": [
    "print(solution([1, 2, 3, 9, 10, 12], 7))"
   ]
  }
 ],
 "metadata": {
  "kernelspec": {
   "display_name": "Python 3 (ipykernel)",
   "language": "python",
   "name": "python3"
  },
  "language_info": {
   "codemirror_mode": {
    "name": "ipython",
    "version": 3
   },
   "file_extension": ".py",
   "mimetype": "text/x-python",
   "name": "python",
   "nbconvert_exporter": "python",
   "pygments_lexer": "ipython3",
   "version": "3.9.7"
  },
  "toc": {
   "base_numbering": 1,
   "nav_menu": {},
   "number_sections": true,
   "sideBar": true,
   "skip_h1_title": false,
   "title_cell": "Table of Contents",
   "title_sidebar": "Contents",
   "toc_cell": false,
   "toc_position": {},
   "toc_section_display": true,
   "toc_window_display": false
  }
 },
 "nbformat": 4,
 "nbformat_minor": 5
}
