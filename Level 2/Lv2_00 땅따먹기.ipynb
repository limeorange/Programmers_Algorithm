{
 "cells": [
  {
   "cell_type": "markdown",
   "id": "56b7e372",
   "metadata": {},
   "source": [
    "# 땅따먹기\n",
    "- `유형` 연습문제\n",
    "\n",
    "\n",
    "- `문제 설명`\n",
    "\n",
    "\n",
    "땅따먹기 게임을 하려고 합니다. 땅따먹기 게임의 땅(land)은 총 N행 4열로 이루어져 있고, 모든 칸에는 점수가 쓰여 있습니다. 1행부터 땅을 밟으며 한 행씩 내려올 때, 각 행의 4칸 중 한 칸만 밟으면서 내려와야 합니다. 단, 땅따먹기 게임에는 한 행씩 내려올 때, 같은 열을 연속해서 밟을 수 없는 특수 규칙이 있습니다.\n",
    "\n",
    "예를 들면,\n",
    "\n",
    "| 1 | 2 | 3 | 5 |\n",
    "\n",
    "| 5 | 6 | 7 | 8 |\n",
    "\n",
    "| 4 | 3 | 2 | 1 |\n",
    "\n",
    "로 땅이 주어졌다면, 1행에서 네번째 칸 (5)를 밟았으면, 2행의 네번째 칸 (8)은 밟을 수 없습니다.\n",
    "\n",
    "마지막 행까지 모두 내려왔을 때, 얻을 수 있는 점수의 최대값을 return하는 solution 함수를 완성해 주세요. 위 예의 경우, 1행의 네번째 칸 (5), 2행의 세번째 칸 (7), 3행의 첫번째 칸 (4) 땅을 밟아 16점이 최고점이 되므로 16을 return 하면 됩니다.\n",
    "\n",
    "\n",
    "- `제한 조건`\n",
    "    - 행의 개수 N : 100,000 이하의 자연수\n",
    "    - 열의 개수는 4개이고, 땅(land)은 2차원 배열로 주어집니다.\n",
    "    - 점수 : 100 이하의 자연수\n",
    "\n",
    "\n",
    "- `입력`\n",
    "    - ex1) [[1,2,3,5],[5,6,7,8],[4,3,2,1]]\n",
    "\n",
    "\n",
    "- `출력`\n",
    "    - ex1) 16"
   ]
  },
  {
   "cell_type": "code",
   "execution_count": 14,
   "id": "a1409030",
   "metadata": {
    "ExecuteTime": {
     "end_time": "2022-05-18T02:55:35.638866Z",
     "start_time": "2022-05-18T02:55:35.633913Z"
    }
   },
   "outputs": [
    {
     "data": {
      "text/plain": [
       "19"
      ]
     },
     "execution_count": 14,
     "metadata": {},
     "output_type": "execute_result"
    }
   ],
   "source": [
    "land = [[4,3,2,1],[2,2,2,1],[6,6,6,4],[8,7,6,5]]\n",
    "\n",
    "score = 0\n",
    "pre_idx = [100]\n",
    "for i in land:\n",
    "        max_idx = i.index(max(i))\n",
    "\n",
    "        if max_idx != pre_idx.pop():\n",
    "            score += max(i)\n",
    "            pre_idx.append(max_idx)\n",
    "\n",
    "        else:\n",
    "            del i[max_idx]\n",
    "            score += max(i)\n",
    "            pre_idx.append(i.index(max(i)))\n",
    "\n",
    "score"
   ]
  },
  {
   "cell_type": "code",
   "execution_count": 22,
   "id": "e3018c01",
   "metadata": {
    "ExecuteTime": {
     "end_time": "2022-05-18T03:05:29.963024Z",
     "start_time": "2022-05-18T03:05:29.957707Z"
    }
   },
   "outputs": [
    {
     "data": {
      "text/plain": [
       "10"
      ]
     },
     "execution_count": 22,
     "metadata": {},
     "output_type": "execute_result"
    }
   ],
   "source": [
    "land = [[4,3,2,1],[2,2,2,1],[6,6,6,4],[8,7,6,5]]\n",
    "\n",
    "score = 0\n",
    "pre_idx = [100]\n",
    "for idx, i in enumerate(land):\n",
    "    if idx == 0:\n",
    "        for j in range(len(i)):\n",
    "            max_idx = i.index(i[j])\n",
    "\n",
    "            if max_idx != pre_idx.pop():\n",
    "                score += i[max_idx]\n",
    "                pre_idx.append(max_idx)\n",
    "\n",
    "            else:\n",
    "                del i[max_idx]\n",
    "                max_idx = i.index(max(i))\n",
    "                score += i[max_idx]\n",
    "                pre_idx.append(max_idx)\n",
    "\n",
    "score"
   ]
  },
  {
   "cell_type": "code",
   "execution_count": 24,
   "id": "cf990ae5",
   "metadata": {
    "ExecuteTime": {
     "end_time": "2022-05-18T03:15:22.146166Z",
     "start_time": "2022-05-18T03:15:22.142115Z"
    }
   },
   "outputs": [
    {
     "data": {
      "text/plain": [
       "[[8, 7, 6, 5], [6, 6, 6, 4], [2, 2, 2, 1], [4, 3, 2, 1]]"
      ]
     },
     "execution_count": 24,
     "metadata": {},
     "output_type": "execute_result"
    }
   ],
   "source": [
    "land = [[4,3,2,1],[2,2,2,1],[6,6,6,4],[8,7,6,5]]\n",
    "list(reversed(land))"
   ]
  },
  {
   "cell_type": "code",
   "execution_count": 11,
   "id": "68f7fe0b",
   "metadata": {
    "ExecuteTime": {
     "end_time": "2022-05-18T02:53:52.160458Z",
     "start_time": "2022-05-18T02:53:52.157128Z"
    }
   },
   "outputs": [],
   "source": [
    "def solution(land):\n",
    "    \n",
    "    score = 0\n",
    "    pre_idx = [100]\n",
    "    \n",
    "    for i in land:\n",
    "        max_idx = i.index(max(i))\n",
    "\n",
    "        if max_idx != pre_idx.pop():\n",
    "            score += max(i)\n",
    "            pre_idx.append(max_idx)\n",
    "\n",
    "        else:\n",
    "            del i[max_idx]\n",
    "            score += max(i)\n",
    "            pre_idx.append(i.index(max(i)))\n",
    "            \n",
    "    return score"
   ]
  },
  {
   "cell_type": "code",
   "execution_count": 13,
   "id": "60321602",
   "metadata": {
    "ExecuteTime": {
     "end_time": "2022-05-18T02:55:00.493610Z",
     "start_time": "2022-05-18T02:55:00.490279Z"
    }
   },
   "outputs": [
    {
     "name": "stdout",
     "output_type": "stream",
     "text": [
      "16\n",
      "19\n"
     ]
    }
   ],
   "source": [
    "print(solution([[1,2,3,5],[5,6,7,8],[4,3,2,1]]))\n",
    "print(solution([[4,3,2,1],[2,2,2,1],[6,6,6,4],[8,7,6,5]]))"
   ]
  }
 ],
 "metadata": {
  "kernelspec": {
   "display_name": "Python 3 (ipykernel)",
   "language": "python",
   "name": "python3"
  },
  "language_info": {
   "codemirror_mode": {
    "name": "ipython",
    "version": 3
   },
   "file_extension": ".py",
   "mimetype": "text/x-python",
   "name": "python",
   "nbconvert_exporter": "python",
   "pygments_lexer": "ipython3",
   "version": "3.9.7"
  },
  "toc": {
   "base_numbering": 1,
   "nav_menu": {},
   "number_sections": true,
   "sideBar": true,
   "skip_h1_title": false,
   "title_cell": "Table of Contents",
   "title_sidebar": "Contents",
   "toc_cell": false,
   "toc_position": {},
   "toc_section_display": true,
   "toc_window_display": false
  }
 },
 "nbformat": 4,
 "nbformat_minor": 5
}
