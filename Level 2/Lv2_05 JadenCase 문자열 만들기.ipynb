{
 "cells": [
  {
   "cell_type": "markdown",
   "id": "56b7e372",
   "metadata": {},
   "source": [
    "# JadenCase 문자열 만들기\n",
    "- `유형` 연습문제\n",
    "\n",
    "\n",
    "- `문제 설명` JadenCase란 모든 단어의 첫 문자가 대문자이고, 그 외의 알파벳은 소문자인 문자열입니다. 단, 첫 문자가 알파벳이 아닐 때에는 이어지는 알파벳은 소문자로 쓰면 됩니다. (첫 번째 입출력 예 참고) 문자열 s가 주어졌을 때, s를 JadenCase로 바꾼 문자열을 리턴하는 함수, solution을 완성해주세요.\n",
    "\n",
    "\n",
    "- `제한 조건`\n",
    "    - s는 길이 1 이상 200 이하인 문자열입니다.\n",
    "    - s는 알파벳과 숫자, 공백문자(\" \")로 이루어져 있습니다.\n",
    "        - 숫자는 단어의 첫 문자로만 나옵니다.\n",
    "        - 숫자로만 이루어진 단어는 없습니다.\n",
    "        - 공백문자가 연속해서 나올 수 있습니다.\n",
    "\n",
    "\n",
    "- `입력`\n",
    "    - ex1) \"3people unFollowed me\"\n",
    "    - ex2) \"for the last week\"\n",
    "\n",
    "\n",
    "- `출력`\n",
    "    - ex1) \"3people Unfollowed Me\"\n",
    "    - ex2) \"For The Last Week\""
   ]
  },
  {
   "cell_type": "code",
   "execution_count": 14,
   "id": "25cd6526",
   "metadata": {
    "ExecuteTime": {
     "end_time": "2022-06-21T02:05:59.325232Z",
     "start_time": "2022-06-21T02:05:59.322133Z"
    }
   },
   "outputs": [],
   "source": [
    "# SOL 1) 공백 이슈 해결\n",
    "\n",
    "def solution(s):\n",
    "    result = ''\n",
    "    \n",
    "    # 공백 한 칸을 기준으로 split\n",
    "    # 공백이 2개 이상 연속으로 나올 경우 나머지 공백은 i가 될 수 있음\n",
    "    for i in s.split(' '):\n",
    "        \n",
    "        # i가 공백일 때 공백 추가\n",
    "        if len(i) == 0:\n",
    "            result += ' '\n",
    "        \n",
    "        # i의 첫 문자가 숫자일 때, i를 모두 소문자로 변환 후 구분 공백 추가\n",
    "        elif i[0].isdigit():\n",
    "            result += i.lower()\n",
    "            result += ' '\n",
    "        \n",
    "        # i의 첫 문자가 알파벳일 때, 첫 문자는 대문자로 그 이후는 소문자로 변환 후 구분 공백 추가\n",
    "        else:\n",
    "            result += (i[0].upper() + i[1:].lower())\n",
    "            result += ' '\n",
    "\n",
    "    return result[:-1]"
   ]
  },
  {
   "cell_type": "code",
   "execution_count": 15,
   "id": "60321602",
   "metadata": {
    "ExecuteTime": {
     "end_time": "2022-06-21T02:06:00.108207Z",
     "start_time": "2022-06-21T02:06:00.105145Z"
    },
    "scrolled": true
   },
   "outputs": [
    {
     "name": "stdout",
     "output_type": "stream",
     "text": [
      "3people Unfollowed Me\n",
      "For The Last Week\n",
      "Tes  T\n",
      "A \n",
      "A A  A   \n"
     ]
    }
   ],
   "source": [
    "print(solution(\"3people unFollowed me\"))\n",
    "print(solution(\"for the last week\"))\n",
    "print(solution(\"tEs  t\"))\n",
    "print(solution(\"a \"))\n",
    "print(solution(\"a a  a   \"))"
   ]
  }
 ],
 "metadata": {
  "kernelspec": {
   "display_name": "Python 3 (ipykernel)",
   "language": "python",
   "name": "python3"
  },
  "language_info": {
   "codemirror_mode": {
    "name": "ipython",
    "version": 3
   },
   "file_extension": ".py",
   "mimetype": "text/x-python",
   "name": "python",
   "nbconvert_exporter": "python",
   "pygments_lexer": "ipython3",
   "version": "3.9.7"
  },
  "toc": {
   "base_numbering": 1,
   "nav_menu": {},
   "number_sections": true,
   "sideBar": true,
   "skip_h1_title": false,
   "title_cell": "Table of Contents",
   "title_sidebar": "Contents",
   "toc_cell": false,
   "toc_position": {},
   "toc_section_display": true,
   "toc_window_display": false
  }
 },
 "nbformat": 4,
 "nbformat_minor": 5
}
