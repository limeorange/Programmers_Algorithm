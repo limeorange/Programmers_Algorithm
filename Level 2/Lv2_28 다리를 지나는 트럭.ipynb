{
 "cells": [
  {
   "cell_type": "markdown",
   "id": "56b7e372",
   "metadata": {},
   "source": [
    "# 다리를 지나는 트럭\n",
    "- `유형` 스택/큐\n",
    "\n",
    "\n",
    "- `문제 설명`\n",
    "\n",
    "트럭 여러 대가 강을 가로지르는 일차선 다리를 정해진 순으로 건너려 합니다. 모든 트럭이 다리를 건너려면 최소 몇 초가 걸리는지 알아내야 합니다. 다리에는 트럭이 최대 bridge_length대 올라갈 수 있으며, 다리는 weight 이하까지의 무게를 견딜 수 있습니다. 단, 다리에 완전히 오르지 않은 트럭의 무게는 무시합니다.\n",
    "\n",
    "예를 들어, 트럭 2대가 올라갈 수 있고 무게를 10kg까지 견디는 다리가 있습니다. 무게가 [7, 4, 5, 6]kg인 트럭이 순서대로 최단 시간 안에 다리를 건너려면 다음과 같이 건너야 합니다.\n",
    "\n",
    "|경과 시간|다리를 지난 트럭|다리를 건너는 트럭|대기 트럭|\n",
    "|:-----:|:-----------:|:-------------:|:-----:|\n",
    "| 0 | [] | [] | [7,4,5,6] |\n",
    "| 1~2 | [] | [7] | [4,5,6] |\n",
    "| 3 | [7] | [4] | [5,6] |\n",
    "| 4 | [7] | [4,5] | [6] |\n",
    "| 5 | [7,4] | [5] | [6] |\n",
    "| 6~7 | [7,4,5] | [6] | [] |\n",
    "| 8 | [7,4,5,6] | [] | [] |\n",
    "\n",
    "따라서, 모든 트럭이 다리를 지나려면 최소 8초가 걸립니다.\n",
    "\n",
    "solution 함수의 매개변수로 다리에 올라갈 수 있는 트럭 수 bridge_length, 다리가 견딜 수 있는 무게 weight, 트럭 별 무게 truck_weights가 주어집니다. 이때 모든 트럭이 다리를 건너려면 최소 몇 초가 걸리는지 return 하도록 solution 함수를 완성하세요.\n",
    "\n",
    "\n",
    "- `제한 조건`\n",
    "    - bridge_length는 1 이상 10,000 이하입니다.\n",
    "    - weight는 1 이상 10,000 이하입니다.\n",
    "    - truck_weights의 길이는 1 이상 10,000 이하입니다.\n",
    "    - 모든 트럭의 무게는 1 이상 weight 이하입니다.\n",
    "\n",
    "\n",
    "- `입력`\n",
    "    - ex1) 2, 10, [7,4,5,6]\n",
    "    - ex2) 100, 100, [10]\n",
    "    - ex3) 100, 100, [10,10,10,10,10,10,10,10,10,10]\n",
    "\n",
    "\n",
    "- `출력`\n",
    "    - ex1) 8\n",
    "    - ex2) 101\n",
    "    - ex3) 110"
   ]
  },
  {
   "cell_type": "code",
   "execution_count": 37,
   "id": "34bc5037",
   "metadata": {
    "ExecuteTime": {
     "end_time": "2022-06-07T03:19:13.733223Z",
     "start_time": "2022-06-07T03:19:13.730263Z"
    }
   },
   "outputs": [],
   "source": [
    "# SOL 1) 다리의 실시간 상황을 q로 표현\n",
    "\n",
    "def solution(bridge_length, weight, truck_weights):\n",
    "    q = [0] * bridge_length\n",
    "    sec = 0\n",
    "    while q:\n",
    "        sec += 1\n",
    "        q.pop(0)\n",
    "        if truck_weights:\n",
    "            if sum(q)+truck_weights[0] <= weight:\n",
    "                q.append(truck_weights.pop(0))\n",
    "            else:\n",
    "                q.append(0)\n",
    "    return sec"
   ]
  },
  {
   "cell_type": "code",
   "execution_count": 38,
   "id": "60321602",
   "metadata": {
    "ExecuteTime": {
     "end_time": "2022-06-07T03:19:14.469695Z",
     "start_time": "2022-06-07T03:19:14.466398Z"
    }
   },
   "outputs": [
    {
     "name": "stdout",
     "output_type": "stream",
     "text": [
      "8\n",
      "101\n",
      "110\n"
     ]
    }
   ],
   "source": [
    "print(solution(2, 10, [7,4,5,6])) # 8 \n",
    "print(solution(100, 100, [10])) # 101\n",
    "print(solution(100, 100, [10,10,10,10,10,10,10,10,10,10])) # 110"
   ]
  }
 ],
 "metadata": {
  "kernelspec": {
   "display_name": "Python 3 (ipykernel)",
   "language": "python",
   "name": "python3"
  },
  "language_info": {
   "codemirror_mode": {
    "name": "ipython",
    "version": 3
   },
   "file_extension": ".py",
   "mimetype": "text/x-python",
   "name": "python",
   "nbconvert_exporter": "python",
   "pygments_lexer": "ipython3",
   "version": "3.9.7"
  },
  "toc": {
   "base_numbering": 1,
   "nav_menu": {},
   "number_sections": true,
   "sideBar": true,
   "skip_h1_title": false,
   "title_cell": "Table of Contents",
   "title_sidebar": "Contents",
   "toc_cell": false,
   "toc_position": {},
   "toc_section_display": true,
   "toc_window_display": false
  }
 },
 "nbformat": 4,
 "nbformat_minor": 5
}
