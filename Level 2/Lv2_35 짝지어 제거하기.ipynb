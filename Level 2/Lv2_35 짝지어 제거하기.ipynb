{
 "cells": [
  {
   "cell_type": "markdown",
   "id": "56b7e372",
   "metadata": {},
   "source": [
    "# 짝지어 제거하기\n",
    "- `유형` 2017 팁스타운\n",
    "\n",
    "\n",
    "- `문제 설명` \n",
    "\n",
    "짝지어 제거하기는, 알파벳 소문자로 이루어진 문자열을 가지고 시작합니다. 먼저 문자열에서 같은 알파벳이 2개 붙어 있는 짝을 찾습니다. 그다음, 그 둘을 제거한 뒤, 앞뒤로 문자열을 이어 붙입니다. 이 과정을 반복해서 문자열을 모두 제거한다면 짝지어 제거하기가 종료됩니다. 문자열 S가 주어졌을 때, 짝지어 제거하기를 성공적으로 수행할 수 있는지 반환하는 함수를 완성해 주세요. 성공적으로 수행할 수 있으면 1을, 아닐 경우 0을 리턴해주면 됩니다.\n",
    "\n",
    "예를 들어, 문자열 S = `baabaa` 라면\n",
    "\n",
    "b aa baa → bb aa → aa →\n",
    "\n",
    "의 순서로 문자열을 모두 제거할 수 있으므로 1을 반환합니다.\n",
    "\n",
    "\n",
    "- `제한 조건`\n",
    "    - 문자열의 길이 : 1,000,000이하의 자연수\n",
    "    - 문자열은 모두 소문자로 이루어져 있습니다.\n",
    "\n",
    "\n",
    "- `입력`\n",
    "    - ex1) baabaa\n",
    "    - ex2) cdcd\n",
    "\n",
    "\n",
    "- `출력`\n",
    "    - ex1) 1\n",
    "    - ex2) 0"
   ]
  },
  {
   "cell_type": "code",
   "execution_count": 33,
   "id": "5d41939e",
   "metadata": {
    "ExecuteTime": {
     "end_time": "2022-06-09T10:04:08.379436Z",
     "start_time": "2022-06-09T10:04:08.375676Z"
    }
   },
   "outputs": [],
   "source": [
    "# TRY 1) 시간 초과\n",
    "\n",
    "def solution(s):\n",
    "    s = list(s)\n",
    "    stop = 0\n",
    "    while stop == 0:\n",
    "        for i in range(len(s)-1):\n",
    "            if i < (len(s)-1) and s[i] == s[i+1]:\n",
    "                s[i] = 0\n",
    "                s[i+1] = 0\n",
    "\n",
    "        check1 = len(s)\n",
    "        while 0 in s:\n",
    "            s.remove(0)\n",
    "        check2 = len(s)\n",
    "\n",
    "        if check1 == check2:\n",
    "            stop += 1\n",
    "    return 1 if len(s)==0 else 0"
   ]
  },
  {
   "cell_type": "code",
   "execution_count": 34,
   "id": "d532bb38",
   "metadata": {
    "ExecuteTime": {
     "end_time": "2022-06-09T10:04:09.057764Z",
     "start_time": "2022-06-09T10:04:09.055240Z"
    },
    "scrolled": true
   },
   "outputs": [
    {
     "name": "stdout",
     "output_type": "stream",
     "text": [
      "1\n",
      "0\n"
     ]
    }
   ],
   "source": [
    "print(solution('baabaa'))\n",
    "print(solution('cdcd'))"
   ]
  },
  {
   "cell_type": "code",
   "execution_count": 3,
   "id": "b2e6c60a",
   "metadata": {
    "ExecuteTime": {
     "end_time": "2022-06-20T09:53:03.528183Z",
     "start_time": "2022-06-20T09:53:03.524841Z"
    }
   },
   "outputs": [],
   "source": [
    "# SOL 1) stack을 이용한 풀이\n",
    "# 현재 원소와 지금까지 나온 원소 중 짝이 없어서 stack에 저장된 원소들 중 가장 최근의 원소와 같으면\n",
    "# stack[-1]의 값을 pop하고 현재 원소는 stack에 저장하는 절차 없이 다음 루프로 넘어감\n",
    "# 만약 같지 않으면 현재 원소를 stack에 계속해서 추가하는 방식으로 반복하여 진행..\n",
    "# 최종적으로 stack에 아무 원소도 없으면 모두 짝지어진 것이기 때문에 1 return, 남은 원소가 있으면 0 return\n",
    "\n",
    "def solution(s):\n",
    "    stack = []\n",
    "    for i in s:\n",
    "        if len(stack) != 0 and stack[-1] == i:\n",
    "            stack.pop()\n",
    "        else:\n",
    "            stack.append(i)\n",
    "    return 1 if len(stack)==0 else 0"
   ]
  },
  {
   "cell_type": "code",
   "execution_count": 4,
   "id": "56aab0a3",
   "metadata": {
    "ExecuteTime": {
     "end_time": "2022-06-20T09:53:04.388668Z",
     "start_time": "2022-06-20T09:53:04.386417Z"
    }
   },
   "outputs": [
    {
     "name": "stdout",
     "output_type": "stream",
     "text": [
      "1\n",
      "0\n"
     ]
    }
   ],
   "source": [
    "print(solution('baabaa'))\n",
    "print(solution('cdcd'))"
   ]
  }
 ],
 "metadata": {
  "kernelspec": {
   "display_name": "Python 3 (ipykernel)",
   "language": "python",
   "name": "python3"
  },
  "language_info": {
   "codemirror_mode": {
    "name": "ipython",
    "version": 3
   },
   "file_extension": ".py",
   "mimetype": "text/x-python",
   "name": "python",
   "nbconvert_exporter": "python",
   "pygments_lexer": "ipython3",
   "version": "3.9.7"
  },
  "toc": {
   "base_numbering": 1,
   "nav_menu": {},
   "number_sections": true,
   "sideBar": true,
   "skip_h1_title": false,
   "title_cell": "Table of Contents",
   "title_sidebar": "Contents",
   "toc_cell": false,
   "toc_position": {},
   "toc_section_display": true,
   "toc_window_display": false
  }
 },
 "nbformat": 4,
 "nbformat_minor": 5
}
