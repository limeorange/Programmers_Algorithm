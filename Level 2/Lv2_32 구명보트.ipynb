{
 "cells": [
  {
   "cell_type": "markdown",
   "id": "56b7e372",
   "metadata": {},
   "source": [
    "# 구명보트\n",
    "- `유형` \n",
    "\n",
    "\n",
    "\n",
    "- `문제 설명`\n",
    "\n",
    "무인도에 갇힌 사람들을 구명보트를 이용하여 구출하려고 합니다. 구명보트는 작아서 한 번에 최대 2명씩 밖에 탈 수 없고, 무게 제한도 있습니다.\n",
    "\n",
    "예를 들어, 사람들의 몸무게가 [70kg, 50kg, 80kg, 50kg]이고 구명보트의 무게 제한이 100kg이라면 2번째 사람과 4번째 사람은 같이 탈 수 있지만 1번째 사람과 3번째 사람의 무게의 합은 150kg이므로 구명보트의 무게 제한을 초과하여 같이 탈 수 없습니다.\n",
    "\n",
    "구명보트를 최대한 적게 사용하여 모든 사람을 구출하려고 합니다.\n",
    "\n",
    "사람들의 몸무게를 담은 배열 people과 구명보트의 무게 제한 limit가 매개변수로 주어질 때, 모든 사람을 구출하기 위해 필요한 구명보트 개수의 최솟값을 return 하도록 solution 함수를 작성해주세요.\n",
    "\n",
    "\n",
    "\n",
    "- `제한 조건`\n",
    "    - 무인도에 갇힌 사람은 1명 이상 50,000명 이하입니다.\n",
    "    - 각 사람의 몸무게는 40kg 이상 240kg 이하입니다.\n",
    "    - 구명보트의 무게 제한은 40kg 이상 240kg 이하입니다.\n",
    "    - 구명보트의 무게 제한은 항상 사람들의 몸무게 중 최댓값보다 크게 주어지므로 사람들을 구출할 수 없는 경우는 없습니다.\n",
    "\n",
    "\n",
    "- `입력`\n",
    "    - ex1) [70, 50, 80, 50], 100 \n",
    "   \n",
    "    - ex2) [70, 80, 50], 100\n",
    "\n",
    "\n",
    "- `출력`\n",
    "    - ex1) 3\n",
    "    - ex2) 3"
   ]
  },
  {
   "cell_type": "code",
   "execution_count": 34,
   "id": "171fda98",
   "metadata": {
    "ExecuteTime": {
     "end_time": "2022-06-08T07:40:38.557459Z",
     "start_time": "2022-06-08T07:40:38.554211Z"
    }
   },
   "outputs": [],
   "source": [
    "# SOL 1) 투포인터 이용 / 효율성 테스트 미통과\n",
    "\n",
    "def solution(people, limit):\n",
    "    people = sorted(people, reverse = True)\n",
    "    cnt = 0 \n",
    "    a, z = 0, -1\n",
    "    while people:   \n",
    "        if (len(people) != 1) and (people[a] + people[z] <= limit):\n",
    "            people.pop(a)\n",
    "            people.pop(z)\n",
    "            cnt += 1\n",
    "        else:\n",
    "            people.pop(a)\n",
    "            cnt += 1\n",
    "    return cnt"
   ]
  },
  {
   "cell_type": "code",
   "execution_count": 35,
   "id": "d532bb38",
   "metadata": {
    "ExecuteTime": {
     "end_time": "2022-06-08T07:40:39.100693Z",
     "start_time": "2022-06-08T07:40:39.098166Z"
    }
   },
   "outputs": [
    {
     "name": "stdout",
     "output_type": "stream",
     "text": [
      "3\n",
      "3\n"
     ]
    }
   ],
   "source": [
    "print(solution([70, 50, 80, 50], 100))\n",
    "print(solution([70, 80, 50], 100))"
   ]
  },
  {
   "cell_type": "code",
   "execution_count": 37,
   "id": "435d19cd",
   "metadata": {
    "ExecuteTime": {
     "end_time": "2022-06-08T07:43:04.946242Z",
     "start_time": "2022-06-08T07:43:04.942939Z"
    }
   },
   "outputs": [],
   "source": [
    "# SOL 2) 1번 풀이에서 자료구조 deque로 바꾸니 효율성도 통과!\n",
    "\n",
    "from collections import deque\n",
    "\n",
    "def solution(people, limit):\n",
    "    people = deque(sorted(people, reverse = True))\n",
    "    cnt = 0 \n",
    "    a, z = 0, -1\n",
    "    while people:   \n",
    "        if (len(people) != 1) and (people[a] + people[z] <= limit):\n",
    "            people.popleft()\n",
    "            people.pop()\n",
    "            cnt += 1\n",
    "        else:\n",
    "            people.popleft()\n",
    "            cnt += 1\n",
    "    return cnt"
   ]
  },
  {
   "cell_type": "code",
   "execution_count": 38,
   "id": "1a3e4102",
   "metadata": {
    "ExecuteTime": {
     "end_time": "2022-06-08T07:43:05.650000Z",
     "start_time": "2022-06-08T07:43:05.647257Z"
    }
   },
   "outputs": [
    {
     "name": "stdout",
     "output_type": "stream",
     "text": [
      "3\n",
      "3\n"
     ]
    }
   ],
   "source": [
    "print(solution([70, 50, 80, 50], 100))\n",
    "print(solution([70, 80, 50], 100))"
   ]
  }
 ],
 "metadata": {
  "kernelspec": {
   "display_name": "Python 3 (ipykernel)",
   "language": "python",
   "name": "python3"
  },
  "language_info": {
   "codemirror_mode": {
    "name": "ipython",
    "version": 3
   },
   "file_extension": ".py",
   "mimetype": "text/x-python",
   "name": "python",
   "nbconvert_exporter": "python",
   "pygments_lexer": "ipython3",
   "version": "3.9.7"
  },
  "toc": {
   "base_numbering": 1,
   "nav_menu": {},
   "number_sections": true,
   "sideBar": true,
   "skip_h1_title": false,
   "title_cell": "Table of Contents",
   "title_sidebar": "Contents",
   "toc_cell": false,
   "toc_position": {},
   "toc_section_display": true,
   "toc_window_display": false
  }
 },
 "nbformat": 4,
 "nbformat_minor": 5
}
