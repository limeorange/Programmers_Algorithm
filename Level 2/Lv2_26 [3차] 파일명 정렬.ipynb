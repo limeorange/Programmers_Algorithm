{
 "cells": [
  {
   "cell_type": "markdown",
   "id": "56b7e372",
   "metadata": {},
   "source": [
    "# [3차] 파일명 정렬\n",
    "- `유형` 2018 KAKAO BLIND RECRUITMENT\n",
    "\n",
    "\n",
    "- `문제 설명`\n",
    "\n",
    "\n",
    "세 차례의 코딩 테스트와 두 차례의 면접이라는 기나긴 블라인드 공채를 무사히 통과해 카카오에 입사한 무지는 파일 저장소 서버 관리를 맡게 되었다.\n",
    "\n",
    "저장소 서버에는 프로그램의 과거 버전을 모두 담고 있어, 이름 순으로 정렬된 파일 목록은 보기가 불편했다. 파일을 이름 순으로 정렬하면 나중에 만들어진 ver-10.zip이 ver-9.zip보다 먼저 표시되기 때문이다.\n",
    "\n",
    "버전 번호 외에도 숫자가 포함된 파일 목록은 여러 면에서 관리하기 불편했다. 예컨대 파일 목록이 [\"img12.png\", \"img10.png\", \"img2.png\", \"img1.png\"]일 경우, 일반적인 정렬은 [\"img1.png\", \"img10.png\", \"img12.png\", \"img2.png\"] 순이 되지만, 숫자 순으로 정렬된 [\"img1.png\", \"img2.png\", \"img10.png\", img12.png\"] 순이 훨씬 자연스럽다.\n",
    "\n",
    "무지는 단순한 문자 코드 순이 아닌, 파일명에 포함된 숫자를 반영한 정렬 기능을 저장소 관리 프로그램에 구현하기로 했다.\n",
    "\n",
    "소스 파일 저장소에 저장된 파일명은 100 글자 이내로, 영문 대소문자, 숫자, 공백(\" \"), 마침표(\".\"), 빼기 부호(\"-\")만으로 이루어져 있다. 파일명은 영문자로 시작하며, 숫자를 하나 이상 포함하고 있다.\n",
    "\n",
    "파일명은 크게 HEAD, NUMBER, TAIL의 세 부분으로 구성된다.\n",
    "\n",
    "- HEAD는 숫자가 아닌 문자로 이루어져 있으며, 최소한 한 글자 이상이다.\n",
    "- NUMBER는 한 글자에서 최대 다섯 글자 사이의 연속된 숫자로 이루어져 있으며, 앞쪽에 0이 올 수 있다. `0`부터 `99999` 사이의 숫자로, `00000`이나 `0101` 등도 가능하다.\n",
    "- TAIL은 그 나머지 부분으로, 여기에는 숫자가 다시 나타날 수도 있으며, 아무 글자도 없을 수 있다.\n",
    "\n",
    "| 파일명 | HEAD | NUMBER | TAIL |\n",
    "|:-----:|:----:|:------:|:----:|\n",
    "|foo9.txt|foo|9|.txt|\n",
    "|foo010bar020.zip|foo|010|bar020.zip|\n",
    "|F-15|F-|15|(빈 문자열)|\n",
    "\n",
    "파일명을 세 부분으로 나눈 후, 다음 기준에 따라 파일명을 정렬한다.\n",
    "\n",
    "- 파일명은 우선 HEAD 부분을 기준으로 사전 순으로 정렬한다. 이때, 문자열 비교 시 대소문자 구분을 하지 않는다. `MUZI`와 `muzi`, `MuZi`는 정렬 시에 같은 순서로 취급된다.\n",
    "- 파일명의 HEAD 부분이 대소문자 차이 외에는 같을 경우, NUMBER의 숫자 순으로 정렬한다. 9 < 10 < 0011 < 012 < 13 < 014 순으로 정렬된다. 숫자 앞의 0은 무시되며, 012와 12는 정렬 시에 같은 같은 값으로 처리된다.\n",
    "- 두 파일의 HEAD 부분과, NUMBER의 숫자도 같을 경우, 원래 입력에 주어진 순서를 유지한다. `MUZI01.zip`과 `muzi1.png`가 입력으로 들어오면, 정렬 후에도 입력 시 주어진 두 파일의 순서가 바뀌어서는 안 된다.\n",
    "\n",
    "무지를 도와 파일명 정렬 프로그램을 구현하라.\n",
    "\n",
    "\n",
    "- `입력`\n",
    "    - 입력으로 배열 `files`가 주어진다.\n",
    "        - `files`는 1000 개 이하의 파일명을 포함하는 문자열 배열이다.\n",
    "        - 각 파일명은 100 글자 이하 길이로, 영문 대소문자, 숫자, 공백(\" \"), 마침표(\".\"), 빼기 부호(\"-\")만으로 이루어져 있다. 파일명은 영문자로 시작하며, 숫자를 하나 이상 포함하고 있다.\n",
    "        - 중복된 파일명은 없으나, 대소문자나 숫자 앞부분의 0 차이가 있는 경우는 함께 주어질 수 있다. (`muzi1.txt`, `MUZI1.txt`, `muzi001.txt`, `muzi1.TXT`는 함께 입력으로 주어질 수 있다.)\n",
    "    - ex1) [\"img12.png\", \"img10.png\", \"img02.png\", \"img1.png\", \"IMG01.GIF\", \"img2.JPG\"]\n",
    "    - ex2) [\"F-5 Freedom Fighter\", \"B-50 Superfortress\", \"A-10 Thunderbolt II\", \"F-14 Tomcat\"]\n",
    "\n",
    "\n",
    "- `출력`\n",
    "    - ex1) [\"img1.png\", \"IMG01.GIF\", \"img02.png\", \"img2.JPG\", \"img10.png\", \"img12.png\"]\n",
    "    - ex2) [\"A-10 Thunderbolt II\", \"B-50 Superfortress\", \"F-5 Freedom Fighter\", \"F-14 Tomcat\"]\n",
    "    \n",
    "    \n",
    "- `참고`\n",
    "    - [[프로그래머스] LEVEL2 파일명 정렬 (Python)](https://velog.io/@sem/%ED%94%84%EB%A1%9C%EA%B7%B8%EB%9E%98%EB%A8%B8%EC%8A%A4-LEVEL2-%ED%8C%8C%EC%9D%BC%EB%AA%85-%EC%A0%95%EB%A0%AC-Python)\n",
    "    - [[파이썬] 정규표현식(regular expression)](https://jaaamj.tistory.com/68)\n",
    "    - [파이썬 정규표현식(re) 사용법 - 01. Basic](https://greeksharifa.github.io/%EC%A0%95%EA%B7%9C%ED%91%9C%ED%98%84%EC%8B%9D(re\\)/2018/07/20/regex-usage-01-basic/)\n",
    "    - [파이썬 정규표현식(re) 사용법 - 02. 문자, 경계, flags](https://greeksharifa.github.io/%EC%A0%95%EA%B7%9C%ED%91%9C%ED%98%84%EC%8B%9D(re\\)/2018/07/21/regex-usage-02-basic/)\n",
    "    - [파이썬 정규표현식과 re모듈](https://velog.io/@ednadev/%ED%8C%8C%EC%9D%B4%EC%8D%AC-%EC%A0%95%EA%B7%9C%ED%91%9C%ED%98%84%EC%8B%9D%EA%B3%BC-re%EB%AA%A8%EB%93%88)"
   ]
  },
  {
   "cell_type": "code",
   "execution_count": 70,
   "id": "68f7fe0b",
   "metadata": {
    "ExecuteTime": {
     "end_time": "2022-05-30T08:52:53.055664Z",
     "start_time": "2022-05-30T08:52:53.051114Z"
    }
   },
   "outputs": [],
   "source": [
    "# SOL 1)\n",
    "\n",
    "def solution(files):\n",
    "    lst = []\n",
    "    head, number, tail = '', '', ''\n",
    "    \n",
    "    for file in files:\n",
    "        for i in range(len(file)):\n",
    "            \n",
    "            if file[i].isdigit():\n",
    "                head = file[:i]\n",
    "                number = file[i:]\n",
    "\n",
    "                for j in range(len(number)):\n",
    "                    if not number[j].isdigit():\n",
    "                        tail = number[j:]\n",
    "                        number = number[:j]\n",
    "                        break\n",
    "                lst.append([head, number, tail])\n",
    "                head, number, tail = '', '', ''\n",
    "                break\n",
    "            \n",
    "    lst = sorted(lst, key = lambda x : (x[0].upper(), int(x[1])))\n",
    "    return [''.join(i) for i in lst]"
   ]
  },
  {
   "cell_type": "code",
   "execution_count": 71,
   "id": "60321602",
   "metadata": {
    "ExecuteTime": {
     "end_time": "2022-05-30T08:52:54.333522Z",
     "start_time": "2022-05-30T08:52:54.330552Z"
    }
   },
   "outputs": [
    {
     "name": "stdout",
     "output_type": "stream",
     "text": [
      "['img1.png', 'IMG01.GIF', 'img02.png', 'img2.JPG', 'img10.png', 'img12.png']\n",
      "['A-10 Thunderbolt II', 'B-50 Superfortress', 'F-5 Freedom Fighter', 'F-14 Tomcat']\n"
     ]
    }
   ],
   "source": [
    "print(solution([\"img12.png\", \"img10.png\", \"img02.png\", \"img1.png\", \"IMG01.GIF\", \"img2.JPG\"]))\n",
    "print(solution([\"F-5 Freedom Fighter\", \"B-50 Superfortress\", \"A-10 Thunderbolt II\", \"F-14 Tomcat\"]))"
   ]
  },
  {
   "cell_type": "code",
   "execution_count": 60,
   "id": "71840f2d",
   "metadata": {
    "ExecuteTime": {
     "end_time": "2022-05-30T08:47:21.649078Z",
     "start_time": "2022-05-30T08:47:21.645933Z"
    }
   },
   "outputs": [],
   "source": [
    "# SOL 2) 정규표현식 이용\n",
    "# [] : 여러 문자 중 하나와 일치\n",
    "# 0-9 : 숫자와 매칭\n",
    "# + : 1번 이상의 패턴이 발생\n",
    "# () : split 하는 기준(1회 이상 반복되는 숫자 = number)을 리스트에 포함시키는 듯\n",
    "\n",
    "import re\n",
    "\n",
    "def solution(files):\n",
    "    lst = [re.split('([0-9]+)', file) for file in files]\n",
    "    lst = sorted(lst, key = lambda x : (x[0].upper(), int(x[1])))\n",
    "    return [''.join(i) for i in lst]"
   ]
  },
  {
   "cell_type": "code",
   "execution_count": 61,
   "id": "550a6ce5",
   "metadata": {
    "ExecuteTime": {
     "end_time": "2022-05-30T08:47:22.616650Z",
     "start_time": "2022-05-30T08:47:22.613532Z"
    }
   },
   "outputs": [
    {
     "name": "stdout",
     "output_type": "stream",
     "text": [
      "['img1.png', 'IMG01.GIF', 'img02.png', 'img2.JPG', 'img10.png', 'img12.png']\n",
      "['A-10 Thunderbolt II', 'B-50 Superfortress', 'F-5 Freedom Fighter', 'F-14 Tomcat']\n"
     ]
    }
   ],
   "source": [
    "print(solution([\"img12.png\", \"img10.png\", \"img02.png\", \"img1.png\", \"IMG01.GIF\", \"img2.JPG\"]))\n",
    "print(solution([\"F-5 Freedom Fighter\", \"B-50 Superfortress\", \"A-10 Thunderbolt II\", \"F-14 Tomcat\"]))"
   ]
  }
 ],
 "metadata": {
  "kernelspec": {
   "display_name": "Python 3 (ipykernel)",
   "language": "python",
   "name": "python3"
  },
  "language_info": {
   "codemirror_mode": {
    "name": "ipython",
    "version": 3
   },
   "file_extension": ".py",
   "mimetype": "text/x-python",
   "name": "python",
   "nbconvert_exporter": "python",
   "pygments_lexer": "ipython3",
   "version": "3.9.7"
  },
  "toc": {
   "base_numbering": 1,
   "nav_menu": {},
   "number_sections": true,
   "sideBar": true,
   "skip_h1_title": false,
   "title_cell": "Table of Contents",
   "title_sidebar": "Contents",
   "toc_cell": false,
   "toc_position": {},
   "toc_section_display": true,
   "toc_window_display": false
  }
 },
 "nbformat": 4,
 "nbformat_minor": 5
}
