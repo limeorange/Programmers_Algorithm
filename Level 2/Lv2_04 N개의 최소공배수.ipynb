{
 "cells": [
  {
   "cell_type": "markdown",
   "id": "56b7e372",
   "metadata": {},
   "source": [
    "# N개의 최소공배수\n",
    "- `유형` 연습문제\n",
    "\n",
    "\n",
    "- `문제 설명` 두 수의 최소공배수(Least Common Multiple)란 입력된 두 수의 배수 중 공통이 되는 가장 작은 숫자를 의미합니다. 예를 들어 2와 7의 최소공배수는 14가 됩니다. 정의를 확장해서, n개의 수의 최소공배수는 n 개의 수들의 배수 중 공통이 되는 가장 작은 숫자가 됩니다. n개의 숫자를 담은 배열 arr이 입력되었을 때 이 수들의 최소공배수를 반환하는 함수, solution을 완성해 주세요.\n",
    "\n",
    "\n",
    "- `제한 조건`\n",
    "    - arr은 길이 1이상, 15이하인 배열입니다.\n",
    "    - arr의 원소는 100 이하인 자연수입니다.\n",
    "\n",
    "\n",
    "- `입력`\n",
    "    - ex1) [2, 6, 8, 14]\n",
    "    - ex2) [1, 2, 3]\n",
    "\n",
    "\n",
    "- `출력`\n",
    "    - ex1) 168\n",
    "    - ex2) 6"
   ]
  },
  {
   "cell_type": "code",
   "execution_count": 83,
   "id": "68f7fe0b",
   "metadata": {
    "ExecuteTime": {
     "end_time": "2022-05-16T06:29:52.591943Z",
     "start_time": "2022-05-16T06:29:52.588751Z"
    }
   },
   "outputs": [],
   "source": [
    "# SOL 1) \n",
    "\n",
    "def least(a, b):\n",
    "    A, B = a, b\n",
    "    while b > 0:\n",
    "        a, b = b, a % b\n",
    "    \n",
    "    greatest = a\n",
    "    return A * B // greatest\n",
    "\n",
    "def solution(arr):\n",
    "    arr.sort()\n",
    "    temp = arr[0]\n",
    "    for i in range(0, len(arr)-1):\n",
    "        temp = least(temp, arr[i+1])\n",
    "    return temp"
   ]
  },
  {
   "cell_type": "code",
   "execution_count": 84,
   "id": "5bc6af0c",
   "metadata": {
    "ExecuteTime": {
     "end_time": "2022-05-16T06:29:52.597136Z",
     "start_time": "2022-05-16T06:29:52.594159Z"
    }
   },
   "outputs": [
    {
     "name": "stdout",
     "output_type": "stream",
     "text": [
      "168\n",
      "6\n",
      "144\n"
     ]
    }
   ],
   "source": [
    "print(solution([2, 6, 8, 14]))\n",
    "print(solution([1, 2, 3]))\n",
    "print(solution([3, 4, 9, 16]))"
   ]
  }
 ],
 "metadata": {
  "kernelspec": {
   "display_name": "Python 3 (ipykernel)",
   "language": "python",
   "name": "python3"
  },
  "language_info": {
   "codemirror_mode": {
    "name": "ipython",
    "version": 3
   },
   "file_extension": ".py",
   "mimetype": "text/x-python",
   "name": "python",
   "nbconvert_exporter": "python",
   "pygments_lexer": "ipython3",
   "version": "3.9.7"
  },
  "toc": {
   "base_numbering": 1,
   "nav_menu": {},
   "number_sections": true,
   "sideBar": true,
   "skip_h1_title": false,
   "title_cell": "Table of Contents",
   "title_sidebar": "Contents",
   "toc_cell": false,
   "toc_position": {},
   "toc_section_display": true,
   "toc_window_display": false
  }
 },
 "nbformat": 4,
 "nbformat_minor": 5
}
