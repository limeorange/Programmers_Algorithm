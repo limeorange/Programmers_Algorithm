{
 "cells": [
  {
   "cell_type": "markdown",
   "id": "56b7e372",
   "metadata": {},
   "source": [
    "# 피로도\n",
    "- `유형` 위클리 챌린지\n",
    "\n",
    "- `문제 설명`\n",
    "\n",
    "\n",
    "XX게임에는 피로도 시스템(0 이상의 정수로 표현합니다)이 있으며, 일정 피로도를 사용해서 던전을 탐험할 수 있습니다. 이때, 각 던전마다 탐험을 시작하기 위해 필요한 \"최소 필요 피로도\"와 던전 탐험을 마쳤을 때 소모되는 \"소모 피로도\"가 있습니다. \"최소 필요 피로도\"는 해당 던전을 탐험하기 위해 가지고 있어야 하는 최소한의 피로도를 나타내며, \"소모 피로도\"는 던전을 탐험한 후 소모되는 피로도를 나타냅니다. 예를 들어 \"최소 필요 피로도\"가 80, \"소모 피로도\"가 20인 던전을 탐험하기 위해서는 유저의 현재 남은 피로도는 80 이상 이어야 하며, 던전을 탐험한 후에는 피로도 20이 소모됩니다.\n",
    "\n",
    "이 게임에는 하루에 한 번씩 탐험할 수 있는 던전이 여러개 있는데, 한 유저가 오늘 이 던전들을 최대한 많이 탐험하려 합니다. 유저의 현재 피로도 k와 각 던전별 \"최소 필요 피로도\", \"소모 피로도\"가 담긴 2차원 배열 dungeons 가 매개변수로 주어질 때, 유저가 탐험할수 있는 최대 던전 수를 return 하도록 solution 함수를 완성해주세요.\n",
    "\n",
    "\n",
    "- `제한 조건`\n",
    "    - k는 1 이상 5,000 이하인 자연수입니다.\n",
    "    - dungeons의 세로(행) 길이(즉, 던전의 개수)는 1 이상 8 이하입니다.\n",
    "        - dungeons의 가로(열) 길이는 2 입니다.\n",
    "        - dungeons의 각 행은 각 던전의 [\"최소 필요 피로도\", \"소모 피로도\"] 입니다.\n",
    "        - \"최소 필요 피로도\"는 항상 \"소모 피로도\"보다 크거나 같습니다.\n",
    "        - \"최소 필요 피로도\"와 \"소모 피로도\"는 1 이상 1,000 이하인 자연수입니다.\n",
    "        - 서로 다른 던전의 [\"최소 필요 피로도\", \"소모 피로도\"]가 서로 같을 수 있습니다.\n",
    "\n",
    "\n",
    "- `입력`\n",
    "    - ex1) 80, [[80,20],[50,40],[30,10]]\n",
    "\n",
    "\n",
    "- `출력`\n",
    "    - ex1) 3"
   ]
  },
  {
   "cell_type": "code",
   "execution_count": 94,
   "id": "68f7fe0b",
   "metadata": {
    "ExecuteTime": {
     "end_time": "2022-05-25T03:28:00.705352Z",
     "start_time": "2022-05-25T03:28:00.702143Z"
    }
   },
   "outputs": [],
   "source": [
    "# SOL 1)\n",
    "\n",
    "from itertools import permutations\n",
    "\n",
    "def solution(k, d):\n",
    "    \n",
    "    # 주어진 던전을 탐험하는 순서의 모든 경우의 수 리스트\n",
    "    dungeons = [list(i) for i in permutations(d)]\n",
    "    \n",
    "    # 탐험할 수 있는 최대 던전 수로 점점 갱신시켜 나갈 것임 \n",
    "    result = 0\n",
    "    \n",
    "    for dun in dungeons:\n",
    "        \n",
    "        # 던전 순서당 탐험 가능한 던전 수 \n",
    "        mx = 0\n",
    "        \n",
    "        # 현재 피로도 \n",
    "        k_temp = k\n",
    "        \n",
    "        for i in dun:\n",
    "            \n",
    "        # 현재 피로도가 던전의 최소 필요 피로도보다 크면 해당 던전을 탐험함\n",
    "            if k_temp >= i[0]:\n",
    "        \n",
    "                # 해당 던전의 소모 피로도만큼 피로도 감소\n",
    "                k_temp -= i[1]\n",
    "                mx += 1\n",
    "        \n",
    "        # 해당 던전 순서에서 탐험할 수 있는 던전 수가 이전의 수보다 많으면 갱신\n",
    "        if mx > result:\n",
    "            result = mx\n",
    "    return result"
   ]
  },
  {
   "cell_type": "code",
   "execution_count": 95,
   "id": "60321602",
   "metadata": {
    "ExecuteTime": {
     "end_time": "2022-05-25T03:28:01.840058Z",
     "start_time": "2022-05-25T03:28:01.837571Z"
    },
    "scrolled": true
   },
   "outputs": [
    {
     "name": "stdout",
     "output_type": "stream",
     "text": [
      "3\n"
     ]
    }
   ],
   "source": [
    "print(solution(80, [[80,20],[50,40],[30,10]]))"
   ]
  }
 ],
 "metadata": {
  "kernelspec": {
   "display_name": "Python 3 (ipykernel)",
   "language": "python",
   "name": "python3"
  },
  "language_info": {
   "codemirror_mode": {
    "name": "ipython",
    "version": 3
   },
   "file_extension": ".py",
   "mimetype": "text/x-python",
   "name": "python",
   "nbconvert_exporter": "python",
   "pygments_lexer": "ipython3",
   "version": "3.9.7"
  },
  "toc": {
   "base_numbering": 1,
   "nav_menu": {},
   "number_sections": true,
   "sideBar": true,
   "skip_h1_title": false,
   "title_cell": "Table of Contents",
   "title_sidebar": "Contents",
   "toc_cell": false,
   "toc_position": {},
   "toc_section_display": true,
   "toc_window_display": false
  }
 },
 "nbformat": 4,
 "nbformat_minor": 5
}
