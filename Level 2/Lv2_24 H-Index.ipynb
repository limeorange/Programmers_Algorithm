{
 "cells": [
  {
   "cell_type": "markdown",
   "id": "56b7e372",
   "metadata": {},
   "source": [
    "# H-Index\n",
    "- `유형` 정렬\n",
    "\n",
    "\n",
    "- `문제 설명` H-Index는 과학자의 생산성과 영향력을 나타내는 지표입니다. 어느 과학자의 H-Index를 나타내는 값인 h를 구하려고 합니다. 위키백과1에 따르면, H-Index는 다음과 같이 구합니다. 어떤 과학자가 발표한 논문 `n`편 중, `h`번 이상 인용된 논문이 `h`편 이상이고 나머지 논문이 `h`번 이하 인용되었다면 h의 최댓값이 이 과학자의 H-Index입니다. 어떤 과학자가 발표한 논문의 인용 횟수를 담은 배열 citations가 매개변수로 주어질 때, 이 과학자의 H-Index를 return 하도록 solution 함수를 작성해주세요.\n",
    "\n",
    "\n",
    "- `제한 조건`\n",
    "    - 과학자가 발표한 논문의 수는 1편 이상 1,000편 이하입니다.\n",
    "    - 논문별 인용 횟수는 0회 이상 10,000회 이하입니다.\n",
    "\n",
    "\n",
    "- `입력`\n",
    "    - ex1) [3, 0, 6, 1, 5]\n",
    "\n",
    "\n",
    "- `출력`\n",
    "    - ex1) 3"
   ]
  },
  {
   "cell_type": "code",
   "execution_count": 34,
   "id": "68f7fe0b",
   "metadata": {
    "ExecuteTime": {
     "end_time": "2022-05-27T04:53:10.405916Z",
     "start_time": "2022-05-27T04:53:10.402894Z"
    }
   },
   "outputs": [],
   "source": [
    "# SOL 1) 정렬 없이 풀면 시간 효율이 떨어짐\n",
    "\n",
    "def solution(citations):\n",
    "    \n",
    "    if sum(citations) == 0:\n",
    "        return 0\n",
    "    \n",
    "    result = []\n",
    "    for h in range(1, max(citations)+1):\n",
    "        cnt = sum([j >= h for j in citations])\n",
    "        if cnt >= h:\n",
    "            result.append(h)\n",
    "    \n",
    "    return max(result)"
   ]
  },
  {
   "cell_type": "code",
   "execution_count": 36,
   "id": "60321602",
   "metadata": {
    "ExecuteTime": {
     "end_time": "2022-05-27T04:54:36.963914Z",
     "start_time": "2022-05-27T04:54:36.961220Z"
    },
    "scrolled": true
   },
   "outputs": [
    {
     "name": "stdout",
     "output_type": "stream",
     "text": [
      "3\n",
      "0\n"
     ]
    }
   ],
   "source": [
    "print(solution([3, 0, 6, 1, 5]))\n",
    "print(solution([0, 0, 0, 0, 0]))"
   ]
  },
  {
   "cell_type": "code",
   "execution_count": 37,
   "id": "5ab2f964",
   "metadata": {
    "ExecuteTime": {
     "end_time": "2022-05-27T04:55:10.091121Z",
     "start_time": "2022-05-27T04:55:10.088562Z"
    }
   },
   "outputs": [],
   "source": [
    "# SOL 2)\n",
    "\n",
    "def solution(citations):\n",
    "    citations.sort(reverse=True)\n",
    "    answer = max(map(min, enumerate(citations, start=1)))\n",
    "    return answer"
   ]
  },
  {
   "cell_type": "code",
   "execution_count": 38,
   "id": "8d601eb0",
   "metadata": {
    "ExecuteTime": {
     "end_time": "2022-05-27T04:55:10.096052Z",
     "start_time": "2022-05-27T04:55:10.093157Z"
    },
    "scrolled": true
   },
   "outputs": [
    {
     "name": "stdout",
     "output_type": "stream",
     "text": [
      "3\n",
      "0\n"
     ]
    }
   ],
   "source": [
    "print(solution([3, 0, 6, 1, 5]))\n",
    "print(solution([0, 0, 0, 0, 0]))"
   ]
  },
  {
   "cell_type": "code",
   "execution_count": 48,
   "id": "2941964b",
   "metadata": {
    "ExecuteTime": {
     "end_time": "2022-05-27T05:05:50.245265Z",
     "start_time": "2022-05-27T05:05:50.242641Z"
    }
   },
   "outputs": [],
   "source": [
    "# SOL 3)\n",
    "\n",
    "def solution(citations):\n",
    "    citations.sort(reverse=True)\n",
    "    for i in range(len(citations)):\n",
    "        if citations[i] <= i:\n",
    "            return i\n",
    "    return len(sorted_citations)"
   ]
  },
  {
   "cell_type": "code",
   "execution_count": 49,
   "id": "2e71f55d",
   "metadata": {
    "ExecuteTime": {
     "end_time": "2022-05-27T05:05:51.317334Z",
     "start_time": "2022-05-27T05:05:51.314786Z"
    }
   },
   "outputs": [
    {
     "name": "stdout",
     "output_type": "stream",
     "text": [
      "3\n",
      "0\n"
     ]
    }
   ],
   "source": [
    "print(solution([3, 0, 6, 1, 5]))\n",
    "print(solution([0, 0, 0, 0, 0]))"
   ]
  }
 ],
 "metadata": {
  "kernelspec": {
   "display_name": "Python 3 (ipykernel)",
   "language": "python",
   "name": "python3"
  },
  "language_info": {
   "codemirror_mode": {
    "name": "ipython",
    "version": 3
   },
   "file_extension": ".py",
   "mimetype": "text/x-python",
   "name": "python",
   "nbconvert_exporter": "python",
   "pygments_lexer": "ipython3",
   "version": "3.9.7"
  },
  "toc": {
   "base_numbering": 1,
   "nav_menu": {},
   "number_sections": true,
   "sideBar": true,
   "skip_h1_title": false,
   "title_cell": "Table of Contents",
   "title_sidebar": "Contents",
   "toc_cell": false,
   "toc_position": {},
   "toc_section_display": true,
   "toc_window_display": false
  }
 },
 "nbformat": 4,
 "nbformat_minor": 5
}
