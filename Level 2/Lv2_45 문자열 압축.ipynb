{
 "cells": [
  {
   "cell_type": "markdown",
   "metadata": {},
   "source": [
    "## Q13. 카카오 2020 공채 문제 1번 ✔️\n",
    "### [문자열 압축](https://school.programmers.co.kr/learn/courses/30/lessons/60057)"
   ]
  },
  {
   "cell_type": "markdown",
   "metadata": {
    "vscode": {
     "languageId": "plaintext"
    }
   },
   "source": [
    "### 🌱 핵심 포인트\n",
    "1. 처음에 1개씩 자르는 알고리즘 먼저 만들고 len(s)개까지의 각 단위로 일반화함\n",
    "   - 공식 해설에서는 len(s)//2개까지만 검증하면 된다고 함\n",
    "2. **'1'에 대한 예외처리**\n",
    "   - '1a2b..' => replace('1', '')만 하면 예외 발생\n",
    "   - '101a2b..' => '1' 앞뒤로 알파벳인 경우에 해당 1을 ''로 바꿔줘야함\n",
    "   - 문자열은 immutable object라 특정 인덱스의 문자열을 바꾸는 게 불가능하므로 list 변환 => 해당 인덱스 문자열 'X'로 변경 => .join()으로 문자열로 변경해줘야 함\n",
    "   - ''이 아닌 'X'로 변경해주는 이유는 ''로 변경하면 순회하는 동안 idx 에러 발생 => 순회 끝나고 replace('X', '')\n",
    "3. **s의 길이가 1인 경우에 대한 예외처리**\n",
    "\n",
    "### 🔥 풀이"
   ]
  },
  {
   "cell_type": "code",
   "execution_count": null,
   "metadata": {},
   "outputs": [],
   "source": [
    "# 240926 목 PM 6:03\n",
    "# return: 1개 이상 단위로 문자열을 잘라 압축하여 표현한 문자열 중 가장 짧은 것의 길이\n",
    "\n",
    "def solution(s):\n",
    "    \n",
    "    # len(s) == 1일 경우 예외처리 (cut_len 초깃값을 1로 두면 예외처리 없이도 해결됨)\n",
    "    if len(s) == 1:\n",
    "        return 1\n",
    "    \n",
    "    cut_len = 1\n",
    "    \n",
    "    # 자르는 단위 1에서 len(s)까지\n",
    "    for c in range(1, len(s)):\n",
    "        temp_alpha = ''\n",
    "        temp_cnt = 1\n",
    "        for i in range(0, len(s)-1, c):\n",
    "\n",
    "            # 다음 문자열과 일치\n",
    "            if s[i:i+c] == s[i+c:i+2*c]:\n",
    "                temp_cnt += 1\n",
    "                if i == len(s)-(c+1):\n",
    "                    temp_alpha += f'{temp_cnt}{s[i:i+c]}'\n",
    "\n",
    "            # 다음 문자열과 일치 X\n",
    "            else:\n",
    "                if i == len(s)-(c+1):\n",
    "                    temp_alpha += f'{temp_cnt}{s[i:]}'\n",
    "                else:\n",
    "                    temp_alpha += f'{temp_cnt}{s[i:i+c]}'\n",
    "                temp_cnt = 1\n",
    "            \n",
    "        # temp_alpha에서 '1' 처리 => 그냥 replace 쓰면 10일 때 1을 지워버림        \n",
    "        if temp_alpha:\n",
    "            for i in range(len(temp_alpha)):\n",
    "                \n",
    "                # 해당 문자열이 '1'일 때 앞뒤가 알파벳이라면 '1'을 공백으로 바꿀 것임\n",
    "                if temp_alpha[i] == '1':\n",
    "                    if (temp_alpha[i-1]) and temp_alpha[i-1].isalpha() and temp_alpha[i+1].isalpha():\n",
    "                    # 바로 replace하면 전체가 바뀌므로, 해당 인덱스 문자를 X로 치환\n",
    "                        temp_alpha = list(temp_alpha)\n",
    "                        temp_alpha[i] = 'X'\n",
    "                        temp_alpha = ''.join(temp_alpha)\n",
    "                        \n",
    "        temp_alpha = temp_alpha.replace('X', '')\n",
    "\n",
    "        # 최소 길이 갱신\n",
    "        if cut_len == 1:\n",
    "            cut_len = len(temp_alpha)\n",
    "        elif len(temp_alpha) < cut_len:\n",
    "            cut_len = len(temp_alpha)\n",
    "\n",
    "    return cut_len"
   ]
  }
 ],
 "metadata": {
  "kernelspec": {
   "display_name": "Python 3",
   "language": "python",
   "name": "python3"
  },
  "language_info": {
   "name": "python",
   "version": "3.12.6"
  }
 },
 "nbformat": 4,
 "nbformat_minor": 2
}
