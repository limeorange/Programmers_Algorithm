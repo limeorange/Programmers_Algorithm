{
 "cells": [
  {
   "cell_type": "markdown",
   "id": "56b7e372",
   "metadata": {},
   "source": [
    "# 가장 큰 수\n",
    "- `유형` 정렬\n",
    "\n",
    "\n",
    "- `문제 설명` 0 또는 양의 정수가 주어졌을 때, 정수를 이어 붙여 만들 수 있는 가장 큰 수를 알아내 주세요. 예를 들어, 주어진 정수가 [6, 10, 2]라면 [6102, 6210, 1062, 1026, 2610, 2106]를 만들 수 있고, 이중 가장 큰 수는 6210입니다. 0 또는 양의 정수가 담긴 배열 numbers가 매개변수로 주어질 때, 순서를 재배치하여 만들 수 있는 가장 큰 수를 문자열로 바꾸어 return 하도록 solution 함수를 작성해주세요.\n",
    "\n",
    "\n",
    "- `제한 조건`\n",
    "    - numbers의 길이는 1 이상 100,000 이하입니다.\n",
    "    - numbers의 원소는 0 이상 1,000 이하입니다.\n",
    "    - 정답이 너무 클 수 있으니 문자열로 바꾸어 return 합니다.\n",
    "\n",
    "\n",
    "- `입력`\n",
    "    - ex1) [6, 10, 2]\n",
    "    - ex2) [3, 30, 34, 5, 9]\n",
    "\n",
    "\n",
    "- `출력`\n",
    "    - ex1) \"6210\"\n",
    "    - ex2) \"9534330\""
   ]
  },
  {
   "cell_type": "code",
   "execution_count": 2,
   "id": "68f7fe0b",
   "metadata": {
    "ExecuteTime": {
     "end_time": "2022-05-25T06:18:47.971338Z",
     "start_time": "2022-05-25T06:18:47.968451Z"
    }
   },
   "outputs": [],
   "source": [
    "# SOL 1) 리스트 정렬 기준 설정 시 문자열 곱해서 자릿수 맞추기\n",
    "\n",
    "def solution(numbers):\n",
    "    num = list(map(str, numbers))\n",
    "    num.sort(key = lambda x: x*3, reverse = True)\n",
    "    return str(int(''.join(num)))"
   ]
  },
  {
   "cell_type": "code",
   "execution_count": 3,
   "id": "60321602",
   "metadata": {
    "ExecuteTime": {
     "end_time": "2022-05-25T06:19:00.400609Z",
     "start_time": "2022-05-25T06:19:00.397366Z"
    }
   },
   "outputs": [
    {
     "name": "stdout",
     "output_type": "stream",
     "text": [
      "6210\n",
      "9534330\n",
      "0\n"
     ]
    }
   ],
   "source": [
    "print(solution([6, 10, 2]))\n",
    "print(solution([3, 30, 34, 5, 9]))\n",
    "print(solution([0, 0, 0]))"
   ]
  }
 ],
 "metadata": {
  "kernelspec": {
   "display_name": "Python 3 (ipykernel)",
   "language": "python",
   "name": "python3"
  },
  "language_info": {
   "codemirror_mode": {
    "name": "ipython",
    "version": 3
   },
   "file_extension": ".py",
   "mimetype": "text/x-python",
   "name": "python",
   "nbconvert_exporter": "python",
   "pygments_lexer": "ipython3",
   "version": "3.9.7"
  },
  "toc": {
   "base_numbering": 1,
   "nav_menu": {},
   "number_sections": true,
   "sideBar": true,
   "skip_h1_title": false,
   "title_cell": "Table of Contents",
   "title_sidebar": "Contents",
   "toc_cell": false,
   "toc_position": {},
   "toc_section_display": true,
   "toc_window_display": false
  }
 },
 "nbformat": 4,
 "nbformat_minor": 5
}
