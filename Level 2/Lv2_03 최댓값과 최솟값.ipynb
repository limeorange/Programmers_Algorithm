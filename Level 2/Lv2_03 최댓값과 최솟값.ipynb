{
 "cells": [
  {
   "cell_type": "markdown",
   "id": "56b7e372",
   "metadata": {},
   "source": [
    "# 최댓값과 최솟값\n",
    "- `유형` 연습문제\n",
    "\n",
    "\n",
    "- `문제 설명` 문자열 s에는 공백으로 구분된 숫자들이 저장되어 있습니다. str에 나타나는 숫자 중 최소값과 최대값을 찾아 이를 \"(최소값) (최대값)\"형태의 문자열을 반환하는 함수, solution을 완성하세요. 예를들어 s가 \"1 2 3 4\"라면 \"1 4\"를 리턴하고, \"-1 -2 -3 -4\"라면 \"-4 -1\"을 리턴하면 됩니다.\n",
    "\n",
    "\n",
    "- `제한 조건`\n",
    "    - s에는 둘 이상의 정수가 공백으로 구분되어 있습니다.\n",
    "\n",
    "\n",
    "- `입력`\n",
    "    - ex1) \"1 2 3 4\"\n",
    "    - ex2) \"-1 -2 -3 -4\"\n",
    "    - ex3) \"-1 -1\"\n",
    "\n",
    "\n",
    "- `출력`\n",
    "    - ex1) \"1 4\"\n",
    "    - ex2) \"-4 -1\"\n",
    "    - ex3) \"-1 -1\""
   ]
  },
  {
   "cell_type": "code",
   "execution_count": 19,
   "id": "68f7fe0b",
   "metadata": {
    "ExecuteTime": {
     "end_time": "2022-05-13T08:16:10.676778Z",
     "start_time": "2022-05-13T08:16:10.674302Z"
    }
   },
   "outputs": [],
   "source": [
    "# SOL 1) \n",
    "\n",
    "def solution(s):\n",
    "    ss = sorted(map(int, s.split(' ')))\n",
    "    return str(ss[0])+' '+str(ss[-1])"
   ]
  },
  {
   "cell_type": "code",
   "execution_count": 20,
   "id": "60321602",
   "metadata": {
    "ExecuteTime": {
     "end_time": "2022-05-13T08:16:11.412709Z",
     "start_time": "2022-05-13T08:16:11.410107Z"
    }
   },
   "outputs": [
    {
     "name": "stdout",
     "output_type": "stream",
     "text": [
      "1 4\n",
      "-4 -1\n",
      "-1 -1\n"
     ]
    }
   ],
   "source": [
    "print(solution(\"1 2 3 4\"))\n",
    "print(solution(\"-1 -2 -3 -4\"))\n",
    "print(solution(\"-1 -1\"))"
   ]
  },
  {
   "cell_type": "code",
   "execution_count": 22,
   "id": "a301a574",
   "metadata": {
    "ExecuteTime": {
     "end_time": "2022-05-13T08:17:35.340447Z",
     "start_time": "2022-05-13T08:17:35.338036Z"
    }
   },
   "outputs": [],
   "source": [
    "# SOL 2)\n",
    "\n",
    "def solution(s):\n",
    "    ss = list(map(int, s.split(' ')))\n",
    "    return f'{min(ss)} {max(ss)}'"
   ]
  },
  {
   "cell_type": "code",
   "execution_count": 23,
   "id": "bc00a647",
   "metadata": {
    "ExecuteTime": {
     "end_time": "2022-05-13T08:17:40.732863Z",
     "start_time": "2022-05-13T08:17:40.730387Z"
    }
   },
   "outputs": [
    {
     "name": "stdout",
     "output_type": "stream",
     "text": [
      "1 4\n",
      "-4 -1\n",
      "-1 -1\n"
     ]
    }
   ],
   "source": [
    "print(solution(\"1 2 3 4\"))\n",
    "print(solution(\"-1 -2 -3 -4\"))\n",
    "print(solution(\"-1 -1\"))"
   ]
  }
 ],
 "metadata": {
  "kernelspec": {
   "display_name": "Python 3 (ipykernel)",
   "language": "python",
   "name": "python3"
  },
  "language_info": {
   "codemirror_mode": {
    "name": "ipython",
    "version": 3
   },
   "file_extension": ".py",
   "mimetype": "text/x-python",
   "name": "python",
   "nbconvert_exporter": "python",
   "pygments_lexer": "ipython3",
   "version": "3.9.7"
  },
  "toc": {
   "base_numbering": 1,
   "nav_menu": {},
   "number_sections": true,
   "sideBar": true,
   "skip_h1_title": false,
   "title_cell": "Table of Contents",
   "title_sidebar": "Contents",
   "toc_cell": false,
   "toc_position": {},
   "toc_section_display": true,
   "toc_window_display": false
  }
 },
 "nbformat": 4,
 "nbformat_minor": 5
}
