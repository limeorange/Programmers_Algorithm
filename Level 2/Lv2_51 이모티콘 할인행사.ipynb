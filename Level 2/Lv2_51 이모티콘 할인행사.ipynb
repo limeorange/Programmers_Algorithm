{
 "cells": [
  {
   "cell_type": "markdown",
   "metadata": {},
   "source": [
    "## [이모티콘 할인행사](https://school.programmers.co.kr/learn/courses/30/lessons/150368)\n",
    "### 🔥 풀이"
   ]
  },
  {
   "cell_type": "code",
   "execution_count": 1,
   "metadata": {},
   "outputs": [],
   "source": [
    "# 241011 금 AM 2:01\n",
    "\n",
    "'''\n",
    "1. 아이디어\n",
    "- 할인 조합별로 [이모티콘 플러스 가입 수, 이모티콘 매출액] 계산해서 result에 append\n",
    "- result에서 가입 수, 매출액 기준으로 내림차순 정렬 => result[0]\n",
    "\n",
    "- return: [이모티콘 플러스 가입 수, 이모티콘 매출액]\n",
    "'''\n",
    "\n",
    "from itertools import product\n",
    "\n",
    "def solution(users, emoticons):      \n",
    "    result = []\n",
    "    \n",
    "    # 할인율 조합 => 중복순열\n",
    "    cases = list(product([10, 20, 30, 40], repeat = len(emoticons)))\n",
    "\n",
    "    # 모든 할인율 조합에 대한 이모티콘 가격 계산\n",
    "    for case in cases:\n",
    "        total_price, plus_cnt = 0, 0\n",
    "        for u in users:\n",
    "            # 유저 희망 할인율 기준, 유저 플러스 구매 기준 가격\n",
    "            rate, price = u[0], u[1]\n",
    "            temp_price = 0            \n",
    "            for i, e in enumerate(emoticons):\n",
    "                if rate <= case[i]:\n",
    "                    temp_price += e * (100-case[i])/100\n",
    "            if temp_price >= price:\n",
    "                plus_cnt += 1\n",
    "            else:\n",
    "                total_price += temp_price\n",
    "        result.append([plus_cnt, total_price])\n",
    "    result = sorted(result, key = lambda x:(-x[0], -x[1]))\n",
    "    return result[0]"
   ]
  }
 ],
 "metadata": {
  "kernelspec": {
   "display_name": "Python 3 (ipykernel)",
   "language": "python",
   "name": "python3"
  },
  "language_info": {
   "codemirror_mode": {
    "name": "ipython",
    "version": 3
   },
   "file_extension": ".py",
   "mimetype": "text/x-python",
   "name": "python",
   "nbconvert_exporter": "python",
   "pygments_lexer": "ipython3",
   "version": "3.12.6"
  }
 },
 "nbformat": 4,
 "nbformat_minor": 2
}
