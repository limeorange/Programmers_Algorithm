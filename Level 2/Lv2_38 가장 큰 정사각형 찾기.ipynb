{
 "cells": [
  {
   "cell_type": "markdown",
   "id": "56b7e372",
   "metadata": {},
   "source": [
    "# 가장 큰 정사각형 찾기\n",
    "- `유형` 연습문제\n",
    "\n",
    "\n",
    "- `문제 설명` 1와 0로 채워진 표(board)가 있습니다. 표 1칸은 1 x 1 의 정사각형으로 이루어져 있습니다. 표에서 1로 이루어진 가장 큰 정사각형을 찾아 넓이를 return 하는 solution 함수를 완성해 주세요. (단, 정사각형이란 축에 평행한 정사각형을 말합니다.)\n",
    "\n",
    "\n",
    "- `제한 조건`\n",
    "    - 표(board)는 2차원 배열로 주어집니다.\n",
    "    - 표(board)의 행(row)의 크기 : 1,000 이하의 자연수\n",
    "    - 표(board)의 열(column)의 크기 : 1,000 이하의 자연수\n",
    "    - 표(board)의 값은 1또는 0으로만 이루어져 있습니다.\n",
    "\n",
    "\n",
    "- `입력`\n",
    "    - ex1) [[0,1,1,1],[1,1,1,1],[1,1,1,1],[0,0,1,0]]\n",
    "    - ex2) [[0,0,1,1],[1,1,1,1]]\n",
    "\n",
    "\n",
    "- `출력`\n",
    "    - ex1) 9\n",
    "    - ex2) 4\n",
    "    \n",
    "    \n",
    "- `참고`\n",
    "    - [[프로그래머스] 가장 큰 정사각형 찾기 (Level 2) Python 풀이](https://i-am-wendy.tistory.com/13)\n",
    "    - [[프로그래머스] 가장 큰 정사각형 / Python / 반례 포함](https://dev-note-97.tistory.com/107)"
   ]
  },
  {
   "cell_type": "code",
   "execution_count": null,
   "id": "f513d983",
   "metadata": {},
   "outputs": [],
   "source": [
    "def solution(board):\n",
    "    for i in range(1, len(board)): # 행\n",
    "        for j in range(1, len(board[0])): # 열\n",
    "            \n",
    "            # board의 값이 0인 경우 애초에 정사각형 성립이 안되기 때문에 조건에서 제외\n",
    "            if board[i][j] >= 1:\n",
    "                \n",
    "                # 위, 왼쪽, 왼쪽 대각선의 최솟값을 구한 후 +1을 해주면\n",
    "                # min(,,)이 0인 경우 -> 1 / 1이상인 경우 2, 3, ...의 값으로 갱신하여  \n",
    "                # 해당 블록이 정사각형의 우측하단으로서 생성할 수 있는 최대 한 변의 길이를 저장함 \n",
    "                board[i][j] = min(board[i-1][j], board[i][j-1], board[i-1][j-1]) + 1\n",
    "                \n",
    "    return max([num for row in board for num in row])**2"
   ]
  },
  {
   "cell_type": "code",
   "execution_count": 15,
   "id": "60321602",
   "metadata": {
    "ExecuteTime": {
     "end_time": "2022-06-24T03:19:19.316227Z",
     "start_time": "2022-06-24T03:19:19.312282Z"
    }
   },
   "outputs": [
    {
     "name": "stdout",
     "output_type": "stream",
     "text": [
      "9\n",
      "4\n",
      "1\n",
      "0\n",
      "1\n"
     ]
    }
   ],
   "source": [
    "print(solution([[0,1,1,1],[1,1,1,1],[1,1,1,1],[0,0,1,0]]))\n",
    "print(solution([[0,0,1,1],[1,1,1,1]]))\n",
    "print(solution([[0,1,0]]))\n",
    "print(solution([[0,0,0,0]]))\n",
    "print(solution([[0,1,1,0]]))"
   ]
  }
 ],
 "metadata": {
  "kernelspec": {
   "display_name": "Python 3 (ipykernel)",
   "language": "python",
   "name": "python3"
  },
  "language_info": {
   "codemirror_mode": {
    "name": "ipython",
    "version": 3
   },
   "file_extension": ".py",
   "mimetype": "text/x-python",
   "name": "python",
   "nbconvert_exporter": "python",
   "pygments_lexer": "ipython3",
   "version": "3.9.7"
  },
  "toc": {
   "base_numbering": 1,
   "nav_menu": {},
   "number_sections": true,
   "sideBar": true,
   "skip_h1_title": false,
   "title_cell": "Table of Contents",
   "title_sidebar": "Contents",
   "toc_cell": false,
   "toc_position": {},
   "toc_section_display": true,
   "toc_window_display": false
  }
 },
 "nbformat": 4,
 "nbformat_minor": 5
}
