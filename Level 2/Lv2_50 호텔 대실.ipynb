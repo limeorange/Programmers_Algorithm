{
 "cells": [
  {
   "cell_type": "markdown",
   "metadata": {},
   "source": [
    "## [호텔 대실](https://school.programmers.co.kr/learn/courses/30/lessons/155651#)\n",
    "### 🔥 풀이"
   ]
  },
  {
   "cell_type": "code",
   "execution_count": 1,
   "metadata": {},
   "outputs": [],
   "source": [
    "# 241010 목 PM 8:11\n",
    "\n",
    "'''\n",
    "1. 아이디어\n",
    "- 시간대 리스트를 만들어서 각 시간대별 인덱스에 카운팅\n",
    "- 모든 시간대 입력 후 시간대 리스트에서 가장 큰 카운팅 값이 최소로 필요한 방의 수 => 누적합\n",
    "'''\n",
    "\n",
    "# 시각 분단위 환산 함수\n",
    "def time_to_min(time):\n",
    "    return (60*int(time[:2]))+(int(time[3:]))\n",
    "\n",
    "def solution(book_time):\n",
    "    check = [0]*1440\n",
    "    \n",
    "    for time in book_time:\n",
    "        start = time_to_min(time[0])\n",
    "        end = time_to_min(time[1])+10\n",
    "\n",
    "        # 종료시각이 24시를 넘어가는 경우 24시로 통일 (list idx error 해결)\n",
    "        if end >= 1440:    \n",
    "            end = 1439\n",
    "        \n",
    "        # 예약 시간대 카운팅\n",
    "        for idx in range(start, end):\n",
    "            check[idx] += 1\n",
    "    \n",
    "    return max(check)"
   ]
  }
 ],
 "metadata": {
  "kernelspec": {
   "display_name": "Python 3 (ipykernel)",
   "language": "python",
   "name": "python3"
  },
  "language_info": {
   "codemirror_mode": {
    "name": "ipython",
    "version": 3
   },
   "file_extension": ".py",
   "mimetype": "text/x-python",
   "name": "python",
   "nbconvert_exporter": "python",
   "pygments_lexer": "ipython3",
   "version": "3.12.6"
  }
 },
 "nbformat": 4,
 "nbformat_minor": 2
}
