{
 "cells": [
  {
   "cell_type": "markdown",
   "id": "56b7e372",
   "metadata": {},
   "source": [
    "# 피보나치 수\n",
    "- `유형` 연습문제\n",
    "\n",
    "\n",
    "- `문제 설명`\n",
    "\n",
    "\n",
    "피보나치 수는 F(0) = 0, F(1) = 1일 때, 1 이상의 n에 대하여 F(n) = F(n-1) + F(n-2) 가 적용되는 수 입니다.\n",
    "\n",
    "예를들어\n",
    "\n",
    "- F(2) = F(0) + F(1) = 0 + 1 = 1\n",
    "- F(3) = F(1) + F(2) = 1 + 1 = 2\n",
    "- F(4) = F(2) + F(3) = 1 + 2 = 3\n",
    "- F(5) = F(3) + F(4) = 2 + 3 = 5\n",
    "\n",
    "와 같이 이어집니다.\n",
    "\n",
    "2 이상의 n이 입력되었을 때, n번째 피보나치 수를 1234567으로 나눈 나머지를 리턴하는 함수, solution을 완성해 주세요.\n",
    "\n",
    "\n",
    "- `제한 조건`\n",
    "    - n은 2 이상 100,000 이하인 자연수입니다.\n",
    "    \n",
    "    \n",
    "- `입력`\n",
    "    - ex1) 3\n",
    "    - ex2) 5\n",
    "\n",
    "\n",
    "- `출력`\n",
    "    - ex1) 2\n",
    "    - ex2) 5"
   ]
  },
  {
   "cell_type": "code",
   "execution_count": 27,
   "id": "68f7fe0b",
   "metadata": {
    "ExecuteTime": {
     "end_time": "2022-05-25T02:45:32.111400Z",
     "start_time": "2022-05-25T02:45:32.108310Z"
    }
   },
   "outputs": [],
   "source": [
    "# SOL 1)\n",
    "# f = front, b = back, r = result\n",
    "\n",
    "def solution(n):\n",
    "    if (n == 0) or (n == 1):\n",
    "        return n\n",
    "    else:\n",
    "        f, b = 0, 1\n",
    "        for _ in range(2, n+1):\n",
    "            r = f + b\n",
    "            f, b = b, r\n",
    "    return r % 1234567"
   ]
  },
  {
   "cell_type": "code",
   "execution_count": 29,
   "id": "60321602",
   "metadata": {
    "ExecuteTime": {
     "end_time": "2022-05-25T02:46:43.275183Z",
     "start_time": "2022-05-25T02:46:43.272804Z"
    }
   },
   "outputs": [
    {
     "name": "stdout",
     "output_type": "stream",
     "text": [
      "2\n",
      "5\n"
     ]
    }
   ],
   "source": [
    "print(solution(3))\n",
    "print(solution(5))"
   ]
  }
 ],
 "metadata": {
  "kernelspec": {
   "display_name": "Python 3 (ipykernel)",
   "language": "python",
   "name": "python3"
  },
  "language_info": {
   "codemirror_mode": {
    "name": "ipython",
    "version": 3
   },
   "file_extension": ".py",
   "mimetype": "text/x-python",
   "name": "python",
   "nbconvert_exporter": "python",
   "pygments_lexer": "ipython3",
   "version": "3.9.7"
  },
  "toc": {
   "base_numbering": 1,
   "nav_menu": {},
   "number_sections": true,
   "sideBar": true,
   "skip_h1_title": false,
   "title_cell": "Table of Contents",
   "title_sidebar": "Contents",
   "toc_cell": false,
   "toc_position": {},
   "toc_section_display": true,
   "toc_window_display": false
  }
 },
 "nbformat": 4,
 "nbformat_minor": 5
}
