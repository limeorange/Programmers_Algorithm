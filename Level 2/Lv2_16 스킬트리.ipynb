{
 "cells": [
  {
   "cell_type": "markdown",
   "id": "56b7e372",
   "metadata": {},
   "source": [
    "# 스킬트리\n",
    "- `유형` Summer/Winter Coding(~2018)\n",
    "\n",
    "\n",
    "- `문제 설명`\n",
    "\n",
    "\n",
    "선행 스킬이란 어떤 스킬을 배우기 전에 먼저 배워야 하는 스킬을 뜻합니다.\n",
    "\n",
    "예를 들어 선행 스킬 순서가 `스파크 → 라이트닝 볼트 → 썬더`일때, 썬더를 배우려면 먼저 라이트닝 볼트를 배워야 하고, 라이트닝 볼트를 배우려면 먼저 스파크를 배워야 합니다.\n",
    "\n",
    "위 순서에 없는 다른 스킬(힐링 등)은 순서에 상관없이 배울 수 있습니다. 따라서 `스파크 → 힐링 → 라이트닝 볼트 → 썬더`와 같은 스킬트리는 가능하지만, `썬더 → 스파크`나 `라이트닝 볼트 → 스파크 → 힐링 → 썬더`와 같은 스킬트리는 불가능합니다.\n",
    "\n",
    "선행 스킬 순서 skill과 유저들이 만든 스킬트리1를 담은 배열 skill_trees가 매개변수로 주어질 때, 가능한 스킬트리 개수를 return 하는 solution 함수를 작성해주세요.\n",
    "\n",
    "\n",
    "- `제한 조건`\n",
    "    - 스킬은 알파벳 대문자로 표기하며, 모든 문자열은 알파벳 대문자로만 이루어져 있습니다.\n",
    "    - 스킬 순서와 스킬트리는 문자열로 표기합니다.\n",
    "        - 예를 들어, `C → B → D` 라면 \"CBD\"로 표기합니다\n",
    "    - 선행 스킬 순서 skill의 길이는 1 이상 26 이하이며, 스킬은 중복해 주어지지 않습니다.\n",
    "    - skill_trees는 길이 1 이상 20 이하인 배열입니다.\n",
    "    - skill_trees의 원소는 스킬을 나타내는 문자열입니다.\n",
    "        - skill_trees의 원소는 길이가 2 이상 26 이하인 문자열이며, 스킬이 중복해 주어지지 않습니다.\n",
    "\n",
    "\n",
    "- `입력`\n",
    "    - ex1) \"CBD\", [\"BACDE\", \"CBADF\", \"AECB\", \"BDA\"]\n",
    "    \n",
    "\n",
    "- `출력`\n",
    "    - ex1) 2"
   ]
  },
  {
   "cell_type": "code",
   "execution_count": 5,
   "id": "68f7fe0b",
   "metadata": {
    "ExecuteTime": {
     "end_time": "2022-06-22T05:39:07.033497Z",
     "start_time": "2022-06-22T05:39:07.030668Z"
    }
   },
   "outputs": [],
   "source": [
    "# SOL 1)\n",
    "\n",
    "def solution(skill, skill_trees):\n",
    "    cnt = 0\n",
    "    for sk in skill_trees:\n",
    "        temp = ''\n",
    "        \n",
    "        # 순서를 지켜야 하는 skill인 경우 temp에 차례대로 스킬을 붙여서\n",
    "        # 그 순서가 주어진 선행 스킬 순서와 맞는지 확인 \n",
    "        \n",
    "        for i in sk:\n",
    "            if i in skill:\n",
    "                temp += i\n",
    "                \n",
    "        if skill[:len(temp)] == temp:\n",
    "            cnt += 1\n",
    "    return cnt"
   ]
  },
  {
   "cell_type": "code",
   "execution_count": 6,
   "id": "60321602",
   "metadata": {
    "ExecuteTime": {
     "end_time": "2022-06-22T05:39:07.896492Z",
     "start_time": "2022-06-22T05:39:07.894109Z"
    }
   },
   "outputs": [
    {
     "name": "stdout",
     "output_type": "stream",
     "text": [
      "2\n"
     ]
    }
   ],
   "source": [
    "print(solution(\"CBD\", [\"BACDE\", \"CBADF\", \"AECB\", \"BDA\"]))"
   ]
  }
 ],
 "metadata": {
  "kernelspec": {
   "display_name": "Python 3 (ipykernel)",
   "language": "python",
   "name": "python3"
  },
  "language_info": {
   "codemirror_mode": {
    "name": "ipython",
    "version": 3
   },
   "file_extension": ".py",
   "mimetype": "text/x-python",
   "name": "python",
   "nbconvert_exporter": "python",
   "pygments_lexer": "ipython3",
   "version": "3.9.7"
  },
  "toc": {
   "base_numbering": 1,
   "nav_menu": {},
   "number_sections": true,
   "sideBar": true,
   "skip_h1_title": false,
   "title_cell": "Table of Contents",
   "title_sidebar": "Contents",
   "toc_cell": false,
   "toc_position": {},
   "toc_section_display": true,
   "toc_window_display": false
  }
 },
 "nbformat": 4,
 "nbformat_minor": 5
}
