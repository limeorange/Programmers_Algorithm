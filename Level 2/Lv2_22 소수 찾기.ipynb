{
 "cells": [
  {
   "cell_type": "markdown",
   "id": "56b7e372",
   "metadata": {},
   "source": [
    "# 소수 찾기\n",
    "- `유형` 완전탐색\n",
    "\n",
    "\n",
    "- `문제 설명` 한자리 숫자가 적힌 종이 조각이 흩어져있습니다. 흩어진 종이 조각을 붙여 소수를 몇 개 만들 수 있는지 알아내려 합니다. 각 종이 조각에 적힌 숫자가 적힌 문자열 numbers가 주어졌을 때, 종이 조각으로 만들 수 있는 소수가 몇 개인지 return 하도록 solution 함수를 완성해주세요.\n",
    "\n",
    "\n",
    "- `제한 조건`\n",
    "    - numbers는 길이 1 이상 7 이하인 문자열입니다.\n",
    "    - numbers는 0~9까지 숫자만으로 이루어져 있습니다.\n",
    "    - \"013\"은 0, 1, 3 숫자가 적힌 종이 조각이 흩어져있다는 의미입니다.\n",
    "\n",
    "\n",
    "- `입력`\n",
    "    - ex1) \"17\"\n",
    "    - ex2) \"011\n",
    "\n",
    "\n",
    "- `출력`\n",
    "    - ex1) 3 \n",
    "    - ex2) 2"
   ]
  },
  {
   "cell_type": "code",
   "execution_count": 132,
   "id": "68f7fe0b",
   "metadata": {
    "ExecuteTime": {
     "end_time": "2022-05-27T02:29:44.989485Z",
     "start_time": "2022-05-27T02:29:44.985302Z"
    }
   },
   "outputs": [],
   "source": [
    "# SOL 1) 시간 효율 굳! 뿌듯..\n",
    "\n",
    "from itertools import permutations\n",
    "\n",
    "def solution(numbers):\n",
    "    result = set()\n",
    "    for k in range(1, len(numbers)+1):\n",
    "        for i in permutations(numbers, k):\n",
    "            result.add(int(''.join(list(i))))\n",
    "\n",
    "    cnt = 0\n",
    "    for i in result:\n",
    "        if i in (2, 3):\n",
    "            cnt += 1\n",
    "        temp = 0\n",
    "        for j in range(2, int(i**0.5)+1):\n",
    "            if i % j == 0:\n",
    "                temp = 1\n",
    "                break\n",
    "            elif (j == int(i**0.5)) and temp == 0:\n",
    "                cnt += 1        \n",
    "    return cnt"
   ]
  },
  {
   "cell_type": "code",
   "execution_count": 133,
   "id": "60321602",
   "metadata": {
    "ExecuteTime": {
     "end_time": "2022-05-27T02:29:44.994688Z",
     "start_time": "2022-05-27T02:29:44.991597Z"
    }
   },
   "outputs": [
    {
     "name": "stdout",
     "output_type": "stream",
     "text": [
      "3\n",
      "2\n",
      "3\n",
      "18\n"
     ]
    }
   ],
   "source": [
    "print(solution('17'))\n",
    "print(solution('011'))\n",
    "print(solution('121'))\n",
    "print(solution('1231'))"
   ]
  }
 ],
 "metadata": {
  "kernelspec": {
   "display_name": "Python 3 (ipykernel)",
   "language": "python",
   "name": "python3"
  },
  "language_info": {
   "codemirror_mode": {
    "name": "ipython",
    "version": 3
   },
   "file_extension": ".py",
   "mimetype": "text/x-python",
   "name": "python",
   "nbconvert_exporter": "python",
   "pygments_lexer": "ipython3",
   "version": "3.9.7"
  },
  "toc": {
   "base_numbering": 1,
   "nav_menu": {},
   "number_sections": true,
   "sideBar": true,
   "skip_h1_title": false,
   "title_cell": "Table of Contents",
   "title_sidebar": "Contents",
   "toc_cell": false,
   "toc_position": {},
   "toc_section_display": true,
   "toc_window_display": false
  }
 },
 "nbformat": 4,
 "nbformat_minor": 5
}
