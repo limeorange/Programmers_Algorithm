{
 "cells": [
  {
   "cell_type": "markdown",
   "id": "56b7e372",
   "metadata": {},
   "source": [
    "# 순위 검색\n",
    "- `유형` 2021 KAKAO BLIND RECRUITMENT\n",
    "\n",
    "\n",
    "- `문제 설명` \n",
    "\n",
    "\n",
    "[본 문제는 정확성과 효율성 테스트 각각 점수가 있는 문제입니다.]\n",
    "\n",
    "카카오는 하반기 경력 개발자 공개채용을 진행 중에 있으며 현재 지원서 접수와 코딩테스트가 종료되었습니다. 이번 채용에서 지원자는 지원서 작성 시 아래와 같이 4가지 항목을 반드시 선택하도록 하였습니다.\n",
    "\n",
    "\n",
    "- 코딩테스트 참여 개발언어 항목에 cpp, java, python 중 하나를 선택해야 합니다.\n",
    "- 지원 직군 항목에 backend와 frontend 중 하나를 선택해야 합니다.\n",
    "- 지원 경력구분 항목에 junior와 senior 중 하나를 선택해야 합니다.\n",
    "- 선호하는 소울푸드로 chicken과 pizza 중 하나를 선택해야 합니다.\n",
    "\n",
    "\n",
    "인재영입팀에 근무하고 있는 `니니즈`는 코딩테스트 결과를 분석하여 채용에 참여한 개발팀들에 제공하기 위해 지원자들의 지원 조건을 선택하면 해당 조건에 맞는 지원자가 몇 명인 지 쉽게 알 수 있는 도구를 만들고 있습니다.\n",
    "예를 들어, 개발팀에서 궁금해하는 문의사항은 다음과 같은 형태가 될 수 있습니다.\n",
    "\n",
    "\n",
    "`코딩테스트에 java로 참여했으며, backend 직군을 선택했고, junior 경력이면서, 소울푸드로 pizza를 선택한 사람 중 코딩테스트 점수를 50점 이상 받은 지원자는 몇 명인가?`\n",
    "\n",
    "\n",
    "물론 이 외에도 각 개발팀의 상황에 따라 아래와 같이 다양한 형태의 문의가 있을 수 있습니다.\n",
    "- 코딩테스트에 python으로 참여했으며, frontend 직군을 선택했고, senior 경력이면서, 소울푸드로 chicken을 선택한 사람 중 코딩테스트 점수를 100점 이상 받은 사람은 모두 몇 명인가?\n",
    "- 코딩테스트에 cpp로 참여했으며, senior 경력이면서, 소울푸드로 pizza를 선택한 사람 중 코딩테스트 점수를 100점 이상 받은 사람은 모두 몇 명인가?\n",
    "- backend 직군을 선택했고, senior 경력이면서 코딩테스트 점수를 200점 이상 받은 사람은 모두 몇 명인가?\n",
    "- 소울푸드로 chicken을 선택한 사람 중 코딩테스트 점수를 250점 이상 받은 사람은 모두 몇 명인가?\n",
    "- 코딩테스트 점수를 150점 이상 받은 사람은 모두 몇 명인가?\n",
    "\n",
    "\n",
    "즉, 개발팀에서 궁금해하는 내용은 다음과 같은 형태를 갖습니다.\n",
    "> * [조건]을 만족하는 사람 중 코딩테스트 점수를 X점 이상 받은 사람은 모두 몇 명인가?\n",
    "\n",
    "\n",
    "지원자가 지원서에 입력한 4가지의 정보와 획득한 코딩테스트 점수를 하나의 문자열로 구성한 값의 배열 info, 개발팀이 궁금해하는 문의조건이 문자열 형태로 담긴 배열 query가 매개변수로 주어질 때, 각 문의조건에 해당하는 사람들의 숫자를 순서대로 배열에 담아 return 하도록 solution 함수를 완성해 주세요.\n",
    "\n",
    "\n",
    "- `제한 조건`\n",
    "- info 배열의 크기는 1 이상 50,000 이하입니다.\n",
    "- info 배열 각 원소의 값은 지원자가 지원서에 입력한 4가지 값과 코딩테스트 점수를 합친 \"개발언어 직군 경력 소울푸드 점수\" 형식입니다.\n",
    "    - 개발언어는 cpp, java, python 중 하나입니다.\n",
    "    - 직군은 backend, frontend 중 하나입니다.\n",
    "    - 경력은 junior, senior 중 하나입니다.\n",
    "    - 소울푸드는 chicken, pizza 중 하나입니다.\n",
    "    - 점수는 코딩테스트 점수를 의미하며, 1 이상 100,000 이하인 자연수입니다.\n",
    "    - 각 단어는 공백문자(스페이스 바) 하나로 구분되어 있습니다.\n",
    "- query 배열의 크기는 1 이상 100,000 이하입니다.\n",
    "- query의 각 문자열은 \"[조건] X\" 형식입니다.\n",
    "    - [조건]은 \"개발언어 and 직군 and 경력 and 소울푸드\" 형식의 문자열입니다.\n",
    "    - 언어는 cpp, java, python, - 중 하나입니다.\n",
    "    - 직군은 backend, frontend, - 중 하나입니다.\n",
    "    - 경력은 junior, senior, - 중 하나입니다.\n",
    "    - 소울푸드는 chicken, pizza, - 중 하나입니다.\n",
    "    - '-' 표시는 해당 조건을 고려하지 않겠다는 의미입니다.\n",
    "    - X는 코딩테스트 점수를 의미하며 조건을 만족하는 사람 중 X점 이상 받은 사람은 모두 몇 명인 지를 의미합니다.\n",
    "    - 각 단어는 공백문자(스페이스 바) 하나로 구분되어 있습니다.\n",
    "    - 예를 들면, \"cpp and - and senior and pizza 500\"은 \"cpp로 코딩테스트를 봤으며, 경력은 senior 이면서 소울푸드로 pizza를 선택한 지원자 중 코딩테스트 점수를 500점 이상 받은 사람은 모두 몇 명인가?\"를 의미합니다.\n",
    "\n",
    "\n",
    "- `입력`\n",
    "    - ex1) [\"java backend junior pizza 150\",\"python frontend senior chicken 210\",\"python frontend senior chicken 150\",\"cpp backend senior pizza 260\",\"java backend junior chicken 80\",\"python backend senior chicken 50\"], [\"java and backend and junior and pizza 100\",\"python and frontend and senior and chicken 200\",\"cpp and - and senior and pizza 250\",\"- and backend and senior and - 150\",\"- and - and - and chicken 100\",\"- and - and - and - 150\"]\n",
    "\n",
    "\n",
    "- `출력`\n",
    "    - ex1) [1,1,1,1,2,4]\n",
    "\n",
    "\n",
    "- `참고`\n",
    "    - [[프로그래머스] 순위 검색 (Python 파이썬)](https://hongcoding.tistory.com/56)\n",
    "    - [배열 이진 분할 알고리즘](https://docs.python.org/ko/3/library/bisect.html)"
   ]
  },
  {
   "cell_type": "code",
   "execution_count": 76,
   "id": "f6453128",
   "metadata": {
    "ExecuteTime": {
     "end_time": "2022-06-23T06:09:12.810190Z",
     "start_time": "2022-06-23T06:09:12.803804Z"
    }
   },
   "outputs": [],
   "source": [
    "# TRY 1) 정확도 통과, 효율성 미통과\n",
    "# pandas에서 dataframe 사용하는 게 얼마나 비효율적인지 다시 한 번 몸소 깨달음..\n",
    "\n",
    "import pandas as pd\n",
    "\n",
    "def condition(info, query):\n",
    "    \n",
    "    df = pd.DataFrame([['언어', '직군', '경력', '소울푸드', '점수']]+[x.split() for x in info])\n",
    "    df.columns = df.iloc[0]\n",
    "    df = df.drop(0)\n",
    "    df['점수'] = df['점수'].astype('int')\n",
    "\n",
    "    score = int(query.split()[-1])\n",
    "    score_index = (df['점수'] >= score)\n",
    "    cmd = query[:-len(str(score))-1].split(' and ')\n",
    "    dic = {'cpp':'언어', 'java':'언어', 'python':'언어', 'backend':'직군', 'frontend':'직군',\n",
    "           'junior':'경력', 'senior':'경력', 'chicken':'소울푸드', 'pizza':'소울푸드'}\n",
    "    \n",
    "    result = []\n",
    "    for i in cmd:\n",
    "        if i == '-':\n",
    "            pass\n",
    "        else:\n",
    "            result.append((df[dic[i]]==i))\n",
    "\n",
    "    if len(result) == 1:\n",
    "        return len(df[result[0] & score_index])\n",
    "    \n",
    "    elif len(result) == 2:\n",
    "        return len(df[result[0] & result[1] & score_index])\n",
    "    \n",
    "    elif len(result) == 3:\n",
    "        return len(df[result[0] & result[1] & result[2] & score_index])\n",
    "    \n",
    "    elif len(result) == 4:\n",
    "        return len(df[result[0] & result[1] & result[2] & result[3] & score_index])\n",
    "    \n",
    "    else:\n",
    "        return len(df[score_index])\n",
    "\n",
    "def solution(info, query):\n",
    "    result = []\n",
    "    for q in query:\n",
    "        result.append(condition(info, q))\n",
    "    return result"
   ]
  },
  {
   "cell_type": "code",
   "execution_count": 163,
   "id": "91c7361c",
   "metadata": {
    "ExecuteTime": {
     "end_time": "2022-06-23T09:18:22.584330Z",
     "start_time": "2022-06-23T09:18:22.581367Z"
    }
   },
   "outputs": [
    {
     "name": "stdout",
     "output_type": "stream",
     "text": [
      "[1, 1, 1, 1, 2, 4]\n"
     ]
    }
   ],
   "source": [
    "print(solution([\"java backend junior pizza 150\",\"python frontend senior chicken 210\",\n",
    "                \"python frontend senior chicken 150\",\"cpp backend senior pizza 260\",\n",
    "                \"java backend junior chicken 80\",\"python backend senior chicken 50\"],\n",
    "               [\"java and backend and junior and pizza 100\",\n",
    "                \"python and frontend and senior and chicken 200\",\n",
    "                \"cpp and - and senior and pizza 250\",\"- and backend and senior and - 150\",\n",
    "                \"- and - and - and chicken 100\",\"- and - and - and - 150\"]))"
   ]
  },
  {
   "cell_type": "code",
   "execution_count": 161,
   "id": "fde27fbc",
   "metadata": {
    "ExecuteTime": {
     "end_time": "2022-06-23T09:15:45.454195Z",
     "start_time": "2022-06-23T09:15:45.448609Z"
    }
   },
   "outputs": [],
   "source": [
    "# SOL 1) 딕셔너리와 이진 분할 탐색을 이용한 풀이\n",
    "\n",
    "from itertools import combinations\n",
    "from bisect import bisect_left\n",
    "\n",
    "info = [\"java backend junior pizza 150\",\"python frontend senior chicken 210\",\n",
    "                \"python frontend senior chicken 150\",\"cpp backend senior pizza 260\",\n",
    "                \"java backend junior chicken 80\",\"python backend senior chicken 50\"]\n",
    "query = [\"java and backend and junior and pizza 100\",\n",
    "         \"python and frontend and senior and chicken 200\",\n",
    "         \"cpp and - and senior and pizza 250\",\"- and backend and senior and - 150\",\n",
    "         \"- and - and - and chicken 100\",\"- and - and - and - 150\"]\n",
    "\n",
    "def solution(info, query):\n",
    "\n",
    "    # 1. info_dic 생성\n",
    "    # key = info의 1순회당 언어, 직군, 경력, 소울푸드의 조합, value = info의 1순회당 점수\n",
    "    # cf) 공백도 사전의 key로 넣을 수 있음\n",
    "    info_dic = {}\n",
    "    for i in info: # ex) i = \"java backend junior pizza 150\"\n",
    "        i_split = i.split()\n",
    "        key, val = i_split[:-1], i_split[-1]\n",
    "\n",
    "        for j in range(5):\n",
    "            for c in combinations(key, j):\n",
    "                tmp_key = ''.join(c)\n",
    "                if tmp_key in info_dic:\n",
    "                    info_dic[tmp_key].append(int(val))\n",
    "                else:\n",
    "                    info_dic[tmp_key] = [int(val)]\n",
    "\n",
    "    # 2. info_dic의 values(= 점수 리스트) 정렬\n",
    "    for k in info_dic:\n",
    "        info_dic[k].sort()\n",
    "\n",
    "    # 3. query를 순회하면서 info_dic의 key와 일치하면 해당 value(= 점수 리스트) 가져오기 \n",
    "    result = []\n",
    "    for q in query:\n",
    "        q_split = q.split()\n",
    "        key, val = q_split[:-1], q_split[-1]\n",
    "\n",
    "        while '-' in key:\n",
    "            key.remove('-')\n",
    "        while 'and' in key:\n",
    "            key.remove('and')\n",
    "\n",
    "        key_str = ''.join(key)\n",
    "        \n",
    "        if key_str in info_dic:\n",
    "            scores = info_dic[key_str]\n",
    "            if scores:\n",
    "                # 해당 점수 리스트에 query의 기준 점수를 삽입할 위치를 이진 분할 탐색함\n",
    "                loc = bisect_left(scores, int(val))\n",
    "                result.append(len(scores)-loc)      \n",
    "                \n",
    "        # info_dic의 key에 존재하지 않는 조건이 주어졌을 경우 \n",
    "        else:\n",
    "            result.append(0)\n",
    "    return result "
   ]
  },
  {
   "cell_type": "code",
   "execution_count": 162,
   "id": "c0e4f0ac",
   "metadata": {
    "ExecuteTime": {
     "end_time": "2022-06-23T09:15:46.065408Z",
     "start_time": "2022-06-23T09:15:46.062659Z"
    },
    "scrolled": false
   },
   "outputs": [
    {
     "name": "stdout",
     "output_type": "stream",
     "text": [
      "[1, 1, 1, 1, 2, 4]\n"
     ]
    }
   ],
   "source": [
    "print(solution([\"java backend junior pizza 150\",\"python frontend senior chicken 210\",\n",
    "                \"python frontend senior chicken 150\",\"cpp backend senior pizza 260\",\n",
    "                \"java backend junior chicken 80\",\"python backend senior chicken 50\"],\n",
    "               [\"java and backend and junior and pizza 100\",\n",
    "                \"python and frontend and senior and chicken 200\",\n",
    "                \"cpp and - and senior and pizza 250\",\"- and backend and senior and - 150\",\n",
    "                \"- and - and - and chicken 100\",\"- and - and - and - 150\"])) "
   ]
  }
 ],
 "metadata": {
  "kernelspec": {
   "display_name": "Python 3 (ipykernel)",
   "language": "python",
   "name": "python3"
  },
  "language_info": {
   "codemirror_mode": {
    "name": "ipython",
    "version": 3
   },
   "file_extension": ".py",
   "mimetype": "text/x-python",
   "name": "python",
   "nbconvert_exporter": "python",
   "pygments_lexer": "ipython3",
   "version": "3.9.7"
  },
  "toc": {
   "base_numbering": 1,
   "nav_menu": {},
   "number_sections": true,
   "sideBar": true,
   "skip_h1_title": false,
   "title_cell": "Table of Contents",
   "title_sidebar": "Contents",
   "toc_cell": false,
   "toc_position": {},
   "toc_section_display": true,
   "toc_window_display": false
  }
 },
 "nbformat": 4,
 "nbformat_minor": 5
}
