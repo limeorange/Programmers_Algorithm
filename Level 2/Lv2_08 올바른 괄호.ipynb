{
 "cells": [
  {
   "cell_type": "markdown",
   "id": "56b7e372",
   "metadata": {},
   "source": [
    "# 올바른 괄호\n",
    "- `유형` 연습문제\n",
    "\n",
    "\n",
    "- `문제 설명`\n",
    "\n",
    "\n",
    "괄호가 바르게 짝지어졌다는 것은 '(' 문자로 열렸으면 반드시 짝지어서 ')' 문자로 닫혀야 한다는 뜻입니다. 예를 들어\n",
    "\n",
    "- \"()()\" 또는 \"(())()\" 는 올바른 괄호입니다.\n",
    "- \")()(\" 또는 \"(()(\" 는 올바르지 않은 괄호입니다.\n",
    "\n",
    "'(' 또는 ')' 로만 이루어진 문자열 s가 주어졌을 때, 문자열 s가 올바른 괄호이면 true를 return 하고, 올바르지 않은 괄호이면 false를 return 하는 solution 함수를 완성해 주세요.\n",
    "\n",
    "\n",
    "- `제한 조건`\n",
    "    - 문자열 s의 길이 : 100,000 이하의 자연수\n",
    "    - 문자열 s는 '(' 또는 ')' 로만 이루어져 있습니다.\n",
    "\n",
    "\n",
    "- `입력`\n",
    "    - ex1) \"()()\"\n",
    "    - ex2) \"(())()\"\n",
    "    - ex3) \")()(\"\n",
    "    - ex4) \"(()(\"\n",
    " \n",
    "\n",
    "- `출력`\n",
    "    - ex1) true\n",
    "    - ex2) true\n",
    "    - ex3) false\n",
    "    - ex4) false"
   ]
  },
  {
   "cell_type": "code",
   "execution_count": 21,
   "id": "68f7fe0b",
   "metadata": {
    "ExecuteTime": {
     "end_time": "2022-05-17T08:27:41.989298Z",
     "start_time": "2022-05-17T08:27:41.986355Z"
    }
   },
   "outputs": [],
   "source": [
    "# SOL 1) 왼쪽, 오른쪽 괄호 모두 stack 생성  \n",
    "\n",
    "def solution(s):\n",
    "    left = []\n",
    "    right = []\n",
    "    for i in s:\n",
    "        if i == '(':\n",
    "            left.append(i)\n",
    "        else:\n",
    "            right.append(i)\n",
    "            if (len(left) != 0) and (left[-1] + i == '()'):\n",
    "                left.pop()\n",
    "                right.pop()\n",
    "    return True if len(left)+len(right) == 0 else False"
   ]
  },
  {
   "cell_type": "code",
   "execution_count": 22,
   "id": "60321602",
   "metadata": {
    "ExecuteTime": {
     "end_time": "2022-05-17T08:27:42.741969Z",
     "start_time": "2022-05-17T08:27:42.738713Z"
    }
   },
   "outputs": [
    {
     "name": "stdout",
     "output_type": "stream",
     "text": [
      "True\n",
      "True\n",
      "False\n",
      "False\n",
      "False\n"
     ]
    }
   ],
   "source": [
    "print(solution(\"()()\"))\n",
    "print(solution(\"(())()\"))\n",
    "print(solution(\")()(\"))\n",
    "print(solution(\"(()(\"))\n",
    "print(solution(\")\"))"
   ]
  }
 ],
 "metadata": {
  "kernelspec": {
   "display_name": "Python 3 (ipykernel)",
   "language": "python",
   "name": "python3"
  },
  "language_info": {
   "codemirror_mode": {
    "name": "ipython",
    "version": 3
   },
   "file_extension": ".py",
   "mimetype": "text/x-python",
   "name": "python",
   "nbconvert_exporter": "python",
   "pygments_lexer": "ipython3",
   "version": "3.9.7"
  },
  "toc": {
   "base_numbering": 1,
   "nav_menu": {},
   "number_sections": true,
   "sideBar": true,
   "skip_h1_title": false,
   "title_cell": "Table of Contents",
   "title_sidebar": "Contents",
   "toc_cell": false,
   "toc_position": {},
   "toc_section_display": true,
   "toc_window_display": false
  }
 },
 "nbformat": 4,
 "nbformat_minor": 5
}
