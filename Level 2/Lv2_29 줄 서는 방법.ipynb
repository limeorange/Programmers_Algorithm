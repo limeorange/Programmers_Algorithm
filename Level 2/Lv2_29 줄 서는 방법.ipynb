{
 "cells": [
  {
   "cell_type": "markdown",
   "id": "56b7e372",
   "metadata": {},
   "source": [
    "# 줄 서는 방법\n",
    "- `유형` 연습문제\n",
    "\n",
    "\n",
    "- `문제 설명`\n",
    "\n",
    "n명의 사람이 일렬로 줄을 서고 있습니다. n명의 사람들에게는 각각 1번부터 n번까지 번호가 매겨져 있습니다. n명이 사람을 줄을 서는 방법은 여러가지 방법이 있습니다. 예를 들어서 3명의 사람이 있다면 다음과 같이 6개의 방법이 있습니다.\n",
    "\n",
    "- [1, 2, 3]\n",
    "- [1, 3, 2]\n",
    "- [2, 1, 3]\n",
    "- [2, 3, 1]\n",
    "- [3, 1, 2]\n",
    "- [3, 2, 1]\n",
    "\n",
    "사람의 수 n과, 자연수 k가 주어질 때, 사람을 나열 하는 방법을 사전 순으로 나열 했을 때, k번째 방법을 return하는 solution 함수를 완성해주세요.\n",
    "\n",
    "\n",
    "- `제한 조건`\n",
    "    - n은 20이하의 자연수 입니다.\n",
    "    - k는 n! 이하의 자연수 입니다.\n",
    "\n",
    "\n",
    "- `입력`\n",
    "    - ex1) 3, 5\n",
    "\n",
    "\n",
    "- `출력`\n",
    "    - ex1) [3, 1, 2]"
   ]
  },
  {
   "cell_type": "code",
   "execution_count": 48,
   "id": "37995356",
   "metadata": {
    "ExecuteTime": {
     "end_time": "2022-06-07T06:15:11.918717Z",
     "start_time": "2022-06-07T06:15:11.915289Z"
    }
   },
   "outputs": [],
   "source": [
    "# SOL 1) k번째 방법의 1, 2, ..., n 자리수의 인덱스 구하기 \n",
    "\n",
    "from math import factorial\n",
    "\n",
    "def solution(n, k):\n",
    "    nums = list(range(1, n+1))\n",
    "    answer = []\n",
    "    \n",
    "    while nums and n > 0:\n",
    "        temp = nums[(k-1) // factorial(n-1)]\n",
    "        answer.append(temp)\n",
    "        nums.remove(temp)\n",
    "        k = k % factorial(n-1)\n",
    "        n -= 1\n",
    "    \n",
    "    return answer"
   ]
  },
  {
   "cell_type": "code",
   "execution_count": 49,
   "id": "60321602",
   "metadata": {
    "ExecuteTime": {
     "end_time": "2022-06-07T06:15:12.613345Z",
     "start_time": "2022-06-07T06:15:12.610955Z"
    }
   },
   "outputs": [
    {
     "name": "stdout",
     "output_type": "stream",
     "text": [
      "[3, 1, 2]\n"
     ]
    }
   ],
   "source": [
    "print(solution(3, 5)) # [3, 1, 2]"
   ]
  }
 ],
 "metadata": {
  "kernelspec": {
   "display_name": "Python 3 (ipykernel)",
   "language": "python",
   "name": "python3"
  },
  "language_info": {
   "codemirror_mode": {
    "name": "ipython",
    "version": 3
   },
   "file_extension": ".py",
   "mimetype": "text/x-python",
   "name": "python",
   "nbconvert_exporter": "python",
   "pygments_lexer": "ipython3",
   "version": "3.9.7"
  },
  "toc": {
   "base_numbering": 1,
   "nav_menu": {},
   "number_sections": true,
   "sideBar": true,
   "skip_h1_title": false,
   "title_cell": "Table of Contents",
   "title_sidebar": "Contents",
   "toc_cell": false,
   "toc_position": {},
   "toc_section_display": true,
   "toc_window_display": false
  }
 },
 "nbformat": 4,
 "nbformat_minor": 5
}
