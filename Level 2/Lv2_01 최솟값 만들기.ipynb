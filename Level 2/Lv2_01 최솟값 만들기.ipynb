{
 "cells": [
  {
   "cell_type": "markdown",
   "id": "56b7e372",
   "metadata": {},
   "source": [
    "# 최솟값 만들기\n",
    "- `유형` 연습문제\n",
    "\n",
    "\n",
    "- `문제 설명`\n",
    "\n",
    "\n",
    "길이가 같은 배열 A, B 두개가 있습니다. 각 배열은 자연수로 이루어져 있습니다. 배열 A, B에서 각각 한 개의 숫자를 뽑아 두 수를 곱합니다. 이러한 과정을 배열의 길이만큼 반복하며, 두 수를 곱한 값을 누적하여 더합니다. 이때 최종적으로 누적된 값이 최소가 되도록 만드는 것이 목표입니다. (단, 각 배열에서 k번째 숫자를 뽑았다면 다음에 k번째 숫자는 다시 뽑을 수 없습니다.)\n",
    " \n",
    "예를 들어 A = [1, 4, 2] , B = [5, 4, 4] 라면\n",
    "\n",
    "- A에서 첫번째 숫자인 1, B에서 첫번째 숫자인 5를 뽑아 곱하여 더합니다. (누적된 값 : 0 + 5(1x5) = 5)\n",
    "- A에서 두번째 숫자인 4, B에서 세번째 숫자인 4를 뽑아 곱하여 더합니다. (누적된 값 : 5 + 16(4x4) = 21)\n",
    "- A에서 세번째 숫자인 2, B에서 두번째 숫자인 4를 뽑아 곱하여 더합니다. (누적된 값 : 21 + 8(2x4) = 29)\n",
    "\n",
    "즉, 이 경우가 최소가 되므로 29를 return 합니다.\n",
    "\n",
    "배열 A, B가 주어질 때 최종적으로 누적된 최솟값을 return 하는 solution 함수를 완성해 주세요.\n",
    "\n",
    "\n",
    "- `제한 조건`\n",
    "    - 배열 A, B의 크기 : 1,000 이하의 자연수\n",
    "    - 배열 A, B의 원소의 크기 : 1,000 이하의 자연수\n",
    "\n",
    "\n",
    "- `입력`\n",
    "    - ex1) [1, 4, 2], [5, 4, 4]\n",
    "    - ex2) [1, 2], [3, 4]\n",
    "\n",
    "\n",
    "- `출력`\n",
    "    - ex1) 29\n",
    "    - ex2) 10"
   ]
  },
  {
   "cell_type": "code",
   "execution_count": 1,
   "id": "68f7fe0b",
   "metadata": {
    "ExecuteTime": {
     "end_time": "2022-06-17T05:04:03.059064Z",
     "start_time": "2022-06-17T05:04:03.052888Z"
    }
   },
   "outputs": [],
   "source": [
    "# SOL 1) \n",
    "\n",
    "def solution(A, B):\n",
    "    return sum([A*B for A, B in zip(sorted(A), sorted(B))])"
   ]
  },
  {
   "cell_type": "code",
   "execution_count": 2,
   "id": "03b8dfda",
   "metadata": {
    "ExecuteTime": {
     "end_time": "2022-06-17T05:04:12.196357Z",
     "start_time": "2022-06-17T05:04:12.193592Z"
    }
   },
   "outputs": [
    {
     "name": "stdout",
     "output_type": "stream",
     "text": [
      "32\n",
      "11\n"
     ]
    }
   ],
   "source": [
    "print(solution([1, 4, 2], [5, 4, 4]))\n",
    "print(solution([1, 2], [3, 4]))"
   ]
  },
  {
   "cell_type": "code",
   "execution_count": 2,
   "id": "60321602",
   "metadata": {
    "ExecuteTime": {
     "end_time": "2022-05-13T07:54:54.288200Z",
     "start_time": "2022-05-13T07:54:54.285154Z"
    }
   },
   "outputs": [
    {
     "name": "stdout",
     "output_type": "stream",
     "text": [
      "29\n",
      "10\n"
     ]
    }
   ],
   "source": [
    "print(solution([1, 4, 2], [5, 4, 4]))\n",
    "print(solution([1, 2], [3, 4]))"
   ]
  },
  {
   "cell_type": "code",
   "execution_count": null,
   "id": "24d4e9fb",
   "metadata": {},
   "outputs": [],
   "source": [
    "reversed("
   ]
  }
 ],
 "metadata": {
  "kernelspec": {
   "display_name": "Python 3 (ipykernel)",
   "language": "python",
   "name": "python3"
  },
  "language_info": {
   "codemirror_mode": {
    "name": "ipython",
    "version": 3
   },
   "file_extension": ".py",
   "mimetype": "text/x-python",
   "name": "python",
   "nbconvert_exporter": "python",
   "pygments_lexer": "ipython3",
   "version": "3.9.7"
  },
  "toc": {
   "base_numbering": 1,
   "nav_menu": {},
   "number_sections": true,
   "sideBar": true,
   "skip_h1_title": false,
   "title_cell": "Table of Contents",
   "title_sidebar": "Contents",
   "toc_cell": false,
   "toc_position": {},
   "toc_section_display": true,
   "toc_window_display": false
  }
 },
 "nbformat": 4,
 "nbformat_minor": 5
}
