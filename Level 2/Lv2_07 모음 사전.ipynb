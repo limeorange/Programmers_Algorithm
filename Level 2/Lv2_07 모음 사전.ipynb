{
 "cells": [
  {
   "cell_type": "markdown",
   "id": "56b7e372",
   "metadata": {},
   "source": [
    "# 모음 사전\n",
    "- `유형` 위클리 챌린지\n",
    "\n",
    "\n",
    "- `문제 설명` 사전에 알파벳 모음 'A', 'E', 'I', 'O', 'U'만을 사용하여 만들 수 있는, 길이 5 이하의 모든 단어가 수록되어 있습니다. 사전에서 첫 번째 단어는 \"A\"이고, 그다음은 \"AA\"이며, 마지막 단어는 \"UUUUU\"입니다. 단어 하나 word가 매개변수로 주어질 때, 이 단어가 사전에서 몇 번째 단어인지 return 하도록 solution 함수를 완성해주세요.\n",
    "\n",
    "\n",
    "- `제한 조건`\n",
    "    - word의 길이는 1 이상 5 이하입니다.\n",
    "    - word는 알파벳 대문자 'A', 'E', 'I', 'O', 'U'로만 이루어져 있습니다.\n",
    "\n",
    "\n",
    "- `입력`\n",
    "    - ex1) \"AAAAE\"\n",
    "    - ex2) \"AAAE\"\t\n",
    "    - ex3) \"I\"\n",
    "    - ex4) \"EIO\"\n",
    "\n",
    "- `출력`\n",
    "    - ex1) 6\n",
    "    - ex2) 10\n",
    "    - ex3) 1563\n",
    "    - ex4) 1189\n",
    "\n",
    "\n",
    "- `참고`\n",
    "    - [22.6 리스트에 map 사용하기](https://dojang.io/mod/page/view.php?id=2286)\n",
    "    - [[Python] itertools를 이용한 조합](https://geonlee.tistory.com/69)"
   ]
  },
  {
   "cell_type": "code",
   "execution_count": 3,
   "id": "68f7fe0b",
   "metadata": {
    "ExecuteTime": {
     "end_time": "2022-06-21T04:39:32.132272Z",
     "start_time": "2022-06-21T04:39:32.128896Z"
    }
   },
   "outputs": [],
   "source": [
    "# SOL 1) product 이용 \n",
    "\n",
    "from itertools import product\n",
    "\n",
    "def solution(word):\n",
    "    dic = []\n",
    "    for i in range(1, 6):\n",
    "        dic += list(map(''.join, product('AEIOU', repeat = i)))\n",
    "    dic.sort()\n",
    "    return dic.index(word) + 1"
   ]
  },
  {
   "cell_type": "code",
   "execution_count": 4,
   "id": "60321602",
   "metadata": {
    "ExecuteTime": {
     "end_time": "2022-06-21T04:39:33.413142Z",
     "start_time": "2022-06-21T04:39:33.408012Z"
    },
    "scrolled": true
   },
   "outputs": [
    {
     "name": "stdout",
     "output_type": "stream",
     "text": [
      "6\n",
      "10\n",
      "1563\n",
      "1189\n",
      "41\n"
     ]
    }
   ],
   "source": [
    "print(solution('AAAAE'))\n",
    "print(solution('AAAE'))\n",
    "print(solution('I'))\n",
    "print(solution('EIO'))\n",
    "print(solution('AAEE'))"
   ]
  },
  {
   "cell_type": "code",
   "execution_count": 17,
   "id": "7912fea7",
   "metadata": {
    "ExecuteTime": {
     "end_time": "2022-05-16T09:05:49.490675Z",
     "start_time": "2022-05-16T09:05:49.487877Z"
    }
   },
   "outputs": [],
   "source": [
    "# SOL 2) 규칙 이용\n",
    "\n",
    "def solution(word):\n",
    "    char = dict(zip('AEIOU', list(range(0, 5))))\n",
    "    answer = len(word)\n",
    "    re = (((5 + 1) * 5 + 1) * 5 + 1) * 5 + 1\n",
    "    \n",
    "    for i in word:\n",
    "        answer += re * char[i]\n",
    "        re = (re - 1) // 5\n",
    "    return answer"
   ]
  },
  {
   "cell_type": "code",
   "execution_count": 18,
   "id": "50a205d2",
   "metadata": {
    "ExecuteTime": {
     "end_time": "2022-05-16T09:05:50.970738Z",
     "start_time": "2022-05-16T09:05:50.967744Z"
    }
   },
   "outputs": [
    {
     "name": "stdout",
     "output_type": "stream",
     "text": [
      "6\n",
      "10\n",
      "1563\n",
      "1189\n",
      "41\n"
     ]
    }
   ],
   "source": [
    "print(solution('AAAAE'))\n",
    "print(solution('AAAE'))\n",
    "print(solution('I'))\n",
    "print(solution('EIO'))\n",
    "print(solution('AAEE'))"
   ]
  }
 ],
 "metadata": {
  "kernelspec": {
   "display_name": "Python 3 (ipykernel)",
   "language": "python",
   "name": "python3"
  },
  "language_info": {
   "codemirror_mode": {
    "name": "ipython",
    "version": 3
   },
   "file_extension": ".py",
   "mimetype": "text/x-python",
   "name": "python",
   "nbconvert_exporter": "python",
   "pygments_lexer": "ipython3",
   "version": "3.9.7"
  },
  "toc": {
   "base_numbering": 1,
   "nav_menu": {},
   "number_sections": true,
   "sideBar": true,
   "skip_h1_title": false,
   "title_cell": "Table of Contents",
   "title_sidebar": "Contents",
   "toc_cell": false,
   "toc_position": {},
   "toc_section_display": true,
   "toc_window_display": false
  }
 },
 "nbformat": 4,
 "nbformat_minor": 5
}
