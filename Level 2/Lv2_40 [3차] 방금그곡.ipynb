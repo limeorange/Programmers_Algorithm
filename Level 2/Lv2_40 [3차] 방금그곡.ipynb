{
 "cells": [
  {
   "cell_type": "markdown",
   "id": "56b7e372",
   "metadata": {},
   "source": [
    "# [3차] 방금그곡\n",
    "- `유형` 2018 KAKAO BLIND RECRUITMENT\n",
    "\n",
    "\n",
    "- `문제 설명`\n",
    "\n",
    "\n",
    "라디오를 자주 듣는 네오는 라디오에서 방금 나왔던 음악이 무슨 음악인지 궁금해질 때가 많다. 그럴 때 네오는 다음 포털의 '방금그곡' 서비스를 이용하곤 한다. 방금그곡에서는 TV, 라디오 등에서 나온 음악에 관해 제목 등의 정보를 제공하는 서비스이다.\n",
    "\n",
    "네오는 자신이 기억한 멜로디를 가지고 방금그곡을 이용해 음악을 찾는다. 그런데 라디오 방송에서는 한 음악을 반복해서 재생할 때도 있어서 네오가 기억하고 있는 멜로디는 음악 끝부분과 처음 부분이 이어서 재생된 멜로디일 수도 있다. 반대로, 한 음악을 중간에 끊을 경우 원본 음악에는 네오가 기억한 멜로디가 들어있다 해도 그 곡이 네오가 들은 곡이 아닐 수도 있다. 그렇기 때문에 네오는 기억한 멜로디를 재생 시간과 제공된 악보를 직접 보면서 비교하려고 한다. 다음과 같은 가정을 할 때 네오가 찾으려는 음악의 제목을 구하여라.\n",
    "\n",
    "- 방금그곡 서비스에서는 음악 제목, 재생이 시작되고 끝난 시각, 악보를 제공한다.\n",
    "- 네오가 기억한 멜로디와 악보에 사용되는 음은 C, C#, D, D#, E, F, F#, G, G#, A, A#, B 12개이다.\n",
    "- 각 음은 1분에 1개씩 재생된다. 음악은 반드시 처음부터 재생되며 음악 길이보다 재생된 시간이 길 때는 음악이 끊김 없이 처음부터 반복해서 재생된다. 음악 길이보다 재생된 시간이 짧을 때는 처음부터 재생 시간만큼만 재생된다.\n",
    "- 음악이 00:00를 넘겨서까지 재생되는 일은 없다.\n",
    "- 조건이 일치하는 음악이 여러 개일 때에는 라디오에서 재생된 시간이 제일 긴 음악 제목을 반환한다. 재생된 시간도 같을 경우 먼저 입력된 음악 제목을 반환한다.\n",
    "- 조건이 일치하는 음악이 없을 때에는 “`(None)`”을 반환한다.\n",
    "\n",
    "\n",
    "- `입력`\n",
    "    - 입력으로 네오가 기억한 멜로디를 담은 문자열 `m`과 방송된 곡의 정보를 담고 있는 배열 `musicinfos`가 주어진다.\n",
    "        - `m`은 음 `1`개 이상 `1439`개 이하로 구성되어 있다.\n",
    "        - `musicinfos`는 `100`개 이하의 곡 정보를 담고 있는 배열로, 각각의 곡 정보는 음악이 시작한 시각, 끝난 시각, 음악 제목, 악보 정보가 '`,`'로 구분된 문자열이다.\n",
    "            - 음악의 시작 시각과 끝난 시각은 24시간 `HH:MM` 형식이다.\n",
    "            - 음악 제목은 '`,`' 이외의 출력 가능한 문자로 표현된 길이 `1` 이상 `64` 이하의 문자열이다.\n",
    "            - 악보 정보는 음 `1`개 이상 `1439`개 이하로 구성되어 있다.\n",
    "    - ex1) \"ABCDEFG\", [\"12:00,12:14,HELLO,CDEFGAB\", \"13:00,13:05,WORLD,ABCDEF\"]\n",
    "    - ex2) \"CC#BCC#BCC#BCC#B\", [\"03:00,03:30,FOO,CC#B\", \"04:00,04:08,BAR,CC#BCC#BCC#B\"]\n",
    "    - ex3) \"ABC\", [\"12:00,12:14,HELLO,C#DEFGAB\", \"13:00,13:05,WORLD,ABCDEF\"]\n",
    "\n",
    "\n",
    "- `출력`\n",
    "    - 조건과 일치하는 음악 제목을 출력한다.\n",
    "    - ex1) \"HELLO\"\n",
    "    - ex2) \"FOO\"\n",
    "    - ex3) \"WORLD\""
   ]
  },
  {
   "cell_type": "code",
   "execution_count": 213,
   "id": "91b1ac80",
   "metadata": {
    "ExecuteTime": {
     "end_time": "2022-06-27T04:50:50.762519Z",
     "start_time": "2022-06-27T04:50:50.756704Z"
    }
   },
   "outputs": [],
   "source": [
    "# SOL 1) \n",
    "\n",
    "# 재생 시간 구하는 함수\n",
    "def diff_min(start, end):\n",
    "    start_H, start_M = map(int, start.split(':'))\n",
    "    end_H, end_M = map(int, end.split(':'))\n",
    "    return (end_H * 60 + end_M) - (start_H * 60 + start_M)\n",
    "\n",
    "def solution(m, musicinfos):\n",
    "    \n",
    "    # #이 붙은 음을 한 자리 문자열로 치환\n",
    "    m = m.replace('C#', 'c').replace('D#', 'd').replace('F#', 'f').replace('G#', 'g').replace('A#', 'a').replace('B#', 'a')\n",
    "    result = []\n",
    "    for i, info in enumerate(musicinfos):\n",
    "        \n",
    "        info = info.split(',')\n",
    "        start, end, title, code = info[0], info[1], info[2], info[3]\n",
    "        code = code.replace('C#', 'c').replace('D#', 'd').replace('F#', 'f').replace('G#', 'g').replace('A#', 'a').replace('B#', 'a')\n",
    "        playtime = diff_min(start, end)\n",
    "        \n",
    "        # 재생 시간이 음악 길이보다 짧거나 같을 때\n",
    "        if (playtime <= len(code)) and (m in code[:playtime]):\n",
    "            result.append([playtime, i, title])\n",
    "        \n",
    "        # 재생 시간이 음악 길이보다 길 때 \n",
    "        elif (playtime > len(code)) and (m in (code * playtime)[:playtime]):\n",
    "            result.append([playtime, i, title])\n",
    "                                 \n",
    "    if len(result) == 0:\n",
    "        return '(None)'    \n",
    "    else:\n",
    "        # playtime 기준 내림차순, index 기준 오름차순으로 정렬 \n",
    "        result = sorted(result, key = lambda x:(-x[0], x[1]))\n",
    "        return result[0][2]"
   ]
  },
  {
   "cell_type": "code",
   "execution_count": 211,
   "id": "60321602",
   "metadata": {
    "ExecuteTime": {
     "end_time": "2022-06-27T04:47:30.789676Z",
     "start_time": "2022-06-27T04:47:30.786260Z"
    }
   },
   "outputs": [
    {
     "name": "stdout",
     "output_type": "stream",
     "text": [
      "HELLO\n",
      "FOO\n",
      "WORLD\n",
      "TEST\n",
      "(None)\n"
     ]
    }
   ],
   "source": [
    "print(solution(\"ABCDEFG\", [\"12:00,12:14,HELLO,CDEFGAB\", \"13:00,13:05,WORLD,ABCDEF\"])) # 'HELLO'\n",
    "print(solution(\"CC#BCC#BCC#BCC#B\", [\"03:00,03:30,FOO,CC#B\", \"04:00,04:08,BAR,CC#BCC#BCC#B\"])) # 'FOO'\n",
    "print(solution(\"ABC\", [\"12:00,12:14,HELLO,C#DEFGAB\", \"13:00,13:05,WORLD,ABCDEF\"])) # 'WORLD' \n",
    "print(solution(\"DF\", [\"6:20,6:50,TEST,DDF\"])) # 'TEST'\n",
    "print(solution(\"A#AB#\", [\"13:00,13:03,HAPPY,B#A#A\"])) # '(None)'"
   ]
  }
 ],
 "metadata": {
  "kernelspec": {
   "display_name": "Python 3 (ipykernel)",
   "language": "python",
   "name": "python3"
  },
  "language_info": {
   "codemirror_mode": {
    "name": "ipython",
    "version": 3
   },
   "file_extension": ".py",
   "mimetype": "text/x-python",
   "name": "python",
   "nbconvert_exporter": "python",
   "pygments_lexer": "ipython3",
   "version": "3.9.7"
  },
  "toc": {
   "base_numbering": 1,
   "nav_menu": {},
   "number_sections": true,
   "sideBar": true,
   "skip_h1_title": false,
   "title_cell": "Table of Contents",
   "title_sidebar": "Contents",
   "toc_cell": false,
   "toc_position": {},
   "toc_section_display": true,
   "toc_window_display": false
  }
 },
 "nbformat": 4,
 "nbformat_minor": 5
}
