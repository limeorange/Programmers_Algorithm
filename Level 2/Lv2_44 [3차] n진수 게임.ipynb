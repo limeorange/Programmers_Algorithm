{
 "cells": [
  {
   "cell_type": "markdown",
   "id": "56b7e372",
   "metadata": {},
   "source": [
    "# [3차] n진수 게임\n",
    "- `유형` 2018 KAKAO BLIND RECRUITMENT\n",
    "\n",
    "\n",
    "\n",
    "- `문제 설명` \n",
    "\n",
    "\n",
    "튜브가 활동하는 코딩 동아리에서는 전통적으로 해오는 게임이 있다. 이 게임은 여러 사람이 둥글게 앉아서 숫자를 하나씩 차례대로 말하는 게임인데, 규칙은 다음과 같다.\n",
    "\n",
    "\n",
    "1. 숫자를 0부터 시작해서 차례대로 말한다. 첫 번째 사람은 0, 두 번째 사람은 1, … 열 번째 사람은 9를 말한다.\n",
    "2. 10 이상의 숫자부터는 한 자리씩 끊어서 말한다. 즉 열한 번째 사람은 10의 첫 자리인 1, 열두 번째 사람은 둘째 자리인 0을 말한다.\n",
    "\n",
    "\n",
    "이렇게 게임을 진행할 경우, `0, 1, 2, 3, 4, 5, 6, 7, 8, 9, 1, 0, 1, 1, 1, 2, 1, 3, 1, 4, …` 순으로 숫자를 말하면 된다.\n",
    "\n",
    "\n",
    "한편 코딩 동아리 일원들은 컴퓨터를 다루는 사람답게 이진수로 이 게임을 진행하기도 하는데, 이 경우에는 `0, 1, 1, 0, 1, 1, 1, 0, 0, 1, 0, 1, 1, 1, 0, 1, 1, 1, …` 순으로 숫자를 말하면 된다.\n",
    "\n",
    "\n",
    "이진수로 진행하는 게임에 익숙해져 질려가던 사람들은 좀 더 난이도를 높이기 위해 이진법에서 십육진법까지 모든 진법으로 게임을 진행해보기로 했다. 숫자 게임이 익숙하지 않은 튜브는 게임에 져서 벌칙을 받는 굴욕을 피하기 위해, 자신이 말해야 하는 숫자를 스마트폰에 미리 출력해주는 프로그램을 만들려고 한다. 튜브의 프로그램을 구현하라.\n",
    "\n",
    "\n",
    "- `제한 조건`\n",
    "\n",
    "\n",
    "\n",
    "- `입력`\n",
    "    - 진법 `n`, 미리 구할 숫자의 갯수 `t`, 게임에 참가하는 인원 `m`, 튜브의 순서 `p` 가 주어진다.\n",
    "    - 2 ≦ `n` ≦ 16\n",
    "    - 0 ＜ `t` ≦ 1000\n",
    "    - 2 ≦ `m` ≦ 100\n",
    "    - 1 ≦ `p` ≦ `m`\n",
    "    - ex1) 2, 4, 2, 1\n",
    "    - ex2) 16, 16, 2, 1\n",
    "    - ex3) 16, 16, 2, 2\n",
    "    \n",
    "\n",
    "- `출력`\n",
    "    - 튜브가 말해야 하는 숫자 `t`개를 공백 없이 차례대로 나타낸 문자열. 단, `10 ~ 15`는 각각 대문자 `A ~ F`로 출력한다.\n",
    "    - ex1) \"0111\"\n",
    "    - ex2) \"02468ACE11111111\"\n",
    "    - ex3) \"13579BDF01234567\"\n",
    "\n",
    "- `참고`\n",
    "    - [10진수를 n진수로 변환하기](https://codingdojang.com/scode/458?langby=python#answer-filter-area)\n",
    "    - [몫과 나머지 - divmod](https://programmers.co.kr/learn/courses/4008/lessons/12732)"
   ]
  },
  {
   "cell_type": "code",
   "execution_count": 32,
   "id": "80d1652f",
   "metadata": {
    "ExecuteTime": {
     "end_time": "2022-06-28T06:49:41.798724Z",
     "start_time": "2022-06-28T06:49:41.794875Z"
    }
   },
   "outputs": [],
   "source": [
    "# SOL 1) for문 이용\n",
    "\n",
    "# 10진수 -> n진수 변환 함수\n",
    "def convert(n, base):\n",
    "    T = '0123456789ABCDEF'\n",
    "    q, r = n // base, n % base\n",
    "    if q == 0:\n",
    "        return T[r]\n",
    "    else:\n",
    "        return convert(q, base) + T[r]\n",
    "\n",
    "def solution(n, t, m, p):\n",
    "    cnt = 0\n",
    "    string = ''\n",
    "    for i in range(100000):\n",
    "        cvt = convert(i, n)\n",
    "        string += cvt\n",
    "        cnt += len(cvt)\n",
    "\n",
    "        if cnt >= m * t:\n",
    "            break\n",
    "    \n",
    "    return string[p-1:m*t:m]"
   ]
  },
  {
   "cell_type": "code",
   "execution_count": 36,
   "id": "7b258950",
   "metadata": {
    "ExecuteTime": {
     "end_time": "2022-06-28T06:54:31.475161Z",
     "start_time": "2022-06-28T06:54:31.471640Z"
    }
   },
   "outputs": [],
   "source": [
    "# SOL 2) while 함수 이용\n",
    "\n",
    "# 10진수 -> n진수 변환 함수\n",
    "def convert(n, base):\n",
    "    T = '0123456789ABCDEF'\n",
    "    q, r = n // base, n % base\n",
    "    if q == 0:\n",
    "        return T[r]\n",
    "    else:\n",
    "        return convert(q, base) + T[r]\n",
    "\n",
    "def solution(n, t, m, p):\n",
    "    i, cnt = 0, 0\n",
    "    string = ''\n",
    "    while cnt < m * t:\n",
    "        cvt = convert(i, n)\n",
    "        string += cvt\n",
    "        cnt += len(cvt)\n",
    "        i += 1\n",
    "        \n",
    "        if cnt >= m * t:\n",
    "            break\n",
    "    \n",
    "    return string[p-1:m*t:m]"
   ]
  },
  {
   "cell_type": "code",
   "execution_count": 37,
   "id": "2519b5a0",
   "metadata": {
    "ExecuteTime": {
     "end_time": "2022-06-28T06:54:32.706658Z",
     "start_time": "2022-06-28T06:54:32.704071Z"
    }
   },
   "outputs": [
    {
     "name": "stdout",
     "output_type": "stream",
     "text": [
      "0111\n",
      "02468ACE11111111\n",
      "13579BDF01234567\n"
     ]
    }
   ],
   "source": [
    "print(solution(2, 4, 2, 1))\n",
    "print(solution(16, 16, 2, 1))\n",
    "print(solution(16, 16, 2, 2))"
   ]
  }
 ],
 "metadata": {
  "kernelspec": {
   "display_name": "Python 3 (ipykernel)",
   "language": "python",
   "name": "python3"
  },
  "language_info": {
   "codemirror_mode": {
    "name": "ipython",
    "version": 3
   },
   "file_extension": ".py",
   "mimetype": "text/x-python",
   "name": "python",
   "nbconvert_exporter": "python",
   "pygments_lexer": "ipython3",
   "version": "3.9.7"
  },
  "toc": {
   "base_numbering": 1,
   "nav_menu": {},
   "number_sections": true,
   "sideBar": true,
   "skip_h1_title": false,
   "title_cell": "Table of Contents",
   "title_sidebar": "Contents",
   "toc_cell": false,
   "toc_position": {},
   "toc_section_display": true,
   "toc_window_display": false
  }
 },
 "nbformat": 4,
 "nbformat_minor": 5
}
