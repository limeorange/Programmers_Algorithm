{
 "cells": [
  {
   "cell_type": "markdown",
   "metadata": {},
   "source": [
    "## [귤 고르기](https://school.programmers.co.kr/learn/courses/30/lessons/138476)\n",
    "### 🔥 풀이"
   ]
  },
  {
   "cell_type": "code",
   "execution_count": null,
   "metadata": {},
   "outputs": [],
   "source": [
    "# 240927 금 PM 5:00\n",
    "\n",
    "from collections import Counter\n",
    "\n",
    "def solution(k, tangerine):\n",
    "    tan_counter = Counter(tangerine).most_common()\n",
    "    cnt = 0\n",
    "    temp_sum = 0\n",
    "    for c in tan_counter:\n",
    "        if temp_sum < k:\n",
    "            temp_sum += c[1]\n",
    "            cnt += 1\n",
    "        else:\n",
    "            return cnt\n",
    "    return cnt"
   ]
  }
 ],
 "metadata": {
  "language_info": {
   "name": "python"
  }
 },
 "nbformat": 4,
 "nbformat_minor": 2
}
