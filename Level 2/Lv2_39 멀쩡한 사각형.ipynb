{
 "cells": [
  {
   "cell_type": "markdown",
   "id": "56b7e372",
   "metadata": {},
   "source": [
    "# 멀쩡한 사각형\n",
    "- `유형` Summer/Winter Coding(2019)\n",
    "\n",
    "\n",
    "- `문제 설명` 가로 길이가 Wcm, 세로 길이가 Hcm인 직사각형 종이가 있습니다. 종이에는 가로, 세로 방향과 평행하게 격자 형태로 선이 그어져 있으며, 모든 격자칸은 1cm x 1cm 크기입니다. 이 종이를 격자 선을 따라 1cm × 1cm의 정사각형으로 잘라 사용할 예정이었는데, 누군가가 이 종이를 대각선 꼭지점 2개를 잇는 방향으로 잘라 놓았습니다. 그러므로 현재 직사각형 종이는 크기가 같은 직각삼각형 2개로 나누어진 상태입니다. 새로운 종이를 구할 수 없는 상태이기 때문에, 이 종이에서 원래 종이의 가로, 세로 방향과 평행하게 1cm × 1cm로 잘라 사용할 수 있는 만큼만 사용하기로 하였습니다. 가로의 길이 W와 세로의 길이 H가 주어질 때, 사용할 수 있는 정사각형의 개수를 구하는 solution 함수를 완성해 주세요.\n",
    "\n",
    "\n",
    "- `제한 조건`\n",
    "    - W, H : 1억 이하의 자연수\n",
    "\n",
    "\n",
    "- `입력`\n",
    "    - ex1) w = 8, h = 12\n",
    "\n",
    "\n",
    "- `출력`\n",
    "    - ex1) 80"
   ]
  },
  {
   "cell_type": "code",
   "execution_count": 1,
   "id": "8bfe42cc",
   "metadata": {
    "ExecuteTime": {
     "end_time": "2022-06-24T07:49:14.104974Z",
     "start_time": "2022-06-24T07:49:14.097835Z"
    }
   },
   "outputs": [],
   "source": [
    "# SOL 1-1) 최대공약수 함수 정의\n",
    "\n",
    "def gcd(a, b):\n",
    "    A, B = a, b\n",
    "    while b > 0:\n",
    "        a, b = b, a % b\n",
    "    return a\n",
    "\n",
    "def solution(w, h):\n",
    "    return w * h - (w + h - gcd(w, h))"
   ]
  },
  {
   "cell_type": "code",
   "execution_count": 2,
   "id": "d532bb38",
   "metadata": {
    "ExecuteTime": {
     "end_time": "2022-06-24T07:49:15.585929Z",
     "start_time": "2022-06-24T07:49:15.583226Z"
    }
   },
   "outputs": [
    {
     "name": "stdout",
     "output_type": "stream",
     "text": [
      "80\n",
      "8\n"
     ]
    }
   ],
   "source": [
    "print(solution(8, 12))\n",
    "print(solution(5, 3))"
   ]
  },
  {
   "cell_type": "code",
   "execution_count": 3,
   "id": "2a4ee033",
   "metadata": {
    "ExecuteTime": {
     "end_time": "2022-06-24T08:02:41.388880Z",
     "start_time": "2022-06-24T08:02:41.386350Z"
    }
   },
   "outputs": [],
   "source": [
    "# SOL 1-2) 최대공약수가 구현되어 있는 library 이용\n",
    "\n",
    "import math\n",
    "\n",
    "def solution(w, h):\n",
    "    return w * h - (w + h - math.gcd(w, h))"
   ]
  },
  {
   "cell_type": "code",
   "execution_count": 4,
   "id": "12756c13",
   "metadata": {
    "ExecuteTime": {
     "end_time": "2022-06-24T08:02:45.337939Z",
     "start_time": "2022-06-24T08:02:45.334986Z"
    }
   },
   "outputs": [
    {
     "name": "stdout",
     "output_type": "stream",
     "text": [
      "80\n",
      "8\n"
     ]
    }
   ],
   "source": [
    "print(solution(8, 12))\n",
    "print(solution(5, 3))"
   ]
  }
 ],
 "metadata": {
  "kernelspec": {
   "display_name": "Python 3 (ipykernel)",
   "language": "python",
   "name": "python3"
  },
  "language_info": {
   "codemirror_mode": {
    "name": "ipython",
    "version": 3
   },
   "file_extension": ".py",
   "mimetype": "text/x-python",
   "name": "python",
   "nbconvert_exporter": "python",
   "pygments_lexer": "ipython3",
   "version": "3.9.7"
  },
  "toc": {
   "base_numbering": 1,
   "nav_menu": {},
   "number_sections": true,
   "sideBar": true,
   "skip_h1_title": false,
   "title_cell": "Table of Contents",
   "title_sidebar": "Contents",
   "toc_cell": false,
   "toc_position": {},
   "toc_section_display": true,
   "toc_window_display": false
  }
 },
 "nbformat": 4,
 "nbformat_minor": 5
}
