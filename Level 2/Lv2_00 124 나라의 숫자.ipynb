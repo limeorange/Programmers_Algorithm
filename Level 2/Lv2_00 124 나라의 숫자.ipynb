{
 "cells": [
  {
   "cell_type": "markdown",
   "id": "56b7e372",
   "metadata": {},
   "source": [
    "# 124 나라의 숫자\n",
    "- `유형` 연습문제\n",
    "\n",
    "\n",
    "- `문제 설명`\n",
    "\n",
    "\n",
    "124 나라가 있습니다. 124 나라에서는 10진법이 아닌 다음과 같은 자신들만의 규칙으로 수를 표현합니다.\n",
    "\n",
    "1. 124 나라에는 자연수만 존재합니다.\n",
    "2. 124 나라에는 모든 수를 표현할 때 1, 2, 4만 사용합니다.\n",
    "\n",
    "예를 들어서 124 나라에서 사용하는 숫자는 다음과 같이 변환됩니다.\n",
    "\n",
    "| 10진법 | 124 나라 | 10진법 | 124 나라 |\n",
    "|:-----:|:-------:|:-----:|:--------:|\n",
    "| 1 | 1 | 6 | 14 |\n",
    "| 2 | 2 | 7 | 21 |\n",
    "| 3 | 4 | 8 | 22 |\n",
    "| 4 | 11 | 9 | 24 |\n",
    "| 5 | 12 | 10 | 41 |\n",
    "\n",
    "자연수 n이 매개변수로 주어질 때, n을 124 나라에서 사용하는 숫자로 바꾼 값을 return 하도록 solution 함수를 완성해 주세요.\n",
    "\n",
    "\n",
    "- `제한 조건`\n",
    "    - n은 500,000,000이하의 자연수 입니다.\n",
    "\n",
    "\n",
    "- `입력`\n",
    "    - ex1) 1\n",
    "    - ex2) 2\n",
    "    - ex3) 3\n",
    "    - ex4) 4\n",
    "\n",
    "- `출력`\n",
    "    - ex1) 1\n",
    "    - ex2) 2\n",
    "    - ex3) 4\n",
    "    - ex4) 11"
   ]
  },
  {
   "cell_type": "code",
   "execution_count": null,
   "id": "4a439201",
   "metadata": {},
   "outputs": [],
   "source": [
    "n = 4\n",
    "\n",
    "lst = ['1', '2', '4']\n",
    "for i in range(n):\n",
    "    "
   ]
  },
  {
   "cell_type": "code",
   "execution_count": null,
   "id": "68f7fe0b",
   "metadata": {},
   "outputs": [],
   "source": [
    "def solution(n):\n",
    "    \n",
    "    return "
   ]
  },
  {
   "cell_type": "code",
   "execution_count": null,
   "id": "60321602",
   "metadata": {},
   "outputs": [],
   "source": [
    "print(solution())\n",
    "print(solution())"
   ]
  }
 ],
 "metadata": {
  "kernelspec": {
   "display_name": "Python 3 (ipykernel)",
   "language": "python",
   "name": "python3"
  },
  "language_info": {
   "codemirror_mode": {
    "name": "ipython",
    "version": 3
   },
   "file_extension": ".py",
   "mimetype": "text/x-python",
   "name": "python",
   "nbconvert_exporter": "python",
   "pygments_lexer": "ipython3",
   "version": "3.9.7"
  },
  "toc": {
   "base_numbering": 1,
   "nav_menu": {},
   "number_sections": true,
   "sideBar": true,
   "skip_h1_title": false,
   "title_cell": "Table of Contents",
   "title_sidebar": "Contents",
   "toc_cell": false,
   "toc_position": {},
   "toc_section_display": true,
   "toc_window_display": false
  }
 },
 "nbformat": 4,
 "nbformat_minor": 5
}
