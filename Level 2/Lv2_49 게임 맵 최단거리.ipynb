{
 "cells": [
  {
   "cell_type": "markdown",
   "metadata": {
    "vscode": {
     "languageId": "plaintext"
    }
   },
   "source": [
    "## [게임 맵 최단거리](https://school.programmers.co.kr/learn/courses/30/lessons/1844#)\n",
    "### 🔥 풀이"
   ]
  },
  {
   "cell_type": "code",
   "execution_count": 1,
   "metadata": {},
   "outputs": [],
   "source": [
    "# 241010 목 AM 1:03\n",
    "\n",
    "'''\n",
    "1. 아이디어\n",
    "bfs(si, sj, ei, ej):\n",
    "    # q 생성, v 생성\n",
    "    # q 초기 데이터 삽입, v[si][sj] = 1 (방문 표시)\n",
    "    while q:\n",
    "        ci, cj = q.pop() # FIFO\n",
    "        4방향에 대해 조건 검사\n",
    "            1) 범위 내\n",
    "            2) 길이 있는지: arr[ni][nj] == 1\n",
    "            3) 아직 방문하지 않은 길인지: v[ni][nj] == 0\n",
    "            q.append((ni, nj))\n",
    "            v[ni][nj] = v[ci][cj] + 1\n",
    "'''\n",
    "\n",
    "def bfs(si, sj, ei, ej, N, M, maps):    \n",
    "    # q, v 생성\n",
    "    q = []\n",
    "    v = [[0] * M for _ in range(N)]\n",
    "    \n",
    "    # q 초기 데이터 삽입, v[si][sj] 방문 표시\n",
    "    q.append((si, sj))\n",
    "    v[si][sj] = 1\n",
    "    \n",
    "    while q:\n",
    "        ci, cj = q.pop(0) # 현재 위치\n",
    "        \n",
    "        if (ci, cj) == (ei, ej):\n",
    "            return v[ei][ej]\n",
    "        \n",
    "        # 현재 위치 기준으로 상하좌우에 대해 조건 검사\n",
    "        # 1) 범위 내에 있고, 2) 길이 있고, 3) 이전에 가지 않은 길인가?\n",
    "        for di, dj in ((-1, 0), (1, 0), (0, -1), (0, 1)):\n",
    "            ni, nj = ci+di, cj+dj\n",
    "            if 0 <= ni < N and 0 <= nj < M and maps[ni][nj] == 1 and v[ni][nj] == 0:\n",
    "                q.append((ni, nj)) # 방문하고, 상하좌우 탐색 대상에 포함\n",
    "                v[ni][nj] = v[ci][cj] + 1 # 방문 횟수 카운팅\n",
    "    \n",
    "    # 상대 팀 진영 사방이 모두 막혀있는 경우 예외 처리\n",
    "    return -1\n",
    "    \n",
    "def solution(maps):\n",
    "    N = len(maps) # 세로\n",
    "    M = len(maps[0]) # 가로\n",
    "    return bfs(0, 0, N-1, M-1, N, M, maps)"
   ]
  }
 ],
 "metadata": {
  "kernelspec": {
   "display_name": "Python 3 (ipykernel)",
   "language": "python",
   "name": "python3"
  },
  "language_info": {
   "codemirror_mode": {
    "name": "ipython",
    "version": 3
   },
   "file_extension": ".py",
   "mimetype": "text/x-python",
   "name": "python",
   "nbconvert_exporter": "python",
   "pygments_lexer": "ipython3",
   "version": "3.12.6"
  }
 },
 "nbformat": 4,
 "nbformat_minor": 2
}
