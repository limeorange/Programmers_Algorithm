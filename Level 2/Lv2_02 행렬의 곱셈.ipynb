{
 "cells": [
  {
   "cell_type": "markdown",
   "id": "56b7e372",
   "metadata": {},
   "source": [
    "# 행렬의 곱셈\n",
    "- `유형` 연습문제\n",
    "\n",
    "\n",
    "- `문제 설명` 2차원 행렬 arr1과 arr2를 입력받아, arr1에 arr2를 곱한 결과를 반환하는 함수, solution을 완성해주세요.\n",
    "\n",
    "\n",
    "- `제한 조건`\n",
    "    - 행렬 arr1, arr2의 행과 열의 길이는 2 이상 100 이하입니다.\n",
    "    - 행렬 arr1, arr2의 원소는 -10 이상 20 이하인 자연수입니다.\n",
    "    - 곱할 수 있는 배열만 주어집니다.\n",
    "\n",
    "\n",
    "- `입력`\n",
    "    - ex1) [[1, 4], [3, 2], [4, 1]], [[3, 3], [3, 3]]\n",
    "    - ex2) [[2, 3, 2], [4, 2, 4], [3, 1, 4]], [[5, 4, 3], [2, 4, 1], [3, 1, 1]]\n",
    "\n",
    "\n",
    "- `출력`\n",
    "    - ex1) [[15, 15], [15, 15], [15, 15]]  \n",
    "    - ex2) [[22, 22, 11], [36, 28, 18], [29, 20, 14]]"
   ]
  },
  {
   "cell_type": "code",
   "execution_count": 1,
   "id": "68f7fe0b",
   "metadata": {
    "ExecuteTime": {
     "end_time": "2022-06-17T05:14:06.873044Z",
     "start_time": "2022-06-17T05:14:03.159561Z"
    }
   },
   "outputs": [],
   "source": [
    "# SOL 1)\n",
    "\n",
    "import numpy as np \n",
    "\n",
    "def solution(arr1, arr2):\n",
    "    return (np.dot(np.array(arr1), np.array(arr2))).tolist()"
   ]
  },
  {
   "cell_type": "code",
   "execution_count": 2,
   "id": "f126c0c1",
   "metadata": {
    "ExecuteTime": {
     "end_time": "2022-06-17T05:14:06.878441Z",
     "start_time": "2022-06-17T05:14:06.874516Z"
    }
   },
   "outputs": [
    {
     "name": "stdout",
     "output_type": "stream",
     "text": [
      "[[15, 15], [15, 15], [15, 15]]\n",
      "[[22, 22, 11], [36, 28, 18], [29, 20, 14]]\n"
     ]
    }
   ],
   "source": [
    "print(solution([[1, 4], [3, 2], [4, 1]], [[3, 3], [3, 3]]))\n",
    "print(solution([[2, 3, 2], [4, 2, 4], [3, 1, 4]], [[5, 4, 3], [2, 4, 1], [3, 1, 1]]))"
   ]
  }
 ],
 "metadata": {
  "kernelspec": {
   "display_name": "Python 3 (ipykernel)",
   "language": "python",
   "name": "python3"
  },
  "language_info": {
   "codemirror_mode": {
    "name": "ipython",
    "version": 3
   },
   "file_extension": ".py",
   "mimetype": "text/x-python",
   "name": "python",
   "nbconvert_exporter": "python",
   "pygments_lexer": "ipython3",
   "version": "3.9.7"
  },
  "toc": {
   "base_numbering": 1,
   "nav_menu": {},
   "number_sections": true,
   "sideBar": true,
   "skip_h1_title": false,
   "title_cell": "Table of Contents",
   "title_sidebar": "Contents",
   "toc_cell": false,
   "toc_position": {},
   "toc_section_display": true,
   "toc_window_display": false
  }
 },
 "nbformat": 4,
 "nbformat_minor": 5
}
