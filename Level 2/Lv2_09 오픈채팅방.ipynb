{
 "cells": [
  {
   "cell_type": "markdown",
   "id": "56b7e372",
   "metadata": {},
   "source": [
    "# 오픈채팅방\n",
    "- `유형` 2019 KAKAO BLIND RECRUITMENT\n",
    "\n",
    "\n",
    "- `문제 설명`\n",
    "\n",
    "\n",
    "카카오톡 오픈채팅방에서는 친구가 아닌 사람들과 대화를 할 수 있는데, 본래 닉네임이 아닌 가상의 닉네임을 사용하여 채팅방에 들어갈 수 있다. \n",
    "\n",
    "신입사원인 김크루는 카카오톡 오픈 채팅방을 개설한 사람을 위해, 다양한 사람들이 들어오고, 나가는 것을 지켜볼 수 있는 관리자창을 만들기로 했다. 채팅방에 누군가 들어오면 다음 메시지가 출력된다.\n",
    "\n",
    "\"[닉네임]님이 들어왔습니다.\"\n",
    "\n",
    "채팅방에서 누군가 나가면 다음 메시지가 출력된다.\n",
    "\n",
    "\"[닉네임]님이 나갔습니다.\"\n",
    "\n",
    "채팅방에서 닉네임을 변경하는 방법은 다음과 같이 두 가지이다.\n",
    "\n",
    "채팅방을 나간 후, 새로운 닉네임으로 다시 들어간다.\n",
    "채팅방에서 닉네임을 변경한다.\n",
    "닉네임을 변경할 때는 기존에 채팅방에 출력되어 있던 메시지의 닉네임도 전부 변경된다.\n",
    "\n",
    "예를 들어, 채팅방에 \"Muzi\"와 \"Prodo\"라는 닉네임을 사용하는 사람이 순서대로 들어오면 채팅방에는 다음과 같이 메시지가 출력된다.\n",
    "\n",
    "\"Muzi님이 들어왔습니다.\"\n",
    "\"Prodo님이 들어왔습니다.\"\n",
    "\n",
    "채팅방에 있던 사람이 나가면 채팅방에는 다음과 같이 메시지가 남는다.\n",
    "\n",
    "\"Muzi님이 들어왔습니다.\"\n",
    "\"Prodo님이 들어왔습니다.\"\n",
    "\"Muzi님이 나갔습니다.\"\n",
    "\n",
    "Muzi가 나간후 다시 들어올 때, Prodo 라는 닉네임으로 들어올 경우 기존에 채팅방에 남아있던 Muzi도 Prodo로 다음과 같이 변경된다.\n",
    "\n",
    "\"Prodo님이 들어왔습니다.\"\n",
    "\"Prodo님이 들어왔습니다.\"\n",
    "\"Prodo님이 나갔습니다.\"\n",
    "\"Prodo님이 들어왔습니다.\"\n",
    "\n",
    "채팅방은 중복 닉네임을 허용하기 때문에, 현재 채팅방에는 Prodo라는 닉네임을 사용하는 사람이 두 명이 있다. 이제, 채팅방에 두 번째로 들어왔던 Prodo가 Ryan으로 닉네임을 변경하면 채팅방 메시지는 다음과 같이 변경된다.\n",
    "\n",
    "\"Prodo님이 들어왔습니다.\"\n",
    "\"Ryan님이 들어왔습니다.\"\n",
    "\"Prodo님이 나갔습니다.\"\n",
    "\"Prodo님이 들어왔습니다.\"\n",
    "\n",
    "채팅방에 들어오고 나가거나, 닉네임을 변경한 기록이 담긴 문자열 배열 record가 매개변수로 주어질 때, 모든 기록이 처리된 후, 최종적으로 방을 개설한 사람이 보게 되는 메시지를 문자열 배열 형태로 return 하도록 solution 함수를 완성하라.\n",
    "\n",
    "\n",
    "- `제한 조건`\n",
    "    - record는 다음과 같은 문자열이 담긴 배열이며, 길이는 1 이상 100,000 이하이다.\n",
    "    - 다음은 record에 담긴 문자열에 대한 설명이다.\n",
    "        - 모든 유저는 [유저 아이디]로 구분한다.\n",
    "        - [유저 아이디] 사용자가 [닉네임]으로 채팅방에 입장 - \"Enter [유저 아이디] [닉네임]\" (ex. \"Enter uid1234 Muzi\")\n",
    "        - [유저 아이디] 사용자가 채팅방에서 퇴장 - \"Leave [유저 아이디]\" (ex. \"Leave uid1234\")\n",
    "        - [유저 아이디] 사용자가 닉네임을 [닉네임]으로 변경 - \"Change [유저 아이디] [닉네임]\" (ex. \"Change uid1234 Muzi\")\n",
    "        - 첫 단어는 Enter, Leave, Change 중 하나이다.\n",
    "        - 각 단어는 공백으로 구분되어 있으며, 알파벳 대문자, 소문자, 숫자로만 이루어져있다.\n",
    "        - 유저 아이디와 닉네임은 알파벳 대문자, 소문자를 구별한다.\n",
    "        - 유저 아이디와 닉네임의 길이는 1 이상 10 이하이다.\n",
    "        - 채팅방에서 나간 유저가 닉네임을 변경하는 등 잘못 된 입력은 주어지지 않는다.\n",
    "\n",
    "\n",
    "- `입력`\n",
    "    - ex1) [\"Enter uid1234 Muzi\", \"Enter uid4567 Prodo\",\"Leave uid1234\",\"Enter uid1234 Prodo\",\"Change uid4567 Ryan\"]\n",
    "\n",
    "- `출력`\n",
    "    - ex1) [\"Prodo님이 들어왔습니다.\", \"Ryan님이 들어왔습니다.\", \"Prodo님이 나갔습니다.\", \"Prodo님이 들어왔습니다.\"]"
   ]
  },
  {
   "cell_type": "code",
   "execution_count": 11,
   "id": "68f7fe0b",
   "metadata": {
    "ExecuteTime": {
     "end_time": "2022-05-18T02:38:12.738484Z",
     "start_time": "2022-05-18T02:38:12.734398Z"
    }
   },
   "outputs": [],
   "source": [
    "# SOL 1)\n",
    "\n",
    "def solution(record):\n",
    "    \n",
    "    # 1. {'userid':'최종 닉네임'} 정보를 담은 dic 생성\n",
    "    dic = {}\n",
    "    for i in record:\n",
    "        dic[i.split()[1]] = []\n",
    "\n",
    "    for i in record:\n",
    "        s = i.split() \n",
    "        if s[0] == 'Enter':\n",
    "            dic[s[1]] = s[2]\n",
    "        elif s[0] == 'Change':\n",
    "            dic[s[1]] = s[2]\n",
    "    \n",
    "    # 2. 모든 기록이 처리된 후의 닉네임을 dic에서 가져와 이전의 메시지들을 모두 출력 \n",
    "    result = []\n",
    "    for i in record:\n",
    "        s = i.split()\n",
    "        if s[0] == 'Enter':\n",
    "            result.append(f'{dic[s[1]]}님이 들어왔습니다.')\n",
    "        elif s[0] == 'Leave':\n",
    "            result.append(f'{dic[s[1]]}님이 나갔습니다.')\n",
    "\n",
    "    return result"
   ]
  },
  {
   "cell_type": "code",
   "execution_count": 12,
   "id": "317eda5f",
   "metadata": {
    "ExecuteTime": {
     "end_time": "2022-05-18T02:38:12.743847Z",
     "start_time": "2022-05-18T02:38:12.740962Z"
    }
   },
   "outputs": [
    {
     "name": "stdout",
     "output_type": "stream",
     "text": [
      "['Prodo님이 들어왔습니다.', 'Ryan님이 들어왔습니다.', 'Prodo님이 나갔습니다.', 'Prodo님이 들어왔습니다.']\n"
     ]
    }
   ],
   "source": [
    "print(solution([\"Enter uid1234 Muzi\", \"Enter uid4567 Prodo\",\"Leave uid1234\",\"Enter uid1234 Prodo\",\"Change uid4567 Ryan\"]))"
   ]
  }
 ],
 "metadata": {
  "kernelspec": {
   "display_name": "Python 3 (ipykernel)",
   "language": "python",
   "name": "python3"
  },
  "language_info": {
   "codemirror_mode": {
    "name": "ipython",
    "version": 3
   },
   "file_extension": ".py",
   "mimetype": "text/x-python",
   "name": "python",
   "nbconvert_exporter": "python",
   "pygments_lexer": "ipython3",
   "version": "3.9.7"
  },
  "toc": {
   "base_numbering": 1,
   "nav_menu": {},
   "number_sections": true,
   "sideBar": true,
   "skip_h1_title": false,
   "title_cell": "Table of Contents",
   "title_sidebar": "Contents",
   "toc_cell": false,
   "toc_position": {},
   "toc_section_display": true,
   "toc_window_display": false
  }
 },
 "nbformat": 4,
 "nbformat_minor": 5
}
