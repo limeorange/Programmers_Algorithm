{
 "cells": [
  {
   "cell_type": "markdown",
   "id": "56b7e372",
   "metadata": {},
   "source": [
    "# 위장\n",
    "- `유형` 해시\n",
    "\n",
    "\n",
    "- `문제 설명`\n",
    "\n",
    "\n",
    "스파이들은 매일 다른 옷을 조합하여 입어 자신을 위장합니다.\n",
    "\n",
    "예를 들어 스파이가 가진 옷이 아래와 같고 오늘 스파이가 동그란 안경, 긴 코트, 파란색 티셔츠를 입었다면 다음날은 청바지를 추가로 입거나 동그란 안경 대신 검정 선글라스를 착용하거나 해야 합니다.\n",
    "\n",
    "| 종류 | 이름 |\n",
    "|:---:|:---:|\n",
    "| 얼굴 | 동그란 안경, 선글라스 |\n",
    "| 상의 | 파란색 티셔츠 |\n",
    "| 하의 | 청바지 |\n",
    "| 겉옷 | 긴 코트 |\n",
    "\n",
    "스파이가 가진 의상들이 담긴 2차원 배열 clothes가 주어질 때 서로 다른 옷의 조합의 수를 return 하도록 solution 함수를 작성해주세요.\n",
    "\n",
    "\n",
    "- `제한 조건`\n",
    "    - clothes의 각 행은 [의상의 이름, 의상의 종류]로 이루어져 있습니다.\n",
    "    - 스파이가 가진 의상의 수는 1개 이상 30개 이하입니다.\n",
    "    - 같은 이름을 가진 의상은 존재하지 않습니다.\n",
    "    - clothes의 모든 원소는 문자열로 이루어져 있습니다.\n",
    "    - 모든 문자열의 길이는 1 이상 20 이하인 자연수이고 알파벳 소문자 또는 '_' 로만 이루어져 있습니다.\n",
    "    - 스파이는 하루에 최소 한 개의 의상은 입습니다.\n",
    "\n",
    "- `입력`\n",
    "    - ex1) [[\"yellowhat\", \"headgear\"], [\"bluesunglasses\", \"eyewear\"], [\"green_turban\", \"headgear\"]]\n",
    "    - ex2) [[\"crowmask\", \"face\"], [\"bluesunglasses\", \"face\"], [\"smoky_makeup\", \"face\"]]\n",
    "\n",
    "\n",
    "- `출력`\n",
    "    - ex1) 5\n",
    "    - ex2) 3"
   ]
  },
  {
   "cell_type": "code",
   "execution_count": 37,
   "id": "8d62012a",
   "metadata": {
    "ExecuteTime": {
     "end_time": "2022-05-26T07:44:56.991563Z",
     "start_time": "2022-05-26T07:44:56.987825Z"
    }
   },
   "outputs": [],
   "source": [
    "# SOL 1) 백준 - 9375 패션왕 신해빈과 비슷한 문제\n",
    "\n",
    "def solution(clothes):\n",
    "    items = [i[1] for i in clothes]\n",
    "    dic = dict(zip(set(items), [0]*len(set(items))))\n",
    "\n",
    "    for i in clothes: \n",
    "        dic[i[1]] += 1\n",
    "\n",
    "    cnt = 1\n",
    "    for i in dic.values():\n",
    "        cnt *= i+1\n",
    "\n",
    "    return cnt-1"
   ]
  },
  {
   "cell_type": "code",
   "execution_count": 38,
   "id": "60321602",
   "metadata": {
    "ExecuteTime": {
     "end_time": "2022-05-26T07:44:58.262139Z",
     "start_time": "2022-05-26T07:44:58.259132Z"
    }
   },
   "outputs": [
    {
     "name": "stdout",
     "output_type": "stream",
     "text": [
      "5\n",
      "3\n"
     ]
    }
   ],
   "source": [
    "print(solution([[\"yellowhat\", \"headgear\"], [\"bluesunglasses\", \"eyewear\"], [\"green_turban\", \"headgear\"]]))\n",
    "print(solution([[\"crowmask\", \"face\"], [\"bluesunglasses\", \"face\"], [\"smoky_makeup\", \"face\"]]))"
   ]
  }
 ],
 "metadata": {
  "kernelspec": {
   "display_name": "Python 3 (ipykernel)",
   "language": "python",
   "name": "python3"
  },
  "language_info": {
   "codemirror_mode": {
    "name": "ipython",
    "version": 3
   },
   "file_extension": ".py",
   "mimetype": "text/x-python",
   "name": "python",
   "nbconvert_exporter": "python",
   "pygments_lexer": "ipython3",
   "version": "3.9.7"
  },
  "toc": {
   "base_numbering": 1,
   "nav_menu": {},
   "number_sections": true,
   "sideBar": true,
   "skip_h1_title": false,
   "title_cell": "Table of Contents",
   "title_sidebar": "Contents",
   "toc_cell": false,
   "toc_position": {},
   "toc_section_display": true,
   "toc_window_display": false
  }
 },
 "nbformat": 4,
 "nbformat_minor": 5
}
