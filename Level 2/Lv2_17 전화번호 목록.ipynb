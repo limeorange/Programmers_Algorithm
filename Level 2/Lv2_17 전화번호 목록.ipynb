{
 "cells": [
  {
   "cell_type": "markdown",
   "id": "56b7e372",
   "metadata": {},
   "source": [
    "# 전화번호 목록\n",
    "- `유형` 해시\n",
    "\n",
    "\n",
    "- `문제 설명`\n",
    "\n",
    "\n",
    "전화번호부에 적힌 전화번호 중, 한 번호가 다른 번호의 접두어인 경우가 있는지 확인하려 합니다.\n",
    "전화번호가 다음과 같을 경우, 구조대 전화번호는 영석이의 전화번호의 접두사입니다.\n",
    "\n",
    "- 구조대 : 119\n",
    "- 박준영 : 97 674 223\n",
    "- 지영석 : 11 9552 4421\n",
    "\n",
    "전화번호부에 적힌 전화번호를 담은 배열 phone_book 이 solution 함수의 매개변수로 주어질 때, 어떤 번호가 다른 번호의 접두어인 경우가 있으면 false를 그렇지 않으면 true를 return 하도록 solution 함수를 작성해주세요.\n",
    "\n",
    "\n",
    "- `제한 조건`\n",
    "    - phone_book의 길이는 1 이상 1,000,000 이하입니다.\n",
    "        - 각 전화번호의 길이는 1 이상 20 이하입니다.\n",
    "        - 같은 전화번호가 중복해서 들어있지 않습니다.\n",
    "\n",
    "\n",
    "- `입력`\n",
    "    - ex1) [\"119\", \"97674223\", \"1195524421\"]\n",
    "    - ex2) [\"123\",\"456\",\"789\"]\n",
    "    - ex3) [\"12\",\"123\",\"1235\",\"567\",\"88\"]\n",
    "\n",
    "\n",
    "- `출력`\n",
    "    - ex1) false\n",
    "    - ex2) true\n",
    "    - ex3) false"
   ]
  },
  {
   "cell_type": "code",
   "execution_count": 42,
   "id": "b6bb526f",
   "metadata": {
    "ExecuteTime": {
     "end_time": "2022-05-25T05:17:27.014319Z",
     "start_time": "2022-05-25T05:17:27.011696Z"
    }
   },
   "outputs": [],
   "source": [
    "# SOL 1) 해시 쓴 것보다 sort후 앞뒤 비교하는 게 더 빠름 \n",
    "\n",
    "def solution(p):\n",
    "    p = sorted(p)\n",
    "    for i in range(len(p)-1):\n",
    "        if p[i] == p[i+1][:len(p[i])]:\n",
    "            return False\n",
    "    return True"
   ]
  },
  {
   "cell_type": "code",
   "execution_count": 43,
   "id": "60321602",
   "metadata": {
    "ExecuteTime": {
     "end_time": "2022-05-25T05:17:27.019206Z",
     "start_time": "2022-05-25T05:17:27.016325Z"
    }
   },
   "outputs": [
    {
     "name": "stdout",
     "output_type": "stream",
     "text": [
      "False\n",
      "True\n",
      "False\n"
     ]
    }
   ],
   "source": [
    "print(solution([\"119\", \"97674223\", \"1195524421\"]))\n",
    "print(solution([\"123\",\"456\",\"789\"]))\n",
    "print(solution([\"12\",\"123\",\"1235\",\"567\",\"88\"]))"
   ]
  }
 ],
 "metadata": {
  "kernelspec": {
   "display_name": "Python 3 (ipykernel)",
   "language": "python",
   "name": "python3"
  },
  "language_info": {
   "codemirror_mode": {
    "name": "ipython",
    "version": 3
   },
   "file_extension": ".py",
   "mimetype": "text/x-python",
   "name": "python",
   "nbconvert_exporter": "python",
   "pygments_lexer": "ipython3",
   "version": "3.9.7"
  },
  "toc": {
   "base_numbering": 1,
   "nav_menu": {},
   "number_sections": true,
   "sideBar": true,
   "skip_h1_title": false,
   "title_cell": "Table of Contents",
   "title_sidebar": "Contents",
   "toc_cell": false,
   "toc_position": {},
   "toc_section_display": true,
   "toc_window_display": false
  }
 },
 "nbformat": 4,
 "nbformat_minor": 5
}
