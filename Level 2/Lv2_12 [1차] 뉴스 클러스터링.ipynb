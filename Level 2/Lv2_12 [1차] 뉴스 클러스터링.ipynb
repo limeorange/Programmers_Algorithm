{
 "cells": [
  {
   "cell_type": "markdown",
   "id": "56b7e372",
   "metadata": {},
   "source": [
    "# [1차] 뉴스 클러스터링\n",
    "- `유형` 2018 KAKAO BLIND RECRUITMENT\n",
    "\n",
    "\n",
    "- `문제 설명`\n",
    "\n",
    "\n",
    "여러 언론사에서 쏟아지는 뉴스, 특히 속보성 뉴스를 보면 비슷비슷한 제목의 기사가 많아 정작 필요한 기사를 찾기가 어렵다. Daum 뉴스의 개발 업무를 맡게 된 신입사원 튜브는 사용자들이 편리하게 다양한 뉴스를 찾아볼 수 있도록 문제점을 개선하는 업무를 맡게 되었다.\n",
    "\n",
    "개발의 방향을 잡기 위해 튜브는 우선 최근 화제가 되고 있는 \"카카오 신입 개발자 공채\" 관련 기사를 검색해보았다.\n",
    "\n",
    "- 카카오 첫 공채..'블라인드' 방식 채용\n",
    "- 카카오, 합병 후 첫 공채.. 블라인드 전형으로 개발자 채용\n",
    "- 카카오, 블라인드 전형으로 신입 개발자 공채\n",
    "- 카카오 공채, 신입 개발자 코딩 능력만 본다\n",
    "- 카카오, 신입 공채.. \"코딩 실력만 본다\"\n",
    "- 카카오 \"코딩 능력만으로 2018 신입 개발자 뽑는다\"\n",
    "\n",
    "기사의 제목을 기준으로 \"블라인드 전형\"에 주목하는 기사와 \"코딩 테스트\"에 주목하는 기사로 나뉘는 걸 발견했다. 튜브는 이들을 각각 묶어서 보여주면 카카오 공채 관련 기사를 찾아보는 사용자에게 유용할 듯싶었다.\n",
    "\n",
    "유사한 기사를 묶는 기준을 정하기 위해서 논문과 자료를 조사하던 튜브는 \"자카드 유사도\"라는 방법을 찾아냈다.\n",
    "\n",
    "자카드 유사도는 집합 간의 유사도를 검사하는 여러 방법 중의 하나로 알려져 있다. 두 집합 `A`, `B` 사이의 자카드 유사도 `J(A, B)`는 두 집합의 교집합 크기를 두 집합의 합집합 크기로 나눈 값으로 정의된다.\n",
    "\n",
    "예를 들어 집합 `A` = {1, 2, 3}, 집합 `B` = {2, 3, 4}라고 할 때, 교집합 `A ∩ B` = {2, 3}, 합집합 `A ∪ B` = {1, 2, 3, 4}이 되므로, 집합 `A`, `B` 사이의 자카드 유사도 `J(A, B)` = 2/4 = 0.5가 된다. 집합 A와 집합 B가 모두 공집합일 경우에는 나눗셈이 정의되지 않으니 따로 `J(A, B)` = 1로 정의한다.\n",
    "\n",
    "자카드 유사도는 원소의 중복을 허용하는 다중집합에 대해서 확장할 수 있다. 다중집합 `A`는 원소 \"1\"을 3개 가지고 있고, 다중집합 `B`는 원소 \"1\"을 5개 가지고 있다고 하자. 이 다중집합의 교집합 `A ∩ B`는 원소 \"1\"을 min(3, 5)인 3개, 합집합 `A ∪ B`는 원소 \"1\"을 max(3, 5)인 5개 가지게 된다. 다중집합 `A` = {1, 1, 2, 2, 3}, 다중집합 `B` = {1, 2, 2, 4, 5}라고 하면, 교집합 `A ∩ B` = {1, 2, 2}, 합집합 `A ∪ B` = {1, 1, 2, 2, 3, 4, 5}가 되므로, 자카드 유사도 `J(A, B)` = 3/7, 약 0.42가 된다.\n",
    "\n",
    "이를 이용하여 문자열 사이의 유사도를 계산하는데 이용할 수 있다. 문자열 \"FRANCE\"와 \"FRENCH\"가 주어졌을 때, 이를 두 글자씩 끊어서 다중집합을 만들 수 있다. 각각 {FR, RA, AN, NC, CE}, {FR, RE, EN, NC, CH}가 되며, 교집합은 {FR, NC}, 합집합은 {FR, RA, AN, NC, CE, RE, EN, CH}가 되므로, 두 문자열 사이의 자카드 유사도 `J(\"FRANCE\", \"FRENCH\")` = 2/8 = 0.25가 된다.\n",
    "\n",
    "\n",
    "- `입력`\n",
    "    - 입력으로는 str1과 str2의 두 문자열이 들어온다. 각 문자열의 길이는 2 이상, 1,000 이하이다.\n",
    "    - 입력으로 들어온 문자열은 두 글자씩 끊어서 다중집합의 원소로 만든다. 이때 영문자로 된 글자 쌍만 유효하고, 기타 공백이나 숫자, 특수 문자가 들어있는 경우는 그 글자 쌍을 버린다. 예를 들어 \"ab+\"가 입력으로 들어오면, \"ab\"만 다중집합의 원소로 삼고, \"b+\"는 버린다.\n",
    "    - 다중집합 원소 사이를 비교할 때, 대문자와 소문자의 차이는 무시한다. \"AB\"와 \"Ab\", \"ab\"는 같은 원소로 취급한다.\n",
    "    - ex1) 'FRANCE', 'french'\n",
    "    - ex2) 'handshake', 'shake hands'\n",
    "    - ex3) 'aa1+aa2', 'AAAA12'\n",
    "    - ex4) 'E=M*C^2', 'e=m *c^2'\n",
    "\n",
    "\n",
    "- `출력`\n",
    "    - 입력으로 들어온 두 문자열의 자카드 유사도를 출력한다. 유사도 값은 0에서 1 사이의 실수이므로, 이를 다루기 쉽도록 65536을 곱한 후에 소수점 아래를 버리고 정수부만 출력한다.\n",
    "    - ex1) 16384\n",
    "    - ex2) 65536\n",
    "    - ex3) 43690\n",
    "    - ex4) 65536"
   ]
  },
  {
   "cell_type": "code",
   "execution_count": 100,
   "id": "68f7fe0b",
   "metadata": {
    "ExecuteTime": {
     "end_time": "2022-05-25T02:09:23.603996Z",
     "start_time": "2022-05-25T02:09:23.597843Z"
    }
   },
   "outputs": [],
   "source": [
    "# SOL 1) \n",
    "\n",
    "def solution(str1, str2):\n",
    "    \n",
    "    str1, str2 = str1.upper(), str2.upper()\n",
    "    \n",
    "    lst1 = [str1[i:i+2] for i in range(len(str1)-1) if str1[i:i+2].isalpha()]\n",
    "    lst2 = [str2[i:i+2] for i in range(len(str2)-1) if str2[i:i+2].isalpha()]\n",
    "\n",
    "    set1, set2 = set(lst1), set(lst2)\n",
    "\n",
    "    dic1 = dict(zip(set1, [0]*len(set1)))\n",
    "    for i in lst1: \n",
    "        dic1[i] += 1\n",
    "\n",
    "    dic2 = dict(zip(set2, [0]*len(set2)))\n",
    "    for i in lst2: \n",
    "        dic2[i] += 1\n",
    "\n",
    "    if len(set1|set2) == 0:\n",
    "        return 65536\n",
    "\n",
    "    else:    \n",
    "        inter = dict(zip(set1&set2, [0]*len(set1&set2)))\n",
    "        union = dict(zip(set1|set2, [0]*len(set1|set2)))\n",
    "\n",
    "        for i in set1&set2:\n",
    "            inter[i] = min(dic1[i], dic2[i])\n",
    "\n",
    "        for j in set1|set2:\n",
    "            if (j in set1) & (j in set2):\n",
    "                union[j] = max(dic1[j], dic2[j])\n",
    "            elif j in set1:\n",
    "                union[j] = dic1[j]\n",
    "            else:\n",
    "                union[j] = dic2[j]\n",
    "\n",
    "        return int(sum(inter.values()) / sum(union.values()) * 65536)"
   ]
  },
  {
   "cell_type": "code",
   "execution_count": 101,
   "id": "60321602",
   "metadata": {
    "ExecuteTime": {
     "end_time": "2022-05-25T02:09:23.608940Z",
     "start_time": "2022-05-25T02:09:23.605749Z"
    }
   },
   "outputs": [
    {
     "name": "stdout",
     "output_type": "stream",
     "text": [
      "16384\n",
      "65536\n",
      "43690\n",
      "65536\n"
     ]
    }
   ],
   "source": [
    "print(solution('FRANCE', 'french'))\n",
    "print(solution('handshake', 'shake hands'))\n",
    "print(solution('aa1+aa2', 'AAAA12'))\n",
    "print(solution('E=M*C^2', 'e=m*c^2'))"
   ]
  },
  {
   "cell_type": "code",
   "execution_count": 102,
   "id": "f783885b",
   "metadata": {
    "ExecuteTime": {
     "end_time": "2022-05-25T02:09:34.826538Z",
     "start_time": "2022-05-25T02:09:34.821383Z"
    }
   },
   "outputs": [],
   "source": [
    "# SOL 2)\n",
    "\n",
    "def solution(str1, str2):\n",
    "    \n",
    "    str1, str2 = str1.upper(), str2.upper()\n",
    "    \n",
    "    lst1 = [str1[i:i+2] for i in range(len(str1)-1) if str1[i:i+2].isalpha()]\n",
    "    lst2 = [str2[i:i+2] for i in range(len(str2)-1) if str2[i:i+2].isalpha()]\n",
    "    \n",
    "    inter = sum([min(lst1.count(i), lst2.count(i)) for i in set(lst1) & set(lst2)])\n",
    "    union = sum([max(lst1.count(u), lst2.count(u)) for u in set(lst1) | set(lst2)])\n",
    "    \n",
    "    if union == 0:\n",
    "        return 65536\n",
    "    return int(inter / union * 65536)"
   ]
  },
  {
   "cell_type": "code",
   "execution_count": 103,
   "id": "b8acfa75",
   "metadata": {
    "ExecuteTime": {
     "end_time": "2022-05-25T02:09:34.831311Z",
     "start_time": "2022-05-25T02:09:34.828293Z"
    }
   },
   "outputs": [
    {
     "name": "stdout",
     "output_type": "stream",
     "text": [
      "16384\n",
      "65536\n",
      "43690\n",
      "65536\n"
     ]
    }
   ],
   "source": [
    "print(solution('FRANCE', 'french'))\n",
    "print(solution('handshake', 'shake hands'))\n",
    "print(solution('aa1+aa2', 'AAAA12'))\n",
    "print(solution('E=M*C^2', 'e=m*c^2'))"
   ]
  }
 ],
 "metadata": {
  "kernelspec": {
   "display_name": "Python 3 (ipykernel)",
   "language": "python",
   "name": "python3"
  },
  "language_info": {
   "codemirror_mode": {
    "name": "ipython",
    "version": 3
   },
   "file_extension": ".py",
   "mimetype": "text/x-python",
   "name": "python",
   "nbconvert_exporter": "python",
   "pygments_lexer": "ipython3",
   "version": "3.9.7"
  },
  "toc": {
   "base_numbering": 1,
   "nav_menu": {},
   "number_sections": true,
   "sideBar": true,
   "skip_h1_title": false,
   "title_cell": "Table of Contents",
   "title_sidebar": "Contents",
   "toc_cell": false,
   "toc_position": {},
   "toc_section_display": true,
   "toc_window_display": false
  }
 },
 "nbformat": 4,
 "nbformat_minor": 5
}
