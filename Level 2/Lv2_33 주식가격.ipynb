{
 "cells": [
  {
   "cell_type": "markdown",
   "id": "56b7e372",
   "metadata": {},
   "source": [
    "# 주식가격\n",
    "- `유형` 스택/큐\n",
    "\n",
    "\n",
    "- `문제 설명` 초 단위로 기록된 주식가격이 담긴 배열 prices가 매개변수로 주어질 때, 가격이 떨어지지 않은 기간은 몇 초인지를 return 하도록 solution 함수를 완성하세요.\n",
    "\n",
    "\n",
    "- `제한 조건`\n",
    "    - prices의 각 가격은 1 이상 10,000 이하인 자연수입니다.\n",
    "    - prices의 길이는 2 이상 100,000 이하입니다.\n",
    "\n",
    "\n",
    "- `입력`\n",
    "    - ex1) [1, 2, 3, 2, 3]\n",
    "\n",
    "\n",
    "- `출력`\n",
    "    - ex1) [4, 3, 1, 1, 0]"
   ]
  },
  {
   "cell_type": "code",
   "execution_count": 37,
   "id": "968160ab",
   "metadata": {
    "ExecuteTime": {
     "end_time": "2022-06-08T08:30:06.964409Z",
     "start_time": "2022-06-08T08:30:06.961196Z"
    }
   },
   "outputs": [],
   "source": [
    "# TRY 1) 효율성 테스트 미통과\n",
    "\n",
    "def solution(prices):\n",
    "    result = []\n",
    "    for i in range(len(prices)):\n",
    "        cnt = 0\n",
    "        for j in prices[i+1:]:\n",
    "            if prices[i] <= j:\n",
    "                cnt += 1\n",
    "            elif prices[i] > j:\n",
    "                cnt += 1\n",
    "                break\n",
    "        result.append(cnt)\n",
    "    return result"
   ]
  },
  {
   "cell_type": "code",
   "execution_count": 39,
   "id": "d532bb38",
   "metadata": {
    "ExecuteTime": {
     "end_time": "2022-06-08T08:30:44.828459Z",
     "start_time": "2022-06-08T08:30:44.825928Z"
    }
   },
   "outputs": [
    {
     "name": "stdout",
     "output_type": "stream",
     "text": [
      "[4, 3, 1, 1, 0]\n",
      "[3, 1, 1, 2, 1, 0]\n"
     ]
    }
   ],
   "source": [
    "print(solution([1, 2, 3, 2, 3])) # [4, 3, 1, 1, 0]\n",
    "print(solution([5, 8, 6, 2, 4, 1])) # [3, 1, 1, 2, 1, 0]"
   ]
  },
  {
   "cell_type": "code",
   "execution_count": 41,
   "id": "70ec011f",
   "metadata": {
    "ExecuteTime": {
     "end_time": "2022-06-08T08:34:25.559054Z",
     "start_time": "2022-06-08T08:34:25.555648Z"
    }
   },
   "outputs": [],
   "source": [
    "# SOl 1) 리스트를 자르지 말고 j도 인덱스 관점으로 접근하기\n",
    "\n",
    "def solution(prices):\n",
    "    result = []\n",
    "    for i in range(len(prices)):\n",
    "        cnt = 0\n",
    "        for j in range(i+1, len(prices)):\n",
    "            if prices[i] <= prices[j]:\n",
    "                cnt += 1\n",
    "            elif prices[i] > prices[j]:\n",
    "                cnt += 1\n",
    "                break\n",
    "        result.append(cnt)\n",
    "    return result"
   ]
  },
  {
   "cell_type": "code",
   "execution_count": 42,
   "id": "7e5838e8",
   "metadata": {
    "ExecuteTime": {
     "end_time": "2022-06-08T08:34:25.563981Z",
     "start_time": "2022-06-08T08:34:25.561006Z"
    }
   },
   "outputs": [
    {
     "name": "stdout",
     "output_type": "stream",
     "text": [
      "[4, 3, 1, 1, 0]\n",
      "[3, 1, 1, 2, 1, 0]\n"
     ]
    }
   ],
   "source": [
    "print(solution([1, 2, 3, 2, 3])) # [4, 3, 1, 1, 0]\n",
    "print(solution([5, 8, 6, 2, 4, 1])) # [3, 1, 1, 2, 1, 0]"
   ]
  }
 ],
 "metadata": {
  "kernelspec": {
   "display_name": "Python 3 (ipykernel)",
   "language": "python",
   "name": "python3"
  },
  "language_info": {
   "codemirror_mode": {
    "name": "ipython",
    "version": 3
   },
   "file_extension": ".py",
   "mimetype": "text/x-python",
   "name": "python",
   "nbconvert_exporter": "python",
   "pygments_lexer": "ipython3",
   "version": "3.9.7"
  },
  "toc": {
   "base_numbering": 1,
   "nav_menu": {},
   "number_sections": true,
   "sideBar": true,
   "skip_h1_title": false,
   "title_cell": "Table of Contents",
   "title_sidebar": "Contents",
   "toc_cell": false,
   "toc_position": {},
   "toc_section_display": true,
   "toc_window_display": false
  }
 },
 "nbformat": 4,
 "nbformat_minor": 5
}
