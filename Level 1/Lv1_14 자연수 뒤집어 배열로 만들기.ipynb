{
 "cells": [
  {
   "cell_type": "markdown",
   "id": "56b7e372",
   "metadata": {},
   "source": [
    "# 자연수 뒤집어 배열로 만들기\n",
    "- `유형` 연습문제\n",
    "\n",
    "\n",
    "- `문제 설명` 자연수 n을 뒤집어 각 자리 숫자를 원소로 가지는 배열 형태로 리턴해주세요. 예를들어 n이 12345이면 [5,4,3,2,1]을 리턴합니다.\n",
    "\n",
    "\n",
    "- `제한 조건`\n",
    "    - n은 10,000,000,000이하인 자연수입니다.\n",
    "\n",
    "\n",
    "- `입력`\n",
    "    - ex1) 12345\n",
    "\n",
    "\n",
    "- `출력`\n",
    "    - ex1) [5, 4, 3, 2, 1]"
   ]
  },
  {
   "cell_type": "code",
   "execution_count": 9,
   "id": "68f7fe0b",
   "metadata": {
    "ExecuteTime": {
     "end_time": "2022-05-11T05:44:24.000089Z",
     "start_time": "2022-05-11T05:44:23.997744Z"
    }
   },
   "outputs": [],
   "source": [
    "# SOL 1) \n",
    "\n",
    "def solution(n):\n",
    "    return list(reversed(list(map(int, list(str(n))))))"
   ]
  },
  {
   "cell_type": "code",
   "execution_count": 10,
   "id": "60321602",
   "metadata": {
    "ExecuteTime": {
     "end_time": "2022-05-11T05:44:24.535880Z",
     "start_time": "2022-05-11T05:44:24.533572Z"
    }
   },
   "outputs": [
    {
     "name": "stdout",
     "output_type": "stream",
     "text": [
      "[5, 4, 3, 2, 1]\n"
     ]
    }
   ],
   "source": [
    "print(solution(12345))"
   ]
  },
  {
   "cell_type": "code",
   "execution_count": 12,
   "id": "52ff6a5b",
   "metadata": {
    "ExecuteTime": {
     "end_time": "2022-05-11T05:45:55.804335Z",
     "start_time": "2022-05-11T05:45:55.802007Z"
    }
   },
   "outputs": [],
   "source": [
    "# SOL 2)\n",
    "\n",
    "def solution(n):\n",
    "    return list(map(int, reversed(str(n))))"
   ]
  },
  {
   "cell_type": "code",
   "execution_count": 13,
   "id": "4291ad0c",
   "metadata": {
    "ExecuteTime": {
     "end_time": "2022-05-11T05:46:01.300982Z",
     "start_time": "2022-05-11T05:46:01.298556Z"
    }
   },
   "outputs": [
    {
     "name": "stdout",
     "output_type": "stream",
     "text": [
      "[5, 4, 3, 2, 1]\n"
     ]
    }
   ],
   "source": [
    "print(solution(12345))"
   ]
  },
  {
   "cell_type": "code",
   "execution_count": 14,
   "id": "d9df87f3",
   "metadata": {
    "ExecuteTime": {
     "end_time": "2022-05-11T05:46:31.099560Z",
     "start_time": "2022-05-11T05:46:31.097296Z"
    }
   },
   "outputs": [],
   "source": [
    "# SOL 3)\n",
    "\n",
    "def solution(n):\n",
    "    return [int(i) for i in str(n)[::-1]]"
   ]
  },
  {
   "cell_type": "code",
   "execution_count": 15,
   "id": "a0ecf750",
   "metadata": {
    "ExecuteTime": {
     "end_time": "2022-05-11T05:46:34.858473Z",
     "start_time": "2022-05-11T05:46:34.856311Z"
    }
   },
   "outputs": [
    {
     "name": "stdout",
     "output_type": "stream",
     "text": [
      "[5, 4, 3, 2, 1]\n"
     ]
    }
   ],
   "source": [
    "print(solution(12345))"
   ]
  }
 ],
 "metadata": {
  "kernelspec": {
   "display_name": "Python 3 (ipykernel)",
   "language": "python",
   "name": "python3"
  },
  "language_info": {
   "codemirror_mode": {
    "name": "ipython",
    "version": 3
   },
   "file_extension": ".py",
   "mimetype": "text/x-python",
   "name": "python",
   "nbconvert_exporter": "python",
   "pygments_lexer": "ipython3",
   "version": "3.9.7"
  },
  "toc": {
   "base_numbering": 1,
   "nav_menu": {},
   "number_sections": true,
   "sideBar": true,
   "skip_h1_title": false,
   "title_cell": "Table of Contents",
   "title_sidebar": "Contents",
   "toc_cell": false,
   "toc_position": {},
   "toc_section_display": true,
   "toc_window_display": false
  }
 },
 "nbformat": 4,
 "nbformat_minor": 5
}
