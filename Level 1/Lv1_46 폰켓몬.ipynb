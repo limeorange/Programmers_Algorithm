{
 "cells": [
  {
   "cell_type": "markdown",
   "id": "56b7e372",
   "metadata": {},
   "source": [
    "# 폰켓몬\n",
    "- `유형` 찾아라 프로그래밍 마에스터\n",
    "\n",
    "\n",
    "- `문제 설명`\n",
    "\n",
    "\n",
    "당신은 폰켓몬을 잡기 위한 오랜 여행 끝에, 홍 박사님의 연구실에 도착했습니다. 홍 박사님은 당신에게 자신의 연구실에 있는 총 N 마리의 폰켓몬 중에서 N/2마리를 가져가도 좋다고 했습니다. 홍 박사님 연구실의 폰켓몬은 종류에 따라 번호를 붙여 구분합니다. 따라서 같은 종류의 폰켓몬은 같은 번호를 가지고 있습니다. 예를 들어 연구실에 총 4마리의 폰켓몬이 있고, 각 폰켓몬의 종류 번호가 [3번, 1번, 2번, 3번]이라면 이는 3번 폰켓몬 두 마리, 1번 폰켓몬 한 마리, 2번 폰켓몬 한 마리가 있음을 나타냅니다. 이때, 4마리의 폰켓몬 중 2마리를 고르는 방법은 다음과 같이 6가지가 있습니다.\n",
    "\n",
    "\n",
    "1. 첫 번째(3번), 두 번째(1번) 폰켓몬을 선택\n",
    "2. 첫 번째(3번), 세 번째(2번) 폰켓몬을 선택\n",
    "3. 첫 번째(3번), 네 번째(3번) 폰켓몬을 선택\n",
    "4. 두 번째(1번), 세 번째(2번) 폰켓몬을 선택\n",
    "5. 두 번째(1번), 네 번째(3번) 폰켓몬을 선택\n",
    "6. 세 번째(2번), 네 번째(3번) 폰켓몬을 선택\n",
    "\n",
    "\n",
    "이때, 첫 번째(3번) 폰켓몬과 네 번째(3번) 폰켓몬을 선택하는 방법은 한 종류(3번 폰켓몬 두 마리)의 폰켓몬만 가질 수 있지만, 다른 방법들은 모두 두 종류의 폰켓몬을 가질 수 있습니다. 따라서 위 예시에서 가질 수 있는 폰켓몬 종류 수의 최댓값은 2가 됩니다.\n",
    "\n",
    "\n",
    "당신은 최대한 다양한 종류의 폰켓몬을 가지길 원하기 때문에, 최대한 많은 종류의 폰켓몬을 포함해서 N/2마리를 선택하려 합니다. N마리 폰켓몬의 종류 번호가 담긴 배열 nums가 매개변수로 주어질 때, N/2마리의 폰켓몬을 선택하는 방법 중, 가장 많은 종류의 폰켓몬을 선택하는 방법을 찾아, 그때의 폰켓몬 종류 번호의 개수를 return 하도록 solution 함수를 완성해주세요.\n",
    "\n",
    "- `제한 조건`\n",
    "    - nums는 폰켓몬의 종류 번호가 담긴 1차원 배열입니다.\n",
    "    - nums의 길이(N)는 1 이상 10,000 이하의 자연수이며, 항상 짝수로 주어집니다.\n",
    "    - 폰켓몬의 종류 번호는 1 이상 200,000 이하의 자연수로 나타냅니다.\n",
    "    - 가장 많은 종류의 폰켓몬을 선택하는 방법이 여러 가지인 경우에도, 선택할 수 있는 폰켓몬 종류 개수의 최댓값 하나만 return 하면 됩니다.\n",
    "\n",
    "\n",
    "- `입력`\n",
    "    - ex1) [3,1,2,3]\n",
    "    - ex2) [3,3,3,2,2,4]\n",
    "    - ex3) [3,3,3,2,2,2]\n",
    "\n",
    "\n",
    "- `출력`\n",
    "    - ex1) 2\n",
    "    - ex2) 3\n",
    "    - ex3) 2"
   ]
  },
  {
   "cell_type": "code",
   "execution_count": 72,
   "id": "c88ca09d",
   "metadata": {
    "ExecuteTime": {
     "end_time": "2022-05-13T07:43:20.428244Z",
     "start_time": "2022-05-13T07:43:20.425830Z"
    }
   },
   "outputs": [],
   "source": [
    "# SOL 1)\n",
    "\n",
    "def solution(nums):\n",
    "    if len(set(nums)) >= len(nums)//2:\n",
    "        return len(nums)//2\n",
    "    return len(set(nums))"
   ]
  },
  {
   "cell_type": "code",
   "execution_count": 73,
   "id": "c07b6d6b",
   "metadata": {
    "ExecuteTime": {
     "end_time": "2022-05-13T07:43:20.433827Z",
     "start_time": "2022-05-13T07:43:20.430024Z"
    }
   },
   "outputs": [
    {
     "name": "stdout",
     "output_type": "stream",
     "text": [
      "2\n",
      "3\n",
      "2\n",
      "8\n"
     ]
    }
   ],
   "source": [
    "print(solution([3,1,2,3]))\n",
    "print(solution([3,3,3,2,2,4]))\n",
    "print(solution([3,3,3,2,2,2]))\n",
    "print(solution([3,3,3,2,2,2,1,10,12,14,24,53,23,11,235,643]))"
   ]
  },
  {
   "cell_type": "code",
   "execution_count": 78,
   "id": "ef92e5cb",
   "metadata": {
    "ExecuteTime": {
     "end_time": "2022-05-13T07:44:22.433323Z",
     "start_time": "2022-05-13T07:44:22.431280Z"
    }
   },
   "outputs": [],
   "source": [
    "# SOL 2) \n",
    "\n",
    "def solution(nums):\n",
    "    return min(len(set(nums)), len(nums)//2)"
   ]
  },
  {
   "cell_type": "code",
   "execution_count": 79,
   "id": "4de5941a",
   "metadata": {
    "ExecuteTime": {
     "end_time": "2022-05-13T07:44:23.178998Z",
     "start_time": "2022-05-13T07:44:23.175422Z"
    }
   },
   "outputs": [
    {
     "name": "stdout",
     "output_type": "stream",
     "text": [
      "2\n",
      "3\n",
      "2\n",
      "8\n"
     ]
    }
   ],
   "source": [
    "print(solution([3,1,2,3]))\n",
    "print(solution([3,3,3,2,2,4]))\n",
    "print(solution([3,3,3,2,2,2]))\n",
    "print(solution([3,3,3,2,2,2,1,10,12,14,24,53,23,11,235,643]))"
   ]
  }
 ],
 "metadata": {
  "kernelspec": {
   "display_name": "Python 3 (ipykernel)",
   "language": "python",
   "name": "python3"
  },
  "language_info": {
   "codemirror_mode": {
    "name": "ipython",
    "version": 3
   },
   "file_extension": ".py",
   "mimetype": "text/x-python",
   "name": "python",
   "nbconvert_exporter": "python",
   "pygments_lexer": "ipython3",
   "version": "3.9.7"
  },
  "toc": {
   "base_numbering": 1,
   "nav_menu": {},
   "number_sections": true,
   "sideBar": true,
   "skip_h1_title": false,
   "title_cell": "Table of Contents",
   "title_sidebar": "Contents",
   "toc_cell": false,
   "toc_position": {},
   "toc_section_display": true,
   "toc_window_display": false
  }
 },
 "nbformat": 4,
 "nbformat_minor": 5
}
