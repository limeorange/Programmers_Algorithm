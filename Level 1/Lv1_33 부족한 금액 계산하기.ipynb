{
 "cells": [
  {
   "cell_type": "markdown",
   "id": "56b7e372",
   "metadata": {},
   "source": [
    "# 부족한 금액 계산하기\n",
    "- `유형` 위클리 챌린지\n",
    "\n",
    "\n",
    "- `문제 설명` 새로 생긴 놀이기구는 인기가 매우 많아 줄이 끊이질 않습니다. 이 놀이기구의 원래 이용료는 price원 인데, 놀이기구를 N번 째 이용한다면 원래 이용료의 N배를 받기로 하였습니다. 즉, 처음 이용료가 100이었다면 2번째에는 200, 3번째에는 300으로 요금이 인상됩니다. 놀이기구를 count번 타게 되면 현재 자신이 가지고 있는 금액에서 얼마가 모자라는지를 return 하도록 solution 함수를 완성하세요. 단, 금액이 부족하지 않으면 0을 return 하세요.\n",
    "\n",
    "\n",
    "- `제한 조건`\n",
    "    - 놀이기구의 이용료 price : 1 ≤ price ≤ 2,500, price는 자연수\n",
    "    - 처음 가지고 있던 금액 money : 1 ≤ money ≤ 1,000,000,000, money는 자연수\n",
    "    - 놀이기구의 이용 횟수 count : 1 ≤ count ≤ 2,500, count는 자연수\n",
    "\n",
    "\n",
    "- `입력`\n",
    "    - ex1) 3, 20, 4\n",
    "\n",
    "\n",
    "- `출력`\n",
    "    - ex1) 10"
   ]
  },
  {
   "cell_type": "code",
   "execution_count": 9,
   "id": "68f7fe0b",
   "metadata": {
    "ExecuteTime": {
     "end_time": "2022-05-12T03:20:42.421642Z",
     "start_time": "2022-05-12T03:20:42.418905Z"
    }
   },
   "outputs": [],
   "source": [
    "# SOL 1) for문으로 푸는 기본 풀이..\n",
    "\n",
    "def solution(price, money, count):\n",
    "    total = 0\n",
    "    for i in range(1, count+1):\n",
    "        total += price * i\n",
    "    if total - money > 0:\n",
    "        return total - money\n",
    "    return 0"
   ]
  },
  {
   "cell_type": "code",
   "execution_count": 10,
   "id": "60321602",
   "metadata": {
    "ExecuteTime": {
     "end_time": "2022-05-12T03:20:43.268948Z",
     "start_time": "2022-05-12T03:20:43.266504Z"
    }
   },
   "outputs": [
    {
     "name": "stdout",
     "output_type": "stream",
     "text": [
      "10\n"
     ]
    }
   ],
   "source": [
    "print(solution(3, 20, 4))"
   ]
  },
  {
   "cell_type": "code",
   "execution_count": 15,
   "id": "1cd42a65",
   "metadata": {
    "ExecuteTime": {
     "end_time": "2022-05-12T03:24:45.229119Z",
     "start_time": "2022-05-12T03:24:45.226588Z"
    }
   },
   "outputs": [],
   "source": [
    "# SOL 2) 등차수열의 합 이용\n",
    "\n",
    "def solution(price, money, count):\n",
    "    s = count*(2*price + (count-1)*price)/2\n",
    "    return max(0, s-money)"
   ]
  },
  {
   "cell_type": "code",
   "execution_count": 16,
   "id": "c56d0845",
   "metadata": {
    "ExecuteTime": {
     "end_time": "2022-05-12T03:24:45.868879Z",
     "start_time": "2022-05-12T03:24:45.866387Z"
    }
   },
   "outputs": [
    {
     "name": "stdout",
     "output_type": "stream",
     "text": [
      "10\n"
     ]
    }
   ],
   "source": [
    "print(solution(3, 20, 4))"
   ]
  }
 ],
 "metadata": {
  "kernelspec": {
   "display_name": "Python 3 (ipykernel)",
   "language": "python",
   "name": "python3"
  },
  "language_info": {
   "codemirror_mode": {
    "name": "ipython",
    "version": 3
   },
   "file_extension": ".py",
   "mimetype": "text/x-python",
   "name": "python",
   "nbconvert_exporter": "python",
   "pygments_lexer": "ipython3",
   "version": "3.9.7"
  },
  "toc": {
   "base_numbering": 1,
   "nav_menu": {},
   "number_sections": true,
   "sideBar": true,
   "skip_h1_title": false,
   "title_cell": "Table of Contents",
   "title_sidebar": "Contents",
   "toc_cell": false,
   "toc_position": {},
   "toc_section_display": true,
   "toc_window_display": false
  }
 },
 "nbformat": 4,
 "nbformat_minor": 5
}
