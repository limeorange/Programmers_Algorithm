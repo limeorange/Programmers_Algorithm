{
 "cells": [
  {
   "cell_type": "markdown",
   "id": "56b7e372",
   "metadata": {},
   "source": [
    "# 문자열 내 p와 y의 개수\n",
    "- `유형` 연습문제\n",
    "\n",
    "\n",
    "- `문제 설명` 대문자와 소문자가 섞여있는 문자열 s가 주어집니다. s에 'p'의 개수와 'y'의 개수를 비교해 같으면 True, 다르면 False를 return 하는 solution를 완성하세요. 'p', 'y' 모두 하나도 없는 경우는 항상 True를 리턴합니다. 단, 개수를 비교할 때 대문자와 소문자는 구별하지 않습니다. 예를 들어 s가 \"pPoooyY\"면 true를 return하고 \"Pyy\"라면 false를 return합니다.\n",
    "\n",
    "\n",
    "- `제한 조건`\n",
    "    - 문자열 s의 길이 : 50 이하의 자연수\n",
    "    - 문자열 s는 알파벳으로만 이루어져 있습니다.\n",
    "\n",
    "\n",
    "- `입력`\n",
    "    - ex1) \"pPoooyY\"\n",
    "    - ex2) \"Pyy\"\n",
    "\n",
    "\n",
    "- `출력`\n",
    "    - ex1) True\n",
    "    - ex2) False"
   ]
  },
  {
   "cell_type": "code",
   "execution_count": 6,
   "id": "68f7fe0b",
   "metadata": {
    "ExecuteTime": {
     "end_time": "2022-05-11T08:13:49.848326Z",
     "start_time": "2022-05-11T08:13:49.845878Z"
    }
   },
   "outputs": [],
   "source": [
    "# SOL 1) .count() 함수 사용\n",
    "\n",
    "def solution(s):\n",
    "    p_cnt = s.count('p') + s.count('P')\n",
    "    y_cnt = s.count('y') + s.count('Y')\n",
    "    return p_cnt == y_cnt"
   ]
  },
  {
   "cell_type": "code",
   "execution_count": 7,
   "id": "60321602",
   "metadata": {
    "ExecuteTime": {
     "end_time": "2022-05-11T08:13:49.852756Z",
     "start_time": "2022-05-11T08:13:49.850162Z"
    }
   },
   "outputs": [
    {
     "name": "stdout",
     "output_type": "stream",
     "text": [
      "True\n",
      "False\n"
     ]
    }
   ],
   "source": [
    "print(solution(\"pPoooyY\"))\n",
    "print(solution(\"Pyy\"))"
   ]
  },
  {
   "cell_type": "code",
   "execution_count": 10,
   "id": "a92c096f",
   "metadata": {
    "ExecuteTime": {
     "end_time": "2022-05-11T08:16:27.717233Z",
     "start_time": "2022-05-11T08:16:27.714845Z"
    }
   },
   "outputs": [],
   "source": [
    "# SOL 2) Counter를 통한 dict 생성\n",
    "\n",
    "from collections import Counter\n",
    "def solution(s):\n",
    "    dic = Counter(s.lower())\n",
    "    return dic['p'] == dic['y']"
   ]
  },
  {
   "cell_type": "code",
   "execution_count": 11,
   "id": "a5811409",
   "metadata": {
    "ExecuteTime": {
     "end_time": "2022-05-11T08:16:27.721147Z",
     "start_time": "2022-05-11T08:16:27.718939Z"
    }
   },
   "outputs": [
    {
     "name": "stdout",
     "output_type": "stream",
     "text": [
      "True\n",
      "False\n"
     ]
    }
   ],
   "source": [
    "print(solution(\"pPoooyY\"))\n",
    "print(solution(\"Pyy\"))"
   ]
  }
 ],
 "metadata": {
  "kernelspec": {
   "display_name": "Python 3 (ipykernel)",
   "language": "python",
   "name": "python3"
  },
  "language_info": {
   "codemirror_mode": {
    "name": "ipython",
    "version": 3
   },
   "file_extension": ".py",
   "mimetype": "text/x-python",
   "name": "python",
   "nbconvert_exporter": "python",
   "pygments_lexer": "ipython3",
   "version": "3.9.7"
  },
  "toc": {
   "base_numbering": 1,
   "nav_menu": {},
   "number_sections": true,
   "sideBar": true,
   "skip_h1_title": false,
   "title_cell": "Table of Contents",
   "title_sidebar": "Contents",
   "toc_cell": false,
   "toc_position": {},
   "toc_section_display": true,
   "toc_window_display": false
  }
 },
 "nbformat": 4,
 "nbformat_minor": 5
}
