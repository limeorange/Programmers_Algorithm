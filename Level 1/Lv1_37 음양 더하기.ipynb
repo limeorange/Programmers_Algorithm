{
 "cells": [
  {
   "cell_type": "markdown",
   "id": "56b7e372",
   "metadata": {},
   "source": [
    "# 음양 더하기\n",
    "- `유형` 월간 코드 챌린지 시즌2\n",
    "\n",
    "\n",
    "- `문제 설명` 어떤 정수들이 있습니다. 이 정수들의 절댓값을 차례대로 담은 정수 배열 absolutes와 이 정수들의 부호를 차례대로 담은 불리언 배열 signs가 매개변수로 주어집니다. 실제 정수들의 합을 구하여 return 하도록 solution 함수를 완성해주세요.\n",
    "\n",
    "\n",
    "- `제한 조건`\n",
    "    - absolutes의 길이는 1 이상 1,000 이하입니다.\n",
    "        - absolutes의 모든 수는 각각 1 이상 1,000 이하입니다.\n",
    "    - signs의 길이는 absolutes의 길이와 같습니다.\n",
    "        - signs[i] 가 참이면 absolutes[i] 의 실제 정수가 양수임을, 그렇지 않으면 음수임을 의미합니다.\n",
    "\n",
    "\n",
    "- `입력`\n",
    "    - ex1) [4,7,12], [true,false,true]\n",
    "    - ex2) [1,2,3], [false,false,true]\n",
    "\n",
    "\n",
    "- `출력`\n",
    "    - ex1) 9\n",
    "    - ex2) 0"
   ]
  },
  {
   "cell_type": "code",
   "execution_count": 28,
   "id": "68f7fe0b",
   "metadata": {
    "ExecuteTime": {
     "end_time": "2022-05-12T07:14:35.197519Z",
     "start_time": "2022-05-12T07:14:35.194734Z"
    }
   },
   "outputs": [],
   "source": [
    "# SOL 1)\n",
    "\n",
    "def solution(absolute, signs):\n",
    "    sign_lst = list(map(int, signs))\n",
    "    sign_dic = {1:1, 0:-1}\n",
    "    cnt = 0\n",
    "    for i in range(len(absolute)):\n",
    "        cnt += sign_dic[sign_lst[i]] * absolute[i]\n",
    "    return cnt"
   ]
  },
  {
   "cell_type": "code",
   "execution_count": 29,
   "id": "60321602",
   "metadata": {
    "ExecuteTime": {
     "end_time": "2022-05-12T07:14:36.078148Z",
     "start_time": "2022-05-12T07:14:36.075174Z"
    }
   },
   "outputs": [
    {
     "name": "stdout",
     "output_type": "stream",
     "text": [
      "9\n",
      "0\n"
     ]
    }
   ],
   "source": [
    "print(solution([4,7,12], [True, False, True]))\n",
    "print(solution([1,2,3], [False, False, True]))"
   ]
  },
  {
   "cell_type": "code",
   "execution_count": 30,
   "id": "c82b560a",
   "metadata": {
    "ExecuteTime": {
     "end_time": "2022-05-12T07:17:24.656426Z",
     "start_time": "2022-05-12T07:17:24.653783Z"
    }
   },
   "outputs": [],
   "source": [
    "# SOL 2) list를 안써도 한 줄로 sum 연산이 가능하구나..\n",
    "\n",
    "def solution(absolutes, signs):\n",
    "    return sum(absolutes if sign else -absolutes for absolutes, sign in zip(absolutes, signs))"
   ]
  },
  {
   "cell_type": "code",
   "execution_count": 31,
   "id": "7ed1b3ad",
   "metadata": {
    "ExecuteTime": {
     "end_time": "2022-05-12T07:17:28.753363Z",
     "start_time": "2022-05-12T07:17:28.750579Z"
    }
   },
   "outputs": [
    {
     "name": "stdout",
     "output_type": "stream",
     "text": [
      "9\n",
      "0\n"
     ]
    }
   ],
   "source": [
    "print(solution([4,7,12], [True, False, True]))\n",
    "print(solution([1,2,3], [False, False, True]))"
   ]
  }
 ],
 "metadata": {
  "kernelspec": {
   "display_name": "Python 3 (ipykernel)",
   "language": "python",
   "name": "python3"
  },
  "language_info": {
   "codemirror_mode": {
    "name": "ipython",
    "version": 3
   },
   "file_extension": ".py",
   "mimetype": "text/x-python",
   "name": "python",
   "nbconvert_exporter": "python",
   "pygments_lexer": "ipython3",
   "version": "3.9.7"
  },
  "toc": {
   "base_numbering": 1,
   "nav_menu": {},
   "number_sections": true,
   "sideBar": true,
   "skip_h1_title": false,
   "title_cell": "Table of Contents",
   "title_sidebar": "Contents",
   "toc_cell": false,
   "toc_position": {},
   "toc_section_display": true,
   "toc_window_display": false
  }
 },
 "nbformat": 4,
 "nbformat_minor": 5
}
