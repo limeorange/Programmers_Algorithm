{
 "cells": [
  {
   "cell_type": "markdown",
   "id": "56b7e372",
   "metadata": {},
   "source": [
    "# 신고 결과 받기\n",
    "- `유형` 2022 KAKAO BLIND RECRUITMENT\n",
    "\n",
    "\n",
    "- `문제 설명`\n",
    "\n",
    "\n",
    "신입사원 무지는 게시판 불량 이용자를 신고하고 처리 결과를 메일로 발송하는 시스템을 개발하려 합니다. 무지가 개발하려는 시스템은 다음과 같습니다.\n",
    "\n",
    "- 각 유저는 한 번에 한 명의 유저를 신고할 수 있습니다.\n",
    "    - 신고 횟수에 제한은 없습니다. 서로 다른 유저를 계속해서 신고할 수 있습니다.\n",
    "    - 한 유저를 여러 번 신고할 수도 있지만, 동일한 유저에 대한 신고 횟수는 1회로 처리됩니다.\n",
    "- k번 이상 신고된 유저는 게시판 이용이 정지되며, 해당 유저를 신고한 모든 유저에게 정지 사실을 메일로 발송합니다.\n",
    "    - 유저가 신고한 모든 내용을 취합하여 마지막에 한꺼번에 게시판 이용 정지를 시키면서 정지 메일을 발송합니다.\n",
    "\n",
    "\n",
    "- `제한 조건`\n",
    "    - 2 ≤ id_list의 길이 ≤ 1,000\n",
    "        - 1 ≤ id_list의 원소 길이 ≤ 10\n",
    "        - id_list의 원소는 이용자의 id를 나타내는 문자열이며 알파벳 소문자로만 이루어져 있습니다.\n",
    "        - id_list에는 같은 아이디가 중복해서 들어있지 않습니다.\n",
    "    - 1 ≤ report의 길이 ≤ 200,000\n",
    "        - 3 ≤ report의 원소 길이 ≤ 21\n",
    "        - report의 원소는 \"이용자id 신고한id\"형태의 문자열입니다.\n",
    "        - 예를 들어 \"muzi frodo\"의 경우 \"muzi\"가 \"frodo\"를 신고했다는 의미입니다.\n",
    "        - id는 알파벳 소문자로만 이루어져 있습니다.\n",
    "        - 이용자id와 신고한id는 공백(스페이스)하나로 구분되어 있습니다.\n",
    "        - 자기 자신을 신고하는 경우는 없습니다.\n",
    "    - 1 ≤ k ≤ 200, k는 자연수입니다.\n",
    "    - return 하는 배열은 id_list에 담긴 id 순서대로 각 유저가 받은 결과 메일 수를 담으면 됩니다.\n",
    "\n",
    "\n",
    "- `입력`\n",
    "    - ex1) [\"muzi\", \"frodo\", \"apeach\", \"neo\"], [\"muzi frodo\",\"apeach frodo\",\"frodo neo\",\"muzi neo\",\"apeach muzi\"], 2\n",
    "    - ex2) [\"con\", \"ryan\"], [\"ryan con\", \"ryan con\", \"ryan con\", \"ryan con\"], 3\n",
    "\n",
    "\n",
    "- `출력`\n",
    "    - ex1) [2,1,1,0]\n",
    "    - ex2) [0,0]"
   ]
  },
  {
   "cell_type": "code",
   "execution_count": 44,
   "id": "2fab0a53",
   "metadata": {
    "ExecuteTime": {
     "end_time": "2022-05-18T01:44:18.917469Z",
     "start_time": "2022-05-18T01:44:18.913380Z"
    }
   },
   "outputs": [],
   "source": [
    "# SOL 1)\n",
    " \n",
    "def solution(id_list, report, k):\n",
    "    \n",
    "    for i in id_list:\n",
    "        globals()[i] = []\n",
    "\n",
    "    # 신고 당한 횟수 count \n",
    "    report_cnt = dict(zip(id_list, [0]*len(id_list)))\n",
    "    for i in sorted(set(report)):\n",
    "        report_cnt[i.split()[1]] += 1 \n",
    "        globals()[f'{i.split()[0]}'].append(f'{i.split()[1]}')\n",
    "\n",
    "    # k번 이상 신고 당한 유저 정보만 남기기 \n",
    "    for i in id_list:\n",
    "        if report_cnt[i] < k:\n",
    "            del report_cnt[i]\n",
    "\n",
    "    # 각 유저별 본인의 신고 성공 결과 count\n",
    "    report_log = dict(zip(id_list, [0]*len(id_list)))\n",
    "    for i in id_list:\n",
    "        for j in report_cnt.keys():\n",
    "            if j in globals()[i]:\n",
    "                report_log[i] += 1\n",
    "\n",
    "    return list(report_log.values())"
   ]
  },
  {
   "cell_type": "code",
   "execution_count": 45,
   "id": "60321602",
   "metadata": {
    "ExecuteTime": {
     "end_time": "2022-05-18T01:44:23.860726Z",
     "start_time": "2022-05-18T01:44:23.857569Z"
    }
   },
   "outputs": [
    {
     "name": "stdout",
     "output_type": "stream",
     "text": [
      "[2, 1, 1, 0]\n",
      "[0, 0]\n"
     ]
    }
   ],
   "source": [
    "print(solution([\"muzi\", \"frodo\", \"apeach\", \"neo\"], [\"muzi frodo\",\"apeach frodo\",\"frodo neo\",\"muzi neo\",\"apeach muzi\"], 2))\n",
    "print(solution([\"con\", \"ryan\"], [\"ryan con\", \"ryan con\", \"ryan con\", \"ryan con\"], 3))"
   ]
  },
  {
   "cell_type": "code",
   "execution_count": 51,
   "id": "f77948ba",
   "metadata": {
    "ExecuteTime": {
     "end_time": "2022-05-18T01:55:02.437370Z",
     "start_time": "2022-05-18T01:55:02.434486Z"
    }
   },
   "outputs": [],
   "source": [
    "# SOL 2)\n",
    "\n",
    "def solution(id_list, report, k):\n",
    "    answer = [0] * len(id_list)    \n",
    "    reports = {x : 0 for x in id_list}\n",
    "\n",
    "    for r in set(report):\n",
    "        reports[r.split()[1]] += 1\n",
    "\n",
    "    for r in set(report):\n",
    "        if reports[r.split()[1]] >= k:\n",
    "            answer[id_list.index(r.split()[0])] += 1\n",
    "    \n",
    "    return answer"
   ]
  },
  {
   "cell_type": "code",
   "execution_count": 52,
   "id": "c3f2828d",
   "metadata": {
    "ExecuteTime": {
     "end_time": "2022-05-18T01:55:03.286369Z",
     "start_time": "2022-05-18T01:55:03.283513Z"
    }
   },
   "outputs": [
    {
     "name": "stdout",
     "output_type": "stream",
     "text": [
      "[2, 1, 1, 0]\n",
      "[0, 0]\n"
     ]
    }
   ],
   "source": [
    "print(solution([\"muzi\", \"frodo\", \"apeach\", \"neo\"], [\"muzi frodo\",\"apeach frodo\",\"frodo neo\",\"muzi neo\",\"apeach muzi\"], 2))\n",
    "print(solution([\"con\", \"ryan\"], [\"ryan con\", \"ryan con\", \"ryan con\", \"ryan con\"], 3))"
   ]
  }
 ],
 "metadata": {
  "kernelspec": {
   "display_name": "Python 3 (ipykernel)",
   "language": "python",
   "name": "python3"
  },
  "language_info": {
   "codemirror_mode": {
    "name": "ipython",
    "version": 3
   },
   "file_extension": ".py",
   "mimetype": "text/x-python",
   "name": "python",
   "nbconvert_exporter": "python",
   "pygments_lexer": "ipython3",
   "version": "3.9.7"
  },
  "toc": {
   "base_numbering": 1,
   "nav_menu": {},
   "number_sections": true,
   "sideBar": true,
   "skip_h1_title": false,
   "title_cell": "Table of Contents",
   "title_sidebar": "Contents",
   "toc_cell": false,
   "toc_position": {},
   "toc_section_display": true,
   "toc_window_display": false
  }
 },
 "nbformat": 4,
 "nbformat_minor": 5
}
