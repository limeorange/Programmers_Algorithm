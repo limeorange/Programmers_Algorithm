{
 "cells": [
  {
   "cell_type": "markdown",
   "id": "56b7e372",
   "metadata": {},
   "source": [
    "# 문자열 다루기 기본\n",
    "- `유형` 연습문제\n",
    "\n",
    "\n",
    "- `문제 설명` 문자열 s의 길이가 4 혹은 6이고, 숫자로만 구성돼있는지 확인해주는 함수, solution을 완성하세요. 예를 들어 s가 \"a234\"이면 False를 리턴하고 \"1234\"라면 True를 리턴하면 됩니다.\n",
    "\n",
    "\n",
    "- `제한 조건`\n",
    "    - s는 길이 1 이상, 길이 8 이하인 문자열입니다.\n",
    "\n",
    "\n",
    "- `입력`\n",
    "    - ex1) 'a234'\n",
    "    - ex2) '1234'\n",
    "\n",
    "\n",
    "- `출력`\n",
    "    - ex1) false\n",
    "    - ex2) true"
   ]
  },
  {
   "cell_type": "code",
   "execution_count": 7,
   "id": "538c0e3a",
   "metadata": {
    "ExecuteTime": {
     "end_time": "2022-05-11T07:58:13.185489Z",
     "start_time": "2022-05-11T07:58:13.182943Z"
    }
   },
   "outputs": [],
   "source": [
    "# SOL 1) \n",
    "\n",
    "def solution(s):\n",
    "    return ((len(s) == 4) or (len(s) == 6)) and (s.isdigit())"
   ]
  },
  {
   "cell_type": "code",
   "execution_count": 8,
   "id": "a4d35309",
   "metadata": {
    "ExecuteTime": {
     "end_time": "2022-05-11T07:58:13.189883Z",
     "start_time": "2022-05-11T07:58:13.187438Z"
    },
    "scrolled": true
   },
   "outputs": [
    {
     "name": "stdout",
     "output_type": "stream",
     "text": [
      "False\n",
      "True\n"
     ]
    }
   ],
   "source": [
    "print(solution('a234'))\n",
    "print(solution('1234'))"
   ]
  }
 ],
 "metadata": {
  "kernelspec": {
   "display_name": "Python 3 (ipykernel)",
   "language": "python",
   "name": "python3"
  },
  "language_info": {
   "codemirror_mode": {
    "name": "ipython",
    "version": 3
   },
   "file_extension": ".py",
   "mimetype": "text/x-python",
   "name": "python",
   "nbconvert_exporter": "python",
   "pygments_lexer": "ipython3",
   "version": "3.9.7"
  },
  "toc": {
   "base_numbering": 1,
   "nav_menu": {},
   "number_sections": true,
   "sideBar": true,
   "skip_h1_title": false,
   "title_cell": "Table of Contents",
   "title_sidebar": "Contents",
   "toc_cell": false,
   "toc_position": {},
   "toc_section_display": true,
   "toc_window_display": false
  }
 },
 "nbformat": 4,
 "nbformat_minor": 5
}
