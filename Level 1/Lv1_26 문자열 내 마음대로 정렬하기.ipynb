{
 "cells": [
  {
   "cell_type": "markdown",
   "id": "56b7e372",
   "metadata": {},
   "source": [
    "# 문자열 내 마음대로 정렬하기\n",
    "- `유형` 연습문제\n",
    "\n",
    "\n",
    "- `문제 설명` 문자열로 구성된 리스트 strings와, 정수 n이 주어졌을 때, 각 문자열의 인덱스 n번째 글자를 기준으로 오름차순 정렬하려 합니다. 예를 들어 strings가 [\"sun\", \"bed\", \"car\"]이고 n이 1이면 각 단어의 인덱스 1의 문자 \"u\", \"e\", \"a\"로 strings를 정렬합니다.\n",
    "\n",
    "\n",
    "- `제한 조건`\n",
    "    - strings는 길이 1 이상, 50이하인 배열입니다.\n",
    "    - strings의 원소는 소문자 알파벳으로 이루어져 있습니다.\n",
    "    - strings의 원소는 길이 1 이상, 100이하인 문자열입니다.\n",
    "    - 모든 strings의 원소의 길이는 n보다 큽니다.\n",
    "    - 인덱스 1의 문자가 같은 문자열이 여럿 일 경우, 사전순으로 앞선 문자열이 앞쪽에 위치합니다.\n",
    "\n",
    "\n",
    "- `입력`\n",
    "    - ex1) [\"sun\", \"bed\", \"car\"], 1\n",
    "    - ex2) [\"abce\", \"abcd\", \"cdx\"], 2\n",
    "\n",
    "\n",
    "- `출력`\n",
    "    - ex1) [\"car\", \"bed\", \"sun\"]\n",
    "    - ex2) [\"abcd\", \"abce\", \"cdx\"]"
   ]
  },
  {
   "cell_type": "code",
   "execution_count": 52,
   "id": "a8622dc3",
   "metadata": {
    "ExecuteTime": {
     "end_time": "2022-05-11T09:29:38.841119Z",
     "start_time": "2022-05-11T09:29:38.837528Z"
    }
   },
   "outputs": [],
   "source": [
    "# SOL 1) 아무튼 정답.. but 이미 구현된 sorted parameter가 있었음.. 익히자!\n",
    "\n",
    "def solution(s, n):\n",
    "\n",
    "    alphabet = set()\n",
    "    for i in s:\n",
    "        alphabet.add(i[n])\n",
    "\n",
    "    lst = []\n",
    "    for i in alphabet:\n",
    "        temp = []\n",
    "        for j in s:\n",
    "            if j[n] == i:\n",
    "                temp.append(j)\n",
    "        lst.append(sorted(temp))\n",
    "\n",
    "    dic = dict(zip(alphabet, lst))\n",
    "    sorted_dict = sorted(dic.items(), key = lambda item: item[0])\n",
    "\n",
    "    result = []\n",
    "\n",
    "    for i in sorted_dict:\n",
    "        result.extend(i[1])\n",
    "    \n",
    "    return result"
   ]
  },
  {
   "cell_type": "code",
   "execution_count": 53,
   "id": "60321602",
   "metadata": {
    "ExecuteTime": {
     "end_time": "2022-05-11T09:29:41.360878Z",
     "start_time": "2022-05-11T09:29:41.358082Z"
    }
   },
   "outputs": [
    {
     "name": "stdout",
     "output_type": "stream",
     "text": [
      "['car', 'bed', 'sun']\n",
      "['abcd', 'abce', 'cdx']\n"
     ]
    }
   ],
   "source": [
    "print(solution([\"sun\", \"bed\", \"car\"], 1))\n",
    "print(solution([\"abce\", \"abcd\", \"cdx\"], 2))"
   ]
  },
  {
   "cell_type": "code",
   "execution_count": 59,
   "id": "4e1e9442",
   "metadata": {
    "ExecuteTime": {
     "end_time": "2022-05-11T09:45:17.950036Z",
     "start_time": "2022-05-11T09:45:17.947651Z"
    }
   },
   "outputs": [],
   "source": [
    "# SOL 2) sorted의 'key = 함수' parameter 이용\n",
    "\n",
    "def solution(s, n):\n",
    "    return sorted(s, key=lambda x:(x[n],x)) # sort 기준의 우선 순위 설정"
   ]
  },
  {
   "cell_type": "code",
   "execution_count": 60,
   "id": "8fe0bcd3",
   "metadata": {
    "ExecuteTime": {
     "end_time": "2022-05-11T09:45:17.954779Z",
     "start_time": "2022-05-11T09:45:17.951929Z"
    }
   },
   "outputs": [
    {
     "name": "stdout",
     "output_type": "stream",
     "text": [
      "['car', 'bed', 'sun']\n",
      "['abcd', 'abce', 'cdx']\n"
     ]
    }
   ],
   "source": [
    "print(solution([\"sun\", \"bed\", \"car\"], 1))\n",
    "print(solution([\"abce\", \"abcd\", \"cdx\"], 2))"
   ]
  }
 ],
 "metadata": {
  "kernelspec": {
   "display_name": "Python 3 (ipykernel)",
   "language": "python",
   "name": "python3"
  },
  "language_info": {
   "codemirror_mode": {
    "name": "ipython",
    "version": 3
   },
   "file_extension": ".py",
   "mimetype": "text/x-python",
   "name": "python",
   "nbconvert_exporter": "python",
   "pygments_lexer": "ipython3",
   "version": "3.9.7"
  },
  "toc": {
   "base_numbering": 1,
   "nav_menu": {},
   "number_sections": true,
   "sideBar": true,
   "skip_h1_title": false,
   "title_cell": "Table of Contents",
   "title_sidebar": "Contents",
   "toc_cell": false,
   "toc_position": {},
   "toc_section_display": true,
   "toc_window_display": false
  }
 },
 "nbformat": 4,
 "nbformat_minor": 5
}
