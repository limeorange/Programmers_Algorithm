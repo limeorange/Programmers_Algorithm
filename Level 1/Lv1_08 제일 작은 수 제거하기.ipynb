{
 "cells": [
  {
   "cell_type": "markdown",
   "id": "56b7e372",
   "metadata": {},
   "source": [
    "# 제일 작은 수 제거하기\n",
    "- `유형` 연습문제\n",
    "\n",
    "\n",
    "- `문제 설명` 정수를 저장한 배열, arr 에서 가장 작은 수를 제거한 배열을 리턴하는 함수, solution을 완성해주세요. 단, 리턴하려는 배열이 빈 배열인 경우엔 배열에 -1을 채워 리턴하세요. 예를들어 arr이 [4,3,2,1]인 경우는 [4,3,2]를 리턴 하고, [10]면 [-1]을 리턴 합니다.\n",
    "\n",
    "\n",
    "- `제한 조건`\n",
    "    - arr은 길이 1 이상인 배열입니다.\n",
    "    - 인덱스 i, j에 대해 i ≠ j이면 arr[i] ≠ arr[j] 입니다.\n",
    "\n",
    "\n",
    "- `입력`\n",
    "    - ex1) [4, 3, 2, 1]\n",
    "    - ex2) [10]\n",
    "\n",
    "\n",
    "- `출력`\n",
    "    - ex1) [4, 3, 2]\n",
    "    - ex2) [-1]"
   ]
  },
  {
   "cell_type": "code",
   "execution_count": 12,
   "id": "68f7fe0b",
   "metadata": {
    "ExecuteTime": {
     "end_time": "2022-05-11T03:03:11.137494Z",
     "start_time": "2022-05-11T03:03:11.134729Z"
    }
   },
   "outputs": [],
   "source": [
    "# SOL 1)\n",
    "\n",
    "def solution(arr):\n",
    "    arr.remove(min(arr))\n",
    "    if len(arr) == 0:\n",
    "        arr.append(-1)\n",
    "    return arr "
   ]
  },
  {
   "cell_type": "code",
   "execution_count": 13,
   "id": "cc776003",
   "metadata": {
    "ExecuteTime": {
     "end_time": "2022-05-11T03:03:33.234231Z",
     "start_time": "2022-05-11T03:03:33.231455Z"
    }
   },
   "outputs": [
    {
     "name": "stdout",
     "output_type": "stream",
     "text": [
      "[4, 3, 2]\n",
      "[-1]\n"
     ]
    }
   ],
   "source": [
    "print(solution([4, 3, 2, 1]))\n",
    "print(solution([10]))"
   ]
  }
 ],
 "metadata": {
  "kernelspec": {
   "display_name": "Python 3 (ipykernel)",
   "language": "python",
   "name": "python3"
  },
  "language_info": {
   "codemirror_mode": {
    "name": "ipython",
    "version": 3
   },
   "file_extension": ".py",
   "mimetype": "text/x-python",
   "name": "python",
   "nbconvert_exporter": "python",
   "pygments_lexer": "ipython3",
   "version": "3.9.7"
  },
  "toc": {
   "base_numbering": 1,
   "nav_menu": {},
   "number_sections": true,
   "sideBar": true,
   "skip_h1_title": false,
   "title_cell": "Table of Contents",
   "title_sidebar": "Contents",
   "toc_cell": false,
   "toc_position": {},
   "toc_section_display": true,
   "toc_window_display": false
  }
 },
 "nbformat": 4,
 "nbformat_minor": 5
}
