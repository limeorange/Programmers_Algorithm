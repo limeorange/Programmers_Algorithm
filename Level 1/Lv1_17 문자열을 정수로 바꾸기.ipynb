{
 "cells": [
  {
   "cell_type": "markdown",
   "id": "56b7e372",
   "metadata": {},
   "source": [
    "# 문자열을 정수로 바꾸기\n",
    "- `유형` 연습문제\n",
    "\n",
    "\n",
    "- `문제 설명` 문자열 s를 숫자로 변환한 결과를 반환하는 함수, solution을 완성하세요.\n",
    "\n",
    "\n",
    "- `제한 조건`\n",
    "    - s의 길이는 1 이상 5이하입니다.\n",
    "    - s의 맨앞에는 부호(+, -)가 올 수 있습니다.\n",
    "    - s는 부호와 숫자로만 이루어져있습니다.\n",
    "    - s는 \"0\"으로 시작하지 않습니다."
   ]
  },
  {
   "cell_type": "code",
   "execution_count": 3,
   "id": "68f7fe0b",
   "metadata": {
    "ExecuteTime": {
     "end_time": "2022-05-11T06:32:18.666656Z",
     "start_time": "2022-05-11T06:32:18.664074Z"
    }
   },
   "outputs": [],
   "source": [
    "# SOl 1)\n",
    "\n",
    "def solution(s):\n",
    "    if s[0] == '-':\n",
    "        return int(s[1:])*-1\n",
    "    return int(s) "
   ]
  },
  {
   "cell_type": "code",
   "execution_count": 5,
   "id": "60321602",
   "metadata": {
    "ExecuteTime": {
     "end_time": "2022-05-11T06:32:32.579394Z",
     "start_time": "2022-05-11T06:32:32.576631Z"
    },
    "scrolled": true
   },
   "outputs": [
    {
     "name": "stdout",
     "output_type": "stream",
     "text": [
      "-12345\n",
      "12345\n",
      "12345\n"
     ]
    }
   ],
   "source": [
    "print(solution('-12345'))\n",
    "print(solution('12345'))\n",
    "print(solution('+12345'))"
   ]
  },
  {
   "cell_type": "code",
   "execution_count": 8,
   "id": "181513dc",
   "metadata": {
    "ExecuteTime": {
     "end_time": "2022-05-11T06:35:07.021317Z",
     "start_time": "2022-05-11T06:35:07.019209Z"
    }
   },
   "outputs": [],
   "source": [
    "# SOL 2) 사실 int()는 '+', '-'를 자동으로 양수, 음수로 인식함..ㅋㅋ\n",
    "\n",
    "def solution(s):\n",
    "    return int(s)"
   ]
  },
  {
   "cell_type": "code",
   "execution_count": 9,
   "id": "c6670da5",
   "metadata": {
    "ExecuteTime": {
     "end_time": "2022-05-11T06:35:10.615366Z",
     "start_time": "2022-05-11T06:35:10.612536Z"
    }
   },
   "outputs": [
    {
     "name": "stdout",
     "output_type": "stream",
     "text": [
      "-12345\n",
      "12345\n",
      "12345\n"
     ]
    }
   ],
   "source": [
    "print(solution('-12345'))\n",
    "print(solution('12345'))\n",
    "print(solution('+12345'))"
   ]
  }
 ],
 "metadata": {
  "kernelspec": {
   "display_name": "Python 3 (ipykernel)",
   "language": "python",
   "name": "python3"
  },
  "language_info": {
   "codemirror_mode": {
    "name": "ipython",
    "version": 3
   },
   "file_extension": ".py",
   "mimetype": "text/x-python",
   "name": "python",
   "nbconvert_exporter": "python",
   "pygments_lexer": "ipython3",
   "version": "3.9.7"
  },
  "toc": {
   "base_numbering": 1,
   "nav_menu": {},
   "number_sections": true,
   "sideBar": true,
   "skip_h1_title": false,
   "title_cell": "Table of Contents",
   "title_sidebar": "Contents",
   "toc_cell": false,
   "toc_position": {},
   "toc_section_display": true,
   "toc_window_display": false
  }
 },
 "nbformat": 4,
 "nbformat_minor": 5
}
