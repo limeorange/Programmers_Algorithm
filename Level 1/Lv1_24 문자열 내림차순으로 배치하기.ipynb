{
 "cells": [
  {
   "cell_type": "markdown",
   "id": "56b7e372",
   "metadata": {},
   "source": [
    "# 문자열 내림차순으로 배치하기 \n",
    "- `유형` 연습문제\n",
    "\n",
    "\n",
    "- `문제 설명` 문자열 s에 나타나는 문자를 큰것부터 작은 순으로 정렬해 새로운 문자열을 리턴하는 함수, solution을 완성해주세요. s는 영문 대소문자로만 구성되어 있으며, 대문자는 소문자보다 작은 것으로 간주합니다.\n",
    "\n",
    "\n",
    "- `제한 조건`\n",
    "    - str은 길이 1 이상인 문자열입니다.\n",
    "\n",
    "\n",
    "- `입력`\n",
    "    - ex1) \"Zbcdefg\"\n",
    "\n",
    "\n",
    "- `출력`\n",
    "    - ex1) \"gfedcbZ\""
   ]
  },
  {
   "cell_type": "code",
   "execution_count": 5,
   "id": "68f7fe0b",
   "metadata": {
    "ExecuteTime": {
     "end_time": "2022-05-11T08:20:25.009024Z",
     "start_time": "2022-05-11T08:20:25.006729Z"
    }
   },
   "outputs": [],
   "source": [
    "# SOL 1)\n",
    "\n",
    "def solution(s):\n",
    "    return ''.join(list(reversed(sorted(s))))"
   ]
  },
  {
   "cell_type": "code",
   "execution_count": 6,
   "id": "60321602",
   "metadata": {
    "ExecuteTime": {
     "end_time": "2022-05-11T08:20:36.273031Z",
     "start_time": "2022-05-11T08:20:36.270551Z"
    }
   },
   "outputs": [
    {
     "name": "stdout",
     "output_type": "stream",
     "text": [
      "gfedcbZ\n"
     ]
    }
   ],
   "source": [
    "print(solution(\"Zbcdefg\")) "
   ]
  },
  {
   "cell_type": "code",
   "execution_count": 7,
   "id": "95d0279b",
   "metadata": {
    "ExecuteTime": {
     "end_time": "2022-05-11T08:22:44.359291Z",
     "start_time": "2022-05-11T08:22:44.356636Z"
    }
   },
   "outputs": [],
   "source": [
    "# SOL 2) sorted에 reverse 옵션 설정하면 문자형 list로 반환\n",
    "\n",
    "def solution(s):\n",
    "    return ''.join(sorted(s, reverse = True)) "
   ]
  },
  {
   "cell_type": "code",
   "execution_count": 8,
   "id": "ee8a0c2b",
   "metadata": {
    "ExecuteTime": {
     "end_time": "2022-05-11T08:22:49.807387Z",
     "start_time": "2022-05-11T08:22:49.805074Z"
    }
   },
   "outputs": [
    {
     "name": "stdout",
     "output_type": "stream",
     "text": [
      "gfedcbZ\n"
     ]
    }
   ],
   "source": [
    "print(solution(\"Zbcdefg\"))"
   ]
  }
 ],
 "metadata": {
  "kernelspec": {
   "display_name": "Python 3 (ipykernel)",
   "language": "python",
   "name": "python3"
  },
  "language_info": {
   "codemirror_mode": {
    "name": "ipython",
    "version": 3
   },
   "file_extension": ".py",
   "mimetype": "text/x-python",
   "name": "python",
   "nbconvert_exporter": "python",
   "pygments_lexer": "ipython3",
   "version": "3.9.7"
  },
  "toc": {
   "base_numbering": 1,
   "nav_menu": {},
   "number_sections": true,
   "sideBar": true,
   "skip_h1_title": false,
   "title_cell": "Table of Contents",
   "title_sidebar": "Contents",
   "toc_cell": false,
   "toc_position": {},
   "toc_section_display": true,
   "toc_window_display": false
  }
 },
 "nbformat": 4,
 "nbformat_minor": 5
}
