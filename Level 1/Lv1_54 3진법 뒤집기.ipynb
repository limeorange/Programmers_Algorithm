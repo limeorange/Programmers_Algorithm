{
 "cells": [
  {
   "cell_type": "markdown",
   "id": "56b7e372",
   "metadata": {},
   "source": [
    "# 3진법 뒤집기\n",
    "- `유형` 월간 코드 챌린지 시즌1\n",
    "\n",
    "\n",
    "- `문제 설명` 자연수 n이 매개변수로 주어집니다. n을 3진법 상에서 앞뒤로 뒤집은 후, 이를 다시 10진법으로 표현한 수를 return 하도록 solution 함수를 완성해주세요.\n",
    "\n",
    "\n",
    "- `제한 조건`\n",
    "    - n은 1 이상 100,000,000 이하인 자연수입니다.\n",
    "\n",
    "\n",
    "- `입력`\n",
    "    - ex1) 45\n",
    "    - ex2) 125\n",
    "\n",
    "\n",
    "- `출력`\n",
    "    - ex1) 7\n",
    "    - ex2) 229"
   ]
  },
  {
   "cell_type": "code",
   "execution_count": 17,
   "id": "68f7fe0b",
   "metadata": {
    "ExecuteTime": {
     "end_time": "2022-05-23T08:03:19.579704Z",
     "start_time": "2022-05-23T08:03:19.577210Z"
    }
   },
   "outputs": [],
   "source": [
    "# SOl 1)\n",
    "\n",
    "def solution(n):\n",
    "    base = ''\n",
    "    while n > 0:\n",
    "        n, remain = divmod(n, 3) # 몫, 나머지\n",
    "        base += str(remain)\n",
    "    return int(base, 3)"
   ]
  },
  {
   "cell_type": "code",
   "execution_count": 18,
   "id": "2dfb84bb",
   "metadata": {
    "ExecuteTime": {
     "end_time": "2022-05-23T08:03:19.583867Z",
     "start_time": "2022-05-23T08:03:19.581653Z"
    }
   },
   "outputs": [
    {
     "name": "stdout",
     "output_type": "stream",
     "text": [
      "7\n",
      "229\n"
     ]
    }
   ],
   "source": [
    "print(solution(45))\n",
    "print(solution(125))"
   ]
  }
 ],
 "metadata": {
  "kernelspec": {
   "display_name": "Python 3 (ipykernel)",
   "language": "python",
   "name": "python3"
  },
  "language_info": {
   "codemirror_mode": {
    "name": "ipython",
    "version": 3
   },
   "file_extension": ".py",
   "mimetype": "text/x-python",
   "name": "python",
   "nbconvert_exporter": "python",
   "pygments_lexer": "ipython3",
   "version": "3.9.7"
  },
  "toc": {
   "base_numbering": 1,
   "nav_menu": {},
   "number_sections": true,
   "sideBar": true,
   "skip_h1_title": false,
   "title_cell": "Table of Contents",
   "title_sidebar": "Contents",
   "toc_cell": false,
   "toc_position": {},
   "toc_section_display": true,
   "toc_window_display": false
  }
 },
 "nbformat": 4,
 "nbformat_minor": 5
}
