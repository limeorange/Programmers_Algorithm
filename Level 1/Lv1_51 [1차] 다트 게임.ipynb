{
 "cells": [
  {
   "cell_type": "markdown",
   "id": "56b7e372",
   "metadata": {},
   "source": [
    "# [1차] 다트 게임\n",
    "- `유형` 2018 KAKAO BLIND RECRUITMENT\n",
    "\n",
    "\n",
    "- `문제 설명`\n",
    "\n",
    "\n",
    "카카오톡 게임별의 하반기 신규 서비스로 다트 게임을 출시하기로 했다. 다트 게임은 다트판에 다트를 세 차례 던져 그 점수의 합계로 실력을 겨루는 게임으로, 모두가 간단히 즐길 수 있다. 갓 입사한 무지는 코딩 실력을 인정받아 게임의 핵심 부분인 점수 계산 로직을 맡게 되었다. 다트 게임의 점수 계산 로직은 아래와 같다.\n",
    "\n",
    "1. 다트 게임은 총 3번의 기회로 구성된다.\n",
    "2. 각 기회마다 얻을 수 있는 점수는 0점에서 10점까지이다.\n",
    "3. 점수와 함께 Single(S), Double(D), Triple(T) 영역이 존재하고 각 영역 당첨 시 점수에서 1제곱, 2제곱, 3제곱 (점수1 , 점수2 , 점수3 )으로 계산된다.\n",
    "4. 옵션으로 스타상(*) , 아차상(#)이 존재하며 스타상(*) 당첨 시 해당 점수와 바로 전에 얻은 점수를 각 2배로 만든다. 아차상(#) 당첨 시 해당 점수는 마이너스된다.\n",
    "5. 스타상(*)은 첫 번째 기회에서도 나올 수 있다. 이 경우 첫 번째 스타상(*)의 점수만 2배가 된다. (예제 4번 참고)\n",
    "6. 스타상(*)의 효과는 다른 스타상(*)의 효과와 중첩될 수 있다. 이 경우 중첩된 스타상(*) 점수는 4배가 된다. (예제 4번 참고)\n",
    "7. 스타상(*)의 효과는 아차상(#)의 효과와 중첩될 수 있다. 이 경우 중첩된 아차상(#)의 점수는 -2배가 된다. (예제 5번 참고)\n",
    "8. Single(S), Double(D), Triple(T)은 점수마다 하나씩 존재한다.\n",
    "9. 스타상(*), 아차상(#)은 점수마다 둘 중 하나만 존재할 수 있으며, 존재하지 않을 수도 있다.\n",
    "\n",
    "0~10의 정수와 문자 S, D, T, *, #로 구성된 문자열이 입력될 시 총점수를 반환하는 함수를 작성하라.\n",
    "\n",
    "- `입력`\n",
    "    - ex1) 1S2D*3T\n",
    "    - ex2) 1D2S#10S\n",
    "    - ex3) 1D2S0T\n",
    "\n",
    "\n",
    "- `출력`\n",
    "    - ex1) 37\n",
    "    - ex2) 9\n",
    "    - ex3) 3"
   ]
  },
  {
   "cell_type": "code",
   "execution_count": 6,
   "id": "963e9872",
   "metadata": {
    "ExecuteTime": {
     "end_time": "2022-05-20T01:53:28.011315Z",
     "start_time": "2022-05-20T01:53:28.006915Z"
    }
   },
   "outputs": [],
   "source": [
    "# SOL 1) stack 이용\n",
    "\n",
    "def solution(dart):\n",
    "    dart = dart.replace('10', 'A')\n",
    "    stack = []\n",
    "    size = {'S':1, 'D':2, 'T':3}\n",
    "    \n",
    "    for i in dart:\n",
    "        if i.isdigit() or i=='A':\n",
    "            stack.append(10 if i == 'A' else int(i))\n",
    "            \n",
    "        elif i in ('S', 'D', 'T'):\n",
    "            num = stack.pop()\n",
    "            stack.append(num ** size[i])\n",
    "            \n",
    "        elif i == '#':\n",
    "            stack[-1] *= -1\n",
    "            \n",
    "        elif i == '*':\n",
    "            num = stack.pop()\n",
    "            if len(stack):\n",
    "                stack[-1] *= 2\n",
    "            stack.append(num * 2)\n",
    "            \n",
    "    return sum(stack)"
   ]
  },
  {
   "cell_type": "code",
   "execution_count": 7,
   "id": "60321602",
   "metadata": {
    "ExecuteTime": {
     "end_time": "2022-05-20T01:53:28.016039Z",
     "start_time": "2022-05-20T01:53:28.012903Z"
    },
    "scrolled": true
   },
   "outputs": [
    {
     "name": "stdout",
     "output_type": "stream",
     "text": [
      "37\n",
      "9\n",
      "3\n"
     ]
    }
   ],
   "source": [
    "print(solution('1S2D*3T'))\n",
    "print(solution('1D2S#10S'))\n",
    "print(solution('1D2S0T'))"
   ]
  },
  {
   "cell_type": "code",
   "execution_count": 13,
   "id": "472a12b9",
   "metadata": {
    "ExecuteTime": {
     "end_time": "2022-05-20T03:10:10.623552Z",
     "start_time": "2022-05-20T03:10:10.620110Z"
    }
   },
   "outputs": [],
   "source": [
    "# SOL 2) 정규표현식 이용\n",
    "\n",
    "import re\n",
    "\n",
    "def solution(dartResult):\n",
    "    bonus = {'S' : 1, 'D' : 2, 'T' : 3}\n",
    "    option = {'' : 1, '*' : 2, '#' : -1}\n",
    "    p = re.compile('(\\d+)([SDT])([*#]?)')\n",
    "    dart = p.findall(dartResult)\n",
    "    for i in range(len(dart)):\n",
    "        if dart[i][2] == '*' and i > 0:\n",
    "            dart[i-1] *= 2\n",
    "        dart[i] = int(dart[i][0]) ** bonus[dart[i][1]] * option[dart[i][2]]\n",
    "\n",
    "    answer = sum(dart)\n",
    "    return answer"
   ]
  },
  {
   "cell_type": "code",
   "execution_count": 14,
   "id": "7b0cb2f4",
   "metadata": {
    "ExecuteTime": {
     "end_time": "2022-05-20T03:10:15.324973Z",
     "start_time": "2022-05-20T03:10:15.322326Z"
    }
   },
   "outputs": [
    {
     "name": "stdout",
     "output_type": "stream",
     "text": [
      "37\n",
      "9\n",
      "3\n"
     ]
    }
   ],
   "source": [
    "print(solution('1S2D*3T'))\n",
    "print(solution('1D2S#10S'))\n",
    "print(solution('1D2S0T'))"
   ]
  }
 ],
 "metadata": {
  "kernelspec": {
   "display_name": "Python 3 (ipykernel)",
   "language": "python",
   "name": "python3"
  },
  "language_info": {
   "codemirror_mode": {
    "name": "ipython",
    "version": 3
   },
   "file_extension": ".py",
   "mimetype": "text/x-python",
   "name": "python",
   "nbconvert_exporter": "python",
   "pygments_lexer": "ipython3",
   "version": "3.9.7"
  },
  "toc": {
   "base_numbering": 1,
   "nav_menu": {},
   "number_sections": true,
   "sideBar": true,
   "skip_h1_title": false,
   "title_cell": "Table of Contents",
   "title_sidebar": "Contents",
   "toc_cell": false,
   "toc_position": {},
   "toc_section_display": true,
   "toc_window_display": false
  }
 },
 "nbformat": 4,
 "nbformat_minor": 5
}
