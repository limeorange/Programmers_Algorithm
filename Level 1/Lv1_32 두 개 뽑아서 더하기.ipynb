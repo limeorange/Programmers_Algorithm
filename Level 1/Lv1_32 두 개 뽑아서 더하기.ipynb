{
 "cells": [
  {
   "cell_type": "markdown",
   "id": "56b7e372",
   "metadata": {},
   "source": [
    "# 두 개 뽑아서 더하기\n",
    "- `유형` 월간 코드 챌린지 시즌1\n",
    "\n",
    "\n",
    "- `문제 설명` 정수 배열 numbers가 주어집니다. numbers에서 서로 다른 인덱스에 있는 두 개의 수를 뽑아 더해서 만들 수 있는 모든 수를 배열에 오름차순으로 담아 return 하도록 solution 함수를 완성해주세요.\n",
    "\n",
    "\n",
    "- `제한 조건`\n",
    "    - numbers의 길이는 2 이상 100 이하입니다.\n",
    "        - numbers의 모든 수는 0 이상 100 이하입니다.\n",
    "\n",
    "\n",
    "- `입력`\n",
    "    - ex1) [2,1,3,4,1]\n",
    "    - ex2) [5,0,2,7]\n",
    "\n",
    "\n",
    "- `출력`\n",
    "    - ex1) [2,3,4,5,6,7]\n",
    "    - ex2) [2,5,7,9,12]"
   ]
  },
  {
   "cell_type": "code",
   "execution_count": 14,
   "id": "68f7fe0b",
   "metadata": {
    "ExecuteTime": {
     "end_time": "2022-05-12T03:10:46.857874Z",
     "start_time": "2022-05-12T03:10:46.855084Z"
    }
   },
   "outputs": [],
   "source": [
    "# SOL 1)\n",
    "\n",
    "def solution(a):\n",
    "    lst = []\n",
    "    for i in range(len(a)-1):\n",
    "        for j in range(i+1, len(a)):\n",
    "            lst.append(a[i]+a[j])\n",
    "    return sorted(set(lst))"
   ]
  },
  {
   "cell_type": "code",
   "execution_count": 15,
   "id": "60321602",
   "metadata": {
    "ExecuteTime": {
     "end_time": "2022-05-12T03:10:47.736715Z",
     "start_time": "2022-05-12T03:10:47.734242Z"
    }
   },
   "outputs": [
    {
     "name": "stdout",
     "output_type": "stream",
     "text": [
      "[2, 3, 4, 5, 6, 7]\n",
      "[2, 5, 7, 9, 12]\n"
     ]
    }
   ],
   "source": [
    "print(solution([2,1,3,4,1]))\n",
    "print(solution([5,0,2,7])) "
   ]
  }
 ],
 "metadata": {
  "kernelspec": {
   "display_name": "Python 3 (ipykernel)",
   "language": "python",
   "name": "python3"
  },
  "language_info": {
   "codemirror_mode": {
    "name": "ipython",
    "version": 3
   },
   "file_extension": ".py",
   "mimetype": "text/x-python",
   "name": "python",
   "nbconvert_exporter": "python",
   "pygments_lexer": "ipython3",
   "version": "3.9.7"
  },
  "toc": {
   "base_numbering": 1,
   "nav_menu": {},
   "number_sections": true,
   "sideBar": true,
   "skip_h1_title": false,
   "title_cell": "Table of Contents",
   "title_sidebar": "Contents",
   "toc_cell": false,
   "toc_position": {},
   "toc_section_display": true,
   "toc_window_display": false
  }
 },
 "nbformat": 4,
 "nbformat_minor": 5
}
