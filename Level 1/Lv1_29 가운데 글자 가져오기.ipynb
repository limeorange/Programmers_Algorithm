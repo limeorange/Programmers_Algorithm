{
 "cells": [
  {
   "cell_type": "markdown",
   "id": "56b7e372",
   "metadata": {},
   "source": [
    "# 가운데 글자 가져오기\n",
    "- `유형` 연습문제\n",
    "\n",
    "\n",
    "- `문제 설명` 단어 s의 가운데 글자를 반환하는 함수, solution을 만들어 보세요. 단어의 길이가 짝수라면 가운데 두글자를 반환하면 됩니다.\n",
    "\n",
    "\n",
    "- `제한 조건`\n",
    "    - s는 길이가 1 이상, 100이하인 스트링입니다.\n",
    "\n",
    "\n",
    "- `입력`\n",
    "    - ex1) 'abcde'\n",
    "    - ex2) 'qwer'\n",
    "\n",
    "\n",
    "- `출력`\n",
    "    - ex1) 'c'\n",
    "    - ex2) 'we'"
   ]
  },
  {
   "cell_type": "code",
   "execution_count": 9,
   "id": "68f7fe0b",
   "metadata": {
    "ExecuteTime": {
     "end_time": "2022-05-12T02:28:15.813278Z",
     "start_time": "2022-05-12T02:28:15.810854Z"
    }
   },
   "outputs": [],
   "source": [
    "# SOL 1)\n",
    "\n",
    "def solution(s):\n",
    "    if len(s) % 2 == 0:\n",
    "        return s[int(len(s)/2)-1:int(len(s)/2)+1]\n",
    "    return s[len(s)//2] "
   ]
  },
  {
   "cell_type": "code",
   "execution_count": 10,
   "id": "60321602",
   "metadata": {
    "ExecuteTime": {
     "end_time": "2022-05-12T02:28:16.485723Z",
     "start_time": "2022-05-12T02:28:16.483277Z"
    }
   },
   "outputs": [
    {
     "name": "stdout",
     "output_type": "stream",
     "text": [
      "c\n",
      "we\n"
     ]
    }
   ],
   "source": [
    "print(solution('abcde'))\n",
    "print(solution('qwer'))"
   ]
  }
 ],
 "metadata": {
  "kernelspec": {
   "display_name": "Python 3 (ipykernel)",
   "language": "python",
   "name": "python3"
  },
  "language_info": {
   "codemirror_mode": {
    "name": "ipython",
    "version": 3
   },
   "file_extension": ".py",
   "mimetype": "text/x-python",
   "name": "python",
   "nbconvert_exporter": "python",
   "pygments_lexer": "ipython3",
   "version": "3.9.7"
  },
  "toc": {
   "base_numbering": 1,
   "nav_menu": {},
   "number_sections": true,
   "sideBar": true,
   "skip_h1_title": false,
   "title_cell": "Table of Contents",
   "title_sidebar": "Contents",
   "toc_cell": false,
   "toc_position": {},
   "toc_section_display": true,
   "toc_window_display": false
  }
 },
 "nbformat": 4,
 "nbformat_minor": 5
}
