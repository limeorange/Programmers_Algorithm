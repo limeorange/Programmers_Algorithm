{
 "cells": [
  {
   "cell_type": "markdown",
   "id": "56b7e372",
   "metadata": {},
   "source": [
    "# 최소직사각형\n",
    "- `유형` 위클리 챌린지\n",
    "\n",
    "\n",
    "- `문제 설명`\n",
    "\n",
    "\n",
    "명함 지갑을 만드는 회사에서 지갑의 크기를 정하려고 합니다. 다양한 모양과 크기의 명함들을 모두 수납할 수 있으면서, 작아서 들고 다니기 편한 지갑을 만들어야 합니다. 이러한 요건을 만족하는 지갑을 만들기 위해 디자인팀은 모든 명함의 가로 길이와 세로 길이를 조사했습니다.\n",
    "\n",
    "아래 표는 4가지 명함의 가로 길이와 세로 길이를 나타냅니다.\n",
    "\n",
    "- 명함 번호 | 가로 길이 | 세로 길이\n",
    "- 1 | 60 | 50\n",
    "- 2\t| 30 | 70\n",
    "- 3 | 60 | 30\n",
    "- 4 | 80 | 40\n",
    "\n",
    "\n",
    "가장 긴 가로 길이와 세로 길이가 각각 80, 70이기 때문에 80(가로) x 70(세로) 크기의 지갑을 만들면 모든 명함들을 수납할 수 있습니다. 하지만 2번 명함을 가로로 눕혀 수납한다면 80(가로) x 50(세로) 크기의 지갑으로 모든 명함들을 수납할 수 있습니다. 이때의 지갑 크기는 4000(=80 x 50)입니다.\n",
    "\n",
    "\n",
    "모든 명함의 가로 길이와 세로 길이를 나타내는 2차원 배열 sizes가 매개변수로 주어집니다. 모든 명함을 수납할 수 있는 가장 작은 지갑을 만들 때, 지갑의 크기를 return 하도록 solution 함수를 완성해주세요.\n",
    "\n",
    "\n",
    "- `제한 조건`\n",
    "    - sizes의 길이는 1 이상 10,000 이하입니다.\n",
    "    - sizes의 원소는 [w, h] 형식입니다.\n",
    "    - w는 명함의 가로 길이를 나타냅니다.\n",
    "    - h는 명함의 세로 길이를 나타냅니다.\n",
    "    - w와 h는 1 이상 1,000 이하인 자연수입니다.\n",
    "\n",
    "\n",
    "- `입력`\n",
    "    - ex1) [[60, 50], [30, 70], [60, 30], [80, 40]]\n",
    "    - ex2) [[10, 7], [12, 3], [8, 15], [14, 7], [5, 15]]\n",
    "    - ex3) [[14, 4], [19, 6], [6, 16], [18, 7], [7, 11]]\n",
    "\n",
    "- `출력`\n",
    "    - ex1) 4000\n",
    "    - ex2) 120\n",
    "    - ex3) 133"
   ]
  },
  {
   "cell_type": "code",
   "execution_count": 20,
   "id": "68f7fe0b",
   "metadata": {
    "ExecuteTime": {
     "end_time": "2022-05-12T04:38:56.750995Z",
     "start_time": "2022-05-12T04:38:56.748087Z"
    }
   },
   "outputs": [],
   "source": [
    "# SOL 1)\n",
    "\n",
    "def solution(arr):\n",
    "    w = []\n",
    "    h = []\n",
    "    for i in arr:\n",
    "        sort = sorted(i, key=lambda x:x)\n",
    "        w.append(sort[0])\n",
    "        h.append(sort[1]) \n",
    "    return max(w) * max(h)"
   ]
  },
  {
   "cell_type": "code",
   "execution_count": 22,
   "id": "60321602",
   "metadata": {
    "ExecuteTime": {
     "end_time": "2022-05-12T04:39:27.239599Z",
     "start_time": "2022-05-12T04:39:27.235768Z"
    }
   },
   "outputs": [
    {
     "name": "stdout",
     "output_type": "stream",
     "text": [
      "4000\n",
      "120\n",
      "133\n"
     ]
    }
   ],
   "source": [
    "print(solution([[60, 50], [30, 70], [60, 30], [80, 40]]))\n",
    "print(solution([[10, 7], [12, 3], [8, 15], [14, 7], [5, 15]]))\n",
    "print(solution([[14, 4], [19, 6], [6, 16], [18, 7], [7, 11]]))"
   ]
  },
  {
   "cell_type": "code",
   "execution_count": 24,
   "id": "4cd2b9da",
   "metadata": {
    "ExecuteTime": {
     "end_time": "2022-05-12T04:42:31.665790Z",
     "start_time": "2022-05-12T04:42:31.663477Z"
    }
   },
   "outputs": [],
   "source": [
    "# SOL 2) 순서는 상관없으므로 절반으로 나눠서 큰 값 중에 큰 값, 작은 값 중에 큰 값을 h, w로 설정\n",
    "\n",
    "def solution(arr):\n",
    "    return max(max(i) for i in arr) * max(min(i) for i in arr)"
   ]
  },
  {
   "cell_type": "code",
   "execution_count": 25,
   "id": "4b14aa31",
   "metadata": {
    "ExecuteTime": {
     "end_time": "2022-05-12T04:44:29.768911Z",
     "start_time": "2022-05-12T04:44:29.765214Z"
    }
   },
   "outputs": [
    {
     "name": "stdout",
     "output_type": "stream",
     "text": [
      "4000\n",
      "120\n",
      "133\n"
     ]
    }
   ],
   "source": [
    "print(solution([[60, 50], [30, 70], [60, 30], [80, 40]]))\n",
    "print(solution([[10, 7], [12, 3], [8, 15], [14, 7], [5, 15]]))\n",
    "print(solution([[14, 4], [19, 6], [6, 16], [18, 7], [7, 11]])) "
   ]
  }
 ],
 "metadata": {
  "kernelspec": {
   "display_name": "Python 3 (ipykernel)",
   "language": "python",
   "name": "python3"
  },
  "language_info": {
   "codemirror_mode": {
    "name": "ipython",
    "version": 3
   },
   "file_extension": ".py",
   "mimetype": "text/x-python",
   "name": "python",
   "nbconvert_exporter": "python",
   "pygments_lexer": "ipython3",
   "version": "3.9.7"
  },
  "toc": {
   "base_numbering": 1,
   "nav_menu": {},
   "number_sections": true,
   "sideBar": true,
   "skip_h1_title": false,
   "title_cell": "Table of Contents",
   "title_sidebar": "Contents",
   "toc_cell": false,
   "toc_position": {},
   "toc_section_display": true,
   "toc_window_display": false
  }
 },
 "nbformat": 4,
 "nbformat_minor": 5
}
