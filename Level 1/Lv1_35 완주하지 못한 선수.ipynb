{
 "cells": [
  {
   "cell_type": "markdown",
   "id": "56b7e372",
   "metadata": {},
   "source": [
    "# 완주하지 못한 선수\n",
    "- `유형` 해시\n",
    "\n",
    "\n",
    "- `문제 설명` 수많은 마라톤 선수들이 마라톤에 참여하였습니다. 단 한 명의 선수를 제외하고는 모든 선수가 마라톤을 완주하였습니다. 마라톤에 참여한 선수들의 이름이 담긴 배열 participant와 완주한 선수들의 이름이 담긴 배열 completion이 주어질 때, 완주하지 못한 선수의 이름을 return 하도록 solution 함수를 작성해주세요.\n",
    "\n",
    "\n",
    "- `제한 조건`\n",
    "    - 마라톤 경기에 참여한 선수의 수는 1명 이상 100,000명 이하입니다.\n",
    "    - completion의 길이는 participant의 길이보다 1 작습니다.\n",
    "    - 참가자의 이름은 1개 이상 20개 이하의 알파벳 소문자로 이루어져 있습니다.\n",
    "    - 참가자 중에는 동명이인이 있을 수 있습니다.\n",
    "\n",
    "\n",
    "- `입력`\n",
    "    - ex1) [\"leo\", \"kiki\", \"eden\"], [\"eden\", \"kiki\"]\n",
    "    - ex2) [\"marina\", \"josipa\", \"nikola\", \"vinko\", \"filipa\"], [\"josipa\", \"filipa\", \"marina\", \"nikola\"]\n",
    "    - ex3) [\"mislav\", \"stanko\", \"mislav\", \"ana\"], [\"stanko\", \"ana\", \"mislav\"]\n",
    "\n",
    "\n",
    "- `출력`\n",
    "    - ex1) \"leo\"\n",
    "    - ex2) \"vinko\"\n",
    "    - ex3) \"mislav\""
   ]
  },
  {
   "cell_type": "code",
   "execution_count": 31,
   "id": "0f7d0de0",
   "metadata": {
    "ExecuteTime": {
     "end_time": "2022-05-12T06:27:22.170298Z",
     "start_time": "2022-05-12T06:27:22.154734Z"
    }
   },
   "outputs": [],
   "source": [
    "# SOL 1) Sort 함수 이용\n",
    "\n",
    "def solution(a, b):\n",
    "    s1 = sorted(a)\n",
    "    s2 = sorted(b)\n",
    "\n",
    "    for idx, i in enumerate(s2):\n",
    "        if i != s1[idx]:\n",
    "            return s1[idx] \n",
    "    return s1[-1]"
   ]
  },
  {
   "cell_type": "code",
   "execution_count": 32,
   "id": "60321602",
   "metadata": {
    "ExecuteTime": {
     "end_time": "2022-05-12T06:27:22.201901Z",
     "start_time": "2022-05-12T06:27:22.188218Z"
    }
   },
   "outputs": [
    {
     "name": "stdout",
     "output_type": "stream",
     "text": [
      "leo\n",
      "vinko\n",
      "mislav\n"
     ]
    }
   ],
   "source": [
    "print(solution([\"leo\", \"kiki\", \"eden\"], [\"eden\", \"kiki\"]))\n",
    "print(solution([\"marina\", \"josipa\", \"nikola\", \"vinko\", \"filipa\"], [\"josipa\", \"filipa\", \"marina\", \"nikola\"]))\n",
    "print(solution([\"mislav\", \"stanko\", \"mislav\", \"ana\"], [\"stanko\", \"ana\", \"mislav\"]))"
   ]
  },
  {
   "cell_type": "code",
   "execution_count": 48,
   "id": "e8314342",
   "metadata": {
    "ExecuteTime": {
     "end_time": "2022-05-12T06:34:56.260283Z",
     "start_time": "2022-05-12T06:34:56.254951Z"
    }
   },
   "outputs": [],
   "source": [
    "# SOL 2) Counter 함수 이용\n",
    "\n",
    "from collections import Counter\n",
    "\n",
    "def solution(a, b):\n",
    "    return list((Counter(a)-Counter(b)).keys())[0]"
   ]
  },
  {
   "cell_type": "code",
   "execution_count": 49,
   "id": "a2080253",
   "metadata": {
    "ExecuteTime": {
     "end_time": "2022-05-12T06:35:00.548834Z",
     "start_time": "2022-05-12T06:35:00.540681Z"
    }
   },
   "outputs": [
    {
     "name": "stdout",
     "output_type": "stream",
     "text": [
      "leo\n",
      "vinko\n",
      "mislav\n"
     ]
    }
   ],
   "source": [
    "print(solution([\"leo\", \"kiki\", \"eden\"], [\"eden\", \"kiki\"]))\n",
    "print(solution([\"marina\", \"josipa\", \"nikola\", \"vinko\", \"filipa\"], [\"josipa\", \"filipa\", \"marina\", \"nikola\"]))\n",
    "print(solution([\"mislav\", \"stanko\", \"mislav\", \"ana\"], [\"stanko\", \"ana\", \"mislav\"]))"
   ]
  }
 ],
 "metadata": {
  "kernelspec": {
   "display_name": "Python 3 (ipykernel)",
   "language": "python",
   "name": "python3"
  },
  "language_info": {
   "codemirror_mode": {
    "name": "ipython",
    "version": 3
   },
   "file_extension": ".py",
   "mimetype": "text/x-python",
   "name": "python",
   "nbconvert_exporter": "python",
   "pygments_lexer": "ipython3",
   "version": "3.9.7"
  },
  "toc": {
   "base_numbering": 1,
   "nav_menu": {},
   "number_sections": true,
   "sideBar": true,
   "skip_h1_title": false,
   "title_cell": "Table of Contents",
   "title_sidebar": "Contents",
   "toc_cell": false,
   "toc_position": {},
   "toc_section_display": true,
   "toc_window_display": false
  }
 },
 "nbformat": 4,
 "nbformat_minor": 5
}
