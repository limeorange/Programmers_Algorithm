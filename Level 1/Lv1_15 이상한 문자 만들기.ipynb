{
 "cells": [
  {
   "cell_type": "markdown",
   "id": "56b7e372",
   "metadata": {},
   "source": [
    "# 이상한 문자 만들기\n",
    "- `유형` 연습문제\n",
    "\n",
    "\n",
    "- `문제 설명` 문자열 s는 한 개 이상의 단어로 구성되어 있습니다. 각 단어는 하나 이상의 공백문자로 구분되어 있습니다. 각 단어의 짝수번째 알파벳은 대문자로, 홀수번째 알파벳은 소문자로 바꾼 문자열을 리턴하는 함수, solution을 완성하세요.\n",
    "\n",
    "\n",
    "- `제한 조건`\n",
    "    - 문자열 전체의 짝/홀수 인덱스가 아니라, 단어(공백을 기준)별로 짝/홀수 인덱스를 판단해야합니다.\n",
    "    - 첫 번째 글자는 0번째 인덱스로 보아 짝수번째 알파벳으로 처리해야 합니다.\n",
    "\n",
    "\n",
    "- `입력`\n",
    "    - ex1) \"try hello world\"\n",
    "\n",
    "\n",
    "- `출력`\n",
    "    - ex1) \"TrY HeLlO WoRlD\""
   ]
  },
  {
   "cell_type": "code",
   "execution_count": 30,
   "id": "68f7fe0b",
   "metadata": {
    "ExecuteTime": {
     "end_time": "2022-05-11T06:08:07.151141Z",
     "start_time": "2022-05-11T06:08:07.148081Z"
    }
   },
   "outputs": [],
   "source": [
    "# SOL 1) \n",
    "\n",
    "def solution(s):\n",
    "    lst = s.split(' ')\n",
    "    result = ''\n",
    "    for i in lst:\n",
    "        for j in range(len(i)):\n",
    "            if j % 2 == 0:\n",
    "                result += i[j].upper()\n",
    "            else:\n",
    "                result += i[j].lower()\n",
    "        result += ' '\n",
    "    return result[:-1]"
   ]
  },
  {
   "cell_type": "code",
   "execution_count": 31,
   "id": "60321602",
   "metadata": {
    "ExecuteTime": {
     "end_time": "2022-05-11T06:08:07.156331Z",
     "start_time": "2022-05-11T06:08:07.153320Z"
    }
   },
   "outputs": [
    {
     "name": "stdout",
     "output_type": "stream",
     "text": [
      "TrY HeLlO WoRlD\n",
      "TrY HeLlO WoRlD \n",
      "TrY HeLlO WoRlD  \n"
     ]
    }
   ],
   "source": [
    "print(solution(\"try hello world\"))\n",
    "print(solution(\"try hello world \"))\n",
    "print(solution(\"try hello world  \"))"
   ]
  }
 ],
 "metadata": {
  "kernelspec": {
   "display_name": "Python 3 (ipykernel)",
   "language": "python",
   "name": "python3"
  },
  "language_info": {
   "codemirror_mode": {
    "name": "ipython",
    "version": 3
   },
   "file_extension": ".py",
   "mimetype": "text/x-python",
   "name": "python",
   "nbconvert_exporter": "python",
   "pygments_lexer": "ipython3",
   "version": "3.9.7"
  },
  "toc": {
   "base_numbering": 1,
   "nav_menu": {},
   "number_sections": true,
   "sideBar": true,
   "skip_h1_title": false,
   "title_cell": "Table of Contents",
   "title_sidebar": "Contents",
   "toc_cell": false,
   "toc_position": {},
   "toc_section_display": true,
   "toc_window_display": false
  }
 },
 "nbformat": 4,
 "nbformat_minor": 5
}
