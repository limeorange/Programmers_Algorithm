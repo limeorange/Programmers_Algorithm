{
 "cells": [
  {
   "cell_type": "markdown",
   "id": "56b7e372",
   "metadata": {},
   "source": [
    "# 모의고사\n",
    "- `유형` 완전탐색\n",
    "\n",
    "\n",
    "- `문제 설명` \n",
    "\n",
    "\n",
    "수포자는 수학을 포기한 사람의 준말입니다. 수포자 삼인방은 모의고사에 수학 문제를 전부 찍으려 합니다. 수포자는 1번 문제부터 마지막 문제까지 다음과 같이 찍습니다.\n",
    "\n",
    "1번 수포자가 찍는 방식: 1, 2, 3, 4, 5, 1, 2, 3, 4, 5, ...\n",
    "2번 수포자가 찍는 방식: 2, 1, 2, 3, 2, 4, 2, 5, 2, 1, 2, 3, 2, 4, 2, 5, ...\n",
    "3번 수포자가 찍는 방식: 3, 3, 1, 1, 2, 2, 4, 4, 5, 5, 3, 3, 1, 1, 2, 2, 4, 4, 5, 5, ...\n",
    "\n",
    "1번 문제부터 마지막 문제까지의 정답이 순서대로 들은 배열 answers가 주어졌을 때, 가장 많은 문제를 맞힌 사람이 누구인지 배열에 담아 return 하도록 solution 함수를 작성해주세요.\n",
    "\n",
    "\n",
    "- `제한 조건`\n",
    "    - 시험은 최대 10,000 문제로 구성되어있습니다.\n",
    "    - 문제의 정답은 1, 2, 3, 4, 5중 하나입니다.\n",
    "    - 가장 높은 점수를 받은 사람이 여럿일 경우, return하는 값을 오름차순 정렬해주세요.\n",
    "\n",
    "\n",
    "- `입력`\n",
    "    - ex1) [1, 2, 3, 4, 5]\n",
    "    - ex2) [1, 3, 2, 4, 2]\n",
    "\n",
    "\n",
    "- `출력`\n",
    "    - ex1) [1]\n",
    "    - ex2) [1, 2, 3]"
   ]
  },
  {
   "cell_type": "code",
   "execution_count": 35,
   "id": "68f7fe0b",
   "metadata": {
    "ExecuteTime": {
     "end_time": "2022-05-13T06:27:02.599619Z",
     "start_time": "2022-05-13T06:27:02.594805Z"
    }
   },
   "outputs": [],
   "source": [
    "# SOL 1)\n",
    "\n",
    "def solution(answers): \n",
    "    \n",
    "    a_len = len(answers)\n",
    "    p1 = [1, 2, 3, 4, 5] * (a_len//5+1)\n",
    "    p2 = [2, 1, 2, 3, 2, 4, 2, 5] * (a_len//8+1)\n",
    "    p3 = [3, 3, 1, 1, 2, 2, 4, 4, 5, 5] * (a_len//10+1)\n",
    "    \n",
    "    dic = {'p1':0, 'p2':0, 'p3':0}\n",
    "    \n",
    "    for idx, i in enumerate(answers):\n",
    "        \n",
    "        if p1[idx] == i:\n",
    "            dic['p1'] += 1\n",
    "        if p2[idx] == i:\n",
    "            dic['p2'] += 1\n",
    "        if p3[idx] == i:\n",
    "            dic['p3'] += 1\n",
    "    \n",
    "    return [int(k[-1]) for k, v in dic.items() if v == max(dic.values())]"
   ]
  },
  {
   "cell_type": "code",
   "execution_count": 36,
   "id": "60321602",
   "metadata": {
    "ExecuteTime": {
     "end_time": "2022-05-13T06:27:05.949036Z",
     "start_time": "2022-05-13T06:27:05.946282Z"
    }
   },
   "outputs": [
    {
     "name": "stdout",
     "output_type": "stream",
     "text": [
      "[1]\n",
      "[1, 2, 3]\n"
     ]
    }
   ],
   "source": [
    "print(solution([1,2,3,4,5]))\n",
    "print(solution([1,3,2,4,2]))"
   ]
  }
 ],
 "metadata": {
  "kernelspec": {
   "display_name": "Python 3 (ipykernel)",
   "language": "python",
   "name": "python3"
  },
  "language_info": {
   "codemirror_mode": {
    "name": "ipython",
    "version": 3
   },
   "file_extension": ".py",
   "mimetype": "text/x-python",
   "name": "python",
   "nbconvert_exporter": "python",
   "pygments_lexer": "ipython3",
   "version": "3.9.7"
  },
  "toc": {
   "base_numbering": 1,
   "nav_menu": {},
   "number_sections": true,
   "sideBar": true,
   "skip_h1_title": false,
   "title_cell": "Table of Contents",
   "title_sidebar": "Contents",
   "toc_cell": false,
   "toc_position": {},
   "toc_section_display": true,
   "toc_window_display": false
  }
 },
 "nbformat": 4,
 "nbformat_minor": 5
}
