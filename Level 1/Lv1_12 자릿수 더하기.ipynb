{
 "cells": [
  {
   "cell_type": "markdown",
   "id": "56b7e372",
   "metadata": {},
   "source": [
    "# 자릿수 더하기\n",
    "- `유형` 연습문제\n",
    "\n",
    "\n",
    "- `문제 설명` 자연수 N이 주어지면, N의 각 자릿수의 합을 구해서 return 하는 solution 함수를 만들어 주세요. 예를들어 N = 123이면 1 + 2 + 3 = 6을 return 하면 됩니다.\n",
    "\n",
    "\n",
    "- `제한 조건`\n",
    "    - N의 범위 : 100,000,000 이하의 자연수\n",
    "\n",
    "\n",
    "- `입력`\n",
    "    - ex1) 123\n",
    "    - ex2) 987\n",
    "\n",
    "\n",
    "- `출력`\n",
    "    - ex1) 6\n",
    "    - ex2) 24"
   ]
  },
  {
   "cell_type": "code",
   "execution_count": 3,
   "id": "68f7fe0b",
   "metadata": {
    "ExecuteTime": {
     "end_time": "2022-05-11T05:25:09.955855Z",
     "start_time": "2022-05-11T05:25:09.953341Z"
    }
   },
   "outputs": [],
   "source": [
    "# SOL 1)\n",
    "\n",
    "def solution(N):\n",
    "    return sum(map(int, str(N))) "
   ]
  },
  {
   "cell_type": "code",
   "execution_count": 4,
   "id": "60321602",
   "metadata": {
    "ExecuteTime": {
     "end_time": "2022-05-11T05:25:09.960466Z",
     "start_time": "2022-05-11T05:25:09.957825Z"
    },
    "scrolled": true
   },
   "outputs": [
    {
     "name": "stdout",
     "output_type": "stream",
     "text": [
      "6\n",
      "24\n"
     ]
    }
   ],
   "source": [
    "print(solution(123))\n",
    "print(solution(987))"
   ]
  }
 ],
 "metadata": {
  "kernelspec": {
   "display_name": "Python 3 (ipykernel)",
   "language": "python",
   "name": "python3"
  },
  "language_info": {
   "codemirror_mode": {
    "name": "ipython",
    "version": 3
   },
   "file_extension": ".py",
   "mimetype": "text/x-python",
   "name": "python",
   "nbconvert_exporter": "python",
   "pygments_lexer": "ipython3",
   "version": "3.9.7"
  },
  "toc": {
   "base_numbering": 1,
   "nav_menu": {},
   "number_sections": true,
   "sideBar": true,
   "skip_h1_title": false,
   "title_cell": "Table of Contents",
   "title_sidebar": "Contents",
   "toc_cell": false,
   "toc_position": {},
   "toc_section_display": true,
   "toc_window_display": false
  }
 },
 "nbformat": 4,
 "nbformat_minor": 5
}
