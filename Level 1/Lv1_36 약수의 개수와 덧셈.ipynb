{
 "cells": [
  {
   "cell_type": "markdown",
   "id": "56b7e372",
   "metadata": {},
   "source": [
    "# 약수의 개수와 덧셈\n",
    "- `유형` 월간 코드 챌린지 시즌2\n",
    "\n",
    "\n",
    "- `문제 설명` 두 정수 left와 right가 매개변수로 주어집니다. left부터 right까지의 모든 수들 중에서, 약수의 개수가 짝수인 수는 더하고, 약수의 개수가 홀수인 수는 뺀 수를 return 하도록 solution 함수를 완성해주세요.\n",
    "\n",
    "\n",
    "- `제한 조건`\n",
    "    - 1 ≤ left ≤ right ≤ 1,000\n",
    "\n",
    "\n",
    "- `입력`\n",
    "    - ex1) 13, 17\n",
    "    - ex2) 24, 27\n",
    "\n",
    "\n",
    "- `출력`\n",
    "    - ex1) 43\n",
    "    - ex2) 52"
   ]
  },
  {
   "cell_type": "code",
   "execution_count": 3,
   "id": "68f7fe0b",
   "metadata": {
    "ExecuteTime": {
     "end_time": "2022-05-12T06:45:16.370025Z",
     "start_time": "2022-05-12T06:45:16.366965Z"
    }
   },
   "outputs": [],
   "source": [
    "# SOL 1)\n",
    "\n",
    "def solution(a, b):\n",
    "    result = 0\n",
    "    for i in range(a, b+1):\n",
    "        temp = set()\n",
    "        for j in range(1, int(i**0.5)+1):\n",
    "            if i % j == 0:\n",
    "                temp.add(j)\n",
    "                temp.add(i//j)\n",
    "        if len(temp) % 2 == 0:\n",
    "            result += i\n",
    "        else:\n",
    "            result -= i    \n",
    "    return result"
   ]
  },
  {
   "cell_type": "code",
   "execution_count": 4,
   "id": "60321602",
   "metadata": {
    "ExecuteTime": {
     "end_time": "2022-05-12T06:45:16.374824Z",
     "start_time": "2022-05-12T06:45:16.372076Z"
    }
   },
   "outputs": [
    {
     "name": "stdout",
     "output_type": "stream",
     "text": [
      "43\n",
      "52\n"
     ]
    }
   ],
   "source": [
    "print(solution(13, 17))\n",
    "print(solution(24, 27))"
   ]
  },
  {
   "cell_type": "code",
   "execution_count": 14,
   "id": "d3a4be64",
   "metadata": {
    "ExecuteTime": {
     "end_time": "2022-05-12T06:55:22.667035Z",
     "start_time": "2022-05-12T06:55:22.664384Z"
    }
   },
   "outputs": [],
   "source": [
    "# SOL 2) 제곱수의 약수는 홀수개 / 제곱수가 아닌 수의 약수는 짝수개\n",
    "## ex. 4 -> [1, 2, 4] / 5 -> [1, (2.xx), 5]\n",
    "\n",
    "def solution(a, b):\n",
    "    result = 0\n",
    "    for i in range(a, b+1):\n",
    "        if int(i**0.5)==i**0.5:\n",
    "            result -= i\n",
    "        else:\n",
    "            result += i\n",
    "    return result"
   ]
  },
  {
   "cell_type": "code",
   "execution_count": 15,
   "id": "739d8aa3",
   "metadata": {
    "ExecuteTime": {
     "end_time": "2022-05-12T06:55:23.370393Z",
     "start_time": "2022-05-12T06:55:23.367963Z"
    },
    "scrolled": true
   },
   "outputs": [
    {
     "name": "stdout",
     "output_type": "stream",
     "text": [
      "43\n",
      "52\n"
     ]
    }
   ],
   "source": [
    "print(solution(13, 17))\n",
    "print(solution(24, 27))"
   ]
  }
 ],
 "metadata": {
  "kernelspec": {
   "display_name": "Python 3 (ipykernel)",
   "language": "python",
   "name": "python3"
  },
  "language_info": {
   "codemirror_mode": {
    "name": "ipython",
    "version": 3
   },
   "file_extension": ".py",
   "mimetype": "text/x-python",
   "name": "python",
   "nbconvert_exporter": "python",
   "pygments_lexer": "ipython3",
   "version": "3.9.7"
  },
  "toc": {
   "base_numbering": 1,
   "nav_menu": {},
   "number_sections": true,
   "sideBar": true,
   "skip_h1_title": false,
   "title_cell": "Table of Contents",
   "title_sidebar": "Contents",
   "toc_cell": false,
   "toc_position": {},
   "toc_section_display": true,
   "toc_window_display": false
  }
 },
 "nbformat": 4,
 "nbformat_minor": 5
}
