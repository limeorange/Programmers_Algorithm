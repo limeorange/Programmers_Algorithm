{
 "cells": [
  {
   "cell_type": "markdown",
   "id": "56b7e372",
   "metadata": {},
   "source": [
    "# 나누어 떨어지는 숫자 배열\n",
    "- `유형` 연습문제\n",
    "\n",
    "\n",
    "- `문제 설명` array의 각 element 중 divisor로 나누어 떨어지는 값을 오름차순으로 정렬한 배열을 반환하는 함수, solution을 작성해주세요. divisor로 나누어 떨어지는 element가 하나도 없다면 배열에 -1을 담아 반환하세요.\n",
    "\n",
    "\n",
    "- `제한 조건`\n",
    "    - arr은 자연수를 담은 배열입니다.\n",
    "    - 정수 i, j에 대해 i ≠ j 이면 arr[i] ≠ arr[j] 입니다.\n",
    "    - divisor는 자연수입니다.\n",
    "    - array는 길이 1 이상인 배열입니다.\n",
    "\n",
    "\n",
    "- `입력`\n",
    "    - ex1) [5, 9, 7, 10], 5\n",
    "    - ex2) [2, 36, 1, 3], 1\n",
    "    - ex3) [3,2,6], 10\n",
    "\n",
    "\n",
    "- `출력`\n",
    "    - ex1) [5, 10]\n",
    "    - ex2) [1, 2, 3, 36]\n",
    "    - ex3) [-1]"
   ]
  },
  {
   "cell_type": "code",
   "execution_count": 3,
   "id": "68f7fe0b",
   "metadata": {
    "ExecuteTime": {
     "end_time": "2022-05-12T02:17:12.246994Z",
     "start_time": "2022-05-12T02:17:12.244209Z"
    }
   },
   "outputs": [],
   "source": [
    "# SOL 1)\n",
    "\n",
    "def solution(arr, divisor): \n",
    "    result = []\n",
    "    for i in arr:\n",
    "        if i % divisor == 0:\n",
    "            result.append(i)\n",
    "    if len(result) == 0:\n",
    "        result.append(-1)\n",
    "    return sorted(result)"
   ]
  },
  {
   "cell_type": "code",
   "execution_count": 5,
   "id": "60321602",
   "metadata": {
    "ExecuteTime": {
     "end_time": "2022-05-12T02:17:46.662519Z",
     "start_time": "2022-05-12T02:17:46.659232Z"
    }
   },
   "outputs": [
    {
     "name": "stdout",
     "output_type": "stream",
     "text": [
      "[5, 10]\n",
      "[1, 2, 3, 36]\n",
      "[-1]\n"
     ]
    }
   ],
   "source": [
    "print(solution([5, 9, 7, 10], 5))\n",
    "print(solution([2, 36, 1, 3], 1))\n",
    "print(solution([3, 2, 6], 10))"
   ]
  },
  {
   "cell_type": "code",
   "execution_count": 8,
   "id": "6855fe29",
   "metadata": {
    "ExecuteTime": {
     "end_time": "2022-05-12T02:20:08.450244Z",
     "start_time": "2022-05-12T02:20:08.447290Z"
    }
   },
   "outputs": [],
   "source": [
    "# SOL 2) list comprehension / return에 or 연산자 사용\n",
    "# return에서 or/and 연산자 사용법 : https://magpienote.tistory.com/103\n",
    "\n",
    "def solution(arr, divisor):\n",
    "    return sorted([i for i in arr if i % divisor == 0]) or [-1]"
   ]
  },
  {
   "cell_type": "code",
   "execution_count": 9,
   "id": "3e4ff888",
   "metadata": {
    "ExecuteTime": {
     "end_time": "2022-05-12T02:20:09.569890Z",
     "start_time": "2022-05-12T02:20:09.566633Z"
    }
   },
   "outputs": [
    {
     "name": "stdout",
     "output_type": "stream",
     "text": [
      "[5, 10]\n",
      "[1, 2, 3, 36]\n",
      "[-1]\n"
     ]
    }
   ],
   "source": [
    "print(solution([5, 9, 7, 10], 5))\n",
    "print(solution([2, 36, 1, 3], 1))\n",
    "print(solution([3, 2, 6], 10))"
   ]
  }
 ],
 "metadata": {
  "kernelspec": {
   "display_name": "Python 3 (ipykernel)",
   "language": "python",
   "name": "python3"
  },
  "language_info": {
   "codemirror_mode": {
    "name": "ipython",
    "version": 3
   },
   "file_extension": ".py",
   "mimetype": "text/x-python",
   "name": "python",
   "nbconvert_exporter": "python",
   "pygments_lexer": "ipython3",
   "version": "3.9.7"
  },
  "toc": {
   "base_numbering": 1,
   "nav_menu": {},
   "number_sections": true,
   "sideBar": true,
   "skip_h1_title": false,
   "title_cell": "Table of Contents",
   "title_sidebar": "Contents",
   "toc_cell": false,
   "toc_position": {},
   "toc_section_display": true,
   "toc_window_display": false
  }
 },
 "nbformat": 4,
 "nbformat_minor": 5
}
