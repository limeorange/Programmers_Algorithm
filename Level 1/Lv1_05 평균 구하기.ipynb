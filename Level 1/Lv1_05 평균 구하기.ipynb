{
 "cells": [
  {
   "cell_type": "markdown",
   "id": "56b7e372",
   "metadata": {},
   "source": [
    "# 평균 구하기\n",
    "- `유형` 연습문제\n",
    "\n",
    "\n",
    "- `문제 설명` 정수를 담고 있는 배열 arr의 평균값을 return하는 함수, solution을 완성해보세요.\n",
    "\n",
    "\n",
    "- `제한 조건`\n",
    "    - arr은 길이 1 이상, 100 이하인 배열입니다.\n",
    "    - arr의 원소는 -10,000 이상 10,000 이하인 정수입니다.\n",
    "\n",
    "\n",
    "- `입력`\n",
    "    - ex1) [1, 2, 3, 4]\n",
    "    - ex2) [5, 5]\n",
    "\n",
    "\n",
    "- `출력`\n",
    "    - ex1) 2.5\n",
    "    - ex2) 5"
   ]
  },
  {
   "cell_type": "code",
   "execution_count": 1,
   "id": "68f7fe0b",
   "metadata": {
    "ExecuteTime": {
     "end_time": "2022-05-11T02:34:26.025421Z",
     "start_time": "2022-05-11T02:34:26.018982Z"
    }
   },
   "outputs": [],
   "source": [
    "# SOL 1)\n",
    "\n",
    "def solution(arr): \n",
    "    answer = sum(arr)/len(arr)\n",
    "    return answer"
   ]
  },
  {
   "cell_type": "code",
   "execution_count": 3,
   "id": "77f91bf9",
   "metadata": {
    "ExecuteTime": {
     "end_time": "2022-05-11T02:34:50.570806Z",
     "start_time": "2022-05-11T02:34:50.567366Z"
    }
   },
   "outputs": [
    {
     "name": "stdout",
     "output_type": "stream",
     "text": [
      "2.5\n",
      "5.0\n"
     ]
    }
   ],
   "source": [
    "print(solution([1, 2, 3, 4]))\n",
    "print(solution([5, 5]))"
   ]
  }
 ],
 "metadata": {
  "kernelspec": {
   "display_name": "Python 3 (ipykernel)",
   "language": "python",
   "name": "python3"
  },
  "language_info": {
   "codemirror_mode": {
    "name": "ipython",
    "version": 3
   },
   "file_extension": ".py",
   "mimetype": "text/x-python",
   "name": "python",
   "nbconvert_exporter": "python",
   "pygments_lexer": "ipython3",
   "version": "3.9.7"
  },
  "toc": {
   "base_numbering": 1,
   "nav_menu": {},
   "number_sections": true,
   "sideBar": true,
   "skip_h1_title": false,
   "title_cell": "Table of Contents",
   "title_sidebar": "Contents",
   "toc_cell": false,
   "toc_position": {},
   "toc_section_display": true,
   "toc_window_display": false
  }
 },
 "nbformat": 4,
 "nbformat_minor": 5
}
