{
 "cells": [
  {
   "cell_type": "markdown",
   "id": "56b7e372",
   "metadata": {},
   "source": [
    "# 실패율\n",
    "- `유형` 2019 KAKAO BLIND RECRUITMENT\n",
    "\n",
    "\n",
    "- `문제 설명`\n",
    "\n",
    "\n",
    "슈퍼 게임 개발자 오렐리는 큰 고민에 빠졌다. 그녀가 만든 프랜즈 오천성이 대성공을 거뒀지만, 요즘 신규 사용자의 수가 급감한 것이다. 원인은 신규 사용자와 기존 사용자 사이에 스테이지 차이가 너무 큰 것이 문제였다.\n",
    "\n",
    "이 문제를 어떻게 할까 고민 한 그녀는 동적으로 게임 시간을 늘려서 난이도를 조절하기로 했다. 역시 슈퍼 개발자라 대부분의 로직은 쉽게 구현했지만, 실패율을 구하는 부분에서 위기에 빠지고 말았다. 오렐리를 위해 실패율을 구하는 코드를 완성하라.\n",
    "\n",
    "- 실패율은 다음과 같이 정의한다.\n",
    "    - 스테이지에 도달했으나 아직 클리어하지 못한 플레이어의 수 / 스테이지에 도달한 플레이어 수\n",
    "\n",
    "전체 스테이지의 개수 N, 게임을 이용하는 사용자가 현재 멈춰있는 스테이지의 번호가 담긴 배열 stages가 매개변수로 주어질 때, 실패율이 높은 스테이지부터 내림차순으로 스테이지의 번호가 담겨있는 배열을 return 하도록 solution 함수를 완성하라.\n",
    "\n",
    "\n",
    "- `제한 조건`\n",
    "    - 스테이지의 개수 N은 1 이상 500 이하의 자연수이다.\n",
    "    - stages의 길이는 1 이상 200,000 이하이다.\n",
    "    - stages에는 1 이상 N + 1 이하의 자연수가 담겨있다.\n",
    "        - 각 자연수는 사용자가 현재 도전 중인 스테이지의 번호를 나타낸다.\n",
    "        - 단, N + 1 은 마지막 스테이지(N 번째 스테이지) 까지 클리어 한 사용자를 나타낸다.\n",
    "    - 만약 실패율이 같은 스테이지가 있다면 작은 번호의 스테이지가 먼저 오도록 하면 된다.\n",
    "    - 스테이지에 도달한 유저가 없는 경우 해당 스테이지의 실패율은 0 으로 정의한다.\n",
    "\n",
    "\n",
    "- `입력`\n",
    "    - ex1) 5, [2, 1, 2, 6, 2, 4, 3, 3]\n",
    "    - ex2) 4, [4,4,4,4,4]\n",
    "\n",
    "\n",
    "- `출력`\n",
    "    - ex1) [3,4,2,1,5]\n",
    "    - ex2) [4,1,2,3]"
   ]
  },
  {
   "cell_type": "code",
   "execution_count": 40,
   "id": "68f7fe0b",
   "metadata": {
    "ExecuteTime": {
     "end_time": "2022-05-19T06:37:44.189536Z",
     "start_time": "2022-05-19T06:37:44.186133Z"
    }
   },
   "outputs": [],
   "source": [
    "# SOL 1) 스테이지에 도달한 유저가 없는 경우 따로 나눠서 처리!\n",
    "\n",
    "def solution(N, stages):\n",
    "    dic = {}\n",
    "    for i in range(1, N+1):\n",
    "        if stages.count(i) == 0:\n",
    "            dic[i] = 0\n",
    "        else:\n",
    "            dic[i] = stages.count(i)/len([x for x in stages if x >= i])\n",
    "    sorted_dic = sorted(dic.items(), key = lambda item:item[1], reverse = True)\n",
    "    return [x[0] for x in sorted_dic]"
   ]
  },
  {
   "cell_type": "code",
   "execution_count": 41,
   "id": "60321602",
   "metadata": {
    "ExecuteTime": {
     "end_time": "2022-05-19T06:37:44.845302Z",
     "start_time": "2022-05-19T06:37:44.842175Z"
    }
   },
   "outputs": [
    {
     "name": "stdout",
     "output_type": "stream",
     "text": [
      "[3, 4, 2, 1, 5]\n",
      "[4, 1, 2, 3]\n",
      "[1, 2, 3]\n"
     ]
    }
   ],
   "source": [
    "print(solution(5, [2, 1, 2, 6, 2, 4, 3, 3]))\n",
    "print(solution(4, [4,4,4,4,4]))\n",
    "print(solution(3, [1, 1, 1]))"
   ]
  }
 ],
 "metadata": {
  "kernelspec": {
   "display_name": "Python 3 (ipykernel)",
   "language": "python",
   "name": "python3"
  },
  "language_info": {
   "codemirror_mode": {
    "name": "ipython",
    "version": 3
   },
   "file_extension": ".py",
   "mimetype": "text/x-python",
   "name": "python",
   "nbconvert_exporter": "python",
   "pygments_lexer": "ipython3",
   "version": "3.9.7"
  },
  "toc": {
   "base_numbering": 1,
   "nav_menu": {},
   "number_sections": true,
   "sideBar": true,
   "skip_h1_title": false,
   "title_cell": "Table of Contents",
   "title_sidebar": "Contents",
   "toc_cell": false,
   "toc_position": {},
   "toc_section_display": true,
   "toc_window_display": false
  }
 },
 "nbformat": 4,
 "nbformat_minor": 5
}
