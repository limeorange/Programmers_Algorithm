{
 "cells": [
  {
   "cell_type": "markdown",
   "id": "56b7e372",
   "metadata": {},
   "source": [
    "# 서울에서 김서방 찾기\n",
    "- `유형` 연습문제\n",
    "\n",
    "\n",
    "- `문제 설명` String형 배열 seoul의 element중 \"Kim\"의 위치 x를 찾아, \"김서방은 x에 있다\"는 String을 반환하는 함수, solution을 완성하세요. seoul에 \"Kim\"은 오직 한 번만 나타나며 잘못된 값이 입력되는 경우는 없습니다.\n",
    "\n",
    "\n",
    "- `제한 조건`\n",
    "    - seoul은 길이 1 이상, 1000 이하인 배열입니다.\n",
    "    - seoul의 원소는 길이 1 이상, 20 이하인 문자열입니다.\n",
    "    - \"Kim\"은 반드시 seoul 안에 포함되어 있습니다.\n",
    "\n",
    "\n",
    "- `입력`\n",
    "    - ex1) [\"Jane\", \"Kim\"]\t\n",
    "\n",
    "\n",
    "- `출력`\n",
    "    - ex1) \"김서방은 1에 있다\""
   ]
  },
  {
   "cell_type": "code",
   "execution_count": 15,
   "id": "68f7fe0b",
   "metadata": {
    "ExecuteTime": {
     "end_time": "2022-05-11T08:06:49.223512Z",
     "start_time": "2022-05-11T08:06:49.221298Z"
    }
   },
   "outputs": [],
   "source": [
    "# SOL 1)\n",
    "\n",
    "def solution(seoul):\n",
    "    idx = seoul.index('Kim')\n",
    "    return f'김서방은 {idx}에 있다'"
   ]
  },
  {
   "cell_type": "code",
   "execution_count": 16,
   "id": "60321602",
   "metadata": {
    "ExecuteTime": {
     "end_time": "2022-05-11T08:06:51.512051Z",
     "start_time": "2022-05-11T08:06:51.509087Z"
    }
   },
   "outputs": [
    {
     "name": "stdout",
     "output_type": "stream",
     "text": [
      "김서방은 1에 있다\n"
     ]
    }
   ],
   "source": [
    "print(solution(['Jane', 'Kim'])) "
   ]
  }
 ],
 "metadata": {
  "kernelspec": {
   "display_name": "Python 3 (ipykernel)",
   "language": "python",
   "name": "python3"
  },
  "language_info": {
   "codemirror_mode": {
    "name": "ipython",
    "version": 3
   },
   "file_extension": ".py",
   "mimetype": "text/x-python",
   "name": "python",
   "nbconvert_exporter": "python",
   "pygments_lexer": "ipython3",
   "version": "3.9.7"
  },
  "toc": {
   "base_numbering": 1,
   "nav_menu": {},
   "number_sections": true,
   "sideBar": true,
   "skip_h1_title": false,
   "title_cell": "Table of Contents",
   "title_sidebar": "Contents",
   "toc_cell": false,
   "toc_position": {},
   "toc_section_display": true,
   "toc_window_display": false
  }
 },
 "nbformat": 4,
 "nbformat_minor": 5
}
