{
 "cells": [
  {
   "cell_type": "markdown",
   "id": "56b7e372",
   "metadata": {},
   "source": [
    "# 정수 제곱근 판별\n",
    "- `유형` 연습문제\n",
    "\n",
    "\n",
    "- `문제 설명` 임의의 양의 정수 n에 대해, n이 어떤 양의 정수 x의 제곱인지 아닌지 판단하려 합니다. n이 양의 정수 x의 제곱이라면 x+1의 제곱을 리턴하고, n이 양의 정수 x의 제곱이 아니라면 -1을 리턴하는 함수를 완성하세요.\n",
    "\n",
    "\n",
    "- `제한 조건`\n",
    "    - n은 1이상, 50000000000000 이하인 양의 정수입니다.\n",
    "    \n",
    "\n",
    "- `입력`\n",
    "    - ex1) 121\n",
    "    - ex2) 3\n",
    "\n",
    "\n",
    "- `출력`\n",
    "    - ex1) 144\n",
    "    - ex2) -1"
   ]
  },
  {
   "cell_type": "code",
   "execution_count": 43,
   "id": "68f7fe0b",
   "metadata": {
    "ExecuteTime": {
     "end_time": "2022-05-11T05:13:23.702603Z",
     "start_time": "2022-05-11T05:13:23.699686Z"
    }
   },
   "outputs": [],
   "source": [
    "# SOL 1) n의 양의 실수 제곱근 근처의 정수를 제곱해서 n이 되는지 확인\n",
    "\n",
    "def solution(n):\n",
    "    \n",
    "    import math \n",
    "    \n",
    "    floor = math.floor(n**0.5)\n",
    "    ceil = math.ceil(n**0.5)\n",
    "    \n",
    "    if floor ** 2 == n:\n",
    "        return (floor+1)**2\n",
    "\n",
    "    if ceil ** 2 == n:\n",
    "        return (ceil+1)**2\n",
    "    \n",
    "    return -1"
   ]
  },
  {
   "cell_type": "code",
   "execution_count": 44,
   "id": "60321602",
   "metadata": {
    "ExecuteTime": {
     "end_time": "2022-05-11T05:13:24.220559Z",
     "start_time": "2022-05-11T05:13:24.218175Z"
    }
   },
   "outputs": [
    {
     "name": "stdout",
     "output_type": "stream",
     "text": [
      "144\n",
      "-1\n"
     ]
    }
   ],
   "source": [
    "print(solution(121))\n",
    "print(solution(3))"
   ]
  },
  {
   "cell_type": "code",
   "execution_count": 47,
   "id": "c7bd7338",
   "metadata": {
    "ExecuteTime": {
     "end_time": "2022-05-11T05:18:56.665417Z",
     "start_time": "2022-05-11T05:18:56.663144Z"
    }
   },
   "outputs": [],
   "source": [
    "# SOL 2) n의 양의 실수 제곱근이 소수인지 확인 \n",
    "\n",
    "def solution(n):\n",
    "    if (n**0.5) % 1 == 0:\n",
    "        return ((n**0.5)+1)**2\n",
    "    return -1"
   ]
  },
  {
   "cell_type": "code",
   "execution_count": 48,
   "id": "89a1a514",
   "metadata": {
    "ExecuteTime": {
     "end_time": "2022-05-11T05:18:56.668954Z",
     "start_time": "2022-05-11T05:18:56.666849Z"
    }
   },
   "outputs": [
    {
     "name": "stdout",
     "output_type": "stream",
     "text": [
      "144.0\n",
      "-1\n"
     ]
    }
   ],
   "source": [
    "print(solution(121))\n",
    "print(solution(3))"
   ]
  }
 ],
 "metadata": {
  "kernelspec": {
   "display_name": "Python 3 (ipykernel)",
   "language": "python",
   "name": "python3"
  },
  "language_info": {
   "codemirror_mode": {
    "name": "ipython",
    "version": 3
   },
   "file_extension": ".py",
   "mimetype": "text/x-python",
   "name": "python",
   "nbconvert_exporter": "python",
   "pygments_lexer": "ipython3",
   "version": "3.9.7"
  },
  "toc": {
   "base_numbering": 1,
   "nav_menu": {},
   "number_sections": true,
   "sideBar": true,
   "skip_h1_title": false,
   "title_cell": "Table of Contents",
   "title_sidebar": "Contents",
   "toc_cell": false,
   "toc_position": {},
   "toc_section_display": true,
   "toc_window_display": false
  }
 },
 "nbformat": 4,
 "nbformat_minor": 5
}
