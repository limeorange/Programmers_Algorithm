{
 "cells": [
  {
   "cell_type": "markdown",
   "id": "56b7e372",
   "metadata": {},
   "source": [
    "# 행렬의 덧셈\n",
    "- `유형` 연습문제\n",
    "\n",
    "\n",
    "- `문제 설명` 행렬의 덧셈은 행과 열의 크기가 같은 두 행렬의 같은 행, 같은 열의 값을 서로 더한 결과가 됩니다. 2개의 행렬 arr1과 arr2를 입력받아, 행렬 덧셈의 결과를 반환하는 함수, solution을 완성해주세요.\n",
    "\n",
    "\n",
    "- `제한 조건` \n",
    "    - 행렬 arr1, arr2의 행과 열의 길이는 500을 넘지 않습니다.\n",
    "\n",
    "\n",
    "- `입력` \n",
    "    - ex1) arr1 = [[1,2],[2,3]], arr2 = [[3,4],[5,6]]\n",
    "    - ex2) arr1 = [[1],[2]], arr2 = [[3],[4]]\n",
    "\n",
    "\n",
    "- `출력`\n",
    "    - ex1) [[4,6],[7,9]]\n",
    "    - ex2) [[4],[6]]"
   ]
  },
  {
   "cell_type": "code",
   "execution_count": 26,
   "id": "68f7fe0b",
   "metadata": {
    "ExecuteTime": {
     "end_time": "2022-05-11T02:28:06.363385Z",
     "start_time": "2022-05-11T02:28:06.360616Z"
    }
   },
   "outputs": [],
   "source": [
    "# SOL 1) \n",
    "\n",
    "def solution1(arr1, arr2):\n",
    "    result = []\n",
    "    \n",
    "    for k in range(len(arr1)):\n",
    "        temp = []\n",
    "        for i, j in zip(arr1[k], arr 2[k]):\n",
    "            temp.append(i+j)\n",
    "        result.append(temp)\n",
    "        \n",
    "    return result"
   ]
  },
  {
   "cell_type": "code",
   "execution_count": 27,
   "id": "6e433863",
   "metadata": {
    "ExecuteTime": {
     "end_time": "2022-05-11T02:28:06.368959Z",
     "start_time": "2022-05-11T02:28:06.365487Z"
    }
   },
   "outputs": [
    {
     "name": "stdout",
     "output_type": "stream",
     "text": [
      "[[4, 6], [7, 9]]\n",
      "[[4, 6]]\n"
     ]
    }
   ],
   "source": [
    "print(solution1([[1,2],[2,3]], [[3,4],[5,6]]))\n",
    "print(solution1([[1,2]], [[3,4]]))"
   ]
  },
  {
   "cell_type": "code",
   "execution_count": 29,
   "id": "a2be9890",
   "metadata": {
    "ExecuteTime": {
     "end_time": "2022-05-11T02:28:15.852279Z",
     "start_time": "2022-05-11T02:28:15.849668Z"
    }
   },
   "outputs": [],
   "source": [
    "# SOL 2)\n",
    "\n",
    "def solution2(A, B):\n",
    "    answer = [[c + d for c, d in zip(a, b)] for a, b in zip(A,B)]\n",
    "    return answer"
   ]
  },
  {
   "cell_type": "code",
   "execution_count": 30,
   "id": "a915df08",
   "metadata": {
    "ExecuteTime": {
     "end_time": "2022-05-11T02:28:15.857515Z",
     "start_time": "2022-05-11T02:28:15.854471Z"
    }
   },
   "outputs": [
    {
     "name": "stdout",
     "output_type": "stream",
     "text": [
      "[[4, 6], [7, 9]]\n",
      "[[4, 6]]\n"
     ]
    }
   ],
   "source": [
    "print(solution2([[1,2],[2,3]], [[3,4],[5,6]]))\n",
    "print(solution2([[1,2]], [[3,4]]))"
   ]
  }
 ],
 "metadata": {
  "kernelspec": {
   "display_name": "Python 3 (ipykernel)",
   "language": "python",
   "name": "python3"
  },
  "language_info": {
   "codemirror_mode": {
    "name": "ipython",
    "version": 3
   },
   "file_extension": ".py",
   "mimetype": "text/x-python",
   "name": "python",
   "nbconvert_exporter": "python",
   "pygments_lexer": "ipython3",
   "version": "3.9.7"
  },
  "toc": {
   "base_numbering": 1,
   "nav_menu": {},
   "number_sections": true,
   "sideBar": true,
   "skip_h1_title": false,
   "title_cell": "Table of Contents",
   "title_sidebar": "Contents",
   "toc_cell": false,
   "toc_position": {},
   "toc_section_display": true,
   "toc_window_display": false
  }
 },
 "nbformat": 4,
 "nbformat_minor": 5
}
