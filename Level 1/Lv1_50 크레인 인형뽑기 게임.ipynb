{
 "cells": [
  {
   "cell_type": "markdown",
   "id": "56b7e372",
   "metadata": {},
   "source": [
    "# 크레인 인형뽑기 게임\n",
    "- `유형` 2019 카카오 개발자 겨울 인턴십\n",
    "\n",
    "\n",
    "- `문제 설명`\n",
    "\n",
    "\n",
    "게임개발자인 \"죠르디\"는 크레인 인형뽑기 기계를 모바일 게임으로 만들려고 합니다.\n",
    "\"죠르디\"는 게임의 재미를 높이기 위해 화면 구성과 규칙을 다음과 같이 게임 로직에 반영하려고 합니다.\n",
    "\n",
    "게임 화면은 \"1 x 1\" 크기의 칸들로 이루어진 \"N x N\" 크기의 정사각 격자이며 위쪽에는 크레인이 있고 오른쪽에는 바구니가 있습니다. (위 그림은 \"5 x 5\" 크기의 예시입니다). 각 격자 칸에는 다양한 인형이 들어 있으며 인형이 없는 칸은 빈칸입니다. 모든 인형은 \"1 x 1\" 크기의 격자 한 칸을 차지하며 격자의 가장 아래 칸부터 차곡차곡 쌓여 있습니다. 게임 사용자는 크레인을 좌우로 움직여서 멈춘 위치에서 가장 위에 있는 인형을 집어 올릴 수 있습니다. 집어 올린 인형은 바구니에 쌓이게 되는 데, 이때 바구니의 가장 아래 칸부터 인형이 순서대로 쌓이게 됩니다. 다음 그림은 [1번, 5번, 3번] 위치에서 순서대로 인형을 집어 올려 바구니에 담은 모습입니다.\n",
    "\n",
    "만약 같은 모양의 인형 두 개가 바구니에 연속해서 쌓이게 되면 두 인형은 터뜨려지면서 바구니에서 사라지게 됩니다. 위 상태에서 이어서 [5번] 위치에서 인형을 집어 바구니에 쌓으면 같은 모양 인형 두 개가 없어집니다.\n",
    "\n",
    "크레인 작동 시 인형이 집어지지 않는 경우는 없으나 만약 인형이 없는 곳에서 크레인을 작동시키는 경우에는 아무런 일도 일어나지 않습니다. 또한 바구니는 모든 인형이 들어갈 수 있을 만큼 충분히 크다고 가정합니다. (그림에서는 화면표시 제약으로 5칸만으로 표현하였음)\n",
    "\n",
    "게임 화면의 격자의 상태가 담긴 2차원 배열 board와 인형을 집기 위해 크레인을 작동시킨 위치가 담긴 배열 moves가 매개변수로 주어질 때, 크레인을 모두 작동시킨 후 터트려져 사라진 인형의 개수를 return 하도록 solution 함수를 완성해주세요.\n",
    "\n",
    "\n",
    "- `제한 조건`\n",
    "    - board 배열은 2차원 배열로 크기는 \"5 x 5\" 이상 \"30 x 30\" 이하입니다.\n",
    "    - board의 각 칸에는 0 이상 100 이하인 정수가 담겨있습니다.\n",
    "        - 0은 빈 칸을 나타냅니다.\n",
    "        - 1 ~ 100의 각 숫자는 각기 다른 인형의 모양을 의미하며 같은 숫자는 같은 모양의 인형을 나타냅니다.\n",
    "    - moves 배열의 크기는 1 이상 1,000 이하입니다.\n",
    "    - moves 배열 각 원소들의 값은 1 이상이며 board 배열의 가로 크기 이하인 자연수입니다.\n",
    "\n",
    "\n",
    "- `입력`\n",
    "    - ex1) [[0,0,0,0,0],[0,0,1,0,3],[0,2,5,0,1],[4,2,4,4,2],[3,5,1,3,1]], [1,5,3,5,1,2,1,4]\n",
    "\n",
    "\n",
    "- `출력`\n",
    "    - ex1) 4"
   ]
  },
  {
   "cell_type": "code",
   "execution_count": 61,
   "id": "68f7fe0b",
   "metadata": {
    "ExecuteTime": {
     "end_time": "2022-05-19T09:35:20.964131Z",
     "start_time": "2022-05-19T09:35:20.959560Z"
    }
   },
   "outputs": [],
   "source": [
    "# SOL 1)\n",
    "\n",
    "import numpy as np\n",
    "\n",
    "def solution(board, moves):\n",
    "    board = np.array(board)\n",
    "    lst1 = []\n",
    "    for i in range(len(board[0])):\n",
    "        temp = []\n",
    "        for j in board[:,i]:\n",
    "            if j != 0:\n",
    "                temp.append(j) \n",
    "        lst1.append(temp)\n",
    "    \n",
    "    lst2 = []\n",
    "    cnt = 0\n",
    "    for i in moves:\n",
    "        if len(lst1[i-1]) != 0:\n",
    "            \n",
    "            if len(lst2) == 0:\n",
    "                lst2.append(lst1[i-1][0])\n",
    "                lst1[i-1].pop(0)\n",
    "            \n",
    "            else:\n",
    "                \n",
    "                if lst2[-1] == lst1[i-1][0]:\n",
    "                    lst1[i-1].pop(0)\n",
    "                    lst2.pop(-1)\n",
    "                    cnt += 2\n",
    "                    \n",
    "                else:\n",
    "                    lst2.append(lst1[i-1][0])\n",
    "                    lst1[i-1].pop(0)\n",
    "    return cnt"
   ]
  },
  {
   "cell_type": "code",
   "execution_count": 62,
   "id": "61fb24a4",
   "metadata": {
    "ExecuteTime": {
     "end_time": "2022-05-19T09:35:22.778394Z",
     "start_time": "2022-05-19T09:35:22.775096Z"
    },
    "scrolled": true
   },
   "outputs": [
    {
     "name": "stdout",
     "output_type": "stream",
     "text": [
      "4\n"
     ]
    }
   ],
   "source": [
    "print(solution([[0,0,0,0,0],[0,0,1,0,3],[0,2,5,0,1],[4,2,4,4,2],[3,5,1,3,1]], [1,5,3,5,1,2,1,4]))"
   ]
  }
 ],
 "metadata": {
  "kernelspec": {
   "display_name": "Python 3 (ipykernel)",
   "language": "python",
   "name": "python3"
  },
  "language_info": {
   "codemirror_mode": {
    "name": "ipython",
    "version": 3
   },
   "file_extension": ".py",
   "mimetype": "text/x-python",
   "name": "python",
   "nbconvert_exporter": "python",
   "pygments_lexer": "ipython3",
   "version": "3.9.7"
  },
  "toc": {
   "base_numbering": 1,
   "nav_menu": {},
   "number_sections": true,
   "sideBar": true,
   "skip_h1_title": false,
   "title_cell": "Table of Contents",
   "title_sidebar": "Contents",
   "toc_cell": false,
   "toc_position": {},
   "toc_section_display": true,
   "toc_window_display": false
  }
 },
 "nbformat": 4,
 "nbformat_minor": 5
}
