{
 "cells": [
  {
   "cell_type": "markdown",
   "id": "56b7e372",
   "metadata": {},
   "source": [
    "# 시저 암호\n",
    "- `유형` 연습문제\n",
    "\n",
    "\n",
    "- `문제 설명` 어떤 문장의 각 알파벳을 일정한 거리만큼 밀어서 다른 알파벳으로 바꾸는 암호화 방식을 시저 암호라고 합니다. 예를 들어 \"AB\"는 1만큼 밀면 \"BC\"가 되고, 3만큼 밀면 \"DE\"가 됩니다. \"z\"는 1만큼 밀면 \"a\"가 됩니다. 문자열 s와 거리 n을 입력받아 s를 n만큼 민 암호문을 만드는 함수, solution을 완성해 보세요.\n",
    "\n",
    "\n",
    "- `제한 조건`\n",
    "    - 공백은 아무리 밀어도 공백입니다.\n",
    "    - s는 알파벳 소문자, 대문자, 공백으로만 이루어져 있습니다.\n",
    "    - s의 길이는 8000이하입니다.\n",
    "    - n은 1 이상, 25이하인 자연수입니다.\n",
    "\n",
    "\n",
    "- `입력`\n",
    "    - ex1) 'AB', 1\n",
    "    - ex2) 'z', 1\n",
    "    - ex3) 'a B z', 4\n",
    "\n",
    "\n",
    "- `출력`\n",
    "    - ex1) 'BC'\n",
    "    - ex2) 'a'\n",
    "    - ex3) 'e F d'"
   ]
  },
  {
   "cell_type": "code",
   "execution_count": 9,
   "id": "68f7fe0b",
   "metadata": {
    "ExecuteTime": {
     "end_time": "2022-05-11T07:48:45.706061Z",
     "start_time": "2022-05-11T07:48:45.702459Z"
    }
   },
   "outputs": [],
   "source": [
    "# SOL 1)\n",
    "\n",
    "def solution(s, n): \n",
    "    \n",
    "    alphabet = 'abcdefghijklmnopqrstuvwxyz'\n",
    "    up = list(alphabet.upper())*2\n",
    "    down = list(alphabet)*2\n",
    "    lst = list(s)\n",
    "    \n",
    "    result = ''\n",
    "    for i in lst:\n",
    "        if i in up:\n",
    "            idx = up.index(i)\n",
    "            result += up[idx+n]\n",
    "        elif i in down:\n",
    "            idx = down.index(i)\n",
    "            result += down[idx+n]\n",
    "        else:\n",
    "            result += ' '    \n",
    "    \n",
    "    return result"
   ]
  },
  {
   "cell_type": "code",
   "execution_count": 10,
   "id": "60321602",
   "metadata": {
    "ExecuteTime": {
     "end_time": "2022-05-11T07:48:45.711127Z",
     "start_time": "2022-05-11T07:48:45.708193Z"
    }
   },
   "outputs": [
    {
     "name": "stdout",
     "output_type": "stream",
     "text": [
      "BC\n",
      "a\n",
      "e F d\n"
     ]
    }
   ],
   "source": [
    "print(solution('AB', 1))\n",
    "print(solution('z', 1))\n",
    "print(solution('a B z', 4))"
   ]
  }
 ],
 "metadata": {
  "kernelspec": {
   "display_name": "Python 3 (ipykernel)",
   "language": "python",
   "name": "python3"
  },
  "language_info": {
   "codemirror_mode": {
    "name": "ipython",
    "version": 3
   },
   "file_extension": ".py",
   "mimetype": "text/x-python",
   "name": "python",
   "nbconvert_exporter": "python",
   "pygments_lexer": "ipython3",
   "version": "3.9.7"
  },
  "toc": {
   "base_numbering": 1,
   "nav_menu": {},
   "number_sections": true,
   "sideBar": true,
   "skip_h1_title": false,
   "title_cell": "Table of Contents",
   "title_sidebar": "Contents",
   "toc_cell": false,
   "toc_position": {},
   "toc_section_display": true,
   "toc_window_display": false
  }
 },
 "nbformat": 4,
 "nbformat_minor": 5
}
