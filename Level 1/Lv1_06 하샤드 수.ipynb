{
 "cells": [
  {
   "cell_type": "markdown",
   "id": "56b7e372",
   "metadata": {},
   "source": [
    "# 하샤드 수\n",
    "- `유형` 연습문제\n",
    "\n",
    "\n",
    "- `문제 설명` 양의 정수 x가 하샤드 수이려면 x의 자릿수의 합으로 x가 나누어져야 합니다. 예를 들어 18의 자릿수 합은 1+8=9이고, 18은 9로 나누어 떨어지므로 18은 하샤드 수입니다. 자연수 x를 입력받아 x가 하샤드 수인지 아닌지 검사하는 함수, solution을 완성해주세요.\n",
    "\n",
    "\n",
    "- `제한 조건`\n",
    "    - x는 1 이상, 10000 이하인 정수입니다.\n",
    "\n",
    "\n",
    "- `입력`\n",
    "    - ex1) 10\n",
    "    - ex2) 12\n",
    "    - ex3) 11\n",
    "    - ex4) 13\n",
    "\n",
    "\n",
    "- `출력`\n",
    "    - ex1) true\n",
    "    - ex2) true\n",
    "    - ex3) false\n",
    "    - ex4) false"
   ]
  },
  {
   "cell_type": "code",
   "execution_count": 8,
   "id": "68f7fe0b",
   "metadata": {
    "ExecuteTime": {
     "end_time": "2022-05-11T02:40:37.095067Z",
     "start_time": "2022-05-11T02:40:37.092428Z"
    }
   },
   "outputs": [],
   "source": [
    "# SOL 1) 처음 시도한 방식..\n",
    "\n",
    "def solution(x):\n",
    "    x_lst = list(map(int, list(str(x))))\n",
    "    if x % (sum(x_lst)) == 0:\n",
    "        return True\n",
    "    return False "
   ]
  },
  {
   "cell_type": "code",
   "execution_count": 9,
   "id": "42d9e9da",
   "metadata": {
    "ExecuteTime": {
     "end_time": "2022-05-11T02:40:38.063559Z",
     "start_time": "2022-05-11T02:40:38.060471Z"
    },
    "scrolled": true
   },
   "outputs": [
    {
     "name": "stdout",
     "output_type": "stream",
     "text": [
      "True\n",
      "True\n",
      "False\n",
      "False\n"
     ]
    }
   ],
   "source": [
    "print(solution(10))\n",
    "print(solution(12))\n",
    "print(solution(11))\n",
    "print(solution(13))"
   ]
  },
  {
   "cell_type": "code",
   "execution_count": 22,
   "id": "a54fd8bf",
   "metadata": {
    "ExecuteTime": {
     "end_time": "2022-05-11T03:09:45.802568Z",
     "start_time": "2022-05-11T03:09:45.799830Z"
    }
   },
   "outputs": [],
   "source": [
    "# SOL 2) 위에서 if문 없어도 boolean으로 return값 처리\n",
    "\n",
    "def solution(x):\n",
    "    x_lst = list(map(int, list(str(x))))\n",
    "    return x % (sum(x_lst)) == 0"
   ]
  },
  {
   "cell_type": "code",
   "execution_count": 23,
   "id": "956e668b",
   "metadata": {
    "ExecuteTime": {
     "end_time": "2022-05-11T03:09:47.745769Z",
     "start_time": "2022-05-11T03:09:47.742748Z"
    }
   },
   "outputs": [
    {
     "name": "stdout",
     "output_type": "stream",
     "text": [
      "True\n",
      "True\n",
      "False\n",
      "False\n"
     ]
    }
   ],
   "source": [
    "print(solution(10))\n",
    "print(solution(12))\n",
    "print(solution(11))\n",
    "print(solution(13))"
   ]
  },
  {
   "cell_type": "code",
   "execution_count": 14,
   "id": "a561641e",
   "metadata": {
    "ExecuteTime": {
     "end_time": "2022-05-11T03:08:37.712712Z",
     "start_time": "2022-05-11T03:08:37.710177Z"
    }
   },
   "outputs": [],
   "source": [
    "# SOL 3) 극강의 한 줄로 줄이기\n",
    "\n",
    "def solution(x):\n",
    "    return x % (sum(map(int, list(str(x))))) == 0"
   ]
  },
  {
   "cell_type": "code",
   "execution_count": 15,
   "id": "f6856fa2",
   "metadata": {
    "ExecuteTime": {
     "end_time": "2022-05-11T03:08:38.765036Z",
     "start_time": "2022-05-11T03:08:38.762133Z"
    }
   },
   "outputs": [
    {
     "name": "stdout",
     "output_type": "stream",
     "text": [
      "True\n",
      "True\n",
      "False\n",
      "False\n"
     ]
    }
   ],
   "source": [
    "print(solution(10))\n",
    "print(solution(12))\n",
    "print(solution(11))\n",
    "print(solution(13))"
   ]
  }
 ],
 "metadata": {
  "kernelspec": {
   "display_name": "Python 3 (ipykernel)",
   "language": "python",
   "name": "python3"
  },
  "language_info": {
   "codemirror_mode": {
    "name": "ipython",
    "version": 3
   },
   "file_extension": ".py",
   "mimetype": "text/x-python",
   "name": "python",
   "nbconvert_exporter": "python",
   "pygments_lexer": "ipython3",
   "version": "3.9.7"
  },
  "toc": {
   "base_numbering": 1,
   "nav_menu": {},
   "number_sections": true,
   "sideBar": true,
   "skip_h1_title": false,
   "title_cell": "Table of Contents",
   "title_sidebar": "Contents",
   "toc_cell": false,
   "toc_position": {},
   "toc_section_display": true,
   "toc_window_display": false
  }
 },
 "nbformat": 4,
 "nbformat_minor": 5
}
